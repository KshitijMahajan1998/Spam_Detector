{
  "nbformat": 4,
  "nbformat_minor": 0,
  "metadata": {
    "colab": {
      "provenance": [],
      "gpuType": "V100"
    },
    "kernelspec": {
      "name": "python3",
      "display_name": "Python 3"
    },
    "language_info": {
      "name": "python"
    },
    "accelerator": "GPU",
    "widgets": {
      "application/vnd.jupyter.widget-state+json": {
        "a637e6cb3f9c43aaae2b186399d9b931": {
          "model_module": "@jupyter-widgets/controls",
          "model_name": "HBoxModel",
          "model_module_version": "1.5.0",
          "state": {
            "_dom_classes": [],
            "_model_module": "@jupyter-widgets/controls",
            "_model_module_version": "1.5.0",
            "_model_name": "HBoxModel",
            "_view_count": null,
            "_view_module": "@jupyter-widgets/controls",
            "_view_module_version": "1.5.0",
            "_view_name": "HBoxView",
            "box_style": "",
            "children": [
              "IPY_MODEL_bbaf6d2fe1a6458e931f2fa28aa3e241",
              "IPY_MODEL_4d5b5da03f5e480b9db30e827f35e3b0",
              "IPY_MODEL_f0b7d7e1704e4ac09751bd78bd8497fd"
            ],
            "layout": "IPY_MODEL_9ed6d5c0c4fc4265a69cd414269a976e"
          }
        },
        "bbaf6d2fe1a6458e931f2fa28aa3e241": {
          "model_module": "@jupyter-widgets/controls",
          "model_name": "HTMLModel",
          "model_module_version": "1.5.0",
          "state": {
            "_dom_classes": [],
            "_model_module": "@jupyter-widgets/controls",
            "_model_module_version": "1.5.0",
            "_model_name": "HTMLModel",
            "_view_count": null,
            "_view_module": "@jupyter-widgets/controls",
            "_view_module_version": "1.5.0",
            "_view_name": "HTMLView",
            "description": "",
            "description_tooltip": null,
            "layout": "IPY_MODEL_6ae4ce2fb65645ad90e2375f9a2155b1",
            "placeholder": "​",
            "style": "IPY_MODEL_1271b72449344af6b8256e87c1baf14f",
            "value": "Map: 100%"
          }
        },
        "4d5b5da03f5e480b9db30e827f35e3b0": {
          "model_module": "@jupyter-widgets/controls",
          "model_name": "FloatProgressModel",
          "model_module_version": "1.5.0",
          "state": {
            "_dom_classes": [],
            "_model_module": "@jupyter-widgets/controls",
            "_model_module_version": "1.5.0",
            "_model_name": "FloatProgressModel",
            "_view_count": null,
            "_view_module": "@jupyter-widgets/controls",
            "_view_module_version": "1.5.0",
            "_view_name": "ProgressView",
            "bar_style": "success",
            "description": "",
            "description_tooltip": null,
            "layout": "IPY_MODEL_622896cbc82445fd8c239c1ae2384f00",
            "max": 4073,
            "min": 0,
            "orientation": "horizontal",
            "style": "IPY_MODEL_4980fd8948a74b50ad24b31b68c3de96",
            "value": 4073
          }
        },
        "f0b7d7e1704e4ac09751bd78bd8497fd": {
          "model_module": "@jupyter-widgets/controls",
          "model_name": "HTMLModel",
          "model_module_version": "1.5.0",
          "state": {
            "_dom_classes": [],
            "_model_module": "@jupyter-widgets/controls",
            "_model_module_version": "1.5.0",
            "_model_name": "HTMLModel",
            "_view_count": null,
            "_view_module": "@jupyter-widgets/controls",
            "_view_module_version": "1.5.0",
            "_view_name": "HTMLView",
            "description": "",
            "description_tooltip": null,
            "layout": "IPY_MODEL_6dd09370df3248eca050c03f453d5b5b",
            "placeholder": "​",
            "style": "IPY_MODEL_fd1d0a4e200a4b108abcdaa734acb96c",
            "value": " 4073/4073 [00:02&lt;00:00, 1313.05 examples/s]"
          }
        },
        "9ed6d5c0c4fc4265a69cd414269a976e": {
          "model_module": "@jupyter-widgets/base",
          "model_name": "LayoutModel",
          "model_module_version": "1.2.0",
          "state": {
            "_model_module": "@jupyter-widgets/base",
            "_model_module_version": "1.2.0",
            "_model_name": "LayoutModel",
            "_view_count": null,
            "_view_module": "@jupyter-widgets/base",
            "_view_module_version": "1.2.0",
            "_view_name": "LayoutView",
            "align_content": null,
            "align_items": null,
            "align_self": null,
            "border": null,
            "bottom": null,
            "display": null,
            "flex": null,
            "flex_flow": null,
            "grid_area": null,
            "grid_auto_columns": null,
            "grid_auto_flow": null,
            "grid_auto_rows": null,
            "grid_column": null,
            "grid_gap": null,
            "grid_row": null,
            "grid_template_areas": null,
            "grid_template_columns": null,
            "grid_template_rows": null,
            "height": null,
            "justify_content": null,
            "justify_items": null,
            "left": null,
            "margin": null,
            "max_height": null,
            "max_width": null,
            "min_height": null,
            "min_width": null,
            "object_fit": null,
            "object_position": null,
            "order": null,
            "overflow": null,
            "overflow_x": null,
            "overflow_y": null,
            "padding": null,
            "right": null,
            "top": null,
            "visibility": null,
            "width": null
          }
        },
        "6ae4ce2fb65645ad90e2375f9a2155b1": {
          "model_module": "@jupyter-widgets/base",
          "model_name": "LayoutModel",
          "model_module_version": "1.2.0",
          "state": {
            "_model_module": "@jupyter-widgets/base",
            "_model_module_version": "1.2.0",
            "_model_name": "LayoutModel",
            "_view_count": null,
            "_view_module": "@jupyter-widgets/base",
            "_view_module_version": "1.2.0",
            "_view_name": "LayoutView",
            "align_content": null,
            "align_items": null,
            "align_self": null,
            "border": null,
            "bottom": null,
            "display": null,
            "flex": null,
            "flex_flow": null,
            "grid_area": null,
            "grid_auto_columns": null,
            "grid_auto_flow": null,
            "grid_auto_rows": null,
            "grid_column": null,
            "grid_gap": null,
            "grid_row": null,
            "grid_template_areas": null,
            "grid_template_columns": null,
            "grid_template_rows": null,
            "height": null,
            "justify_content": null,
            "justify_items": null,
            "left": null,
            "margin": null,
            "max_height": null,
            "max_width": null,
            "min_height": null,
            "min_width": null,
            "object_fit": null,
            "object_position": null,
            "order": null,
            "overflow": null,
            "overflow_x": null,
            "overflow_y": null,
            "padding": null,
            "right": null,
            "top": null,
            "visibility": null,
            "width": null
          }
        },
        "1271b72449344af6b8256e87c1baf14f": {
          "model_module": "@jupyter-widgets/controls",
          "model_name": "DescriptionStyleModel",
          "model_module_version": "1.5.0",
          "state": {
            "_model_module": "@jupyter-widgets/controls",
            "_model_module_version": "1.5.0",
            "_model_name": "DescriptionStyleModel",
            "_view_count": null,
            "_view_module": "@jupyter-widgets/base",
            "_view_module_version": "1.2.0",
            "_view_name": "StyleView",
            "description_width": ""
          }
        },
        "622896cbc82445fd8c239c1ae2384f00": {
          "model_module": "@jupyter-widgets/base",
          "model_name": "LayoutModel",
          "model_module_version": "1.2.0",
          "state": {
            "_model_module": "@jupyter-widgets/base",
            "_model_module_version": "1.2.0",
            "_model_name": "LayoutModel",
            "_view_count": null,
            "_view_module": "@jupyter-widgets/base",
            "_view_module_version": "1.2.0",
            "_view_name": "LayoutView",
            "align_content": null,
            "align_items": null,
            "align_self": null,
            "border": null,
            "bottom": null,
            "display": null,
            "flex": null,
            "flex_flow": null,
            "grid_area": null,
            "grid_auto_columns": null,
            "grid_auto_flow": null,
            "grid_auto_rows": null,
            "grid_column": null,
            "grid_gap": null,
            "grid_row": null,
            "grid_template_areas": null,
            "grid_template_columns": null,
            "grid_template_rows": null,
            "height": null,
            "justify_content": null,
            "justify_items": null,
            "left": null,
            "margin": null,
            "max_height": null,
            "max_width": null,
            "min_height": null,
            "min_width": null,
            "object_fit": null,
            "object_position": null,
            "order": null,
            "overflow": null,
            "overflow_x": null,
            "overflow_y": null,
            "padding": null,
            "right": null,
            "top": null,
            "visibility": null,
            "width": null
          }
        },
        "4980fd8948a74b50ad24b31b68c3de96": {
          "model_module": "@jupyter-widgets/controls",
          "model_name": "ProgressStyleModel",
          "model_module_version": "1.5.0",
          "state": {
            "_model_module": "@jupyter-widgets/controls",
            "_model_module_version": "1.5.0",
            "_model_name": "ProgressStyleModel",
            "_view_count": null,
            "_view_module": "@jupyter-widgets/base",
            "_view_module_version": "1.2.0",
            "_view_name": "StyleView",
            "bar_color": null,
            "description_width": ""
          }
        },
        "6dd09370df3248eca050c03f453d5b5b": {
          "model_module": "@jupyter-widgets/base",
          "model_name": "LayoutModel",
          "model_module_version": "1.2.0",
          "state": {
            "_model_module": "@jupyter-widgets/base",
            "_model_module_version": "1.2.0",
            "_model_name": "LayoutModel",
            "_view_count": null,
            "_view_module": "@jupyter-widgets/base",
            "_view_module_version": "1.2.0",
            "_view_name": "LayoutView",
            "align_content": null,
            "align_items": null,
            "align_self": null,
            "border": null,
            "bottom": null,
            "display": null,
            "flex": null,
            "flex_flow": null,
            "grid_area": null,
            "grid_auto_columns": null,
            "grid_auto_flow": null,
            "grid_auto_rows": null,
            "grid_column": null,
            "grid_gap": null,
            "grid_row": null,
            "grid_template_areas": null,
            "grid_template_columns": null,
            "grid_template_rows": null,
            "height": null,
            "justify_content": null,
            "justify_items": null,
            "left": null,
            "margin": null,
            "max_height": null,
            "max_width": null,
            "min_height": null,
            "min_width": null,
            "object_fit": null,
            "object_position": null,
            "order": null,
            "overflow": null,
            "overflow_x": null,
            "overflow_y": null,
            "padding": null,
            "right": null,
            "top": null,
            "visibility": null,
            "width": null
          }
        },
        "fd1d0a4e200a4b108abcdaa734acb96c": {
          "model_module": "@jupyter-widgets/controls",
          "model_name": "DescriptionStyleModel",
          "model_module_version": "1.5.0",
          "state": {
            "_model_module": "@jupyter-widgets/controls",
            "_model_module_version": "1.5.0",
            "_model_name": "DescriptionStyleModel",
            "_view_count": null,
            "_view_module": "@jupyter-widgets/base",
            "_view_module_version": "1.2.0",
            "_view_name": "StyleView",
            "description_width": ""
          }
        },
        "3fdbb0a461054f2a89e79d74610018f2": {
          "model_module": "@jupyter-widgets/controls",
          "model_name": "HBoxModel",
          "model_module_version": "1.5.0",
          "state": {
            "_dom_classes": [],
            "_model_module": "@jupyter-widgets/controls",
            "_model_module_version": "1.5.0",
            "_model_name": "HBoxModel",
            "_view_count": null,
            "_view_module": "@jupyter-widgets/controls",
            "_view_module_version": "1.5.0",
            "_view_name": "HBoxView",
            "box_style": "",
            "children": [
              "IPY_MODEL_803092f349d34fe496e960cf4dedea63",
              "IPY_MODEL_c16c29460cc941b09f7e7c265faa3987",
              "IPY_MODEL_7c8850840bf84002a570b559e71b0faf"
            ],
            "layout": "IPY_MODEL_3ebe4ce8cf584c6fa9f0630f2c2d6a26"
          }
        },
        "803092f349d34fe496e960cf4dedea63": {
          "model_module": "@jupyter-widgets/controls",
          "model_name": "HTMLModel",
          "model_module_version": "1.5.0",
          "state": {
            "_dom_classes": [],
            "_model_module": "@jupyter-widgets/controls",
            "_model_module_version": "1.5.0",
            "_model_name": "HTMLModel",
            "_view_count": null,
            "_view_module": "@jupyter-widgets/controls",
            "_view_module_version": "1.5.0",
            "_view_name": "HTMLView",
            "description": "",
            "description_tooltip": null,
            "layout": "IPY_MODEL_20ab4b7f200144ab94fbed48603e33f6",
            "placeholder": "​",
            "style": "IPY_MODEL_67d1800e4107488c8792ef35af69696e",
            "value": "Map: 100%"
          }
        },
        "c16c29460cc941b09f7e7c265faa3987": {
          "model_module": "@jupyter-widgets/controls",
          "model_name": "FloatProgressModel",
          "model_module_version": "1.5.0",
          "state": {
            "_dom_classes": [],
            "_model_module": "@jupyter-widgets/controls",
            "_model_module_version": "1.5.0",
            "_model_name": "FloatProgressModel",
            "_view_count": null,
            "_view_module": "@jupyter-widgets/controls",
            "_view_module_version": "1.5.0",
            "_view_name": "ProgressView",
            "bar_style": "success",
            "description": "",
            "description_tooltip": null,
            "layout": "IPY_MODEL_62f06fc301354d89800c085c46b5a3b4",
            "max": 1019,
            "min": 0,
            "orientation": "horizontal",
            "style": "IPY_MODEL_fbafa1817ea44e57b222dd09b56cd299",
            "value": 1019
          }
        },
        "7c8850840bf84002a570b559e71b0faf": {
          "model_module": "@jupyter-widgets/controls",
          "model_name": "HTMLModel",
          "model_module_version": "1.5.0",
          "state": {
            "_dom_classes": [],
            "_model_module": "@jupyter-widgets/controls",
            "_model_module_version": "1.5.0",
            "_model_name": "HTMLModel",
            "_view_count": null,
            "_view_module": "@jupyter-widgets/controls",
            "_view_module_version": "1.5.0",
            "_view_name": "HTMLView",
            "description": "",
            "description_tooltip": null,
            "layout": "IPY_MODEL_7042333a8bd4453ab00580cd80abf897",
            "placeholder": "​",
            "style": "IPY_MODEL_98be9c648ee74c1cbefacdb4b72fe0e3",
            "value": " 1019/1019 [00:00&lt;00:00, 2836.14 examples/s]"
          }
        },
        "3ebe4ce8cf584c6fa9f0630f2c2d6a26": {
          "model_module": "@jupyter-widgets/base",
          "model_name": "LayoutModel",
          "model_module_version": "1.2.0",
          "state": {
            "_model_module": "@jupyter-widgets/base",
            "_model_module_version": "1.2.0",
            "_model_name": "LayoutModel",
            "_view_count": null,
            "_view_module": "@jupyter-widgets/base",
            "_view_module_version": "1.2.0",
            "_view_name": "LayoutView",
            "align_content": null,
            "align_items": null,
            "align_self": null,
            "border": null,
            "bottom": null,
            "display": null,
            "flex": null,
            "flex_flow": null,
            "grid_area": null,
            "grid_auto_columns": null,
            "grid_auto_flow": null,
            "grid_auto_rows": null,
            "grid_column": null,
            "grid_gap": null,
            "grid_row": null,
            "grid_template_areas": null,
            "grid_template_columns": null,
            "grid_template_rows": null,
            "height": null,
            "justify_content": null,
            "justify_items": null,
            "left": null,
            "margin": null,
            "max_height": null,
            "max_width": null,
            "min_height": null,
            "min_width": null,
            "object_fit": null,
            "object_position": null,
            "order": null,
            "overflow": null,
            "overflow_x": null,
            "overflow_y": null,
            "padding": null,
            "right": null,
            "top": null,
            "visibility": null,
            "width": null
          }
        },
        "20ab4b7f200144ab94fbed48603e33f6": {
          "model_module": "@jupyter-widgets/base",
          "model_name": "LayoutModel",
          "model_module_version": "1.2.0",
          "state": {
            "_model_module": "@jupyter-widgets/base",
            "_model_module_version": "1.2.0",
            "_model_name": "LayoutModel",
            "_view_count": null,
            "_view_module": "@jupyter-widgets/base",
            "_view_module_version": "1.2.0",
            "_view_name": "LayoutView",
            "align_content": null,
            "align_items": null,
            "align_self": null,
            "border": null,
            "bottom": null,
            "display": null,
            "flex": null,
            "flex_flow": null,
            "grid_area": null,
            "grid_auto_columns": null,
            "grid_auto_flow": null,
            "grid_auto_rows": null,
            "grid_column": null,
            "grid_gap": null,
            "grid_row": null,
            "grid_template_areas": null,
            "grid_template_columns": null,
            "grid_template_rows": null,
            "height": null,
            "justify_content": null,
            "justify_items": null,
            "left": null,
            "margin": null,
            "max_height": null,
            "max_width": null,
            "min_height": null,
            "min_width": null,
            "object_fit": null,
            "object_position": null,
            "order": null,
            "overflow": null,
            "overflow_x": null,
            "overflow_y": null,
            "padding": null,
            "right": null,
            "top": null,
            "visibility": null,
            "width": null
          }
        },
        "67d1800e4107488c8792ef35af69696e": {
          "model_module": "@jupyter-widgets/controls",
          "model_name": "DescriptionStyleModel",
          "model_module_version": "1.5.0",
          "state": {
            "_model_module": "@jupyter-widgets/controls",
            "_model_module_version": "1.5.0",
            "_model_name": "DescriptionStyleModel",
            "_view_count": null,
            "_view_module": "@jupyter-widgets/base",
            "_view_module_version": "1.2.0",
            "_view_name": "StyleView",
            "description_width": ""
          }
        },
        "62f06fc301354d89800c085c46b5a3b4": {
          "model_module": "@jupyter-widgets/base",
          "model_name": "LayoutModel",
          "model_module_version": "1.2.0",
          "state": {
            "_model_module": "@jupyter-widgets/base",
            "_model_module_version": "1.2.0",
            "_model_name": "LayoutModel",
            "_view_count": null,
            "_view_module": "@jupyter-widgets/base",
            "_view_module_version": "1.2.0",
            "_view_name": "LayoutView",
            "align_content": null,
            "align_items": null,
            "align_self": null,
            "border": null,
            "bottom": null,
            "display": null,
            "flex": null,
            "flex_flow": null,
            "grid_area": null,
            "grid_auto_columns": null,
            "grid_auto_flow": null,
            "grid_auto_rows": null,
            "grid_column": null,
            "grid_gap": null,
            "grid_row": null,
            "grid_template_areas": null,
            "grid_template_columns": null,
            "grid_template_rows": null,
            "height": null,
            "justify_content": null,
            "justify_items": null,
            "left": null,
            "margin": null,
            "max_height": null,
            "max_width": null,
            "min_height": null,
            "min_width": null,
            "object_fit": null,
            "object_position": null,
            "order": null,
            "overflow": null,
            "overflow_x": null,
            "overflow_y": null,
            "padding": null,
            "right": null,
            "top": null,
            "visibility": null,
            "width": null
          }
        },
        "fbafa1817ea44e57b222dd09b56cd299": {
          "model_module": "@jupyter-widgets/controls",
          "model_name": "ProgressStyleModel",
          "model_module_version": "1.5.0",
          "state": {
            "_model_module": "@jupyter-widgets/controls",
            "_model_module_version": "1.5.0",
            "_model_name": "ProgressStyleModel",
            "_view_count": null,
            "_view_module": "@jupyter-widgets/base",
            "_view_module_version": "1.2.0",
            "_view_name": "StyleView",
            "bar_color": null,
            "description_width": ""
          }
        },
        "7042333a8bd4453ab00580cd80abf897": {
          "model_module": "@jupyter-widgets/base",
          "model_name": "LayoutModel",
          "model_module_version": "1.2.0",
          "state": {
            "_model_module": "@jupyter-widgets/base",
            "_model_module_version": "1.2.0",
            "_model_name": "LayoutModel",
            "_view_count": null,
            "_view_module": "@jupyter-widgets/base",
            "_view_module_version": "1.2.0",
            "_view_name": "LayoutView",
            "align_content": null,
            "align_items": null,
            "align_self": null,
            "border": null,
            "bottom": null,
            "display": null,
            "flex": null,
            "flex_flow": null,
            "grid_area": null,
            "grid_auto_columns": null,
            "grid_auto_flow": null,
            "grid_auto_rows": null,
            "grid_column": null,
            "grid_gap": null,
            "grid_row": null,
            "grid_template_areas": null,
            "grid_template_columns": null,
            "grid_template_rows": null,
            "height": null,
            "justify_content": null,
            "justify_items": null,
            "left": null,
            "margin": null,
            "max_height": null,
            "max_width": null,
            "min_height": null,
            "min_width": null,
            "object_fit": null,
            "object_position": null,
            "order": null,
            "overflow": null,
            "overflow_x": null,
            "overflow_y": null,
            "padding": null,
            "right": null,
            "top": null,
            "visibility": null,
            "width": null
          }
        },
        "98be9c648ee74c1cbefacdb4b72fe0e3": {
          "model_module": "@jupyter-widgets/controls",
          "model_name": "DescriptionStyleModel",
          "model_module_version": "1.5.0",
          "state": {
            "_model_module": "@jupyter-widgets/controls",
            "_model_module_version": "1.5.0",
            "_model_name": "DescriptionStyleModel",
            "_view_count": null,
            "_view_module": "@jupyter-widgets/base",
            "_view_module_version": "1.2.0",
            "_view_name": "StyleView",
            "description_width": ""
          }
        },
        "2966de9278b049ae8934dc46803f3c1d": {
          "model_module": "@jupyter-widgets/controls",
          "model_name": "HBoxModel",
          "model_module_version": "1.5.0",
          "state": {
            "_dom_classes": [],
            "_model_module": "@jupyter-widgets/controls",
            "_model_module_version": "1.5.0",
            "_model_name": "HBoxModel",
            "_view_count": null,
            "_view_module": "@jupyter-widgets/controls",
            "_view_module_version": "1.5.0",
            "_view_name": "HBoxView",
            "box_style": "",
            "children": [
              "IPY_MODEL_33027d32b1344e3fbef32dd4681d8432",
              "IPY_MODEL_cb6262fc0f2449eea48cf51648387875",
              "IPY_MODEL_ee0e0f329d744427856c55c7972952eb"
            ],
            "layout": "IPY_MODEL_727760655e26469490a5fa043523d164"
          }
        },
        "33027d32b1344e3fbef32dd4681d8432": {
          "model_module": "@jupyter-widgets/controls",
          "model_name": "HTMLModel",
          "model_module_version": "1.5.0",
          "state": {
            "_dom_classes": [],
            "_model_module": "@jupyter-widgets/controls",
            "_model_module_version": "1.5.0",
            "_model_name": "HTMLModel",
            "_view_count": null,
            "_view_module": "@jupyter-widgets/controls",
            "_view_module_version": "1.5.0",
            "_view_name": "HTMLView",
            "description": "",
            "description_tooltip": null,
            "layout": "IPY_MODEL_6cc48bc94bf0483bb4fd7a7219d79214",
            "placeholder": "​",
            "style": "IPY_MODEL_850bfc3d625449b6898d7b0258823e0f",
            "value": "tokenizer_config.json: 100%"
          }
        },
        "cb6262fc0f2449eea48cf51648387875": {
          "model_module": "@jupyter-widgets/controls",
          "model_name": "FloatProgressModel",
          "model_module_version": "1.5.0",
          "state": {
            "_dom_classes": [],
            "_model_module": "@jupyter-widgets/controls",
            "_model_module_version": "1.5.0",
            "_model_name": "FloatProgressModel",
            "_view_count": null,
            "_view_module": "@jupyter-widgets/controls",
            "_view_module_version": "1.5.0",
            "_view_name": "ProgressView",
            "bar_style": "success",
            "description": "",
            "description_tooltip": null,
            "layout": "IPY_MODEL_d15611decc494207b81eb326c3dd54c7",
            "max": 1467,
            "min": 0,
            "orientation": "horizontal",
            "style": "IPY_MODEL_f40e12eed49e4c5faec18242c7ca0895",
            "value": 1467
          }
        },
        "ee0e0f329d744427856c55c7972952eb": {
          "model_module": "@jupyter-widgets/controls",
          "model_name": "HTMLModel",
          "model_module_version": "1.5.0",
          "state": {
            "_dom_classes": [],
            "_model_module": "@jupyter-widgets/controls",
            "_model_module_version": "1.5.0",
            "_model_name": "HTMLModel",
            "_view_count": null,
            "_view_module": "@jupyter-widgets/controls",
            "_view_module_version": "1.5.0",
            "_view_name": "HTMLView",
            "description": "",
            "description_tooltip": null,
            "layout": "IPY_MODEL_8b8a716af1b74a4ca6f1c575c656a9b7",
            "placeholder": "​",
            "style": "IPY_MODEL_85e289f2b33e46beb2acd725cfbb27d4",
            "value": " 1.47k/1.47k [00:00&lt;00:00, 90.5kB/s]"
          }
        },
        "727760655e26469490a5fa043523d164": {
          "model_module": "@jupyter-widgets/base",
          "model_name": "LayoutModel",
          "model_module_version": "1.2.0",
          "state": {
            "_model_module": "@jupyter-widgets/base",
            "_model_module_version": "1.2.0",
            "_model_name": "LayoutModel",
            "_view_count": null,
            "_view_module": "@jupyter-widgets/base",
            "_view_module_version": "1.2.0",
            "_view_name": "LayoutView",
            "align_content": null,
            "align_items": null,
            "align_self": null,
            "border": null,
            "bottom": null,
            "display": null,
            "flex": null,
            "flex_flow": null,
            "grid_area": null,
            "grid_auto_columns": null,
            "grid_auto_flow": null,
            "grid_auto_rows": null,
            "grid_column": null,
            "grid_gap": null,
            "grid_row": null,
            "grid_template_areas": null,
            "grid_template_columns": null,
            "grid_template_rows": null,
            "height": null,
            "justify_content": null,
            "justify_items": null,
            "left": null,
            "margin": null,
            "max_height": null,
            "max_width": null,
            "min_height": null,
            "min_width": null,
            "object_fit": null,
            "object_position": null,
            "order": null,
            "overflow": null,
            "overflow_x": null,
            "overflow_y": null,
            "padding": null,
            "right": null,
            "top": null,
            "visibility": null,
            "width": null
          }
        },
        "6cc48bc94bf0483bb4fd7a7219d79214": {
          "model_module": "@jupyter-widgets/base",
          "model_name": "LayoutModel",
          "model_module_version": "1.2.0",
          "state": {
            "_model_module": "@jupyter-widgets/base",
            "_model_module_version": "1.2.0",
            "_model_name": "LayoutModel",
            "_view_count": null,
            "_view_module": "@jupyter-widgets/base",
            "_view_module_version": "1.2.0",
            "_view_name": "LayoutView",
            "align_content": null,
            "align_items": null,
            "align_self": null,
            "border": null,
            "bottom": null,
            "display": null,
            "flex": null,
            "flex_flow": null,
            "grid_area": null,
            "grid_auto_columns": null,
            "grid_auto_flow": null,
            "grid_auto_rows": null,
            "grid_column": null,
            "grid_gap": null,
            "grid_row": null,
            "grid_template_areas": null,
            "grid_template_columns": null,
            "grid_template_rows": null,
            "height": null,
            "justify_content": null,
            "justify_items": null,
            "left": null,
            "margin": null,
            "max_height": null,
            "max_width": null,
            "min_height": null,
            "min_width": null,
            "object_fit": null,
            "object_position": null,
            "order": null,
            "overflow": null,
            "overflow_x": null,
            "overflow_y": null,
            "padding": null,
            "right": null,
            "top": null,
            "visibility": null,
            "width": null
          }
        },
        "850bfc3d625449b6898d7b0258823e0f": {
          "model_module": "@jupyter-widgets/controls",
          "model_name": "DescriptionStyleModel",
          "model_module_version": "1.5.0",
          "state": {
            "_model_module": "@jupyter-widgets/controls",
            "_model_module_version": "1.5.0",
            "_model_name": "DescriptionStyleModel",
            "_view_count": null,
            "_view_module": "@jupyter-widgets/base",
            "_view_module_version": "1.2.0",
            "_view_name": "StyleView",
            "description_width": ""
          }
        },
        "d15611decc494207b81eb326c3dd54c7": {
          "model_module": "@jupyter-widgets/base",
          "model_name": "LayoutModel",
          "model_module_version": "1.2.0",
          "state": {
            "_model_module": "@jupyter-widgets/base",
            "_model_module_version": "1.2.0",
            "_model_name": "LayoutModel",
            "_view_count": null,
            "_view_module": "@jupyter-widgets/base",
            "_view_module_version": "1.2.0",
            "_view_name": "LayoutView",
            "align_content": null,
            "align_items": null,
            "align_self": null,
            "border": null,
            "bottom": null,
            "display": null,
            "flex": null,
            "flex_flow": null,
            "grid_area": null,
            "grid_auto_columns": null,
            "grid_auto_flow": null,
            "grid_auto_rows": null,
            "grid_column": null,
            "grid_gap": null,
            "grid_row": null,
            "grid_template_areas": null,
            "grid_template_columns": null,
            "grid_template_rows": null,
            "height": null,
            "justify_content": null,
            "justify_items": null,
            "left": null,
            "margin": null,
            "max_height": null,
            "max_width": null,
            "min_height": null,
            "min_width": null,
            "object_fit": null,
            "object_position": null,
            "order": null,
            "overflow": null,
            "overflow_x": null,
            "overflow_y": null,
            "padding": null,
            "right": null,
            "top": null,
            "visibility": null,
            "width": null
          }
        },
        "f40e12eed49e4c5faec18242c7ca0895": {
          "model_module": "@jupyter-widgets/controls",
          "model_name": "ProgressStyleModel",
          "model_module_version": "1.5.0",
          "state": {
            "_model_module": "@jupyter-widgets/controls",
            "_model_module_version": "1.5.0",
            "_model_name": "ProgressStyleModel",
            "_view_count": null,
            "_view_module": "@jupyter-widgets/base",
            "_view_module_version": "1.2.0",
            "_view_name": "StyleView",
            "bar_color": null,
            "description_width": ""
          }
        },
        "8b8a716af1b74a4ca6f1c575c656a9b7": {
          "model_module": "@jupyter-widgets/base",
          "model_name": "LayoutModel",
          "model_module_version": "1.2.0",
          "state": {
            "_model_module": "@jupyter-widgets/base",
            "_model_module_version": "1.2.0",
            "_model_name": "LayoutModel",
            "_view_count": null,
            "_view_module": "@jupyter-widgets/base",
            "_view_module_version": "1.2.0",
            "_view_name": "LayoutView",
            "align_content": null,
            "align_items": null,
            "align_self": null,
            "border": null,
            "bottom": null,
            "display": null,
            "flex": null,
            "flex_flow": null,
            "grid_area": null,
            "grid_auto_columns": null,
            "grid_auto_flow": null,
            "grid_auto_rows": null,
            "grid_column": null,
            "grid_gap": null,
            "grid_row": null,
            "grid_template_areas": null,
            "grid_template_columns": null,
            "grid_template_rows": null,
            "height": null,
            "justify_content": null,
            "justify_items": null,
            "left": null,
            "margin": null,
            "max_height": null,
            "max_width": null,
            "min_height": null,
            "min_width": null,
            "object_fit": null,
            "object_position": null,
            "order": null,
            "overflow": null,
            "overflow_x": null,
            "overflow_y": null,
            "padding": null,
            "right": null,
            "top": null,
            "visibility": null,
            "width": null
          }
        },
        "85e289f2b33e46beb2acd725cfbb27d4": {
          "model_module": "@jupyter-widgets/controls",
          "model_name": "DescriptionStyleModel",
          "model_module_version": "1.5.0",
          "state": {
            "_model_module": "@jupyter-widgets/controls",
            "_model_module_version": "1.5.0",
            "_model_name": "DescriptionStyleModel",
            "_view_count": null,
            "_view_module": "@jupyter-widgets/base",
            "_view_module_version": "1.2.0",
            "_view_name": "StyleView",
            "description_width": ""
          }
        },
        "6f360054fcca450c81df34efbccd6ad5": {
          "model_module": "@jupyter-widgets/controls",
          "model_name": "HBoxModel",
          "model_module_version": "1.5.0",
          "state": {
            "_dom_classes": [],
            "_model_module": "@jupyter-widgets/controls",
            "_model_module_version": "1.5.0",
            "_model_name": "HBoxModel",
            "_view_count": null,
            "_view_module": "@jupyter-widgets/controls",
            "_view_module_version": "1.5.0",
            "_view_name": "HBoxView",
            "box_style": "",
            "children": [
              "IPY_MODEL_0a699a3d064e42eca5df8dc90428daff",
              "IPY_MODEL_bfde396271184de1af37acd10eda0691",
              "IPY_MODEL_718df8d31d78488781ae73031a5449a2"
            ],
            "layout": "IPY_MODEL_f763cf741ff540bbb04d587c95b2b436"
          }
        },
        "0a699a3d064e42eca5df8dc90428daff": {
          "model_module": "@jupyter-widgets/controls",
          "model_name": "HTMLModel",
          "model_module_version": "1.5.0",
          "state": {
            "_dom_classes": [],
            "_model_module": "@jupyter-widgets/controls",
            "_model_module_version": "1.5.0",
            "_model_name": "HTMLModel",
            "_view_count": null,
            "_view_module": "@jupyter-widgets/controls",
            "_view_module_version": "1.5.0",
            "_view_name": "HTMLView",
            "description": "",
            "description_tooltip": null,
            "layout": "IPY_MODEL_2a3b66acd6e744f38e2c246964dbf6b9",
            "placeholder": "​",
            "style": "IPY_MODEL_29eef22cf59f4e1f9d0fc962174710d0",
            "value": "tokenizer.model: 100%"
          }
        },
        "bfde396271184de1af37acd10eda0691": {
          "model_module": "@jupyter-widgets/controls",
          "model_name": "FloatProgressModel",
          "model_module_version": "1.5.0",
          "state": {
            "_dom_classes": [],
            "_model_module": "@jupyter-widgets/controls",
            "_model_module_version": "1.5.0",
            "_model_name": "FloatProgressModel",
            "_view_count": null,
            "_view_module": "@jupyter-widgets/controls",
            "_view_module_version": "1.5.0",
            "_view_name": "ProgressView",
            "bar_style": "success",
            "description": "",
            "description_tooltip": null,
            "layout": "IPY_MODEL_5dbc57e1c7fa42259a081562e1113119",
            "max": 493443,
            "min": 0,
            "orientation": "horizontal",
            "style": "IPY_MODEL_4f3440d01d0147ed832a8157d10f2366",
            "value": 493443
          }
        },
        "718df8d31d78488781ae73031a5449a2": {
          "model_module": "@jupyter-widgets/controls",
          "model_name": "HTMLModel",
          "model_module_version": "1.5.0",
          "state": {
            "_dom_classes": [],
            "_model_module": "@jupyter-widgets/controls",
            "_model_module_version": "1.5.0",
            "_model_name": "HTMLModel",
            "_view_count": null,
            "_view_module": "@jupyter-widgets/controls",
            "_view_module_version": "1.5.0",
            "_view_name": "HTMLView",
            "description": "",
            "description_tooltip": null,
            "layout": "IPY_MODEL_642ab5b869c642fa8f1313c59facc825",
            "placeholder": "​",
            "style": "IPY_MODEL_58322d6467f24d50b991b779a8264941",
            "value": " 493k/493k [00:00&lt;00:00, 2.85MB/s]"
          }
        },
        "f763cf741ff540bbb04d587c95b2b436": {
          "model_module": "@jupyter-widgets/base",
          "model_name": "LayoutModel",
          "model_module_version": "1.2.0",
          "state": {
            "_model_module": "@jupyter-widgets/base",
            "_model_module_version": "1.2.0",
            "_model_name": "LayoutModel",
            "_view_count": null,
            "_view_module": "@jupyter-widgets/base",
            "_view_module_version": "1.2.0",
            "_view_name": "LayoutView",
            "align_content": null,
            "align_items": null,
            "align_self": null,
            "border": null,
            "bottom": null,
            "display": null,
            "flex": null,
            "flex_flow": null,
            "grid_area": null,
            "grid_auto_columns": null,
            "grid_auto_flow": null,
            "grid_auto_rows": null,
            "grid_column": null,
            "grid_gap": null,
            "grid_row": null,
            "grid_template_areas": null,
            "grid_template_columns": null,
            "grid_template_rows": null,
            "height": null,
            "justify_content": null,
            "justify_items": null,
            "left": null,
            "margin": null,
            "max_height": null,
            "max_width": null,
            "min_height": null,
            "min_width": null,
            "object_fit": null,
            "object_position": null,
            "order": null,
            "overflow": null,
            "overflow_x": null,
            "overflow_y": null,
            "padding": null,
            "right": null,
            "top": null,
            "visibility": null,
            "width": null
          }
        },
        "2a3b66acd6e744f38e2c246964dbf6b9": {
          "model_module": "@jupyter-widgets/base",
          "model_name": "LayoutModel",
          "model_module_version": "1.2.0",
          "state": {
            "_model_module": "@jupyter-widgets/base",
            "_model_module_version": "1.2.0",
            "_model_name": "LayoutModel",
            "_view_count": null,
            "_view_module": "@jupyter-widgets/base",
            "_view_module_version": "1.2.0",
            "_view_name": "LayoutView",
            "align_content": null,
            "align_items": null,
            "align_self": null,
            "border": null,
            "bottom": null,
            "display": null,
            "flex": null,
            "flex_flow": null,
            "grid_area": null,
            "grid_auto_columns": null,
            "grid_auto_flow": null,
            "grid_auto_rows": null,
            "grid_column": null,
            "grid_gap": null,
            "grid_row": null,
            "grid_template_areas": null,
            "grid_template_columns": null,
            "grid_template_rows": null,
            "height": null,
            "justify_content": null,
            "justify_items": null,
            "left": null,
            "margin": null,
            "max_height": null,
            "max_width": null,
            "min_height": null,
            "min_width": null,
            "object_fit": null,
            "object_position": null,
            "order": null,
            "overflow": null,
            "overflow_x": null,
            "overflow_y": null,
            "padding": null,
            "right": null,
            "top": null,
            "visibility": null,
            "width": null
          }
        },
        "29eef22cf59f4e1f9d0fc962174710d0": {
          "model_module": "@jupyter-widgets/controls",
          "model_name": "DescriptionStyleModel",
          "model_module_version": "1.5.0",
          "state": {
            "_model_module": "@jupyter-widgets/controls",
            "_model_module_version": "1.5.0",
            "_model_name": "DescriptionStyleModel",
            "_view_count": null,
            "_view_module": "@jupyter-widgets/base",
            "_view_module_version": "1.2.0",
            "_view_name": "StyleView",
            "description_width": ""
          }
        },
        "5dbc57e1c7fa42259a081562e1113119": {
          "model_module": "@jupyter-widgets/base",
          "model_name": "LayoutModel",
          "model_module_version": "1.2.0",
          "state": {
            "_model_module": "@jupyter-widgets/base",
            "_model_module_version": "1.2.0",
            "_model_name": "LayoutModel",
            "_view_count": null,
            "_view_module": "@jupyter-widgets/base",
            "_view_module_version": "1.2.0",
            "_view_name": "LayoutView",
            "align_content": null,
            "align_items": null,
            "align_self": null,
            "border": null,
            "bottom": null,
            "display": null,
            "flex": null,
            "flex_flow": null,
            "grid_area": null,
            "grid_auto_columns": null,
            "grid_auto_flow": null,
            "grid_auto_rows": null,
            "grid_column": null,
            "grid_gap": null,
            "grid_row": null,
            "grid_template_areas": null,
            "grid_template_columns": null,
            "grid_template_rows": null,
            "height": null,
            "justify_content": null,
            "justify_items": null,
            "left": null,
            "margin": null,
            "max_height": null,
            "max_width": null,
            "min_height": null,
            "min_width": null,
            "object_fit": null,
            "object_position": null,
            "order": null,
            "overflow": null,
            "overflow_x": null,
            "overflow_y": null,
            "padding": null,
            "right": null,
            "top": null,
            "visibility": null,
            "width": null
          }
        },
        "4f3440d01d0147ed832a8157d10f2366": {
          "model_module": "@jupyter-widgets/controls",
          "model_name": "ProgressStyleModel",
          "model_module_version": "1.5.0",
          "state": {
            "_model_module": "@jupyter-widgets/controls",
            "_model_module_version": "1.5.0",
            "_model_name": "ProgressStyleModel",
            "_view_count": null,
            "_view_module": "@jupyter-widgets/base",
            "_view_module_version": "1.2.0",
            "_view_name": "StyleView",
            "bar_color": null,
            "description_width": ""
          }
        },
        "642ab5b869c642fa8f1313c59facc825": {
          "model_module": "@jupyter-widgets/base",
          "model_name": "LayoutModel",
          "model_module_version": "1.2.0",
          "state": {
            "_model_module": "@jupyter-widgets/base",
            "_model_module_version": "1.2.0",
            "_model_name": "LayoutModel",
            "_view_count": null,
            "_view_module": "@jupyter-widgets/base",
            "_view_module_version": "1.2.0",
            "_view_name": "LayoutView",
            "align_content": null,
            "align_items": null,
            "align_self": null,
            "border": null,
            "bottom": null,
            "display": null,
            "flex": null,
            "flex_flow": null,
            "grid_area": null,
            "grid_auto_columns": null,
            "grid_auto_flow": null,
            "grid_auto_rows": null,
            "grid_column": null,
            "grid_gap": null,
            "grid_row": null,
            "grid_template_areas": null,
            "grid_template_columns": null,
            "grid_template_rows": null,
            "height": null,
            "justify_content": null,
            "justify_items": null,
            "left": null,
            "margin": null,
            "max_height": null,
            "max_width": null,
            "min_height": null,
            "min_width": null,
            "object_fit": null,
            "object_position": null,
            "order": null,
            "overflow": null,
            "overflow_x": null,
            "overflow_y": null,
            "padding": null,
            "right": null,
            "top": null,
            "visibility": null,
            "width": null
          }
        },
        "58322d6467f24d50b991b779a8264941": {
          "model_module": "@jupyter-widgets/controls",
          "model_name": "DescriptionStyleModel",
          "model_module_version": "1.5.0",
          "state": {
            "_model_module": "@jupyter-widgets/controls",
            "_model_module_version": "1.5.0",
            "_model_name": "DescriptionStyleModel",
            "_view_count": null,
            "_view_module": "@jupyter-widgets/base",
            "_view_module_version": "1.2.0",
            "_view_name": "StyleView",
            "description_width": ""
          }
        },
        "e86ed2d25c3a475aa4266031aa8ecb1f": {
          "model_module": "@jupyter-widgets/controls",
          "model_name": "HBoxModel",
          "model_module_version": "1.5.0",
          "state": {
            "_dom_classes": [],
            "_model_module": "@jupyter-widgets/controls",
            "_model_module_version": "1.5.0",
            "_model_name": "HBoxModel",
            "_view_count": null,
            "_view_module": "@jupyter-widgets/controls",
            "_view_module_version": "1.5.0",
            "_view_name": "HBoxView",
            "box_style": "",
            "children": [
              "IPY_MODEL_eb55ef6b54ad4a408a983eeb8f8e881f",
              "IPY_MODEL_ed52ac7da03341df92a663458cb8609d",
              "IPY_MODEL_b9691c79197c4969bf2eb5707d3a349f"
            ],
            "layout": "IPY_MODEL_314f228e8d3a4aba87b842d159812188"
          }
        },
        "eb55ef6b54ad4a408a983eeb8f8e881f": {
          "model_module": "@jupyter-widgets/controls",
          "model_name": "HTMLModel",
          "model_module_version": "1.5.0",
          "state": {
            "_dom_classes": [],
            "_model_module": "@jupyter-widgets/controls",
            "_model_module_version": "1.5.0",
            "_model_name": "HTMLModel",
            "_view_count": null,
            "_view_module": "@jupyter-widgets/controls",
            "_view_module_version": "1.5.0",
            "_view_name": "HTMLView",
            "description": "",
            "description_tooltip": null,
            "layout": "IPY_MODEL_04de7b51911642d29b008f76eec5e68a",
            "placeholder": "​",
            "style": "IPY_MODEL_d3b5adbb614e4a9a96d6a84abc715278",
            "value": "tokenizer.json: 100%"
          }
        },
        "ed52ac7da03341df92a663458cb8609d": {
          "model_module": "@jupyter-widgets/controls",
          "model_name": "FloatProgressModel",
          "model_module_version": "1.5.0",
          "state": {
            "_dom_classes": [],
            "_model_module": "@jupyter-widgets/controls",
            "_model_module_version": "1.5.0",
            "_model_name": "FloatProgressModel",
            "_view_count": null,
            "_view_module": "@jupyter-widgets/controls",
            "_view_module_version": "1.5.0",
            "_view_name": "ProgressView",
            "bar_style": "success",
            "description": "",
            "description_tooltip": null,
            "layout": "IPY_MODEL_b1d3b2a8832f4025a8176e9dbbe15e4f",
            "max": 1795303,
            "min": 0,
            "orientation": "horizontal",
            "style": "IPY_MODEL_02df58826bd74b20ae82961aaab35f37",
            "value": 1795303
          }
        },
        "b9691c79197c4969bf2eb5707d3a349f": {
          "model_module": "@jupyter-widgets/controls",
          "model_name": "HTMLModel",
          "model_module_version": "1.5.0",
          "state": {
            "_dom_classes": [],
            "_model_module": "@jupyter-widgets/controls",
            "_model_module_version": "1.5.0",
            "_model_name": "HTMLModel",
            "_view_count": null,
            "_view_module": "@jupyter-widgets/controls",
            "_view_module_version": "1.5.0",
            "_view_name": "HTMLView",
            "description": "",
            "description_tooltip": null,
            "layout": "IPY_MODEL_c1cbc74027a840fba497fdcb94de69b5",
            "placeholder": "​",
            "style": "IPY_MODEL_4683ad109ade4f1abd33e8b007f754f3",
            "value": " 1.80M/1.80M [00:00&lt;00:00, 4.44MB/s]"
          }
        },
        "314f228e8d3a4aba87b842d159812188": {
          "model_module": "@jupyter-widgets/base",
          "model_name": "LayoutModel",
          "model_module_version": "1.2.0",
          "state": {
            "_model_module": "@jupyter-widgets/base",
            "_model_module_version": "1.2.0",
            "_model_name": "LayoutModel",
            "_view_count": null,
            "_view_module": "@jupyter-widgets/base",
            "_view_module_version": "1.2.0",
            "_view_name": "LayoutView",
            "align_content": null,
            "align_items": null,
            "align_self": null,
            "border": null,
            "bottom": null,
            "display": null,
            "flex": null,
            "flex_flow": null,
            "grid_area": null,
            "grid_auto_columns": null,
            "grid_auto_flow": null,
            "grid_auto_rows": null,
            "grid_column": null,
            "grid_gap": null,
            "grid_row": null,
            "grid_template_areas": null,
            "grid_template_columns": null,
            "grid_template_rows": null,
            "height": null,
            "justify_content": null,
            "justify_items": null,
            "left": null,
            "margin": null,
            "max_height": null,
            "max_width": null,
            "min_height": null,
            "min_width": null,
            "object_fit": null,
            "object_position": null,
            "order": null,
            "overflow": null,
            "overflow_x": null,
            "overflow_y": null,
            "padding": null,
            "right": null,
            "top": null,
            "visibility": null,
            "width": null
          }
        },
        "04de7b51911642d29b008f76eec5e68a": {
          "model_module": "@jupyter-widgets/base",
          "model_name": "LayoutModel",
          "model_module_version": "1.2.0",
          "state": {
            "_model_module": "@jupyter-widgets/base",
            "_model_module_version": "1.2.0",
            "_model_name": "LayoutModel",
            "_view_count": null,
            "_view_module": "@jupyter-widgets/base",
            "_view_module_version": "1.2.0",
            "_view_name": "LayoutView",
            "align_content": null,
            "align_items": null,
            "align_self": null,
            "border": null,
            "bottom": null,
            "display": null,
            "flex": null,
            "flex_flow": null,
            "grid_area": null,
            "grid_auto_columns": null,
            "grid_auto_flow": null,
            "grid_auto_rows": null,
            "grid_column": null,
            "grid_gap": null,
            "grid_row": null,
            "grid_template_areas": null,
            "grid_template_columns": null,
            "grid_template_rows": null,
            "height": null,
            "justify_content": null,
            "justify_items": null,
            "left": null,
            "margin": null,
            "max_height": null,
            "max_width": null,
            "min_height": null,
            "min_width": null,
            "object_fit": null,
            "object_position": null,
            "order": null,
            "overflow": null,
            "overflow_x": null,
            "overflow_y": null,
            "padding": null,
            "right": null,
            "top": null,
            "visibility": null,
            "width": null
          }
        },
        "d3b5adbb614e4a9a96d6a84abc715278": {
          "model_module": "@jupyter-widgets/controls",
          "model_name": "DescriptionStyleModel",
          "model_module_version": "1.5.0",
          "state": {
            "_model_module": "@jupyter-widgets/controls",
            "_model_module_version": "1.5.0",
            "_model_name": "DescriptionStyleModel",
            "_view_count": null,
            "_view_module": "@jupyter-widgets/base",
            "_view_module_version": "1.2.0",
            "_view_name": "StyleView",
            "description_width": ""
          }
        },
        "b1d3b2a8832f4025a8176e9dbbe15e4f": {
          "model_module": "@jupyter-widgets/base",
          "model_name": "LayoutModel",
          "model_module_version": "1.2.0",
          "state": {
            "_model_module": "@jupyter-widgets/base",
            "_model_module_version": "1.2.0",
            "_model_name": "LayoutModel",
            "_view_count": null,
            "_view_module": "@jupyter-widgets/base",
            "_view_module_version": "1.2.0",
            "_view_name": "LayoutView",
            "align_content": null,
            "align_items": null,
            "align_self": null,
            "border": null,
            "bottom": null,
            "display": null,
            "flex": null,
            "flex_flow": null,
            "grid_area": null,
            "grid_auto_columns": null,
            "grid_auto_flow": null,
            "grid_auto_rows": null,
            "grid_column": null,
            "grid_gap": null,
            "grid_row": null,
            "grid_template_areas": null,
            "grid_template_columns": null,
            "grid_template_rows": null,
            "height": null,
            "justify_content": null,
            "justify_items": null,
            "left": null,
            "margin": null,
            "max_height": null,
            "max_width": null,
            "min_height": null,
            "min_width": null,
            "object_fit": null,
            "object_position": null,
            "order": null,
            "overflow": null,
            "overflow_x": null,
            "overflow_y": null,
            "padding": null,
            "right": null,
            "top": null,
            "visibility": null,
            "width": null
          }
        },
        "02df58826bd74b20ae82961aaab35f37": {
          "model_module": "@jupyter-widgets/controls",
          "model_name": "ProgressStyleModel",
          "model_module_version": "1.5.0",
          "state": {
            "_model_module": "@jupyter-widgets/controls",
            "_model_module_version": "1.5.0",
            "_model_name": "ProgressStyleModel",
            "_view_count": null,
            "_view_module": "@jupyter-widgets/base",
            "_view_module_version": "1.2.0",
            "_view_name": "StyleView",
            "bar_color": null,
            "description_width": ""
          }
        },
        "c1cbc74027a840fba497fdcb94de69b5": {
          "model_module": "@jupyter-widgets/base",
          "model_name": "LayoutModel",
          "model_module_version": "1.2.0",
          "state": {
            "_model_module": "@jupyter-widgets/base",
            "_model_module_version": "1.2.0",
            "_model_name": "LayoutModel",
            "_view_count": null,
            "_view_module": "@jupyter-widgets/base",
            "_view_module_version": "1.2.0",
            "_view_name": "LayoutView",
            "align_content": null,
            "align_items": null,
            "align_self": null,
            "border": null,
            "bottom": null,
            "display": null,
            "flex": null,
            "flex_flow": null,
            "grid_area": null,
            "grid_auto_columns": null,
            "grid_auto_flow": null,
            "grid_auto_rows": null,
            "grid_column": null,
            "grid_gap": null,
            "grid_row": null,
            "grid_template_areas": null,
            "grid_template_columns": null,
            "grid_template_rows": null,
            "height": null,
            "justify_content": null,
            "justify_items": null,
            "left": null,
            "margin": null,
            "max_height": null,
            "max_width": null,
            "min_height": null,
            "min_width": null,
            "object_fit": null,
            "object_position": null,
            "order": null,
            "overflow": null,
            "overflow_x": null,
            "overflow_y": null,
            "padding": null,
            "right": null,
            "top": null,
            "visibility": null,
            "width": null
          }
        },
        "4683ad109ade4f1abd33e8b007f754f3": {
          "model_module": "@jupyter-widgets/controls",
          "model_name": "DescriptionStyleModel",
          "model_module_version": "1.5.0",
          "state": {
            "_model_module": "@jupyter-widgets/controls",
            "_model_module_version": "1.5.0",
            "_model_name": "DescriptionStyleModel",
            "_view_count": null,
            "_view_module": "@jupyter-widgets/base",
            "_view_module_version": "1.2.0",
            "_view_name": "StyleView",
            "description_width": ""
          }
        },
        "86766c7c10d94335a38a321ca66e1e02": {
          "model_module": "@jupyter-widgets/controls",
          "model_name": "HBoxModel",
          "model_module_version": "1.5.0",
          "state": {
            "_dom_classes": [],
            "_model_module": "@jupyter-widgets/controls",
            "_model_module_version": "1.5.0",
            "_model_name": "HBoxModel",
            "_view_count": null,
            "_view_module": "@jupyter-widgets/controls",
            "_view_module_version": "1.5.0",
            "_view_name": "HBoxView",
            "box_style": "",
            "children": [
              "IPY_MODEL_c34ef084c8784a01bcf660d62f93ab14",
              "IPY_MODEL_30084423b94a4ffc8b9d0afa226a9d49",
              "IPY_MODEL_fd0152970a994195991d23b16ded5841"
            ],
            "layout": "IPY_MODEL_56f0b2fa297b4a7daac97e447b21b199"
          }
        },
        "c34ef084c8784a01bcf660d62f93ab14": {
          "model_module": "@jupyter-widgets/controls",
          "model_name": "HTMLModel",
          "model_module_version": "1.5.0",
          "state": {
            "_dom_classes": [],
            "_model_module": "@jupyter-widgets/controls",
            "_model_module_version": "1.5.0",
            "_model_name": "HTMLModel",
            "_view_count": null,
            "_view_module": "@jupyter-widgets/controls",
            "_view_module_version": "1.5.0",
            "_view_name": "HTMLView",
            "description": "",
            "description_tooltip": null,
            "layout": "IPY_MODEL_d751b8e1a37e4a9a9998d2a8344e4722",
            "placeholder": "​",
            "style": "IPY_MODEL_029933ee61184a4a8bc1ab46dd52453d",
            "value": "special_tokens_map.json: 100%"
          }
        },
        "30084423b94a4ffc8b9d0afa226a9d49": {
          "model_module": "@jupyter-widgets/controls",
          "model_name": "FloatProgressModel",
          "model_module_version": "1.5.0",
          "state": {
            "_dom_classes": [],
            "_model_module": "@jupyter-widgets/controls",
            "_model_module_version": "1.5.0",
            "_model_name": "FloatProgressModel",
            "_view_count": null,
            "_view_module": "@jupyter-widgets/controls",
            "_view_module_version": "1.5.0",
            "_view_name": "ProgressView",
            "bar_style": "success",
            "description": "",
            "description_tooltip": null,
            "layout": "IPY_MODEL_53ae4843f49a40418b3a5b31b82c6123",
            "max": 72,
            "min": 0,
            "orientation": "horizontal",
            "style": "IPY_MODEL_1cdca4e130d74cd79bd6ae8ddb6d45b8",
            "value": 72
          }
        },
        "fd0152970a994195991d23b16ded5841": {
          "model_module": "@jupyter-widgets/controls",
          "model_name": "HTMLModel",
          "model_module_version": "1.5.0",
          "state": {
            "_dom_classes": [],
            "_model_module": "@jupyter-widgets/controls",
            "_model_module_version": "1.5.0",
            "_model_name": "HTMLModel",
            "_view_count": null,
            "_view_module": "@jupyter-widgets/controls",
            "_view_module_version": "1.5.0",
            "_view_name": "HTMLView",
            "description": "",
            "description_tooltip": null,
            "layout": "IPY_MODEL_998fba1cd07845609bc8a7ecebd71cdb",
            "placeholder": "​",
            "style": "IPY_MODEL_7582c3b6011d45a68edb65df8599621f",
            "value": " 72.0/72.0 [00:00&lt;00:00, 5.25kB/s]"
          }
        },
        "56f0b2fa297b4a7daac97e447b21b199": {
          "model_module": "@jupyter-widgets/base",
          "model_name": "LayoutModel",
          "model_module_version": "1.2.0",
          "state": {
            "_model_module": "@jupyter-widgets/base",
            "_model_module_version": "1.2.0",
            "_model_name": "LayoutModel",
            "_view_count": null,
            "_view_module": "@jupyter-widgets/base",
            "_view_module_version": "1.2.0",
            "_view_name": "LayoutView",
            "align_content": null,
            "align_items": null,
            "align_self": null,
            "border": null,
            "bottom": null,
            "display": null,
            "flex": null,
            "flex_flow": null,
            "grid_area": null,
            "grid_auto_columns": null,
            "grid_auto_flow": null,
            "grid_auto_rows": null,
            "grid_column": null,
            "grid_gap": null,
            "grid_row": null,
            "grid_template_areas": null,
            "grid_template_columns": null,
            "grid_template_rows": null,
            "height": null,
            "justify_content": null,
            "justify_items": null,
            "left": null,
            "margin": null,
            "max_height": null,
            "max_width": null,
            "min_height": null,
            "min_width": null,
            "object_fit": null,
            "object_position": null,
            "order": null,
            "overflow": null,
            "overflow_x": null,
            "overflow_y": null,
            "padding": null,
            "right": null,
            "top": null,
            "visibility": null,
            "width": null
          }
        },
        "d751b8e1a37e4a9a9998d2a8344e4722": {
          "model_module": "@jupyter-widgets/base",
          "model_name": "LayoutModel",
          "model_module_version": "1.2.0",
          "state": {
            "_model_module": "@jupyter-widgets/base",
            "_model_module_version": "1.2.0",
            "_model_name": "LayoutModel",
            "_view_count": null,
            "_view_module": "@jupyter-widgets/base",
            "_view_module_version": "1.2.0",
            "_view_name": "LayoutView",
            "align_content": null,
            "align_items": null,
            "align_self": null,
            "border": null,
            "bottom": null,
            "display": null,
            "flex": null,
            "flex_flow": null,
            "grid_area": null,
            "grid_auto_columns": null,
            "grid_auto_flow": null,
            "grid_auto_rows": null,
            "grid_column": null,
            "grid_gap": null,
            "grid_row": null,
            "grid_template_areas": null,
            "grid_template_columns": null,
            "grid_template_rows": null,
            "height": null,
            "justify_content": null,
            "justify_items": null,
            "left": null,
            "margin": null,
            "max_height": null,
            "max_width": null,
            "min_height": null,
            "min_width": null,
            "object_fit": null,
            "object_position": null,
            "order": null,
            "overflow": null,
            "overflow_x": null,
            "overflow_y": null,
            "padding": null,
            "right": null,
            "top": null,
            "visibility": null,
            "width": null
          }
        },
        "029933ee61184a4a8bc1ab46dd52453d": {
          "model_module": "@jupyter-widgets/controls",
          "model_name": "DescriptionStyleModel",
          "model_module_version": "1.5.0",
          "state": {
            "_model_module": "@jupyter-widgets/controls",
            "_model_module_version": "1.5.0",
            "_model_name": "DescriptionStyleModel",
            "_view_count": null,
            "_view_module": "@jupyter-widgets/base",
            "_view_module_version": "1.2.0",
            "_view_name": "StyleView",
            "description_width": ""
          }
        },
        "53ae4843f49a40418b3a5b31b82c6123": {
          "model_module": "@jupyter-widgets/base",
          "model_name": "LayoutModel",
          "model_module_version": "1.2.0",
          "state": {
            "_model_module": "@jupyter-widgets/base",
            "_model_module_version": "1.2.0",
            "_model_name": "LayoutModel",
            "_view_count": null,
            "_view_module": "@jupyter-widgets/base",
            "_view_module_version": "1.2.0",
            "_view_name": "LayoutView",
            "align_content": null,
            "align_items": null,
            "align_self": null,
            "border": null,
            "bottom": null,
            "display": null,
            "flex": null,
            "flex_flow": null,
            "grid_area": null,
            "grid_auto_columns": null,
            "grid_auto_flow": null,
            "grid_auto_rows": null,
            "grid_column": null,
            "grid_gap": null,
            "grid_row": null,
            "grid_template_areas": null,
            "grid_template_columns": null,
            "grid_template_rows": null,
            "height": null,
            "justify_content": null,
            "justify_items": null,
            "left": null,
            "margin": null,
            "max_height": null,
            "max_width": null,
            "min_height": null,
            "min_width": null,
            "object_fit": null,
            "object_position": null,
            "order": null,
            "overflow": null,
            "overflow_x": null,
            "overflow_y": null,
            "padding": null,
            "right": null,
            "top": null,
            "visibility": null,
            "width": null
          }
        },
        "1cdca4e130d74cd79bd6ae8ddb6d45b8": {
          "model_module": "@jupyter-widgets/controls",
          "model_name": "ProgressStyleModel",
          "model_module_version": "1.5.0",
          "state": {
            "_model_module": "@jupyter-widgets/controls",
            "_model_module_version": "1.5.0",
            "_model_name": "ProgressStyleModel",
            "_view_count": null,
            "_view_module": "@jupyter-widgets/base",
            "_view_module_version": "1.2.0",
            "_view_name": "StyleView",
            "bar_color": null,
            "description_width": ""
          }
        },
        "998fba1cd07845609bc8a7ecebd71cdb": {
          "model_module": "@jupyter-widgets/base",
          "model_name": "LayoutModel",
          "model_module_version": "1.2.0",
          "state": {
            "_model_module": "@jupyter-widgets/base",
            "_model_module_version": "1.2.0",
            "_model_name": "LayoutModel",
            "_view_count": null,
            "_view_module": "@jupyter-widgets/base",
            "_view_module_version": "1.2.0",
            "_view_name": "LayoutView",
            "align_content": null,
            "align_items": null,
            "align_self": null,
            "border": null,
            "bottom": null,
            "display": null,
            "flex": null,
            "flex_flow": null,
            "grid_area": null,
            "grid_auto_columns": null,
            "grid_auto_flow": null,
            "grid_auto_rows": null,
            "grid_column": null,
            "grid_gap": null,
            "grid_row": null,
            "grid_template_areas": null,
            "grid_template_columns": null,
            "grid_template_rows": null,
            "height": null,
            "justify_content": null,
            "justify_items": null,
            "left": null,
            "margin": null,
            "max_height": null,
            "max_width": null,
            "min_height": null,
            "min_width": null,
            "object_fit": null,
            "object_position": null,
            "order": null,
            "overflow": null,
            "overflow_x": null,
            "overflow_y": null,
            "padding": null,
            "right": null,
            "top": null,
            "visibility": null,
            "width": null
          }
        },
        "7582c3b6011d45a68edb65df8599621f": {
          "model_module": "@jupyter-widgets/controls",
          "model_name": "DescriptionStyleModel",
          "model_module_version": "1.5.0",
          "state": {
            "_model_module": "@jupyter-widgets/controls",
            "_model_module_version": "1.5.0",
            "_model_name": "DescriptionStyleModel",
            "_view_count": null,
            "_view_module": "@jupyter-widgets/base",
            "_view_module_version": "1.2.0",
            "_view_name": "StyleView",
            "description_width": ""
          }
        },
        "93699e4be4b6440c9554c9b9d336884c": {
          "model_module": "@jupyter-widgets/controls",
          "model_name": "HBoxModel",
          "model_module_version": "1.5.0",
          "state": {
            "_dom_classes": [],
            "_model_module": "@jupyter-widgets/controls",
            "_model_module_version": "1.5.0",
            "_model_name": "HBoxModel",
            "_view_count": null,
            "_view_module": "@jupyter-widgets/controls",
            "_view_module_version": "1.5.0",
            "_view_name": "HBoxView",
            "box_style": "",
            "children": [
              "IPY_MODEL_82985110801a4078807063f6a9a03d59",
              "IPY_MODEL_8f6ada99b47f482ebc41ae12cbb971e8",
              "IPY_MODEL_9bea7f8492df4bf8bbb0dc50178196fb"
            ],
            "layout": "IPY_MODEL_ae7b02054ce3439aaaff93cedc2d723e"
          }
        },
        "82985110801a4078807063f6a9a03d59": {
          "model_module": "@jupyter-widgets/controls",
          "model_name": "HTMLModel",
          "model_module_version": "1.5.0",
          "state": {
            "_dom_classes": [],
            "_model_module": "@jupyter-widgets/controls",
            "_model_module_version": "1.5.0",
            "_model_name": "HTMLModel",
            "_view_count": null,
            "_view_module": "@jupyter-widgets/controls",
            "_view_module_version": "1.5.0",
            "_view_name": "HTMLView",
            "description": "",
            "description_tooltip": null,
            "layout": "IPY_MODEL_90e7595ab66241c9b09649a00d570fe1",
            "placeholder": "​",
            "style": "IPY_MODEL_1e7cb918fc834dc8bcc445e4e4909207",
            "value": "config.json: 100%"
          }
        },
        "8f6ada99b47f482ebc41ae12cbb971e8": {
          "model_module": "@jupyter-widgets/controls",
          "model_name": "FloatProgressModel",
          "model_module_version": "1.5.0",
          "state": {
            "_dom_classes": [],
            "_model_module": "@jupyter-widgets/controls",
            "_model_module_version": "1.5.0",
            "_model_name": "FloatProgressModel",
            "_view_count": null,
            "_view_module": "@jupyter-widgets/controls",
            "_view_module_version": "1.5.0",
            "_view_name": "ProgressView",
            "bar_style": "success",
            "description": "",
            "description_tooltip": null,
            "layout": "IPY_MODEL_433d0eb734934e4ab0e5bd2faa6885b8",
            "max": 571,
            "min": 0,
            "orientation": "horizontal",
            "style": "IPY_MODEL_4e5856b873c047d39f106b5686bfbf47",
            "value": 571
          }
        },
        "9bea7f8492df4bf8bbb0dc50178196fb": {
          "model_module": "@jupyter-widgets/controls",
          "model_name": "HTMLModel",
          "model_module_version": "1.5.0",
          "state": {
            "_dom_classes": [],
            "_model_module": "@jupyter-widgets/controls",
            "_model_module_version": "1.5.0",
            "_model_name": "HTMLModel",
            "_view_count": null,
            "_view_module": "@jupyter-widgets/controls",
            "_view_module_version": "1.5.0",
            "_view_name": "HTMLView",
            "description": "",
            "description_tooltip": null,
            "layout": "IPY_MODEL_6c14cf5f452749df89c067e42421eea1",
            "placeholder": "​",
            "style": "IPY_MODEL_51e50931f80a4aeaada3d60724ead7b9",
            "value": " 571/571 [00:00&lt;00:00, 44.2kB/s]"
          }
        },
        "ae7b02054ce3439aaaff93cedc2d723e": {
          "model_module": "@jupyter-widgets/base",
          "model_name": "LayoutModel",
          "model_module_version": "1.2.0",
          "state": {
            "_model_module": "@jupyter-widgets/base",
            "_model_module_version": "1.2.0",
            "_model_name": "LayoutModel",
            "_view_count": null,
            "_view_module": "@jupyter-widgets/base",
            "_view_module_version": "1.2.0",
            "_view_name": "LayoutView",
            "align_content": null,
            "align_items": null,
            "align_self": null,
            "border": null,
            "bottom": null,
            "display": null,
            "flex": null,
            "flex_flow": null,
            "grid_area": null,
            "grid_auto_columns": null,
            "grid_auto_flow": null,
            "grid_auto_rows": null,
            "grid_column": null,
            "grid_gap": null,
            "grid_row": null,
            "grid_template_areas": null,
            "grid_template_columns": null,
            "grid_template_rows": null,
            "height": null,
            "justify_content": null,
            "justify_items": null,
            "left": null,
            "margin": null,
            "max_height": null,
            "max_width": null,
            "min_height": null,
            "min_width": null,
            "object_fit": null,
            "object_position": null,
            "order": null,
            "overflow": null,
            "overflow_x": null,
            "overflow_y": null,
            "padding": null,
            "right": null,
            "top": null,
            "visibility": null,
            "width": null
          }
        },
        "90e7595ab66241c9b09649a00d570fe1": {
          "model_module": "@jupyter-widgets/base",
          "model_name": "LayoutModel",
          "model_module_version": "1.2.0",
          "state": {
            "_model_module": "@jupyter-widgets/base",
            "_model_module_version": "1.2.0",
            "_model_name": "LayoutModel",
            "_view_count": null,
            "_view_module": "@jupyter-widgets/base",
            "_view_module_version": "1.2.0",
            "_view_name": "LayoutView",
            "align_content": null,
            "align_items": null,
            "align_self": null,
            "border": null,
            "bottom": null,
            "display": null,
            "flex": null,
            "flex_flow": null,
            "grid_area": null,
            "grid_auto_columns": null,
            "grid_auto_flow": null,
            "grid_auto_rows": null,
            "grid_column": null,
            "grid_gap": null,
            "grid_row": null,
            "grid_template_areas": null,
            "grid_template_columns": null,
            "grid_template_rows": null,
            "height": null,
            "justify_content": null,
            "justify_items": null,
            "left": null,
            "margin": null,
            "max_height": null,
            "max_width": null,
            "min_height": null,
            "min_width": null,
            "object_fit": null,
            "object_position": null,
            "order": null,
            "overflow": null,
            "overflow_x": null,
            "overflow_y": null,
            "padding": null,
            "right": null,
            "top": null,
            "visibility": null,
            "width": null
          }
        },
        "1e7cb918fc834dc8bcc445e4e4909207": {
          "model_module": "@jupyter-widgets/controls",
          "model_name": "DescriptionStyleModel",
          "model_module_version": "1.5.0",
          "state": {
            "_model_module": "@jupyter-widgets/controls",
            "_model_module_version": "1.5.0",
            "_model_name": "DescriptionStyleModel",
            "_view_count": null,
            "_view_module": "@jupyter-widgets/base",
            "_view_module_version": "1.2.0",
            "_view_name": "StyleView",
            "description_width": ""
          }
        },
        "433d0eb734934e4ab0e5bd2faa6885b8": {
          "model_module": "@jupyter-widgets/base",
          "model_name": "LayoutModel",
          "model_module_version": "1.2.0",
          "state": {
            "_model_module": "@jupyter-widgets/base",
            "_model_module_version": "1.2.0",
            "_model_name": "LayoutModel",
            "_view_count": null,
            "_view_module": "@jupyter-widgets/base",
            "_view_module_version": "1.2.0",
            "_view_name": "LayoutView",
            "align_content": null,
            "align_items": null,
            "align_self": null,
            "border": null,
            "bottom": null,
            "display": null,
            "flex": null,
            "flex_flow": null,
            "grid_area": null,
            "grid_auto_columns": null,
            "grid_auto_flow": null,
            "grid_auto_rows": null,
            "grid_column": null,
            "grid_gap": null,
            "grid_row": null,
            "grid_template_areas": null,
            "grid_template_columns": null,
            "grid_template_rows": null,
            "height": null,
            "justify_content": null,
            "justify_items": null,
            "left": null,
            "margin": null,
            "max_height": null,
            "max_width": null,
            "min_height": null,
            "min_width": null,
            "object_fit": null,
            "object_position": null,
            "order": null,
            "overflow": null,
            "overflow_x": null,
            "overflow_y": null,
            "padding": null,
            "right": null,
            "top": null,
            "visibility": null,
            "width": null
          }
        },
        "4e5856b873c047d39f106b5686bfbf47": {
          "model_module": "@jupyter-widgets/controls",
          "model_name": "ProgressStyleModel",
          "model_module_version": "1.5.0",
          "state": {
            "_model_module": "@jupyter-widgets/controls",
            "_model_module_version": "1.5.0",
            "_model_name": "ProgressStyleModel",
            "_view_count": null,
            "_view_module": "@jupyter-widgets/base",
            "_view_module_version": "1.2.0",
            "_view_name": "StyleView",
            "bar_color": null,
            "description_width": ""
          }
        },
        "6c14cf5f452749df89c067e42421eea1": {
          "model_module": "@jupyter-widgets/base",
          "model_name": "LayoutModel",
          "model_module_version": "1.2.0",
          "state": {
            "_model_module": "@jupyter-widgets/base",
            "_model_module_version": "1.2.0",
            "_model_name": "LayoutModel",
            "_view_count": null,
            "_view_module": "@jupyter-widgets/base",
            "_view_module_version": "1.2.0",
            "_view_name": "LayoutView",
            "align_content": null,
            "align_items": null,
            "align_self": null,
            "border": null,
            "bottom": null,
            "display": null,
            "flex": null,
            "flex_flow": null,
            "grid_area": null,
            "grid_auto_columns": null,
            "grid_auto_flow": null,
            "grid_auto_rows": null,
            "grid_column": null,
            "grid_gap": null,
            "grid_row": null,
            "grid_template_areas": null,
            "grid_template_columns": null,
            "grid_template_rows": null,
            "height": null,
            "justify_content": null,
            "justify_items": null,
            "left": null,
            "margin": null,
            "max_height": null,
            "max_width": null,
            "min_height": null,
            "min_width": null,
            "object_fit": null,
            "object_position": null,
            "order": null,
            "overflow": null,
            "overflow_x": null,
            "overflow_y": null,
            "padding": null,
            "right": null,
            "top": null,
            "visibility": null,
            "width": null
          }
        },
        "51e50931f80a4aeaada3d60724ead7b9": {
          "model_module": "@jupyter-widgets/controls",
          "model_name": "DescriptionStyleModel",
          "model_module_version": "1.5.0",
          "state": {
            "_model_module": "@jupyter-widgets/controls",
            "_model_module_version": "1.5.0",
            "_model_name": "DescriptionStyleModel",
            "_view_count": null,
            "_view_module": "@jupyter-widgets/base",
            "_view_module_version": "1.2.0",
            "_view_name": "StyleView",
            "description_width": ""
          }
        },
        "470c3bb9c4444a0e991ce2dc4f247973": {
          "model_module": "@jupyter-widgets/controls",
          "model_name": "HBoxModel",
          "model_module_version": "1.5.0",
          "state": {
            "_dom_classes": [],
            "_model_module": "@jupyter-widgets/controls",
            "_model_module_version": "1.5.0",
            "_model_name": "HBoxModel",
            "_view_count": null,
            "_view_module": "@jupyter-widgets/controls",
            "_view_module_version": "1.5.0",
            "_view_name": "HBoxView",
            "box_style": "",
            "children": [
              "IPY_MODEL_271c53145ce84598969d7939637889af",
              "IPY_MODEL_3c62067ee0df4417bbb7a2bd7344c728",
              "IPY_MODEL_dfad2da7bb924fc08b8ac2e9b618e8cc"
            ],
            "layout": "IPY_MODEL_a99e099c2adc4de28a3e82527655b7a6"
          }
        },
        "271c53145ce84598969d7939637889af": {
          "model_module": "@jupyter-widgets/controls",
          "model_name": "HTMLModel",
          "model_module_version": "1.5.0",
          "state": {
            "_dom_classes": [],
            "_model_module": "@jupyter-widgets/controls",
            "_model_module_version": "1.5.0",
            "_model_name": "HTMLModel",
            "_view_count": null,
            "_view_module": "@jupyter-widgets/controls",
            "_view_module_version": "1.5.0",
            "_view_name": "HTMLView",
            "description": "",
            "description_tooltip": null,
            "layout": "IPY_MODEL_210c04c09e6b4118b8ab5d3f6525073c",
            "placeholder": "​",
            "style": "IPY_MODEL_c0aa6e51d6e84bbdb950c1fa6f2593ee",
            "value": "model.safetensors.index.json: 100%"
          }
        },
        "3c62067ee0df4417bbb7a2bd7344c728": {
          "model_module": "@jupyter-widgets/controls",
          "model_name": "FloatProgressModel",
          "model_module_version": "1.5.0",
          "state": {
            "_dom_classes": [],
            "_model_module": "@jupyter-widgets/controls",
            "_model_module_version": "1.5.0",
            "_model_name": "FloatProgressModel",
            "_view_count": null,
            "_view_module": "@jupyter-widgets/controls",
            "_view_module_version": "1.5.0",
            "_view_name": "ProgressView",
            "bar_style": "success",
            "description": "",
            "description_tooltip": null,
            "layout": "IPY_MODEL_7039563a83e84c778e8f6c38302bce56",
            "max": 25125,
            "min": 0,
            "orientation": "horizontal",
            "style": "IPY_MODEL_9473587bb29946278298aa6afab1e8ef",
            "value": 25125
          }
        },
        "dfad2da7bb924fc08b8ac2e9b618e8cc": {
          "model_module": "@jupyter-widgets/controls",
          "model_name": "HTMLModel",
          "model_module_version": "1.5.0",
          "state": {
            "_dom_classes": [],
            "_model_module": "@jupyter-widgets/controls",
            "_model_module_version": "1.5.0",
            "_model_name": "HTMLModel",
            "_view_count": null,
            "_view_module": "@jupyter-widgets/controls",
            "_view_module_version": "1.5.0",
            "_view_name": "HTMLView",
            "description": "",
            "description_tooltip": null,
            "layout": "IPY_MODEL_ae1902a787b84a70b404f247054aeb28",
            "placeholder": "​",
            "style": "IPY_MODEL_f960c925b17443fc98d904d86996c272",
            "value": " 25.1k/25.1k [00:00&lt;00:00, 1.30MB/s]"
          }
        },
        "a99e099c2adc4de28a3e82527655b7a6": {
          "model_module": "@jupyter-widgets/base",
          "model_name": "LayoutModel",
          "model_module_version": "1.2.0",
          "state": {
            "_model_module": "@jupyter-widgets/base",
            "_model_module_version": "1.2.0",
            "_model_name": "LayoutModel",
            "_view_count": null,
            "_view_module": "@jupyter-widgets/base",
            "_view_module_version": "1.2.0",
            "_view_name": "LayoutView",
            "align_content": null,
            "align_items": null,
            "align_self": null,
            "border": null,
            "bottom": null,
            "display": null,
            "flex": null,
            "flex_flow": null,
            "grid_area": null,
            "grid_auto_columns": null,
            "grid_auto_flow": null,
            "grid_auto_rows": null,
            "grid_column": null,
            "grid_gap": null,
            "grid_row": null,
            "grid_template_areas": null,
            "grid_template_columns": null,
            "grid_template_rows": null,
            "height": null,
            "justify_content": null,
            "justify_items": null,
            "left": null,
            "margin": null,
            "max_height": null,
            "max_width": null,
            "min_height": null,
            "min_width": null,
            "object_fit": null,
            "object_position": null,
            "order": null,
            "overflow": null,
            "overflow_x": null,
            "overflow_y": null,
            "padding": null,
            "right": null,
            "top": null,
            "visibility": null,
            "width": null
          }
        },
        "210c04c09e6b4118b8ab5d3f6525073c": {
          "model_module": "@jupyter-widgets/base",
          "model_name": "LayoutModel",
          "model_module_version": "1.2.0",
          "state": {
            "_model_module": "@jupyter-widgets/base",
            "_model_module_version": "1.2.0",
            "_model_name": "LayoutModel",
            "_view_count": null,
            "_view_module": "@jupyter-widgets/base",
            "_view_module_version": "1.2.0",
            "_view_name": "LayoutView",
            "align_content": null,
            "align_items": null,
            "align_self": null,
            "border": null,
            "bottom": null,
            "display": null,
            "flex": null,
            "flex_flow": null,
            "grid_area": null,
            "grid_auto_columns": null,
            "grid_auto_flow": null,
            "grid_auto_rows": null,
            "grid_column": null,
            "grid_gap": null,
            "grid_row": null,
            "grid_template_areas": null,
            "grid_template_columns": null,
            "grid_template_rows": null,
            "height": null,
            "justify_content": null,
            "justify_items": null,
            "left": null,
            "margin": null,
            "max_height": null,
            "max_width": null,
            "min_height": null,
            "min_width": null,
            "object_fit": null,
            "object_position": null,
            "order": null,
            "overflow": null,
            "overflow_x": null,
            "overflow_y": null,
            "padding": null,
            "right": null,
            "top": null,
            "visibility": null,
            "width": null
          }
        },
        "c0aa6e51d6e84bbdb950c1fa6f2593ee": {
          "model_module": "@jupyter-widgets/controls",
          "model_name": "DescriptionStyleModel",
          "model_module_version": "1.5.0",
          "state": {
            "_model_module": "@jupyter-widgets/controls",
            "_model_module_version": "1.5.0",
            "_model_name": "DescriptionStyleModel",
            "_view_count": null,
            "_view_module": "@jupyter-widgets/base",
            "_view_module_version": "1.2.0",
            "_view_name": "StyleView",
            "description_width": ""
          }
        },
        "7039563a83e84c778e8f6c38302bce56": {
          "model_module": "@jupyter-widgets/base",
          "model_name": "LayoutModel",
          "model_module_version": "1.2.0",
          "state": {
            "_model_module": "@jupyter-widgets/base",
            "_model_module_version": "1.2.0",
            "_model_name": "LayoutModel",
            "_view_count": null,
            "_view_module": "@jupyter-widgets/base",
            "_view_module_version": "1.2.0",
            "_view_name": "LayoutView",
            "align_content": null,
            "align_items": null,
            "align_self": null,
            "border": null,
            "bottom": null,
            "display": null,
            "flex": null,
            "flex_flow": null,
            "grid_area": null,
            "grid_auto_columns": null,
            "grid_auto_flow": null,
            "grid_auto_rows": null,
            "grid_column": null,
            "grid_gap": null,
            "grid_row": null,
            "grid_template_areas": null,
            "grid_template_columns": null,
            "grid_template_rows": null,
            "height": null,
            "justify_content": null,
            "justify_items": null,
            "left": null,
            "margin": null,
            "max_height": null,
            "max_width": null,
            "min_height": null,
            "min_width": null,
            "object_fit": null,
            "object_position": null,
            "order": null,
            "overflow": null,
            "overflow_x": null,
            "overflow_y": null,
            "padding": null,
            "right": null,
            "top": null,
            "visibility": null,
            "width": null
          }
        },
        "9473587bb29946278298aa6afab1e8ef": {
          "model_module": "@jupyter-widgets/controls",
          "model_name": "ProgressStyleModel",
          "model_module_version": "1.5.0",
          "state": {
            "_model_module": "@jupyter-widgets/controls",
            "_model_module_version": "1.5.0",
            "_model_name": "ProgressStyleModel",
            "_view_count": null,
            "_view_module": "@jupyter-widgets/base",
            "_view_module_version": "1.2.0",
            "_view_name": "StyleView",
            "bar_color": null,
            "description_width": ""
          }
        },
        "ae1902a787b84a70b404f247054aeb28": {
          "model_module": "@jupyter-widgets/base",
          "model_name": "LayoutModel",
          "model_module_version": "1.2.0",
          "state": {
            "_model_module": "@jupyter-widgets/base",
            "_model_module_version": "1.2.0",
            "_model_name": "LayoutModel",
            "_view_count": null,
            "_view_module": "@jupyter-widgets/base",
            "_view_module_version": "1.2.0",
            "_view_name": "LayoutView",
            "align_content": null,
            "align_items": null,
            "align_self": null,
            "border": null,
            "bottom": null,
            "display": null,
            "flex": null,
            "flex_flow": null,
            "grid_area": null,
            "grid_auto_columns": null,
            "grid_auto_flow": null,
            "grid_auto_rows": null,
            "grid_column": null,
            "grid_gap": null,
            "grid_row": null,
            "grid_template_areas": null,
            "grid_template_columns": null,
            "grid_template_rows": null,
            "height": null,
            "justify_content": null,
            "justify_items": null,
            "left": null,
            "margin": null,
            "max_height": null,
            "max_width": null,
            "min_height": null,
            "min_width": null,
            "object_fit": null,
            "object_position": null,
            "order": null,
            "overflow": null,
            "overflow_x": null,
            "overflow_y": null,
            "padding": null,
            "right": null,
            "top": null,
            "visibility": null,
            "width": null
          }
        },
        "f960c925b17443fc98d904d86996c272": {
          "model_module": "@jupyter-widgets/controls",
          "model_name": "DescriptionStyleModel",
          "model_module_version": "1.5.0",
          "state": {
            "_model_module": "@jupyter-widgets/controls",
            "_model_module_version": "1.5.0",
            "_model_name": "DescriptionStyleModel",
            "_view_count": null,
            "_view_module": "@jupyter-widgets/base",
            "_view_module_version": "1.2.0",
            "_view_name": "StyleView",
            "description_width": ""
          }
        },
        "4c7f483c4b664ca89e8afac30731c7a1": {
          "model_module": "@jupyter-widgets/controls",
          "model_name": "HBoxModel",
          "model_module_version": "1.5.0",
          "state": {
            "_dom_classes": [],
            "_model_module": "@jupyter-widgets/controls",
            "_model_module_version": "1.5.0",
            "_model_name": "HBoxModel",
            "_view_count": null,
            "_view_module": "@jupyter-widgets/controls",
            "_view_module_version": "1.5.0",
            "_view_name": "HBoxView",
            "box_style": "",
            "children": [
              "IPY_MODEL_daf8d77e9f114ef7b6511880a141265c",
              "IPY_MODEL_f5fdc0aba0a74889b81d3dcce9b9ce57",
              "IPY_MODEL_991ff6db9185499db419c520762a0297"
            ],
            "layout": "IPY_MODEL_87d9f7ba4bbc419c978a976324c472d3"
          }
        },
        "daf8d77e9f114ef7b6511880a141265c": {
          "model_module": "@jupyter-widgets/controls",
          "model_name": "HTMLModel",
          "model_module_version": "1.5.0",
          "state": {
            "_dom_classes": [],
            "_model_module": "@jupyter-widgets/controls",
            "_model_module_version": "1.5.0",
            "_model_name": "HTMLModel",
            "_view_count": null,
            "_view_module": "@jupyter-widgets/controls",
            "_view_module_version": "1.5.0",
            "_view_name": "HTMLView",
            "description": "",
            "description_tooltip": null,
            "layout": "IPY_MODEL_60d8034fe4c64d6a862c15be325b84e5",
            "placeholder": "​",
            "style": "IPY_MODEL_8438b69b30b1486d8f1572d9ecad71a1",
            "value": "Downloading shards: 100%"
          }
        },
        "f5fdc0aba0a74889b81d3dcce9b9ce57": {
          "model_module": "@jupyter-widgets/controls",
          "model_name": "FloatProgressModel",
          "model_module_version": "1.5.0",
          "state": {
            "_dom_classes": [],
            "_model_module": "@jupyter-widgets/controls",
            "_model_module_version": "1.5.0",
            "_model_name": "FloatProgressModel",
            "_view_count": null,
            "_view_module": "@jupyter-widgets/controls",
            "_view_module_version": "1.5.0",
            "_view_name": "ProgressView",
            "bar_style": "success",
            "description": "",
            "description_tooltip": null,
            "layout": "IPY_MODEL_b1ed5183a76d4a5a90f094823f00dbaa",
            "max": 2,
            "min": 0,
            "orientation": "horizontal",
            "style": "IPY_MODEL_986fff25c1934c0eab0afcd27ea148bb",
            "value": 2
          }
        },
        "991ff6db9185499db419c520762a0297": {
          "model_module": "@jupyter-widgets/controls",
          "model_name": "HTMLModel",
          "model_module_version": "1.5.0",
          "state": {
            "_dom_classes": [],
            "_model_module": "@jupyter-widgets/controls",
            "_model_module_version": "1.5.0",
            "_model_name": "HTMLModel",
            "_view_count": null,
            "_view_module": "@jupyter-widgets/controls",
            "_view_module_version": "1.5.0",
            "_view_name": "HTMLView",
            "description": "",
            "description_tooltip": null,
            "layout": "IPY_MODEL_24cd5687fe794459a8bac3659d0f9c04",
            "placeholder": "​",
            "style": "IPY_MODEL_4f565c5f427242cda0f3de2ab6eb8e7e",
            "value": " 2/2 [01:56&lt;00:00, 53.38s/it]"
          }
        },
        "87d9f7ba4bbc419c978a976324c472d3": {
          "model_module": "@jupyter-widgets/base",
          "model_name": "LayoutModel",
          "model_module_version": "1.2.0",
          "state": {
            "_model_module": "@jupyter-widgets/base",
            "_model_module_version": "1.2.0",
            "_model_name": "LayoutModel",
            "_view_count": null,
            "_view_module": "@jupyter-widgets/base",
            "_view_module_version": "1.2.0",
            "_view_name": "LayoutView",
            "align_content": null,
            "align_items": null,
            "align_self": null,
            "border": null,
            "bottom": null,
            "display": null,
            "flex": null,
            "flex_flow": null,
            "grid_area": null,
            "grid_auto_columns": null,
            "grid_auto_flow": null,
            "grid_auto_rows": null,
            "grid_column": null,
            "grid_gap": null,
            "grid_row": null,
            "grid_template_areas": null,
            "grid_template_columns": null,
            "grid_template_rows": null,
            "height": null,
            "justify_content": null,
            "justify_items": null,
            "left": null,
            "margin": null,
            "max_height": null,
            "max_width": null,
            "min_height": null,
            "min_width": null,
            "object_fit": null,
            "object_position": null,
            "order": null,
            "overflow": null,
            "overflow_x": null,
            "overflow_y": null,
            "padding": null,
            "right": null,
            "top": null,
            "visibility": null,
            "width": null
          }
        },
        "60d8034fe4c64d6a862c15be325b84e5": {
          "model_module": "@jupyter-widgets/base",
          "model_name": "LayoutModel",
          "model_module_version": "1.2.0",
          "state": {
            "_model_module": "@jupyter-widgets/base",
            "_model_module_version": "1.2.0",
            "_model_name": "LayoutModel",
            "_view_count": null,
            "_view_module": "@jupyter-widgets/base",
            "_view_module_version": "1.2.0",
            "_view_name": "LayoutView",
            "align_content": null,
            "align_items": null,
            "align_self": null,
            "border": null,
            "bottom": null,
            "display": null,
            "flex": null,
            "flex_flow": null,
            "grid_area": null,
            "grid_auto_columns": null,
            "grid_auto_flow": null,
            "grid_auto_rows": null,
            "grid_column": null,
            "grid_gap": null,
            "grid_row": null,
            "grid_template_areas": null,
            "grid_template_columns": null,
            "grid_template_rows": null,
            "height": null,
            "justify_content": null,
            "justify_items": null,
            "left": null,
            "margin": null,
            "max_height": null,
            "max_width": null,
            "min_height": null,
            "min_width": null,
            "object_fit": null,
            "object_position": null,
            "order": null,
            "overflow": null,
            "overflow_x": null,
            "overflow_y": null,
            "padding": null,
            "right": null,
            "top": null,
            "visibility": null,
            "width": null
          }
        },
        "8438b69b30b1486d8f1572d9ecad71a1": {
          "model_module": "@jupyter-widgets/controls",
          "model_name": "DescriptionStyleModel",
          "model_module_version": "1.5.0",
          "state": {
            "_model_module": "@jupyter-widgets/controls",
            "_model_module_version": "1.5.0",
            "_model_name": "DescriptionStyleModel",
            "_view_count": null,
            "_view_module": "@jupyter-widgets/base",
            "_view_module_version": "1.2.0",
            "_view_name": "StyleView",
            "description_width": ""
          }
        },
        "b1ed5183a76d4a5a90f094823f00dbaa": {
          "model_module": "@jupyter-widgets/base",
          "model_name": "LayoutModel",
          "model_module_version": "1.2.0",
          "state": {
            "_model_module": "@jupyter-widgets/base",
            "_model_module_version": "1.2.0",
            "_model_name": "LayoutModel",
            "_view_count": null,
            "_view_module": "@jupyter-widgets/base",
            "_view_module_version": "1.2.0",
            "_view_name": "LayoutView",
            "align_content": null,
            "align_items": null,
            "align_self": null,
            "border": null,
            "bottom": null,
            "display": null,
            "flex": null,
            "flex_flow": null,
            "grid_area": null,
            "grid_auto_columns": null,
            "grid_auto_flow": null,
            "grid_auto_rows": null,
            "grid_column": null,
            "grid_gap": null,
            "grid_row": null,
            "grid_template_areas": null,
            "grid_template_columns": null,
            "grid_template_rows": null,
            "height": null,
            "justify_content": null,
            "justify_items": null,
            "left": null,
            "margin": null,
            "max_height": null,
            "max_width": null,
            "min_height": null,
            "min_width": null,
            "object_fit": null,
            "object_position": null,
            "order": null,
            "overflow": null,
            "overflow_x": null,
            "overflow_y": null,
            "padding": null,
            "right": null,
            "top": null,
            "visibility": null,
            "width": null
          }
        },
        "986fff25c1934c0eab0afcd27ea148bb": {
          "model_module": "@jupyter-widgets/controls",
          "model_name": "ProgressStyleModel",
          "model_module_version": "1.5.0",
          "state": {
            "_model_module": "@jupyter-widgets/controls",
            "_model_module_version": "1.5.0",
            "_model_name": "ProgressStyleModel",
            "_view_count": null,
            "_view_module": "@jupyter-widgets/base",
            "_view_module_version": "1.2.0",
            "_view_name": "StyleView",
            "bar_color": null,
            "description_width": ""
          }
        },
        "24cd5687fe794459a8bac3659d0f9c04": {
          "model_module": "@jupyter-widgets/base",
          "model_name": "LayoutModel",
          "model_module_version": "1.2.0",
          "state": {
            "_model_module": "@jupyter-widgets/base",
            "_model_module_version": "1.2.0",
            "_model_name": "LayoutModel",
            "_view_count": null,
            "_view_module": "@jupyter-widgets/base",
            "_view_module_version": "1.2.0",
            "_view_name": "LayoutView",
            "align_content": null,
            "align_items": null,
            "align_self": null,
            "border": null,
            "bottom": null,
            "display": null,
            "flex": null,
            "flex_flow": null,
            "grid_area": null,
            "grid_auto_columns": null,
            "grid_auto_flow": null,
            "grid_auto_rows": null,
            "grid_column": null,
            "grid_gap": null,
            "grid_row": null,
            "grid_template_areas": null,
            "grid_template_columns": null,
            "grid_template_rows": null,
            "height": null,
            "justify_content": null,
            "justify_items": null,
            "left": null,
            "margin": null,
            "max_height": null,
            "max_width": null,
            "min_height": null,
            "min_width": null,
            "object_fit": null,
            "object_position": null,
            "order": null,
            "overflow": null,
            "overflow_x": null,
            "overflow_y": null,
            "padding": null,
            "right": null,
            "top": null,
            "visibility": null,
            "width": null
          }
        },
        "4f565c5f427242cda0f3de2ab6eb8e7e": {
          "model_module": "@jupyter-widgets/controls",
          "model_name": "DescriptionStyleModel",
          "model_module_version": "1.5.0",
          "state": {
            "_model_module": "@jupyter-widgets/controls",
            "_model_module_version": "1.5.0",
            "_model_name": "DescriptionStyleModel",
            "_view_count": null,
            "_view_module": "@jupyter-widgets/base",
            "_view_module_version": "1.2.0",
            "_view_name": "StyleView",
            "description_width": ""
          }
        },
        "27a3f4189b934b48a468101a44bb17d1": {
          "model_module": "@jupyter-widgets/controls",
          "model_name": "HBoxModel",
          "model_module_version": "1.5.0",
          "state": {
            "_dom_classes": [],
            "_model_module": "@jupyter-widgets/controls",
            "_model_module_version": "1.5.0",
            "_model_name": "HBoxModel",
            "_view_count": null,
            "_view_module": "@jupyter-widgets/controls",
            "_view_module_version": "1.5.0",
            "_view_name": "HBoxView",
            "box_style": "",
            "children": [
              "IPY_MODEL_0b9a0b7113d744589309c1775bcbbe81",
              "IPY_MODEL_c1eccb10944943c8bafd4c5876243f2e",
              "IPY_MODEL_c2196247858842319c3696f529113896"
            ],
            "layout": "IPY_MODEL_0e2378234857408aa66b38867c3c6eb6"
          }
        },
        "0b9a0b7113d744589309c1775bcbbe81": {
          "model_module": "@jupyter-widgets/controls",
          "model_name": "HTMLModel",
          "model_module_version": "1.5.0",
          "state": {
            "_dom_classes": [],
            "_model_module": "@jupyter-widgets/controls",
            "_model_module_version": "1.5.0",
            "_model_name": "HTMLModel",
            "_view_count": null,
            "_view_module": "@jupyter-widgets/controls",
            "_view_module_version": "1.5.0",
            "_view_name": "HTMLView",
            "description": "",
            "description_tooltip": null,
            "layout": "IPY_MODEL_92683cccac734ead906f8f1eb7b62249",
            "placeholder": "​",
            "style": "IPY_MODEL_bac8b4773f37473e88d69ae84b5b3db1",
            "value": "model-00001-of-00002.safetensors: 100%"
          }
        },
        "c1eccb10944943c8bafd4c5876243f2e": {
          "model_module": "@jupyter-widgets/controls",
          "model_name": "FloatProgressModel",
          "model_module_version": "1.5.0",
          "state": {
            "_dom_classes": [],
            "_model_module": "@jupyter-widgets/controls",
            "_model_module_version": "1.5.0",
            "_model_name": "FloatProgressModel",
            "_view_count": null,
            "_view_module": "@jupyter-widgets/controls",
            "_view_module_version": "1.5.0",
            "_view_name": "ProgressView",
            "bar_style": "success",
            "description": "",
            "description_tooltip": null,
            "layout": "IPY_MODEL_026b5fdeeeeb4517af7d700098d54edb",
            "max": 9942981696,
            "min": 0,
            "orientation": "horizontal",
            "style": "IPY_MODEL_ddd419a4fc5b43e4872fba6d3c35a32b",
            "value": 9942981696
          }
        },
        "c2196247858842319c3696f529113896": {
          "model_module": "@jupyter-widgets/controls",
          "model_name": "HTMLModel",
          "model_module_version": "1.5.0",
          "state": {
            "_dom_classes": [],
            "_model_module": "@jupyter-widgets/controls",
            "_model_module_version": "1.5.0",
            "_model_name": "HTMLModel",
            "_view_count": null,
            "_view_module": "@jupyter-widgets/controls",
            "_view_module_version": "1.5.0",
            "_view_name": "HTMLView",
            "description": "",
            "description_tooltip": null,
            "layout": "IPY_MODEL_16273f143dc84d129c02fe4397201428",
            "placeholder": "​",
            "style": "IPY_MODEL_cc5759ac5a3e4c449a3a87a6179c4dc0",
            "value": " 9.94G/9.94G [01:25&lt;00:00, 67.0MB/s]"
          }
        },
        "0e2378234857408aa66b38867c3c6eb6": {
          "model_module": "@jupyter-widgets/base",
          "model_name": "LayoutModel",
          "model_module_version": "1.2.0",
          "state": {
            "_model_module": "@jupyter-widgets/base",
            "_model_module_version": "1.2.0",
            "_model_name": "LayoutModel",
            "_view_count": null,
            "_view_module": "@jupyter-widgets/base",
            "_view_module_version": "1.2.0",
            "_view_name": "LayoutView",
            "align_content": null,
            "align_items": null,
            "align_self": null,
            "border": null,
            "bottom": null,
            "display": null,
            "flex": null,
            "flex_flow": null,
            "grid_area": null,
            "grid_auto_columns": null,
            "grid_auto_flow": null,
            "grid_auto_rows": null,
            "grid_column": null,
            "grid_gap": null,
            "grid_row": null,
            "grid_template_areas": null,
            "grid_template_columns": null,
            "grid_template_rows": null,
            "height": null,
            "justify_content": null,
            "justify_items": null,
            "left": null,
            "margin": null,
            "max_height": null,
            "max_width": null,
            "min_height": null,
            "min_width": null,
            "object_fit": null,
            "object_position": null,
            "order": null,
            "overflow": null,
            "overflow_x": null,
            "overflow_y": null,
            "padding": null,
            "right": null,
            "top": null,
            "visibility": null,
            "width": null
          }
        },
        "92683cccac734ead906f8f1eb7b62249": {
          "model_module": "@jupyter-widgets/base",
          "model_name": "LayoutModel",
          "model_module_version": "1.2.0",
          "state": {
            "_model_module": "@jupyter-widgets/base",
            "_model_module_version": "1.2.0",
            "_model_name": "LayoutModel",
            "_view_count": null,
            "_view_module": "@jupyter-widgets/base",
            "_view_module_version": "1.2.0",
            "_view_name": "LayoutView",
            "align_content": null,
            "align_items": null,
            "align_self": null,
            "border": null,
            "bottom": null,
            "display": null,
            "flex": null,
            "flex_flow": null,
            "grid_area": null,
            "grid_auto_columns": null,
            "grid_auto_flow": null,
            "grid_auto_rows": null,
            "grid_column": null,
            "grid_gap": null,
            "grid_row": null,
            "grid_template_areas": null,
            "grid_template_columns": null,
            "grid_template_rows": null,
            "height": null,
            "justify_content": null,
            "justify_items": null,
            "left": null,
            "margin": null,
            "max_height": null,
            "max_width": null,
            "min_height": null,
            "min_width": null,
            "object_fit": null,
            "object_position": null,
            "order": null,
            "overflow": null,
            "overflow_x": null,
            "overflow_y": null,
            "padding": null,
            "right": null,
            "top": null,
            "visibility": null,
            "width": null
          }
        },
        "bac8b4773f37473e88d69ae84b5b3db1": {
          "model_module": "@jupyter-widgets/controls",
          "model_name": "DescriptionStyleModel",
          "model_module_version": "1.5.0",
          "state": {
            "_model_module": "@jupyter-widgets/controls",
            "_model_module_version": "1.5.0",
            "_model_name": "DescriptionStyleModel",
            "_view_count": null,
            "_view_module": "@jupyter-widgets/base",
            "_view_module_version": "1.2.0",
            "_view_name": "StyleView",
            "description_width": ""
          }
        },
        "026b5fdeeeeb4517af7d700098d54edb": {
          "model_module": "@jupyter-widgets/base",
          "model_name": "LayoutModel",
          "model_module_version": "1.2.0",
          "state": {
            "_model_module": "@jupyter-widgets/base",
            "_model_module_version": "1.2.0",
            "_model_name": "LayoutModel",
            "_view_count": null,
            "_view_module": "@jupyter-widgets/base",
            "_view_module_version": "1.2.0",
            "_view_name": "LayoutView",
            "align_content": null,
            "align_items": null,
            "align_self": null,
            "border": null,
            "bottom": null,
            "display": null,
            "flex": null,
            "flex_flow": null,
            "grid_area": null,
            "grid_auto_columns": null,
            "grid_auto_flow": null,
            "grid_auto_rows": null,
            "grid_column": null,
            "grid_gap": null,
            "grid_row": null,
            "grid_template_areas": null,
            "grid_template_columns": null,
            "grid_template_rows": null,
            "height": null,
            "justify_content": null,
            "justify_items": null,
            "left": null,
            "margin": null,
            "max_height": null,
            "max_width": null,
            "min_height": null,
            "min_width": null,
            "object_fit": null,
            "object_position": null,
            "order": null,
            "overflow": null,
            "overflow_x": null,
            "overflow_y": null,
            "padding": null,
            "right": null,
            "top": null,
            "visibility": null,
            "width": null
          }
        },
        "ddd419a4fc5b43e4872fba6d3c35a32b": {
          "model_module": "@jupyter-widgets/controls",
          "model_name": "ProgressStyleModel",
          "model_module_version": "1.5.0",
          "state": {
            "_model_module": "@jupyter-widgets/controls",
            "_model_module_version": "1.5.0",
            "_model_name": "ProgressStyleModel",
            "_view_count": null,
            "_view_module": "@jupyter-widgets/base",
            "_view_module_version": "1.2.0",
            "_view_name": "StyleView",
            "bar_color": null,
            "description_width": ""
          }
        },
        "16273f143dc84d129c02fe4397201428": {
          "model_module": "@jupyter-widgets/base",
          "model_name": "LayoutModel",
          "model_module_version": "1.2.0",
          "state": {
            "_model_module": "@jupyter-widgets/base",
            "_model_module_version": "1.2.0",
            "_model_name": "LayoutModel",
            "_view_count": null,
            "_view_module": "@jupyter-widgets/base",
            "_view_module_version": "1.2.0",
            "_view_name": "LayoutView",
            "align_content": null,
            "align_items": null,
            "align_self": null,
            "border": null,
            "bottom": null,
            "display": null,
            "flex": null,
            "flex_flow": null,
            "grid_area": null,
            "grid_auto_columns": null,
            "grid_auto_flow": null,
            "grid_auto_rows": null,
            "grid_column": null,
            "grid_gap": null,
            "grid_row": null,
            "grid_template_areas": null,
            "grid_template_columns": null,
            "grid_template_rows": null,
            "height": null,
            "justify_content": null,
            "justify_items": null,
            "left": null,
            "margin": null,
            "max_height": null,
            "max_width": null,
            "min_height": null,
            "min_width": null,
            "object_fit": null,
            "object_position": null,
            "order": null,
            "overflow": null,
            "overflow_x": null,
            "overflow_y": null,
            "padding": null,
            "right": null,
            "top": null,
            "visibility": null,
            "width": null
          }
        },
        "cc5759ac5a3e4c449a3a87a6179c4dc0": {
          "model_module": "@jupyter-widgets/controls",
          "model_name": "DescriptionStyleModel",
          "model_module_version": "1.5.0",
          "state": {
            "_model_module": "@jupyter-widgets/controls",
            "_model_module_version": "1.5.0",
            "_model_name": "DescriptionStyleModel",
            "_view_count": null,
            "_view_module": "@jupyter-widgets/base",
            "_view_module_version": "1.2.0",
            "_view_name": "StyleView",
            "description_width": ""
          }
        },
        "d8bbe75a1c11489b95061d3ac30b1455": {
          "model_module": "@jupyter-widgets/controls",
          "model_name": "HBoxModel",
          "model_module_version": "1.5.0",
          "state": {
            "_dom_classes": [],
            "_model_module": "@jupyter-widgets/controls",
            "_model_module_version": "1.5.0",
            "_model_name": "HBoxModel",
            "_view_count": null,
            "_view_module": "@jupyter-widgets/controls",
            "_view_module_version": "1.5.0",
            "_view_name": "HBoxView",
            "box_style": "",
            "children": [
              "IPY_MODEL_2c3b05b8ba4c42f28e9240b261e371e1",
              "IPY_MODEL_d8242eae4e5e4696b0da9aef089f92be",
              "IPY_MODEL_b8355822aece41318c2ce8c72778f731"
            ],
            "layout": "IPY_MODEL_734c4a63af9f41118e5d0f39cc1771db"
          }
        },
        "2c3b05b8ba4c42f28e9240b261e371e1": {
          "model_module": "@jupyter-widgets/controls",
          "model_name": "HTMLModel",
          "model_module_version": "1.5.0",
          "state": {
            "_dom_classes": [],
            "_model_module": "@jupyter-widgets/controls",
            "_model_module_version": "1.5.0",
            "_model_name": "HTMLModel",
            "_view_count": null,
            "_view_module": "@jupyter-widgets/controls",
            "_view_module_version": "1.5.0",
            "_view_name": "HTMLView",
            "description": "",
            "description_tooltip": null,
            "layout": "IPY_MODEL_2ef775ba030d4a83baa15919404107b3",
            "placeholder": "​",
            "style": "IPY_MODEL_ed2584c426b24ec6a75cc2a55117e2a8",
            "value": "model-00002-of-00002.safetensors: 100%"
          }
        },
        "d8242eae4e5e4696b0da9aef089f92be": {
          "model_module": "@jupyter-widgets/controls",
          "model_name": "FloatProgressModel",
          "model_module_version": "1.5.0",
          "state": {
            "_dom_classes": [],
            "_model_module": "@jupyter-widgets/controls",
            "_model_module_version": "1.5.0",
            "_model_name": "FloatProgressModel",
            "_view_count": null,
            "_view_module": "@jupyter-widgets/controls",
            "_view_module_version": "1.5.0",
            "_view_name": "ProgressView",
            "bar_style": "success",
            "description": "",
            "description_tooltip": null,
            "layout": "IPY_MODEL_87a189a072f047f897f4e30cbd76c953",
            "max": 4540516344,
            "min": 0,
            "orientation": "horizontal",
            "style": "IPY_MODEL_7470e659d2514161bc69b3d372da19f4",
            "value": 4540516344
          }
        },
        "b8355822aece41318c2ce8c72778f731": {
          "model_module": "@jupyter-widgets/controls",
          "model_name": "HTMLModel",
          "model_module_version": "1.5.0",
          "state": {
            "_dom_classes": [],
            "_model_module": "@jupyter-widgets/controls",
            "_model_module_version": "1.5.0",
            "_model_name": "HTMLModel",
            "_view_count": null,
            "_view_module": "@jupyter-widgets/controls",
            "_view_module_version": "1.5.0",
            "_view_name": "HTMLView",
            "description": "",
            "description_tooltip": null,
            "layout": "IPY_MODEL_3c8976dd406e4dffafc09e28bc989e8e",
            "placeholder": "​",
            "style": "IPY_MODEL_8a05479535414f83a8f711d51dd8f858",
            "value": " 4.54G/4.54G [00:30&lt;00:00, 177MB/s]"
          }
        },
        "734c4a63af9f41118e5d0f39cc1771db": {
          "model_module": "@jupyter-widgets/base",
          "model_name": "LayoutModel",
          "model_module_version": "1.2.0",
          "state": {
            "_model_module": "@jupyter-widgets/base",
            "_model_module_version": "1.2.0",
            "_model_name": "LayoutModel",
            "_view_count": null,
            "_view_module": "@jupyter-widgets/base",
            "_view_module_version": "1.2.0",
            "_view_name": "LayoutView",
            "align_content": null,
            "align_items": null,
            "align_self": null,
            "border": null,
            "bottom": null,
            "display": null,
            "flex": null,
            "flex_flow": null,
            "grid_area": null,
            "grid_auto_columns": null,
            "grid_auto_flow": null,
            "grid_auto_rows": null,
            "grid_column": null,
            "grid_gap": null,
            "grid_row": null,
            "grid_template_areas": null,
            "grid_template_columns": null,
            "grid_template_rows": null,
            "height": null,
            "justify_content": null,
            "justify_items": null,
            "left": null,
            "margin": null,
            "max_height": null,
            "max_width": null,
            "min_height": null,
            "min_width": null,
            "object_fit": null,
            "object_position": null,
            "order": null,
            "overflow": null,
            "overflow_x": null,
            "overflow_y": null,
            "padding": null,
            "right": null,
            "top": null,
            "visibility": null,
            "width": null
          }
        },
        "2ef775ba030d4a83baa15919404107b3": {
          "model_module": "@jupyter-widgets/base",
          "model_name": "LayoutModel",
          "model_module_version": "1.2.0",
          "state": {
            "_model_module": "@jupyter-widgets/base",
            "_model_module_version": "1.2.0",
            "_model_name": "LayoutModel",
            "_view_count": null,
            "_view_module": "@jupyter-widgets/base",
            "_view_module_version": "1.2.0",
            "_view_name": "LayoutView",
            "align_content": null,
            "align_items": null,
            "align_self": null,
            "border": null,
            "bottom": null,
            "display": null,
            "flex": null,
            "flex_flow": null,
            "grid_area": null,
            "grid_auto_columns": null,
            "grid_auto_flow": null,
            "grid_auto_rows": null,
            "grid_column": null,
            "grid_gap": null,
            "grid_row": null,
            "grid_template_areas": null,
            "grid_template_columns": null,
            "grid_template_rows": null,
            "height": null,
            "justify_content": null,
            "justify_items": null,
            "left": null,
            "margin": null,
            "max_height": null,
            "max_width": null,
            "min_height": null,
            "min_width": null,
            "object_fit": null,
            "object_position": null,
            "order": null,
            "overflow": null,
            "overflow_x": null,
            "overflow_y": null,
            "padding": null,
            "right": null,
            "top": null,
            "visibility": null,
            "width": null
          }
        },
        "ed2584c426b24ec6a75cc2a55117e2a8": {
          "model_module": "@jupyter-widgets/controls",
          "model_name": "DescriptionStyleModel",
          "model_module_version": "1.5.0",
          "state": {
            "_model_module": "@jupyter-widgets/controls",
            "_model_module_version": "1.5.0",
            "_model_name": "DescriptionStyleModel",
            "_view_count": null,
            "_view_module": "@jupyter-widgets/base",
            "_view_module_version": "1.2.0",
            "_view_name": "StyleView",
            "description_width": ""
          }
        },
        "87a189a072f047f897f4e30cbd76c953": {
          "model_module": "@jupyter-widgets/base",
          "model_name": "LayoutModel",
          "model_module_version": "1.2.0",
          "state": {
            "_model_module": "@jupyter-widgets/base",
            "_model_module_version": "1.2.0",
            "_model_name": "LayoutModel",
            "_view_count": null,
            "_view_module": "@jupyter-widgets/base",
            "_view_module_version": "1.2.0",
            "_view_name": "LayoutView",
            "align_content": null,
            "align_items": null,
            "align_self": null,
            "border": null,
            "bottom": null,
            "display": null,
            "flex": null,
            "flex_flow": null,
            "grid_area": null,
            "grid_auto_columns": null,
            "grid_auto_flow": null,
            "grid_auto_rows": null,
            "grid_column": null,
            "grid_gap": null,
            "grid_row": null,
            "grid_template_areas": null,
            "grid_template_columns": null,
            "grid_template_rows": null,
            "height": null,
            "justify_content": null,
            "justify_items": null,
            "left": null,
            "margin": null,
            "max_height": null,
            "max_width": null,
            "min_height": null,
            "min_width": null,
            "object_fit": null,
            "object_position": null,
            "order": null,
            "overflow": null,
            "overflow_x": null,
            "overflow_y": null,
            "padding": null,
            "right": null,
            "top": null,
            "visibility": null,
            "width": null
          }
        },
        "7470e659d2514161bc69b3d372da19f4": {
          "model_module": "@jupyter-widgets/controls",
          "model_name": "ProgressStyleModel",
          "model_module_version": "1.5.0",
          "state": {
            "_model_module": "@jupyter-widgets/controls",
            "_model_module_version": "1.5.0",
            "_model_name": "ProgressStyleModel",
            "_view_count": null,
            "_view_module": "@jupyter-widgets/base",
            "_view_module_version": "1.2.0",
            "_view_name": "StyleView",
            "bar_color": null,
            "description_width": ""
          }
        },
        "3c8976dd406e4dffafc09e28bc989e8e": {
          "model_module": "@jupyter-widgets/base",
          "model_name": "LayoutModel",
          "model_module_version": "1.2.0",
          "state": {
            "_model_module": "@jupyter-widgets/base",
            "_model_module_version": "1.2.0",
            "_model_name": "LayoutModel",
            "_view_count": null,
            "_view_module": "@jupyter-widgets/base",
            "_view_module_version": "1.2.0",
            "_view_name": "LayoutView",
            "align_content": null,
            "align_items": null,
            "align_self": null,
            "border": null,
            "bottom": null,
            "display": null,
            "flex": null,
            "flex_flow": null,
            "grid_area": null,
            "grid_auto_columns": null,
            "grid_auto_flow": null,
            "grid_auto_rows": null,
            "grid_column": null,
            "grid_gap": null,
            "grid_row": null,
            "grid_template_areas": null,
            "grid_template_columns": null,
            "grid_template_rows": null,
            "height": null,
            "justify_content": null,
            "justify_items": null,
            "left": null,
            "margin": null,
            "max_height": null,
            "max_width": null,
            "min_height": null,
            "min_width": null,
            "object_fit": null,
            "object_position": null,
            "order": null,
            "overflow": null,
            "overflow_x": null,
            "overflow_y": null,
            "padding": null,
            "right": null,
            "top": null,
            "visibility": null,
            "width": null
          }
        },
        "8a05479535414f83a8f711d51dd8f858": {
          "model_module": "@jupyter-widgets/controls",
          "model_name": "DescriptionStyleModel",
          "model_module_version": "1.5.0",
          "state": {
            "_model_module": "@jupyter-widgets/controls",
            "_model_module_version": "1.5.0",
            "_model_name": "DescriptionStyleModel",
            "_view_count": null,
            "_view_module": "@jupyter-widgets/base",
            "_view_module_version": "1.2.0",
            "_view_name": "StyleView",
            "description_width": ""
          }
        },
        "313ed18db8524f758684dc269d972f27": {
          "model_module": "@jupyter-widgets/controls",
          "model_name": "HBoxModel",
          "model_module_version": "1.5.0",
          "state": {
            "_dom_classes": [],
            "_model_module": "@jupyter-widgets/controls",
            "_model_module_version": "1.5.0",
            "_model_name": "HBoxModel",
            "_view_count": null,
            "_view_module": "@jupyter-widgets/controls",
            "_view_module_version": "1.5.0",
            "_view_name": "HBoxView",
            "box_style": "",
            "children": [
              "IPY_MODEL_1de66c8e0f8640a9b463d38f7d61251f",
              "IPY_MODEL_56e60a949e064970988d559173ffcd53",
              "IPY_MODEL_4f84d33bac5248449f0a53956436bae5"
            ],
            "layout": "IPY_MODEL_f553cf77de1f40b4b85b312e4cc3f3e0"
          }
        },
        "1de66c8e0f8640a9b463d38f7d61251f": {
          "model_module": "@jupyter-widgets/controls",
          "model_name": "HTMLModel",
          "model_module_version": "1.5.0",
          "state": {
            "_dom_classes": [],
            "_model_module": "@jupyter-widgets/controls",
            "_model_module_version": "1.5.0",
            "_model_name": "HTMLModel",
            "_view_count": null,
            "_view_module": "@jupyter-widgets/controls",
            "_view_module_version": "1.5.0",
            "_view_name": "HTMLView",
            "description": "",
            "description_tooltip": null,
            "layout": "IPY_MODEL_82fa2628ece54fcc833c5f6d0bd0b618",
            "placeholder": "​",
            "style": "IPY_MODEL_2535c40c87dd4d3cbef2eef0a01ece96",
            "value": "Loading checkpoint shards: 100%"
          }
        },
        "56e60a949e064970988d559173ffcd53": {
          "model_module": "@jupyter-widgets/controls",
          "model_name": "FloatProgressModel",
          "model_module_version": "1.5.0",
          "state": {
            "_dom_classes": [],
            "_model_module": "@jupyter-widgets/controls",
            "_model_module_version": "1.5.0",
            "_model_name": "FloatProgressModel",
            "_view_count": null,
            "_view_module": "@jupyter-widgets/controls",
            "_view_module_version": "1.5.0",
            "_view_name": "ProgressView",
            "bar_style": "success",
            "description": "",
            "description_tooltip": null,
            "layout": "IPY_MODEL_b9535ff26310429494f4a20824427585",
            "max": 2,
            "min": 0,
            "orientation": "horizontal",
            "style": "IPY_MODEL_d6c8bceaa4eb435187adfd98fc50410e",
            "value": 2
          }
        },
        "4f84d33bac5248449f0a53956436bae5": {
          "model_module": "@jupyter-widgets/controls",
          "model_name": "HTMLModel",
          "model_module_version": "1.5.0",
          "state": {
            "_dom_classes": [],
            "_model_module": "@jupyter-widgets/controls",
            "_model_module_version": "1.5.0",
            "_model_name": "HTMLModel",
            "_view_count": null,
            "_view_module": "@jupyter-widgets/controls",
            "_view_module_version": "1.5.0",
            "_view_name": "HTMLView",
            "description": "",
            "description_tooltip": null,
            "layout": "IPY_MODEL_878499b2248e4a3388d22d386c1d39a3",
            "placeholder": "​",
            "style": "IPY_MODEL_dce0a14c4b9c4376b2ff274e8ba05e31",
            "value": " 2/2 [01:08&lt;00:00, 31.92s/it]"
          }
        },
        "f553cf77de1f40b4b85b312e4cc3f3e0": {
          "model_module": "@jupyter-widgets/base",
          "model_name": "LayoutModel",
          "model_module_version": "1.2.0",
          "state": {
            "_model_module": "@jupyter-widgets/base",
            "_model_module_version": "1.2.0",
            "_model_name": "LayoutModel",
            "_view_count": null,
            "_view_module": "@jupyter-widgets/base",
            "_view_module_version": "1.2.0",
            "_view_name": "LayoutView",
            "align_content": null,
            "align_items": null,
            "align_self": null,
            "border": null,
            "bottom": null,
            "display": null,
            "flex": null,
            "flex_flow": null,
            "grid_area": null,
            "grid_auto_columns": null,
            "grid_auto_flow": null,
            "grid_auto_rows": null,
            "grid_column": null,
            "grid_gap": null,
            "grid_row": null,
            "grid_template_areas": null,
            "grid_template_columns": null,
            "grid_template_rows": null,
            "height": null,
            "justify_content": null,
            "justify_items": null,
            "left": null,
            "margin": null,
            "max_height": null,
            "max_width": null,
            "min_height": null,
            "min_width": null,
            "object_fit": null,
            "object_position": null,
            "order": null,
            "overflow": null,
            "overflow_x": null,
            "overflow_y": null,
            "padding": null,
            "right": null,
            "top": null,
            "visibility": null,
            "width": null
          }
        },
        "82fa2628ece54fcc833c5f6d0bd0b618": {
          "model_module": "@jupyter-widgets/base",
          "model_name": "LayoutModel",
          "model_module_version": "1.2.0",
          "state": {
            "_model_module": "@jupyter-widgets/base",
            "_model_module_version": "1.2.0",
            "_model_name": "LayoutModel",
            "_view_count": null,
            "_view_module": "@jupyter-widgets/base",
            "_view_module_version": "1.2.0",
            "_view_name": "LayoutView",
            "align_content": null,
            "align_items": null,
            "align_self": null,
            "border": null,
            "bottom": null,
            "display": null,
            "flex": null,
            "flex_flow": null,
            "grid_area": null,
            "grid_auto_columns": null,
            "grid_auto_flow": null,
            "grid_auto_rows": null,
            "grid_column": null,
            "grid_gap": null,
            "grid_row": null,
            "grid_template_areas": null,
            "grid_template_columns": null,
            "grid_template_rows": null,
            "height": null,
            "justify_content": null,
            "justify_items": null,
            "left": null,
            "margin": null,
            "max_height": null,
            "max_width": null,
            "min_height": null,
            "min_width": null,
            "object_fit": null,
            "object_position": null,
            "order": null,
            "overflow": null,
            "overflow_x": null,
            "overflow_y": null,
            "padding": null,
            "right": null,
            "top": null,
            "visibility": null,
            "width": null
          }
        },
        "2535c40c87dd4d3cbef2eef0a01ece96": {
          "model_module": "@jupyter-widgets/controls",
          "model_name": "DescriptionStyleModel",
          "model_module_version": "1.5.0",
          "state": {
            "_model_module": "@jupyter-widgets/controls",
            "_model_module_version": "1.5.0",
            "_model_name": "DescriptionStyleModel",
            "_view_count": null,
            "_view_module": "@jupyter-widgets/base",
            "_view_module_version": "1.2.0",
            "_view_name": "StyleView",
            "description_width": ""
          }
        },
        "b9535ff26310429494f4a20824427585": {
          "model_module": "@jupyter-widgets/base",
          "model_name": "LayoutModel",
          "model_module_version": "1.2.0",
          "state": {
            "_model_module": "@jupyter-widgets/base",
            "_model_module_version": "1.2.0",
            "_model_name": "LayoutModel",
            "_view_count": null,
            "_view_module": "@jupyter-widgets/base",
            "_view_module_version": "1.2.0",
            "_view_name": "LayoutView",
            "align_content": null,
            "align_items": null,
            "align_self": null,
            "border": null,
            "bottom": null,
            "display": null,
            "flex": null,
            "flex_flow": null,
            "grid_area": null,
            "grid_auto_columns": null,
            "grid_auto_flow": null,
            "grid_auto_rows": null,
            "grid_column": null,
            "grid_gap": null,
            "grid_row": null,
            "grid_template_areas": null,
            "grid_template_columns": null,
            "grid_template_rows": null,
            "height": null,
            "justify_content": null,
            "justify_items": null,
            "left": null,
            "margin": null,
            "max_height": null,
            "max_width": null,
            "min_height": null,
            "min_width": null,
            "object_fit": null,
            "object_position": null,
            "order": null,
            "overflow": null,
            "overflow_x": null,
            "overflow_y": null,
            "padding": null,
            "right": null,
            "top": null,
            "visibility": null,
            "width": null
          }
        },
        "d6c8bceaa4eb435187adfd98fc50410e": {
          "model_module": "@jupyter-widgets/controls",
          "model_name": "ProgressStyleModel",
          "model_module_version": "1.5.0",
          "state": {
            "_model_module": "@jupyter-widgets/controls",
            "_model_module_version": "1.5.0",
            "_model_name": "ProgressStyleModel",
            "_view_count": null,
            "_view_module": "@jupyter-widgets/base",
            "_view_module_version": "1.2.0",
            "_view_name": "StyleView",
            "bar_color": null,
            "description_width": ""
          }
        },
        "878499b2248e4a3388d22d386c1d39a3": {
          "model_module": "@jupyter-widgets/base",
          "model_name": "LayoutModel",
          "model_module_version": "1.2.0",
          "state": {
            "_model_module": "@jupyter-widgets/base",
            "_model_module_version": "1.2.0",
            "_model_name": "LayoutModel",
            "_view_count": null,
            "_view_module": "@jupyter-widgets/base",
            "_view_module_version": "1.2.0",
            "_view_name": "LayoutView",
            "align_content": null,
            "align_items": null,
            "align_self": null,
            "border": null,
            "bottom": null,
            "display": null,
            "flex": null,
            "flex_flow": null,
            "grid_area": null,
            "grid_auto_columns": null,
            "grid_auto_flow": null,
            "grid_auto_rows": null,
            "grid_column": null,
            "grid_gap": null,
            "grid_row": null,
            "grid_template_areas": null,
            "grid_template_columns": null,
            "grid_template_rows": null,
            "height": null,
            "justify_content": null,
            "justify_items": null,
            "left": null,
            "margin": null,
            "max_height": null,
            "max_width": null,
            "min_height": null,
            "min_width": null,
            "object_fit": null,
            "object_position": null,
            "order": null,
            "overflow": null,
            "overflow_x": null,
            "overflow_y": null,
            "padding": null,
            "right": null,
            "top": null,
            "visibility": null,
            "width": null
          }
        },
        "dce0a14c4b9c4376b2ff274e8ba05e31": {
          "model_module": "@jupyter-widgets/controls",
          "model_name": "DescriptionStyleModel",
          "model_module_version": "1.5.0",
          "state": {
            "_model_module": "@jupyter-widgets/controls",
            "_model_module_version": "1.5.0",
            "_model_name": "DescriptionStyleModel",
            "_view_count": null,
            "_view_module": "@jupyter-widgets/base",
            "_view_module_version": "1.2.0",
            "_view_name": "StyleView",
            "description_width": ""
          }
        },
        "77da32b267904c66871ec8c635aff30f": {
          "model_module": "@jupyter-widgets/controls",
          "model_name": "HBoxModel",
          "model_module_version": "1.5.0",
          "state": {
            "_dom_classes": [],
            "_model_module": "@jupyter-widgets/controls",
            "_model_module_version": "1.5.0",
            "_model_name": "HBoxModel",
            "_view_count": null,
            "_view_module": "@jupyter-widgets/controls",
            "_view_module_version": "1.5.0",
            "_view_name": "HBoxView",
            "box_style": "",
            "children": [
              "IPY_MODEL_3ab09913b47e461fa4251400ff1ac9e3",
              "IPY_MODEL_28b7602c134b4341acd59534b3c5804f",
              "IPY_MODEL_de64947ec47d41d3971b057608ddc750"
            ],
            "layout": "IPY_MODEL_5cfe358081b64418a61bcba108441099"
          }
        },
        "3ab09913b47e461fa4251400ff1ac9e3": {
          "model_module": "@jupyter-widgets/controls",
          "model_name": "HTMLModel",
          "model_module_version": "1.5.0",
          "state": {
            "_dom_classes": [],
            "_model_module": "@jupyter-widgets/controls",
            "_model_module_version": "1.5.0",
            "_model_name": "HTMLModel",
            "_view_count": null,
            "_view_module": "@jupyter-widgets/controls",
            "_view_module_version": "1.5.0",
            "_view_name": "HTMLView",
            "description": "",
            "description_tooltip": null,
            "layout": "IPY_MODEL_8552b296e31645e4907e5ad7ac939f98",
            "placeholder": "​",
            "style": "IPY_MODEL_7eef241ba6b74f858725b89b3cd64fe1",
            "value": "generation_config.json: 100%"
          }
        },
        "28b7602c134b4341acd59534b3c5804f": {
          "model_module": "@jupyter-widgets/controls",
          "model_name": "FloatProgressModel",
          "model_module_version": "1.5.0",
          "state": {
            "_dom_classes": [],
            "_model_module": "@jupyter-widgets/controls",
            "_model_module_version": "1.5.0",
            "_model_name": "FloatProgressModel",
            "_view_count": null,
            "_view_module": "@jupyter-widgets/controls",
            "_view_module_version": "1.5.0",
            "_view_name": "ProgressView",
            "bar_style": "success",
            "description": "",
            "description_tooltip": null,
            "layout": "IPY_MODEL_107d1603a7934a94a68667dd14269c4d",
            "max": 116,
            "min": 0,
            "orientation": "horizontal",
            "style": "IPY_MODEL_a2cb7fa24c0849609748763678c2f10a",
            "value": 116
          }
        },
        "de64947ec47d41d3971b057608ddc750": {
          "model_module": "@jupyter-widgets/controls",
          "model_name": "HTMLModel",
          "model_module_version": "1.5.0",
          "state": {
            "_dom_classes": [],
            "_model_module": "@jupyter-widgets/controls",
            "_model_module_version": "1.5.0",
            "_model_name": "HTMLModel",
            "_view_count": null,
            "_view_module": "@jupyter-widgets/controls",
            "_view_module_version": "1.5.0",
            "_view_name": "HTMLView",
            "description": "",
            "description_tooltip": null,
            "layout": "IPY_MODEL_24ed32e3c6c84d5082b000297fe89ca5",
            "placeholder": "​",
            "style": "IPY_MODEL_bd6caaac3f2d4a5c9b6ee9f69d79d744",
            "value": " 116/116 [00:00&lt;00:00, 8.11kB/s]"
          }
        },
        "5cfe358081b64418a61bcba108441099": {
          "model_module": "@jupyter-widgets/base",
          "model_name": "LayoutModel",
          "model_module_version": "1.2.0",
          "state": {
            "_model_module": "@jupyter-widgets/base",
            "_model_module_version": "1.2.0",
            "_model_name": "LayoutModel",
            "_view_count": null,
            "_view_module": "@jupyter-widgets/base",
            "_view_module_version": "1.2.0",
            "_view_name": "LayoutView",
            "align_content": null,
            "align_items": null,
            "align_self": null,
            "border": null,
            "bottom": null,
            "display": null,
            "flex": null,
            "flex_flow": null,
            "grid_area": null,
            "grid_auto_columns": null,
            "grid_auto_flow": null,
            "grid_auto_rows": null,
            "grid_column": null,
            "grid_gap": null,
            "grid_row": null,
            "grid_template_areas": null,
            "grid_template_columns": null,
            "grid_template_rows": null,
            "height": null,
            "justify_content": null,
            "justify_items": null,
            "left": null,
            "margin": null,
            "max_height": null,
            "max_width": null,
            "min_height": null,
            "min_width": null,
            "object_fit": null,
            "object_position": null,
            "order": null,
            "overflow": null,
            "overflow_x": null,
            "overflow_y": null,
            "padding": null,
            "right": null,
            "top": null,
            "visibility": null,
            "width": null
          }
        },
        "8552b296e31645e4907e5ad7ac939f98": {
          "model_module": "@jupyter-widgets/base",
          "model_name": "LayoutModel",
          "model_module_version": "1.2.0",
          "state": {
            "_model_module": "@jupyter-widgets/base",
            "_model_module_version": "1.2.0",
            "_model_name": "LayoutModel",
            "_view_count": null,
            "_view_module": "@jupyter-widgets/base",
            "_view_module_version": "1.2.0",
            "_view_name": "LayoutView",
            "align_content": null,
            "align_items": null,
            "align_self": null,
            "border": null,
            "bottom": null,
            "display": null,
            "flex": null,
            "flex_flow": null,
            "grid_area": null,
            "grid_auto_columns": null,
            "grid_auto_flow": null,
            "grid_auto_rows": null,
            "grid_column": null,
            "grid_gap": null,
            "grid_row": null,
            "grid_template_areas": null,
            "grid_template_columns": null,
            "grid_template_rows": null,
            "height": null,
            "justify_content": null,
            "justify_items": null,
            "left": null,
            "margin": null,
            "max_height": null,
            "max_width": null,
            "min_height": null,
            "min_width": null,
            "object_fit": null,
            "object_position": null,
            "order": null,
            "overflow": null,
            "overflow_x": null,
            "overflow_y": null,
            "padding": null,
            "right": null,
            "top": null,
            "visibility": null,
            "width": null
          }
        },
        "7eef241ba6b74f858725b89b3cd64fe1": {
          "model_module": "@jupyter-widgets/controls",
          "model_name": "DescriptionStyleModel",
          "model_module_version": "1.5.0",
          "state": {
            "_model_module": "@jupyter-widgets/controls",
            "_model_module_version": "1.5.0",
            "_model_name": "DescriptionStyleModel",
            "_view_count": null,
            "_view_module": "@jupyter-widgets/base",
            "_view_module_version": "1.2.0",
            "_view_name": "StyleView",
            "description_width": ""
          }
        },
        "107d1603a7934a94a68667dd14269c4d": {
          "model_module": "@jupyter-widgets/base",
          "model_name": "LayoutModel",
          "model_module_version": "1.2.0",
          "state": {
            "_model_module": "@jupyter-widgets/base",
            "_model_module_version": "1.2.0",
            "_model_name": "LayoutModel",
            "_view_count": null,
            "_view_module": "@jupyter-widgets/base",
            "_view_module_version": "1.2.0",
            "_view_name": "LayoutView",
            "align_content": null,
            "align_items": null,
            "align_self": null,
            "border": null,
            "bottom": null,
            "display": null,
            "flex": null,
            "flex_flow": null,
            "grid_area": null,
            "grid_auto_columns": null,
            "grid_auto_flow": null,
            "grid_auto_rows": null,
            "grid_column": null,
            "grid_gap": null,
            "grid_row": null,
            "grid_template_areas": null,
            "grid_template_columns": null,
            "grid_template_rows": null,
            "height": null,
            "justify_content": null,
            "justify_items": null,
            "left": null,
            "margin": null,
            "max_height": null,
            "max_width": null,
            "min_height": null,
            "min_width": null,
            "object_fit": null,
            "object_position": null,
            "order": null,
            "overflow": null,
            "overflow_x": null,
            "overflow_y": null,
            "padding": null,
            "right": null,
            "top": null,
            "visibility": null,
            "width": null
          }
        },
        "a2cb7fa24c0849609748763678c2f10a": {
          "model_module": "@jupyter-widgets/controls",
          "model_name": "ProgressStyleModel",
          "model_module_version": "1.5.0",
          "state": {
            "_model_module": "@jupyter-widgets/controls",
            "_model_module_version": "1.5.0",
            "_model_name": "ProgressStyleModel",
            "_view_count": null,
            "_view_module": "@jupyter-widgets/base",
            "_view_module_version": "1.2.0",
            "_view_name": "StyleView",
            "bar_color": null,
            "description_width": ""
          }
        },
        "24ed32e3c6c84d5082b000297fe89ca5": {
          "model_module": "@jupyter-widgets/base",
          "model_name": "LayoutModel",
          "model_module_version": "1.2.0",
          "state": {
            "_model_module": "@jupyter-widgets/base",
            "_model_module_version": "1.2.0",
            "_model_name": "LayoutModel",
            "_view_count": null,
            "_view_module": "@jupyter-widgets/base",
            "_view_module_version": "1.2.0",
            "_view_name": "LayoutView",
            "align_content": null,
            "align_items": null,
            "align_self": null,
            "border": null,
            "bottom": null,
            "display": null,
            "flex": null,
            "flex_flow": null,
            "grid_area": null,
            "grid_auto_columns": null,
            "grid_auto_flow": null,
            "grid_auto_rows": null,
            "grid_column": null,
            "grid_gap": null,
            "grid_row": null,
            "grid_template_areas": null,
            "grid_template_columns": null,
            "grid_template_rows": null,
            "height": null,
            "justify_content": null,
            "justify_items": null,
            "left": null,
            "margin": null,
            "max_height": null,
            "max_width": null,
            "min_height": null,
            "min_width": null,
            "object_fit": null,
            "object_position": null,
            "order": null,
            "overflow": null,
            "overflow_x": null,
            "overflow_y": null,
            "padding": null,
            "right": null,
            "top": null,
            "visibility": null,
            "width": null
          }
        },
        "bd6caaac3f2d4a5c9b6ee9f69d79d744": {
          "model_module": "@jupyter-widgets/controls",
          "model_name": "DescriptionStyleModel",
          "model_module_version": "1.5.0",
          "state": {
            "_model_module": "@jupyter-widgets/controls",
            "_model_module_version": "1.5.0",
            "_model_name": "DescriptionStyleModel",
            "_view_count": null,
            "_view_module": "@jupyter-widgets/base",
            "_view_module_version": "1.2.0",
            "_view_name": "StyleView",
            "description_width": ""
          }
        }
      }
    }
  },
  "cells": [
    {
      "cell_type": "markdown",
      "source": [
        "# Our primary task is to develop a classification model or generative AI application to distinguish between legitimate (non-spam) and spam messages.\n",
        "\n",
        "## I propose three approaches to develop our spam detection model.\n",
        "   1. Traditional machine learning classification models\n",
        "       *   Logistic Regression\n",
        "       *   Random Forest\n",
        "       *   XGBoost\n",
        "       *   Stacked Classifier\n",
        "\n",
        "   2. Deep Learning technique\n",
        "       *   RNNs : LSTM model\n",
        "    \n",
        "   3. Large Language Models\n",
        "       *   RoBERTa : BERT-like LLM\n",
        "       *   MistralAI : GenAI LLM 7B parameters\n",
        "\n",
        "## In this notebook, I will explore the Large Language Model approach. In previous notebook we discussed finetuned RoBERTa model. In this notebook we will explore plain and finetuned MistralAI LLMs to develop our Spam detection model. I have used NVIDIA A100 GPU runtime for this notebook.\n",
        "\n",
        "In case of plain LLM, we will just design a prompt to detect spam message. In case of finetuned model, we will use Reinforcement QLoRA finetuning to train our model on the dataset."
      ],
      "metadata": {
        "id": "GTfLxUShBwtB"
      }
    },
    {
      "cell_type": "markdown",
      "source": [
        "### Plain MistralAI LLM"
      ],
      "metadata": {
        "id": "JPS2dXy_K6GA"
      }
    },
    {
      "cell_type": "code",
      "source": [
        "#Install necessary libraries and packages\n",
        "!pip -q install langchain tiktoken chromadb pypdf transformers InstructorEmbedding\n",
        "!pip -q install accelerate bitsandbytes"
      ],
      "metadata": {
        "colab": {
          "base_uri": "https://localhost:8080/"
        },
        "id": "v0_5za5rKmpP",
        "outputId": "906a0d83-7f3a-4c87-8f7a-53a5f0f18434"
      },
      "execution_count": null,
      "outputs": [
        {
          "output_type": "stream",
          "name": "stdout",
          "text": [
            "\u001b[2K     \u001b[90m━━━━━━━━━━━━━━━━━━━━━━━━━━━━━━━━━━━━━━━━\u001b[0m \u001b[32m803.1/803.1 kB\u001b[0m \u001b[31m7.3 MB/s\u001b[0m eta \u001b[36m0:00:00\u001b[0m\n",
            "\u001b[2K     \u001b[90m━━━━━━━━━━━━━━━━━━━━━━━━━━━━━━━━━━━━━━━━\u001b[0m \u001b[32m2.0/2.0 MB\u001b[0m \u001b[31m19.6 MB/s\u001b[0m eta \u001b[36m0:00:00\u001b[0m\n",
            "\u001b[2K     \u001b[90m━━━━━━━━━━━━━━━━━━━━━━━━━━━━━━━━━━━━━━━━\u001b[0m \u001b[32m508.6/508.6 kB\u001b[0m \u001b[31m14.5 MB/s\u001b[0m eta \u001b[36m0:00:00\u001b[0m\n",
            "\u001b[2K     \u001b[90m━━━━━━━━━━━━━━━━━━━━━━━━━━━━━━━━━━━━━━━━\u001b[0m \u001b[32m278.2/278.2 kB\u001b[0m \u001b[31m12.3 MB/s\u001b[0m eta \u001b[36m0:00:00\u001b[0m\n",
            "\u001b[2K     \u001b[90m━━━━━━━━━━━━━━━━━━━━━━━━━━━━━━━━━━━━━━━━\u001b[0m \u001b[32m1.5/1.5 MB\u001b[0m \u001b[31m22.2 MB/s\u001b[0m eta \u001b[36m0:00:00\u001b[0m\n",
            "\u001b[2K     \u001b[90m━━━━━━━━━━━━━━━━━━━━━━━━━━━━━━━━━━━━━━━━\u001b[0m \u001b[32m205.7/205.7 kB\u001b[0m \u001b[31m13.8 MB/s\u001b[0m eta \u001b[36m0:00:00\u001b[0m\n",
            "\u001b[2K     \u001b[90m━━━━━━━━━━━━━━━━━━━━━━━━━━━━━━━━━━━━━━━━\u001b[0m \u001b[32m46.7/46.7 kB\u001b[0m \u001b[31m3.2 MB/s\u001b[0m eta \u001b[36m0:00:00\u001b[0m\n",
            "\u001b[2K     \u001b[90m━━━━━━━━━━━━━━━━━━━━━━━━━━━━━━━━━━━━━━━━\u001b[0m \u001b[32m2.4/2.4 MB\u001b[0m \u001b[31m33.9 MB/s\u001b[0m eta \u001b[36m0:00:00\u001b[0m\n",
            "\u001b[2K     \u001b[90m━━━━━━━━━━━━━━━━━━━━━━━━━━━━━━━━━━━━━━━━\u001b[0m \u001b[32m92.0/92.0 kB\u001b[0m \u001b[31m3.0 MB/s\u001b[0m eta \u001b[36m0:00:00\u001b[0m\n",
            "\u001b[2K     \u001b[90m━━━━━━━━━━━━━━━━━━━━━━━━━━━━━━━━━━━━━━━━\u001b[0m \u001b[32m60.3/60.3 kB\u001b[0m \u001b[31m3.1 MB/s\u001b[0m eta \u001b[36m0:00:00\u001b[0m\n",
            "\u001b[2K     \u001b[90m━━━━━━━━━━━━━━━━━━━━━━━━━━━━━━━━━━━━━━━━\u001b[0m \u001b[32m5.4/5.4 MB\u001b[0m \u001b[31m20.1 MB/s\u001b[0m eta \u001b[36m0:00:00\u001b[0m\n",
            "\u001b[2K     \u001b[90m━━━━━━━━━━━━━━━━━━━━━━━━━━━━━━━━━━━━━━━━\u001b[0m \u001b[32m6.4/6.4 MB\u001b[0m \u001b[31m31.7 MB/s\u001b[0m eta \u001b[36m0:00:00\u001b[0m\n",
            "\u001b[2K     \u001b[90m━━━━━━━━━━━━━━━━━━━━━━━━━━━━━━━━━━━━━━━━\u001b[0m \u001b[32m57.9/57.9 kB\u001b[0m \u001b[31m4.0 MB/s\u001b[0m eta \u001b[36m0:00:00\u001b[0m\n",
            "\u001b[2K     \u001b[90m━━━━━━━━━━━━━━━━━━━━━━━━━━━━━━━━━━━━━━━━\u001b[0m \u001b[32m105.6/105.6 kB\u001b[0m \u001b[31m6.2 MB/s\u001b[0m eta \u001b[36m0:00:00\u001b[0m\n",
            "\u001b[2K     \u001b[90m━━━━━━━━━━━━━━━━━━━━━━━━━━━━━━━━━━━━━━━━\u001b[0m \u001b[32m67.3/67.3 kB\u001b[0m \u001b[31m3.5 MB/s\u001b[0m eta \u001b[36m0:00:00\u001b[0m\n",
            "\u001b[?25h  Installing build dependencies ... \u001b[?25l\u001b[?25hdone\n",
            "  Getting requirements to build wheel ... \u001b[?25l\u001b[?25hdone\n",
            "  Preparing metadata (pyproject.toml) ... \u001b[?25l\u001b[?25hdone\n",
            "\u001b[2K     \u001b[90m━━━━━━━━━━━━━━━━━━━━━━━━━━━━━━━━━━━━━━━━\u001b[0m \u001b[32m698.9/698.9 kB\u001b[0m \u001b[31m28.2 MB/s\u001b[0m eta \u001b[36m0:00:00\u001b[0m\n",
            "\u001b[2K     \u001b[90m━━━━━━━━━━━━━━━━━━━━━━━━━━━━━━━━━━━━━━━━\u001b[0m \u001b[32m1.6/1.6 MB\u001b[0m \u001b[31m24.5 MB/s\u001b[0m eta \u001b[36m0:00:00\u001b[0m\n",
            "\u001b[2K     \u001b[90m━━━━━━━━━━━━━━━━━━━━━━━━━━━━━━━━━━━━━━━━\u001b[0m \u001b[32m72.6/72.6 kB\u001b[0m \u001b[31m8.7 MB/s\u001b[0m eta \u001b[36m0:00:00\u001b[0m\n",
            "\u001b[2K     \u001b[90m━━━━━━━━━━━━━━━━━━━━━━━━━━━━━━━━━━━━━━━━\u001b[0m \u001b[32m49.4/49.4 kB\u001b[0m \u001b[31m4.1 MB/s\u001b[0m eta \u001b[36m0:00:00\u001b[0m\n",
            "\u001b[2K     \u001b[90m━━━━━━━━━━━━━━━━━━━━━━━━━━━━━━━━━━━━━━━━\u001b[0m \u001b[32m70.0/70.0 kB\u001b[0m \u001b[31m6.2 MB/s\u001b[0m eta \u001b[36m0:00:00\u001b[0m\n",
            "\u001b[2K     \u001b[90m━━━━━━━━━━━━━━━━━━━━━━━━━━━━━━━━━━━━━━━━\u001b[0m \u001b[32m143.8/143.8 kB\u001b[0m \u001b[31m6.0 MB/s\u001b[0m eta \u001b[36m0:00:00\u001b[0m\n",
            "\u001b[2K     \u001b[90m━━━━━━━━━━━━━━━━━━━━━━━━━━━━━━━━━━━━━━━━\u001b[0m \u001b[32m46.0/46.0 kB\u001b[0m \u001b[31m5.2 MB/s\u001b[0m eta \u001b[36m0:00:00\u001b[0m\n",
            "\u001b[2K     \u001b[90m━━━━━━━━━━━━━━━━━━━━━━━━━━━━━━━━━━━━━━━━\u001b[0m \u001b[32m50.8/50.8 kB\u001b[0m \u001b[31m5.1 MB/s\u001b[0m eta \u001b[36m0:00:00\u001b[0m\n",
            "\u001b[2K     \u001b[90m━━━━━━━━━━━━━━━━━━━━━━━━━━━━━━━━━━━━━━━━\u001b[0m \u001b[32m58.3/58.3 kB\u001b[0m \u001b[31m6.5 MB/s\u001b[0m eta \u001b[36m0:00:00\u001b[0m\n",
            "\u001b[2K     \u001b[90m━━━━━━━━━━━━━━━━━━━━━━━━━━━━━━━━━━━━━━━━\u001b[0m \u001b[32m341.4/341.4 kB\u001b[0m \u001b[31m18.7 MB/s\u001b[0m eta \u001b[36m0:00:00\u001b[0m\n",
            "\u001b[2K     \u001b[90m━━━━━━━━━━━━━━━━━━━━━━━━━━━━━━━━━━━━━━━━\u001b[0m \u001b[32m3.4/3.4 MB\u001b[0m \u001b[31m57.3 MB/s\u001b[0m eta \u001b[36m0:00:00\u001b[0m\n",
            "\u001b[2K     \u001b[90m━━━━━━━━━━━━━━━━━━━━━━━━━━━━━━━━━━━━━━━━\u001b[0m \u001b[32m1.3/1.3 MB\u001b[0m \u001b[31m52.1 MB/s\u001b[0m eta \u001b[36m0:00:00\u001b[0m\n",
            "\u001b[2K     \u001b[90m━━━━━━━━━━━━━━━━━━━━━━━━━━━━━━━━━━━━━━━━\u001b[0m \u001b[32m130.2/130.2 kB\u001b[0m \u001b[31m14.5 MB/s\u001b[0m eta \u001b[36m0:00:00\u001b[0m\n",
            "\u001b[2K     \u001b[90m━━━━━━━━━━━━━━━━━━━━━━━━━━━━━━━━━━━━━━━━\u001b[0m \u001b[32m86.8/86.8 kB\u001b[0m \u001b[31m8.9 MB/s\u001b[0m eta \u001b[36m0:00:00\u001b[0m\n",
            "\u001b[?25h  Building wheel for pypika (pyproject.toml) ... \u001b[?25l\u001b[?25hdone\n",
            "\u001b[31mERROR: pip's dependency resolver does not currently take into account all the packages that are installed. This behaviour is the source of the following dependency conflicts.\n",
            "lida 0.0.10 requires kaleido, which is not installed.\n",
            "lida 0.0.10 requires python-multipart, which is not installed.\n",
            "llmx 0.0.15a0 requires cohere, which is not installed.\n",
            "llmx 0.0.15a0 requires openai, which is not installed.\n",
            "tensorflow-probability 0.22.0 requires typing-extensions<4.6.0, but you have typing-extensions 4.9.0 which is incompatible.\u001b[0m\u001b[31m\n",
            "\u001b[2K     \u001b[90m━━━━━━━━━━━━━━━━━━━━━━━━━━━━━━━━━━━━━━━━\u001b[0m \u001b[32m265.7/265.7 kB\u001b[0m \u001b[31m5.0 MB/s\u001b[0m eta \u001b[36m0:00:00\u001b[0m\n",
            "\u001b[2K     \u001b[90m━━━━━━━━━━━━━━━━━━━━━━━━━━━━━━━━━━━━━━━━\u001b[0m \u001b[32m92.6/92.6 MB\u001b[0m \u001b[31m9.4 MB/s\u001b[0m eta \u001b[36m0:00:00\u001b[0m\n",
            "\u001b[?25h"
          ]
        }
      ]
    },
    {
      "cell_type": "code",
      "source": [
        "#Import the BitsAndBytesConfig library to simplify the process of model quantization\n",
        "\n",
        "from transformers import BitsAndBytesConfig\n",
        "import torch\n",
        "\n",
        "#Use the 4-bit quantization to reduce the memory usage by approximately fourfold\n",
        "#Change compute data type to torch.bfloat16 to improve the speed\n",
        "\n",
        "bnb_config = BitsAndBytesConfig(load_in_4bit=True,bnb_4bit_compute_dtype=torch.bfloat16)"
      ],
      "metadata": {
        "id": "UyTyQCSdc_Zj"
      },
      "execution_count": null,
      "outputs": []
    },
    {
      "cell_type": "code",
      "source": [
        "import torch\n",
        "import transformers\n",
        "\n",
        "# Import AutoModelForCasualLM as Mistral has CausalLm configuration class\n",
        "from huggingface_hub import login\n",
        "\n",
        "login(\"huggin face key\")\n",
        "from transformers import AutoTokenizer, AutoModelForCausalLM\n",
        "\n",
        "#Setup tokenizer and model\n",
        "tokenizer = AutoTokenizer.from_pretrained(\"mistralai/Mistral-7B-Instruct-v0.1\")\n",
        "\n",
        "# Load pre-trained Mistral model for causal language modeling\n",
        "model = AutoModelForCausalLM.from_pretrained(\"mistralai/Mistral-7B-Instruct-v0.1\",\n",
        "                                              quantization_config=bnb_config,\n",
        "                                              device_map='auto',\n",
        "                                              low_cpu_mem_usage=True)"
      ],
      "metadata": {
        "colab": {
          "base_uri": "https://localhost:8080/",
          "height": 460,
          "referenced_widgets": [
            "2966de9278b049ae8934dc46803f3c1d",
            "33027d32b1344e3fbef32dd4681d8432",
            "cb6262fc0f2449eea48cf51648387875",
            "ee0e0f329d744427856c55c7972952eb",
            "727760655e26469490a5fa043523d164",
            "6cc48bc94bf0483bb4fd7a7219d79214",
            "850bfc3d625449b6898d7b0258823e0f",
            "d15611decc494207b81eb326c3dd54c7",
            "f40e12eed49e4c5faec18242c7ca0895",
            "8b8a716af1b74a4ca6f1c575c656a9b7",
            "85e289f2b33e46beb2acd725cfbb27d4",
            "6f360054fcca450c81df34efbccd6ad5",
            "0a699a3d064e42eca5df8dc90428daff",
            "bfde396271184de1af37acd10eda0691",
            "718df8d31d78488781ae73031a5449a2",
            "f763cf741ff540bbb04d587c95b2b436",
            "2a3b66acd6e744f38e2c246964dbf6b9",
            "29eef22cf59f4e1f9d0fc962174710d0",
            "5dbc57e1c7fa42259a081562e1113119",
            "4f3440d01d0147ed832a8157d10f2366",
            "642ab5b869c642fa8f1313c59facc825",
            "58322d6467f24d50b991b779a8264941",
            "e86ed2d25c3a475aa4266031aa8ecb1f",
            "eb55ef6b54ad4a408a983eeb8f8e881f",
            "ed52ac7da03341df92a663458cb8609d",
            "b9691c79197c4969bf2eb5707d3a349f",
            "314f228e8d3a4aba87b842d159812188",
            "04de7b51911642d29b008f76eec5e68a",
            "d3b5adbb614e4a9a96d6a84abc715278",
            "b1d3b2a8832f4025a8176e9dbbe15e4f",
            "02df58826bd74b20ae82961aaab35f37",
            "c1cbc74027a840fba497fdcb94de69b5",
            "4683ad109ade4f1abd33e8b007f754f3",
            "86766c7c10d94335a38a321ca66e1e02",
            "c34ef084c8784a01bcf660d62f93ab14",
            "30084423b94a4ffc8b9d0afa226a9d49",
            "fd0152970a994195991d23b16ded5841",
            "56f0b2fa297b4a7daac97e447b21b199",
            "d751b8e1a37e4a9a9998d2a8344e4722",
            "029933ee61184a4a8bc1ab46dd52453d",
            "53ae4843f49a40418b3a5b31b82c6123",
            "1cdca4e130d74cd79bd6ae8ddb6d45b8",
            "998fba1cd07845609bc8a7ecebd71cdb",
            "7582c3b6011d45a68edb65df8599621f",
            "93699e4be4b6440c9554c9b9d336884c",
            "82985110801a4078807063f6a9a03d59",
            "8f6ada99b47f482ebc41ae12cbb971e8",
            "9bea7f8492df4bf8bbb0dc50178196fb",
            "ae7b02054ce3439aaaff93cedc2d723e",
            "90e7595ab66241c9b09649a00d570fe1",
            "1e7cb918fc834dc8bcc445e4e4909207",
            "433d0eb734934e4ab0e5bd2faa6885b8",
            "4e5856b873c047d39f106b5686bfbf47",
            "6c14cf5f452749df89c067e42421eea1",
            "51e50931f80a4aeaada3d60724ead7b9",
            "470c3bb9c4444a0e991ce2dc4f247973",
            "271c53145ce84598969d7939637889af",
            "3c62067ee0df4417bbb7a2bd7344c728",
            "dfad2da7bb924fc08b8ac2e9b618e8cc",
            "a99e099c2adc4de28a3e82527655b7a6",
            "210c04c09e6b4118b8ab5d3f6525073c",
            "c0aa6e51d6e84bbdb950c1fa6f2593ee",
            "7039563a83e84c778e8f6c38302bce56",
            "9473587bb29946278298aa6afab1e8ef",
            "ae1902a787b84a70b404f247054aeb28",
            "f960c925b17443fc98d904d86996c272",
            "4c7f483c4b664ca89e8afac30731c7a1",
            "daf8d77e9f114ef7b6511880a141265c",
            "f5fdc0aba0a74889b81d3dcce9b9ce57",
            "991ff6db9185499db419c520762a0297",
            "87d9f7ba4bbc419c978a976324c472d3",
            "60d8034fe4c64d6a862c15be325b84e5",
            "8438b69b30b1486d8f1572d9ecad71a1",
            "b1ed5183a76d4a5a90f094823f00dbaa",
            "986fff25c1934c0eab0afcd27ea148bb",
            "24cd5687fe794459a8bac3659d0f9c04",
            "4f565c5f427242cda0f3de2ab6eb8e7e",
            "27a3f4189b934b48a468101a44bb17d1",
            "0b9a0b7113d744589309c1775bcbbe81",
            "c1eccb10944943c8bafd4c5876243f2e",
            "c2196247858842319c3696f529113896",
            "0e2378234857408aa66b38867c3c6eb6",
            "92683cccac734ead906f8f1eb7b62249",
            "bac8b4773f37473e88d69ae84b5b3db1",
            "026b5fdeeeeb4517af7d700098d54edb",
            "ddd419a4fc5b43e4872fba6d3c35a32b",
            "16273f143dc84d129c02fe4397201428",
            "cc5759ac5a3e4c449a3a87a6179c4dc0",
            "d8bbe75a1c11489b95061d3ac30b1455",
            "2c3b05b8ba4c42f28e9240b261e371e1",
            "d8242eae4e5e4696b0da9aef089f92be",
            "b8355822aece41318c2ce8c72778f731",
            "734c4a63af9f41118e5d0f39cc1771db",
            "2ef775ba030d4a83baa15919404107b3",
            "ed2584c426b24ec6a75cc2a55117e2a8",
            "87a189a072f047f897f4e30cbd76c953",
            "7470e659d2514161bc69b3d372da19f4",
            "3c8976dd406e4dffafc09e28bc989e8e",
            "8a05479535414f83a8f711d51dd8f858",
            "313ed18db8524f758684dc269d972f27",
            "1de66c8e0f8640a9b463d38f7d61251f",
            "56e60a949e064970988d559173ffcd53",
            "4f84d33bac5248449f0a53956436bae5",
            "f553cf77de1f40b4b85b312e4cc3f3e0",
            "82fa2628ece54fcc833c5f6d0bd0b618",
            "2535c40c87dd4d3cbef2eef0a01ece96",
            "b9535ff26310429494f4a20824427585",
            "d6c8bceaa4eb435187adfd98fc50410e",
            "878499b2248e4a3388d22d386c1d39a3",
            "dce0a14c4b9c4376b2ff274e8ba05e31",
            "77da32b267904c66871ec8c635aff30f",
            "3ab09913b47e461fa4251400ff1ac9e3",
            "28b7602c134b4341acd59534b3c5804f",
            "de64947ec47d41d3971b057608ddc750",
            "5cfe358081b64418a61bcba108441099",
            "8552b296e31645e4907e5ad7ac939f98",
            "7eef241ba6b74f858725b89b3cd64fe1",
            "107d1603a7934a94a68667dd14269c4d",
            "a2cb7fa24c0849609748763678c2f10a",
            "24ed32e3c6c84d5082b000297fe89ca5",
            "bd6caaac3f2d4a5c9b6ee9f69d79d744"
          ]
        },
        "id": "EK32KkrydDW5",
        "outputId": "9eded880-11e6-470b-b5b5-bc20c5081dee"
      },
      "execution_count": null,
      "outputs": [
        {
          "output_type": "stream",
          "name": "stdout",
          "text": [
            "Token will not been saved to git credential helper. Pass `add_to_git_credential=True` if you want to set the git credential as well.\n",
            "Token is valid (permission: read).\n",
            "Your token has been saved to /root/.cache/huggingface/token\n",
            "Login successful\n"
          ]
        },
        {
          "output_type": "display_data",
          "data": {
            "text/plain": [
              "tokenizer_config.json:   0%|          | 0.00/1.47k [00:00<?, ?B/s]"
            ],
            "application/vnd.jupyter.widget-view+json": {
              "version_major": 2,
              "version_minor": 0,
              "model_id": "2966de9278b049ae8934dc46803f3c1d"
            }
          },
          "metadata": {}
        },
        {
          "output_type": "display_data",
          "data": {
            "text/plain": [
              "tokenizer.model:   0%|          | 0.00/493k [00:00<?, ?B/s]"
            ],
            "application/vnd.jupyter.widget-view+json": {
              "version_major": 2,
              "version_minor": 0,
              "model_id": "6f360054fcca450c81df34efbccd6ad5"
            }
          },
          "metadata": {}
        },
        {
          "output_type": "display_data",
          "data": {
            "text/plain": [
              "tokenizer.json:   0%|          | 0.00/1.80M [00:00<?, ?B/s]"
            ],
            "application/vnd.jupyter.widget-view+json": {
              "version_major": 2,
              "version_minor": 0,
              "model_id": "e86ed2d25c3a475aa4266031aa8ecb1f"
            }
          },
          "metadata": {}
        },
        {
          "output_type": "display_data",
          "data": {
            "text/plain": [
              "special_tokens_map.json:   0%|          | 0.00/72.0 [00:00<?, ?B/s]"
            ],
            "application/vnd.jupyter.widget-view+json": {
              "version_major": 2,
              "version_minor": 0,
              "model_id": "86766c7c10d94335a38a321ca66e1e02"
            }
          },
          "metadata": {}
        },
        {
          "output_type": "display_data",
          "data": {
            "text/plain": [
              "config.json:   0%|          | 0.00/571 [00:00<?, ?B/s]"
            ],
            "application/vnd.jupyter.widget-view+json": {
              "version_major": 2,
              "version_minor": 0,
              "model_id": "93699e4be4b6440c9554c9b9d336884c"
            }
          },
          "metadata": {}
        },
        {
          "output_type": "display_data",
          "data": {
            "text/plain": [
              "model.safetensors.index.json:   0%|          | 0.00/25.1k [00:00<?, ?B/s]"
            ],
            "application/vnd.jupyter.widget-view+json": {
              "version_major": 2,
              "version_minor": 0,
              "model_id": "470c3bb9c4444a0e991ce2dc4f247973"
            }
          },
          "metadata": {}
        },
        {
          "output_type": "display_data",
          "data": {
            "text/plain": [
              "Downloading shards:   0%|          | 0/2 [00:00<?, ?it/s]"
            ],
            "application/vnd.jupyter.widget-view+json": {
              "version_major": 2,
              "version_minor": 0,
              "model_id": "4c7f483c4b664ca89e8afac30731c7a1"
            }
          },
          "metadata": {}
        },
        {
          "output_type": "display_data",
          "data": {
            "text/plain": [
              "model-00001-of-00002.safetensors:   0%|          | 0.00/9.94G [00:00<?, ?B/s]"
            ],
            "application/vnd.jupyter.widget-view+json": {
              "version_major": 2,
              "version_minor": 0,
              "model_id": "27a3f4189b934b48a468101a44bb17d1"
            }
          },
          "metadata": {}
        },
        {
          "output_type": "display_data",
          "data": {
            "text/plain": [
              "model-00002-of-00002.safetensors:   0%|          | 0.00/4.54G [00:00<?, ?B/s]"
            ],
            "application/vnd.jupyter.widget-view+json": {
              "version_major": 2,
              "version_minor": 0,
              "model_id": "d8bbe75a1c11489b95061d3ac30b1455"
            }
          },
          "metadata": {}
        },
        {
          "output_type": "display_data",
          "data": {
            "text/plain": [
              "Loading checkpoint shards:   0%|          | 0/2 [00:00<?, ?it/s]"
            ],
            "application/vnd.jupyter.widget-view+json": {
              "version_major": 2,
              "version_minor": 0,
              "model_id": "313ed18db8524f758684dc269d972f27"
            }
          },
          "metadata": {}
        },
        {
          "output_type": "display_data",
          "data": {
            "text/plain": [
              "generation_config.json:   0%|          | 0.00/116 [00:00<?, ?B/s]"
            ],
            "application/vnd.jupyter.widget-view+json": {
              "version_major": 2,
              "version_minor": 0,
              "model_id": "77da32b267904c66871ec8c635aff30f"
            }
          },
          "metadata": {}
        }
      ]
    },
    {
      "cell_type": "code",
      "source": [
        "#Let's ask plain LLM to detect the category of a few questions.\n",
        "text = \"\"\"\n",
        "I have received a message. I want to identify whether it's spam or not.\n",
        "If message is spam return “spam”. Otherwise return “ham”. Don’t return anything else.\n",
        "\n",
        "Message:Oh k...i'm watching here:)\n",
        "\n",
        "Your answer:\n",
        "\"\"\"\n",
        "inputs = tokenizer(text, return_tensors=\"pt\")\n",
        "inputs= inputs.to('cuda')\n",
        "outputs = model.generate(**inputs, max_new_tokens=20)\n",
        "print(tokenizer.decode(outputs[0], skip_special_tokens=True))\n",
        "\n",
        "text = \"\"\"\n",
        "I have received a message. I want to identify whether it's spam or not.\n",
        "If message is spam return “spam”. Otherwise return “ham”. Don’t return anything else.\n",
        "\n",
        "Message:Free entry in 2 a wkly comp to win FA Cup final tkts 21st May 2005.\n",
        "Text FA to 87121 to receive entry question(std txt rate)T&C's apply 08452810075over18's\n",
        "\n",
        "Your answer:\n",
        "\"\"\"\n",
        "inputs = tokenizer(text, return_tensors=\"pt\")\n",
        "inputs= inputs.to('cuda')\n",
        "outputs = model.generate(**inputs, max_new_tokens=20)\n",
        "print(tokenizer.decode(outputs[0], skip_special_tokens=True))\n",
        "\n",
        "text = \"\"\"\n",
        "I have received a message. I want to identify whether it's spam or not.\n",
        "If message is spam return “spam”. Otherwise return “ham”. Don’t return anything else.\n",
        "\n",
        "Message:Had your mobile 11 months or more?\n",
        " U R entitled to Update to the latest colour mobiles with camera for Free! Call The Mobile Update Co FREE on 08002986030\n",
        "\n",
        "Your answer:\n",
        "\"\"\"\n",
        "inputs = tokenizer(text, return_tensors=\"pt\")\n",
        "inputs= inputs.to('cuda')\n",
        "outputs = model.generate(**inputs, max_new_tokens=20)\n",
        "print(tokenizer.decode(outputs[0], skip_special_tokens=True))\n",
        "\n",
        "text = \"\"\"\n",
        "I have received a message. I want to identify whether it's spam or not.\n",
        "If message is spam return “spam”. Otherwise return “ham”. Don’t return anything else.\n",
        "\n",
        "Message:Go until jurong point, crazy.. Available only in bugis n great world la e buffet... Cine there got amore wat...\n",
        "\n",
        "Your answer:\n",
        "\"\"\"\n",
        "inputs = tokenizer(text, return_tensors=\"pt\")\n",
        "inputs= inputs.to('cuda')\n",
        "outputs = model.generate(**inputs, max_new_tokens=20)\n",
        "print(tokenizer.decode(outputs[0], skip_special_tokens=True))\n"
      ],
      "metadata": {
        "colab": {
          "base_uri": "https://localhost:8080/"
        },
        "id": "q2HJD8_qghrb",
        "outputId": "b00f13fa-c810-475f-d928-b08bd01a4752"
      },
      "execution_count": null,
      "outputs": [
        {
          "output_type": "stream",
          "name": "stderr",
          "text": [
            "Setting `pad_token_id` to `eos_token_id`:2 for open-end generation.\n",
            "Setting `pad_token_id` to `eos_token_id`:2 for open-end generation.\n"
          ]
        },
        {
          "output_type": "stream",
          "name": "stdout",
          "text": [
            "\n",
            "I have received a message. I want to identify whether it's spam or not.\n",
            "If message is spam return “spam”. Otherwise return “ham”. Don’t return anything else.\n",
            "\n",
            "Message:Oh k...i'm watching here:)\n",
            "\n",
            "Your answer:\n",
            "spam\n"
          ]
        },
        {
          "output_type": "stream",
          "name": "stderr",
          "text": [
            "Setting `pad_token_id` to `eos_token_id`:2 for open-end generation.\n"
          ]
        },
        {
          "output_type": "stream",
          "name": "stdout",
          "text": [
            "\n",
            "I have received a message. I want to identify whether it's spam or not.\n",
            "If message is spam return “spam”. Otherwise return “ham”. Don’t return anything else.\n",
            "\n",
            "Message:Free entry in 2 a wkly comp to win FA Cup final tkts 21st May 2005.\n",
            "Text FA to 87121 to receive entry question(std txt rate)T&C's apply 08452810075over18's\n",
            "\n",
            "Your answer:\n",
            "spam\n"
          ]
        },
        {
          "output_type": "stream",
          "name": "stderr",
          "text": [
            "Setting `pad_token_id` to `eos_token_id`:2 for open-end generation.\n"
          ]
        },
        {
          "output_type": "stream",
          "name": "stdout",
          "text": [
            "\n",
            "I have received a message. I want to identify whether it's spam or not.\n",
            "If message is spam return “spam”. Otherwise return “ham”. Don’t return anything else.\n",
            "\n",
            "Message:Had your mobile 11 months or more?\n",
            " U R entitled to Update to the latest colour mobiles with camera for Free! Call The Mobile Update Co FREE on 08002986030\n",
            "\n",
            "Your answer:\n",
            "spam\n",
            "\n",
            "I have received a message. I want to identify whether it's spam or not.\n",
            "If message is spam return “spam”. Otherwise return “ham”. Don’t return anything else.\n",
            "\n",
            "Message:Go until jurong point, crazy.. Available only in bugis n great world la e buffet... Cine there got amore wat...\n",
            "\n",
            "Your answer:\n",
            "spam\n"
          ]
        }
      ]
    },
    {
      "cell_type": "code",
      "source": [
        "#Load test data to evaluate plain LLM\n",
        "import pandas as pd\n",
        "test_data=pd.read_csv(\"test_data.csv\")\n"
      ],
      "metadata": {
        "id": "6NFAEh14jHPl"
      },
      "execution_count": null,
      "outputs": []
    },
    {
      "cell_type": "code",
      "source": [
        "#Evaluate the plain LLM over test dataset\n",
        "prompts=test_data[\"message\"].tolist()\n",
        "Labels=[]\n",
        "\n",
        "for i in range(len(prompts)):\n",
        "  print(i)\n",
        "  text= f\"\"\"\n",
        "I have received a message. I want to identify whether it's spam or not.\n",
        "If message is spam return “spam”. Otherwise return “ham”. Don’t return anything else.\n",
        "\n",
        "Message:{prompts[i]}\n",
        "\n",
        "Your answer:\n",
        "\"\"\"\n",
        "  inputs = tokenizer(text, return_tensors=\"pt\")\n",
        "  inputs= inputs.to('cuda')\n",
        "  outputs = model.generate(**inputs, max_new_tokens=20)\n",
        "  answer=tokenizer.decode(outputs[0], skip_special_tokens=True)\n",
        "  Labels.append(answer)\n",
        "  print(answer)"
      ],
      "metadata": {
        "colab": {
          "base_uri": "https://localhost:8080/"
        },
        "id": "ARQ9VnoKjQYQ",
        "outputId": "f42af6cc-6cbb-4b65-85bd-fa879f06af02"
      },
      "execution_count": null,
      "outputs": [
        {
          "output_type": "stream",
          "name": "stderr",
          "text": [
            "Setting `pad_token_id` to `eos_token_id`:2 for open-end generation.\n"
          ]
        },
        {
          "output_type": "stream",
          "name": "stdout",
          "text": [
            "0\n"
          ]
        },
        {
          "output_type": "stream",
          "name": "stderr",
          "text": [
            "Setting `pad_token_id` to `eos_token_id`:2 for open-end generation.\n"
          ]
        },
        {
          "output_type": "stream",
          "name": "stdout",
          "text": [
            "\n",
            "I have received a message. I want to identify whether it's spam or not.\n",
            "If message is spam return “spam”. Otherwise return “ham”. Don’t return anything else.\n",
            "\n",
            "Message:\"\\Gimme a few\\\"\" was  &lt;#&gt;  minutes ago\"\"\"\n",
            "\n",
            "Your answer:\n",
            "spam\n",
            "1\n"
          ]
        },
        {
          "output_type": "stream",
          "name": "stderr",
          "text": [
            "Setting `pad_token_id` to `eos_token_id`:2 for open-end generation.\n"
          ]
        },
        {
          "output_type": "stream",
          "name": "stdout",
          "text": [
            "\n",
            "I have received a message. I want to identify whether it's spam or not.\n",
            "If message is spam return “spam”. Otherwise return “ham”. Don’t return anything else.\n",
            "\n",
            "Message:excellent. I spent  &lt;#&gt;  years in the Air Force. Iraq and afghanistan. I am stable and honest. do you like traveling?\n",
            "\n",
            "Your answer:\n",
            "spam\n",
            "2\n"
          ]
        },
        {
          "output_type": "stream",
          "name": "stderr",
          "text": [
            "Setting `pad_token_id` to `eos_token_id`:2 for open-end generation.\n"
          ]
        },
        {
          "output_type": "stream",
          "name": "stdout",
          "text": [
            "\n",
            "I have received a message. I want to identify whether it's spam or not.\n",
            "If message is spam return “spam”. Otherwise return “ham”. Don’t return anything else.\n",
            "\n",
            "Message:Yo guess what I just dropped\n",
            "\n",
            "Your answer:\n",
            "spam\n",
            "3\n"
          ]
        },
        {
          "output_type": "stream",
          "name": "stderr",
          "text": [
            "Setting `pad_token_id` to `eos_token_id`:2 for open-end generation.\n"
          ]
        },
        {
          "output_type": "stream",
          "name": "stdout",
          "text": [
            "\n",
            "I have received a message. I want to identify whether it's spam or not.\n",
            "If message is spam return “spam”. Otherwise return “ham”. Don’t return anything else.\n",
            "\n",
            "Message:I'm really not up to it still tonight babe\n",
            "\n",
            "Your answer:\n",
            "\n",
            "I'm really not up to it still tonight babe\n",
            "\n",
            "Your answer:\n",
            "\n",
            "\n",
            "4\n"
          ]
        },
        {
          "output_type": "stream",
          "name": "stderr",
          "text": [
            "Setting `pad_token_id` to `eos_token_id`:2 for open-end generation.\n"
          ]
        },
        {
          "output_type": "stream",
          "name": "stdout",
          "text": [
            "\n",
            "I have received a message. I want to identify whether it's spam or not.\n",
            "If message is spam return “spam”. Otherwise return “ham”. Don’t return anything else.\n",
            "\n",
            "Message:Have you emigrated or something? Ok maybe 5.30 was a bit hopeful...\n",
            "\n",
            "Your answer:\n",
            "spam\n",
            "5\n"
          ]
        },
        {
          "output_type": "stream",
          "name": "stderr",
          "text": [
            "Setting `pad_token_id` to `eos_token_id`:2 for open-end generation.\n"
          ]
        },
        {
          "output_type": "stream",
          "name": "stdout",
          "text": [
            "\n",
            "I have received a message. I want to identify whether it's spam or not.\n",
            "If message is spam return “spam”. Otherwise return “ham”. Don’t return anything else.\n",
            "\n",
            "Message:\"Fair enough, anything going on?\"\n",
            "\n",
            "Your answer:\n",
            "\n",
            "spam\n",
            "6\n"
          ]
        },
        {
          "output_type": "stream",
          "name": "stderr",
          "text": [
            "Setting `pad_token_id` to `eos_token_id`:2 for open-end generation.\n"
          ]
        },
        {
          "output_type": "stream",
          "name": "stdout",
          "text": [
            "\n",
            "I have received a message. I want to identify whether it's spam or not.\n",
            "If message is spam return “spam”. Otherwise return “ham”. Don’t return anything else.\n",
            "\n",
            "Message:Sent me ur email id soon\n",
            "\n",
            "Your answer:\n",
            "spam\n",
            "7\n"
          ]
        },
        {
          "output_type": "stream",
          "name": "stderr",
          "text": [
            "Setting `pad_token_id` to `eos_token_id`:2 for open-end generation.\n"
          ]
        },
        {
          "output_type": "stream",
          "name": "stdout",
          "text": [
            "\n",
            "I have received a message. I want to identify whether it's spam or not.\n",
            "If message is spam return “spam”. Otherwise return “ham”. Don’t return anything else.\n",
            "\n",
            "Message:Jesus armand really is trying to tell everybody he can find\n",
            "\n",
            "Your answer:\n",
            "spam\n",
            "8\n"
          ]
        },
        {
          "output_type": "stream",
          "name": "stderr",
          "text": [
            "Setting `pad_token_id` to `eos_token_id`:2 for open-end generation.\n"
          ]
        },
        {
          "output_type": "stream",
          "name": "stdout",
          "text": [
            "\n",
            "I have received a message. I want to identify whether it's spam or not.\n",
            "If message is spam return “spam”. Otherwise return “ham”. Don’t return anything else.\n",
            "\n",
            "Message:\"Ill call u 2mrw at ninish, with my address that icky American freek wont stop callin me 2 bad Jen k eh?\"\n",
            "\n",
            "Your answer:\n",
            "spam\n",
            "9\n"
          ]
        },
        {
          "output_type": "stream",
          "name": "stderr",
          "text": [
            "Setting `pad_token_id` to `eos_token_id`:2 for open-end generation.\n"
          ]
        },
        {
          "output_type": "stream",
          "name": "stdout",
          "text": [
            "\n",
            "I have received a message. I want to identify whether it's spam or not.\n",
            "If message is spam return “spam”. Otherwise return “ham”. Don’t return anything else.\n",
            "\n",
            "Message:Stop knowing me so well!\n",
            "\n",
            "Your answer:\n",
            "spam\n",
            "10\n"
          ]
        },
        {
          "output_type": "stream",
          "name": "stderr",
          "text": [
            "Setting `pad_token_id` to `eos_token_id`:2 for open-end generation.\n"
          ]
        },
        {
          "output_type": "stream",
          "name": "stdout",
          "text": [
            "\n",
            "I have received a message. I want to identify whether it's spam or not.\n",
            "If message is spam return “spam”. Otherwise return “ham”. Don’t return anything else.\n",
            "\n",
            "Message:Hey so whats the plan this sat?\n",
            "\n",
            "Your answer:\n",
            "\n",
            "\n",
            "\n",
            "\n",
            "\n",
            "\n",
            "\n",
            "\n",
            "\n",
            "\n",
            "\n",
            "\n",
            "\n",
            "\n",
            "\n",
            "\n",
            "\n",
            "\n",
            "\n",
            "\n",
            "\n",
            "11\n"
          ]
        },
        {
          "output_type": "stream",
          "name": "stderr",
          "text": [
            "Setting `pad_token_id` to `eos_token_id`:2 for open-end generation.\n"
          ]
        },
        {
          "output_type": "stream",
          "name": "stdout",
          "text": [
            "\n",
            "I have received a message. I want to identify whether it's spam or not.\n",
            "If message is spam return “spam”. Otherwise return “ham”. Don’t return anything else.\n",
            "\n",
            "Message:Great. Have a safe trip. Dont panic surrender all.\n",
            "\n",
            "Your answer:\n",
            "spam\n",
            "12\n"
          ]
        },
        {
          "output_type": "stream",
          "name": "stderr",
          "text": [
            "Setting `pad_token_id` to `eos_token_id`:2 for open-end generation.\n"
          ]
        },
        {
          "output_type": "stream",
          "name": "stdout",
          "text": [
            "\n",
            "I have received a message. I want to identify whether it's spam or not.\n",
            "If message is spam return “spam”. Otherwise return “ham”. Don’t return anything else.\n",
            "\n",
            "Message:Yes:)here tv is always available in work place..\n",
            "\n",
            "Your answer:\n",
            "spam\n",
            "13\n"
          ]
        },
        {
          "output_type": "stream",
          "name": "stderr",
          "text": [
            "Setting `pad_token_id` to `eos_token_id`:2 for open-end generation.\n"
          ]
        },
        {
          "output_type": "stream",
          "name": "stdout",
          "text": [
            "\n",
            "I have received a message. I want to identify whether it's spam or not.\n",
            "If message is spam return “spam”. Otherwise return “ham”. Don’t return anything else.\n",
            "\n",
            "Message:Unlimited texts. Limited minutes.\n",
            "\n",
            "Your answer:\n",
            "spam\n",
            "14\n"
          ]
        },
        {
          "output_type": "stream",
          "name": "stderr",
          "text": [
            "Setting `pad_token_id` to `eos_token_id`:2 for open-end generation.\n"
          ]
        },
        {
          "output_type": "stream",
          "name": "stdout",
          "text": [
            "\n",
            "I have received a message. I want to identify whether it's spam or not.\n",
            "If message is spam return “spam”. Otherwise return “ham”. Don’t return anything else.\n",
            "\n",
            "Message:Prabha..i'm soryda..realy..frm heart i'm sory\n",
            "\n",
            "Your answer:\n",
            "spam\n",
            "15\n"
          ]
        },
        {
          "output_type": "stream",
          "name": "stderr",
          "text": [
            "Setting `pad_token_id` to `eos_token_id`:2 for open-end generation.\n"
          ]
        },
        {
          "output_type": "stream",
          "name": "stdout",
          "text": [
            "\n",
            "I have received a message. I want to identify whether it's spam or not.\n",
            "If message is spam return “spam”. Otherwise return “ham”. Don’t return anything else.\n",
            "\n",
            "Message:\"Hmmm ... I thought we said 2 hours slave, not 3 ... You are late ... How should I punish you ?\"\n",
            "\n",
            "Your answer:\n",
            "spam\n",
            "16\n"
          ]
        },
        {
          "output_type": "stream",
          "name": "stderr",
          "text": [
            "Setting `pad_token_id` to `eos_token_id`:2 for open-end generation.\n"
          ]
        },
        {
          "output_type": "stream",
          "name": "stdout",
          "text": [
            "\n",
            "I have received a message. I want to identify whether it's spam or not.\n",
            "If message is spam return “spam”. Otherwise return “ham”. Don’t return anything else.\n",
            "\n",
            "Message:Of cos can lar i'm not so ba dao ok... 1 pm lor... Y u never ask where we go ah... I said u would ask on fri but he said u will ask today...\n",
            "\n",
            "Your answer:\n",
            "spam\n",
            "17\n"
          ]
        },
        {
          "output_type": "stream",
          "name": "stderr",
          "text": [
            "Setting `pad_token_id` to `eos_token_id`:2 for open-end generation.\n"
          ]
        },
        {
          "output_type": "stream",
          "name": "stdout",
          "text": [
            "\n",
            "I have received a message. I want to identify whether it's spam or not.\n",
            "If message is spam return “spam”. Otherwise return “ham”. Don’t return anything else.\n",
            "\n",
            "Message:Oops. 4 got that bit.\n",
            "\n",
            "Your answer:\n",
            "\n",
            "I have received a message. I want to identify whether it's spam or not.\n",
            "18\n"
          ]
        },
        {
          "output_type": "stream",
          "name": "stderr",
          "text": [
            "Setting `pad_token_id` to `eos_token_id`:2 for open-end generation.\n"
          ]
        },
        {
          "output_type": "stream",
          "name": "stdout",
          "text": [
            "\n",
            "I have received a message. I want to identify whether it's spam or not.\n",
            "If message is spam return “spam”. Otherwise return “ham”. Don’t return anything else.\n",
            "\n",
            "Message:Hey i'm bored... So i'm thinking of u... So wat r u doing?\n",
            "\n",
            "Your answer:\n",
            "spam\n",
            "19\n"
          ]
        },
        {
          "output_type": "stream",
          "name": "stderr",
          "text": [
            "Setting `pad_token_id` to `eos_token_id`:2 for open-end generation.\n"
          ]
        },
        {
          "output_type": "stream",
          "name": "stdout",
          "text": [
            "\n",
            "I have received a message. I want to identify whether it's spam or not.\n",
            "If message is spam return “spam”. Otherwise return “ham”. Don’t return anything else.\n",
            "\n",
            "Message:I am in hospital da. . I will return home in evening\n",
            "\n",
            "Your answer:\n",
            "spam\n",
            "20\n"
          ]
        },
        {
          "output_type": "stream",
          "name": "stderr",
          "text": [
            "Setting `pad_token_id` to `eos_token_id`:2 for open-end generation.\n"
          ]
        },
        {
          "output_type": "stream",
          "name": "stdout",
          "text": [
            "\n",
            "I have received a message. I want to identify whether it's spam or not.\n",
            "If message is spam return “spam”. Otherwise return “ham”. Don’t return anything else.\n",
            "\n",
            "Message:\"Sorry man, my stash ran dry last night and I can't pick up more until sunday\"\n",
            "\n",
            "Your answer:\n",
            "spam\n",
            "21\n"
          ]
        },
        {
          "output_type": "stream",
          "name": "stderr",
          "text": [
            "Setting `pad_token_id` to `eos_token_id`:2 for open-end generation.\n"
          ]
        },
        {
          "output_type": "stream",
          "name": "stdout",
          "text": [
            "\n",
            "I have received a message. I want to identify whether it's spam or not.\n",
            "If message is spam return “spam”. Otherwise return “ham”. Don’t return anything else.\n",
            "\n",
            "Message:\"Oops, I'll let you know when my roommate's done\"\n",
            "\n",
            "Your answer:\n",
            "\n",
            "spam\n",
            "22\n"
          ]
        },
        {
          "output_type": "stream",
          "name": "stderr",
          "text": [
            "Setting `pad_token_id` to `eos_token_id`:2 for open-end generation.\n"
          ]
        },
        {
          "output_type": "stream",
          "name": "stdout",
          "text": [
            "\n",
            "I have received a message. I want to identify whether it's spam or not.\n",
            "If message is spam return “spam”. Otherwise return “ham”. Don’t return anything else.\n",
            "\n",
            "Message:Hello! How's you and how did saturday go? I was just texting to see if you'd decided to do anything tomo. Not that i'm trying to invite myself or anything!\n",
            "\n",
            "Your answer:\n",
            "spam\n",
            "23\n"
          ]
        },
        {
          "output_type": "stream",
          "name": "stderr",
          "text": [
            "Setting `pad_token_id` to `eos_token_id`:2 for open-end generation.\n"
          ]
        },
        {
          "output_type": "stream",
          "name": "stdout",
          "text": [
            "\n",
            "I have received a message. I want to identify whether it's spam or not.\n",
            "If message is spam return “spam”. Otherwise return “ham”. Don’t return anything else.\n",
            "\n",
            "Message:\"Good afternoon, my love ! Any job prospects ? Are you missing me ? What do you do ? Are you being lazy and bleak, hmmm ? Or happy and filled with my love ?\"\n",
            "\n",
            "Your answer:\n",
            "spam\n",
            "24\n"
          ]
        },
        {
          "output_type": "stream",
          "name": "stderr",
          "text": [
            "Setting `pad_token_id` to `eos_token_id`:2 for open-end generation.\n"
          ]
        },
        {
          "output_type": "stream",
          "name": "stdout",
          "text": [
            "\n",
            "I have received a message. I want to identify whether it's spam or not.\n",
            "If message is spam return “spam”. Otherwise return “ham”. Don’t return anything else.\n",
            "\n",
            "Message:I think chennai well settled?\n",
            "\n",
            "Your answer:\n",
            "spam\n",
            "25\n"
          ]
        },
        {
          "output_type": "stream",
          "name": "stderr",
          "text": [
            "Setting `pad_token_id` to `eos_token_id`:2 for open-end generation.\n"
          ]
        },
        {
          "output_type": "stream",
          "name": "stdout",
          "text": [
            "\n",
            "I have received a message. I want to identify whether it's spam or not.\n",
            "If message is spam return “spam”. Otherwise return “ham”. Don’t return anything else.\n",
            "\n",
            "Message:\"OH MR SHEFFIELD! You wanna play THAT game, okay. You're the boss and I'm the nanny. You give me a raise and I'll give YOU one!!\"\n",
            "\n",
            "Your answer:\n",
            "spam\n",
            "26\n"
          ]
        },
        {
          "output_type": "stream",
          "name": "stderr",
          "text": [
            "Setting `pad_token_id` to `eos_token_id`:2 for open-end generation.\n"
          ]
        },
        {
          "output_type": "stream",
          "name": "stdout",
          "text": [
            "\n",
            "I have received a message. I want to identify whether it's spam or not.\n",
            "If message is spam return “spam”. Otherwise return “ham”. Don’t return anything else.\n",
            "\n",
            "Message:Lol that's different. I don't go trying to find every real life photo you ever took.\n",
            "\n",
            "Your answer:\n",
            "spam\n",
            "27\n"
          ]
        },
        {
          "output_type": "stream",
          "name": "stderr",
          "text": [
            "Setting `pad_token_id` to `eos_token_id`:2 for open-end generation.\n"
          ]
        },
        {
          "output_type": "stream",
          "name": "stdout",
          "text": [
            "\n",
            "I have received a message. I want to identify whether it's spam or not.\n",
            "If message is spam return “spam”. Otherwise return “ham”. Don’t return anything else.\n",
            "\n",
            "Message:Ofcourse I also upload some songs\n",
            "\n",
            "Your answer:\n",
            "spam\n",
            "28\n"
          ]
        },
        {
          "output_type": "stream",
          "name": "stderr",
          "text": [
            "Setting `pad_token_id` to `eos_token_id`:2 for open-end generation.\n"
          ]
        },
        {
          "output_type": "stream",
          "name": "stdout",
          "text": [
            "\n",
            "I have received a message. I want to identify whether it's spam or not.\n",
            "If message is spam return “spam”. Otherwise return “ham”. Don’t return anything else.\n",
            "\n",
            "Message:\"I've not called you in a while. This is hoping it was l8r malaria and that you know that we miss you guys. I miss Bani big, so pls give her my love especially. Have a great day.\"\n",
            "\n",
            "Your answer:\n",
            "spam\n",
            "29\n"
          ]
        },
        {
          "output_type": "stream",
          "name": "stderr",
          "text": [
            "Setting `pad_token_id` to `eos_token_id`:2 for open-end generation.\n"
          ]
        },
        {
          "output_type": "stream",
          "name": "stdout",
          "text": [
            "\n",
            "I have received a message. I want to identify whether it's spam or not.\n",
            "If message is spam return “spam”. Otherwise return “ham”. Don’t return anything else.\n",
            "\n",
            "Message:\"Hello! Just got here, st andrews-boy its a long way! Its cold. I will keep you posted\"\n",
            "\n",
            "Your answer:\n",
            "spam\n",
            "30\n"
          ]
        },
        {
          "output_type": "stream",
          "name": "stderr",
          "text": [
            "Setting `pad_token_id` to `eos_token_id`:2 for open-end generation.\n"
          ]
        },
        {
          "output_type": "stream",
          "name": "stdout",
          "text": [
            "\n",
            "I have received a message. I want to identify whether it's spam or not.\n",
            "If message is spam return “spam”. Otherwise return “ham”. Don’t return anything else.\n",
            "\n",
            "Message:Jos ask if u wana meet up?\n",
            "\n",
            "Your answer:\n",
            "spam\n",
            "31\n"
          ]
        },
        {
          "output_type": "stream",
          "name": "stderr",
          "text": [
            "Setting `pad_token_id` to `eos_token_id`:2 for open-end generation.\n"
          ]
        },
        {
          "output_type": "stream",
          "name": "stdout",
          "text": [
            "\n",
            "I have received a message. I want to identify whether it's spam or not.\n",
            "If message is spam return “spam”. Otherwise return “ham”. Don’t return anything else.\n",
            "\n",
            "Message:Good day to You too.Pray for me.Remove the teeth as its painful maintaining other stuff.\n",
            "\n",
            "Your answer:\n",
            "spam\n",
            "32\n"
          ]
        },
        {
          "output_type": "stream",
          "name": "stderr",
          "text": [
            "Setting `pad_token_id` to `eos_token_id`:2 for open-end generation.\n"
          ]
        },
        {
          "output_type": "stream",
          "name": "stdout",
          "text": [
            "\n",
            "I have received a message. I want to identify whether it's spam or not.\n",
            "If message is spam return “spam”. Otherwise return “ham”. Don’t return anything else.\n",
            "\n",
            "Message:Mm so you asked me not to call radio\n",
            "\n",
            "Your answer:\n",
            "spam\n",
            "33\n"
          ]
        },
        {
          "output_type": "stream",
          "name": "stderr",
          "text": [
            "Setting `pad_token_id` to `eos_token_id`:2 for open-end generation.\n"
          ]
        },
        {
          "output_type": "stream",
          "name": "stdout",
          "text": [
            "\n",
            "I have received a message. I want to identify whether it's spam or not.\n",
            "If message is spam return “spam”. Otherwise return “ham”. Don’t return anything else.\n",
            "\n",
            "Message:\"If i let you do this, i want you in the house by 8am.\"\n",
            "\n",
            "Your answer:\n",
            "spam\n",
            "34\n"
          ]
        },
        {
          "output_type": "stream",
          "name": "stderr",
          "text": [
            "Setting `pad_token_id` to `eos_token_id`:2 for open-end generation.\n"
          ]
        },
        {
          "output_type": "stream",
          "name": "stdout",
          "text": [
            "\n",
            "I have received a message. I want to identify whether it's spam or not.\n",
            "If message is spam return “spam”. Otherwise return “ham”. Don’t return anything else.\n",
            "\n",
            "Message:\"It doesnt make sense to take it there unless its free. If you need to know more, wikipedia.com\"\n",
            "\n",
            "Your answer:\n",
            "spam\n",
            "35\n"
          ]
        },
        {
          "output_type": "stream",
          "name": "stderr",
          "text": [
            "Setting `pad_token_id` to `eos_token_id`:2 for open-end generation.\n"
          ]
        },
        {
          "output_type": "stream",
          "name": "stdout",
          "text": [
            "\n",
            "I have received a message. I want to identify whether it's spam or not.\n",
            "If message is spam return “spam”. Otherwise return “ham”. Don’t return anything else.\n",
            "\n",
            "Message:Noooooooo please. Last thing I need is stress. For once in your life be fair.\n",
            "\n",
            "Your answer:\n",
            "spam\n",
            "36\n"
          ]
        },
        {
          "output_type": "stream",
          "name": "stderr",
          "text": [
            "Setting `pad_token_id` to `eos_token_id`:2 for open-end generation.\n"
          ]
        },
        {
          "output_type": "stream",
          "name": "stdout",
          "text": [
            "\n",
            "I have received a message. I want to identify whether it's spam or not.\n",
            "If message is spam return “spam”. Otherwise return “ham”. Don’t return anything else.\n",
            "\n",
            "Message:When u wana see it then\n",
            "\n",
            "Your answer:\n",
            "spam\n",
            "37\n"
          ]
        },
        {
          "output_type": "stream",
          "name": "stderr",
          "text": [
            "Setting `pad_token_id` to `eos_token_id`:2 for open-end generation.\n"
          ]
        },
        {
          "output_type": "stream",
          "name": "stdout",
          "text": [
            "\n",
            "I have received a message. I want to identify whether it's spam or not.\n",
            "If message is spam return “spam”. Otherwise return “ham”. Don’t return anything else.\n",
            "\n",
            "Message:If you're not in my car in an hour and a half I'm going apeshit\n",
            "\n",
            "Your answer:\n",
            "spam\n",
            "38\n"
          ]
        },
        {
          "output_type": "stream",
          "name": "stderr",
          "text": [
            "Setting `pad_token_id` to `eos_token_id`:2 for open-end generation.\n"
          ]
        },
        {
          "output_type": "stream",
          "name": "stdout",
          "text": [
            "\n",
            "I have received a message. I want to identify whether it's spam or not.\n",
            "If message is spam return “spam”. Otherwise return “ham”. Don’t return anything else.\n",
            "\n",
            "Message:\"True. It is passable. And if you get a high score and apply for phd, you get 5years of salary. So it makes life easier.\"\n",
            "\n",
            "Your answer:\n",
            "spam\n",
            "39\n"
          ]
        },
        {
          "output_type": "stream",
          "name": "stderr",
          "text": [
            "Setting `pad_token_id` to `eos_token_id`:2 for open-end generation.\n"
          ]
        },
        {
          "output_type": "stream",
          "name": "stdout",
          "text": [
            "\n",
            "I have received a message. I want to identify whether it's spam or not.\n",
            "If message is spam return “spam”. Otherwise return “ham”. Don’t return anything else.\n",
            "\n",
            "Message:Do u noe wat time e place dat sells 4d closes?\n",
            "\n",
            "Your answer:\n",
            "spam\n",
            "40\n"
          ]
        },
        {
          "output_type": "stream",
          "name": "stderr",
          "text": [
            "Setting `pad_token_id` to `eos_token_id`:2 for open-end generation.\n"
          ]
        },
        {
          "output_type": "stream",
          "name": "stdout",
          "text": [
            "\n",
            "I have received a message. I want to identify whether it's spam or not.\n",
            "If message is spam return “spam”. Otherwise return “ham”. Don’t return anything else.\n",
            "\n",
            "Message:Let me know how it changes in the next 6hrs. It can even be appendix but you are out of that age range. However its not impossible. So just chill and let me know in 6hrs\n",
            "\n",
            "Your answer:\n",
            "spam\n",
            "41\n"
          ]
        },
        {
          "output_type": "stream",
          "name": "stderr",
          "text": [
            "Setting `pad_token_id` to `eos_token_id`:2 for open-end generation.\n"
          ]
        },
        {
          "output_type": "stream",
          "name": "stdout",
          "text": [
            "\n",
            "I have received a message. I want to identify whether it's spam or not.\n",
            "If message is spam return “spam”. Otherwise return “ham”. Don’t return anything else.\n",
            "\n",
            "Message:\"Haha awesome, omw back now then\"\n",
            "\n",
            "Your answer:\n",
            "\n",
            "spam\n",
            "42\n"
          ]
        },
        {
          "output_type": "stream",
          "name": "stderr",
          "text": [
            "Setting `pad_token_id` to `eos_token_id`:2 for open-end generation.\n"
          ]
        },
        {
          "output_type": "stream",
          "name": "stdout",
          "text": [
            "\n",
            "I have received a message. I want to identify whether it's spam or not.\n",
            "If message is spam return “spam”. Otherwise return “ham”. Don’t return anything else.\n",
            "\n",
            "Message:\"I can probably come by, everybody's done around  &lt;#&gt;  right?\"\n",
            "\n",
            "Your answer:\n",
            "spam\n",
            "43\n"
          ]
        },
        {
          "output_type": "stream",
          "name": "stderr",
          "text": [
            "Setting `pad_token_id` to `eos_token_id`:2 for open-end generation.\n"
          ]
        },
        {
          "output_type": "stream",
          "name": "stdout",
          "text": [
            "\n",
            "I have received a message. I want to identify whether it's spam or not.\n",
            "If message is spam return “spam”. Otherwise return “ham”. Don’t return anything else.\n",
            "\n",
            "Message:Hi here. have birth at on the  to  at 8lb 7oz. Mother and baby doing brilliantly.\n",
            "\n",
            "Your answer:\n",
            "spam\n",
            "44\n"
          ]
        },
        {
          "output_type": "stream",
          "name": "stderr",
          "text": [
            "Setting `pad_token_id` to `eos_token_id`:2 for open-end generation.\n"
          ]
        },
        {
          "output_type": "stream",
          "name": "stdout",
          "text": [
            "\n",
            "I have received a message. I want to identify whether it's spam or not.\n",
            "If message is spam return “spam”. Otherwise return “ham”. Don’t return anything else.\n",
            "\n",
            "Message:\"Well done, blimey, exercise, yeah, i kinda remember wot that is, hmm. \"\n",
            "\n",
            "Your answer:\n",
            "\n",
            "spam\n",
            "45\n"
          ]
        },
        {
          "output_type": "stream",
          "name": "stderr",
          "text": [
            "Setting `pad_token_id` to `eos_token_id`:2 for open-end generation.\n"
          ]
        },
        {
          "output_type": "stream",
          "name": "stdout",
          "text": [
            "\n",
            "I have received a message. I want to identify whether it's spam or not.\n",
            "If message is spam return “spam”. Otherwise return “ham”. Don’t return anything else.\n",
            "\n",
            "Message:U don't remember that old commercial?\n",
            "\n",
            "Your answer:\n",
            "spam\n",
            "46\n"
          ]
        },
        {
          "output_type": "stream",
          "name": "stderr",
          "text": [
            "Setting `pad_token_id` to `eos_token_id`:2 for open-end generation.\n"
          ]
        },
        {
          "output_type": "stream",
          "name": "stdout",
          "text": [
            "\n",
            "I have received a message. I want to identify whether it's spam or not.\n",
            "If message is spam return “spam”. Otherwise return “ham”. Don’t return anything else.\n",
            "\n",
            "Message:I think its far more than that but find out. Check google maps for a place from your dorm.\n",
            "\n",
            "Your answer:\n",
            "spam\n",
            "47\n"
          ]
        },
        {
          "output_type": "stream",
          "name": "stderr",
          "text": [
            "Setting `pad_token_id` to `eos_token_id`:2 for open-end generation.\n"
          ]
        },
        {
          "output_type": "stream",
          "name": "stdout",
          "text": [
            "\n",
            "I have received a message. I want to identify whether it's spam or not.\n",
            "If message is spam return “spam”. Otherwise return “ham”. Don’t return anything else.\n",
            "\n",
            "Message:Now project pa. After that only i can come.\n",
            "\n",
            "Your answer:\n",
            "spam\n",
            "48\n"
          ]
        },
        {
          "output_type": "stream",
          "name": "stderr",
          "text": [
            "Setting `pad_token_id` to `eos_token_id`:2 for open-end generation.\n"
          ]
        },
        {
          "output_type": "stream",
          "name": "stdout",
          "text": [
            "\n",
            "I have received a message. I want to identify whether it's spam or not.\n",
            "If message is spam return “spam”. Otherwise return “ham”. Don’t return anything else.\n",
            "\n",
            "Message:Howz pain.it will come down today.do as i said ystrday.ice and medicine.\n",
            "\n",
            "Your answer:\n",
            "spam\n",
            "49\n"
          ]
        },
        {
          "output_type": "stream",
          "name": "stderr",
          "text": [
            "Setting `pad_token_id` to `eos_token_id`:2 for open-end generation.\n"
          ]
        },
        {
          "output_type": "stream",
          "name": "stdout",
          "text": [
            "\n",
            "I have received a message. I want to identify whether it's spam or not.\n",
            "If message is spam return “spam”. Otherwise return “ham”. Don’t return anything else.\n",
            "\n",
            "Message:I am on the way to tirupur.\n",
            "\n",
            "Your answer:\n",
            "spam\n",
            "50\n"
          ]
        },
        {
          "output_type": "stream",
          "name": "stderr",
          "text": [
            "Setting `pad_token_id` to `eos_token_id`:2 for open-end generation.\n"
          ]
        },
        {
          "output_type": "stream",
          "name": "stdout",
          "text": [
            "\n",
            "I have received a message. I want to identify whether it's spam or not.\n",
            "If message is spam return “spam”. Otherwise return “ham”. Don’t return anything else.\n",
            "\n",
            "Message:Can you please send me my aunty's number\n",
            "\n",
            "Your answer:\n",
            "spam\n",
            "51\n"
          ]
        },
        {
          "output_type": "stream",
          "name": "stderr",
          "text": [
            "Setting `pad_token_id` to `eos_token_id`:2 for open-end generation.\n"
          ]
        },
        {
          "output_type": "stream",
          "name": "stdout",
          "text": [
            "\n",
            "I have received a message. I want to identify whether it's spam or not.\n",
            "If message is spam return “spam”. Otherwise return “ham”. Don’t return anything else.\n",
            "\n",
            "Message:Prof: you have passed in all the papers in this sem congrats . . . . Student: Enna kalaachutaarama..!! Prof:???? Gud mrng!\n",
            "\n",
            "Your answer:\n",
            "spam\n",
            "52\n"
          ]
        },
        {
          "output_type": "stream",
          "name": "stderr",
          "text": [
            "Setting `pad_token_id` to `eos_token_id`:2 for open-end generation.\n"
          ]
        },
        {
          "output_type": "stream",
          "name": "stdout",
          "text": [
            "\n",
            "I have received a message. I want to identify whether it's spam or not.\n",
            "If message is spam return “spam”. Otherwise return “ham”. Don’t return anything else.\n",
            "\n",
            "Message:If you're thinking of lifting me one then no.\n",
            "\n",
            "Your answer:\n",
            "spam\n",
            "53\n"
          ]
        },
        {
          "output_type": "stream",
          "name": "stderr",
          "text": [
            "Setting `pad_token_id` to `eos_token_id`:2 for open-end generation.\n"
          ]
        },
        {
          "output_type": "stream",
          "name": "stdout",
          "text": [
            "\n",
            "I have received a message. I want to identify whether it's spam or not.\n",
            "If message is spam return “spam”. Otherwise return “ham”. Don’t return anything else.\n",
            "\n",
            "Message:Get ready for  &lt;#&gt;  inches of pleasure...\n",
            "\n",
            "Your answer:\n",
            "spam\n",
            "54\n"
          ]
        },
        {
          "output_type": "stream",
          "name": "stderr",
          "text": [
            "Setting `pad_token_id` to `eos_token_id`:2 for open-end generation.\n"
          ]
        },
        {
          "output_type": "stream",
          "name": "stdout",
          "text": [
            "\n",
            "I have received a message. I want to identify whether it's spam or not.\n",
            "If message is spam return “spam”. Otherwise return “ham”. Don’t return anything else.\n",
            "\n",
            "Message:No calls..messages..missed calls\n",
            "\n",
            "Your answer:\n",
            "spam\n",
            "55\n"
          ]
        },
        {
          "output_type": "stream",
          "name": "stderr",
          "text": [
            "Setting `pad_token_id` to `eos_token_id`:2 for open-end generation.\n"
          ]
        },
        {
          "output_type": "stream",
          "name": "stdout",
          "text": [
            "\n",
            "I have received a message. I want to identify whether it's spam or not.\n",
            "If message is spam return “spam”. Otherwise return “ham”. Don’t return anything else.\n",
            "\n",
            "Message:\"Night night, see you tomorrow\"\n",
            "\n",
            "Your answer:\n",
            "\n",
            "\"spam\"\n",
            "56\n"
          ]
        },
        {
          "output_type": "stream",
          "name": "stderr",
          "text": [
            "Setting `pad_token_id` to `eos_token_id`:2 for open-end generation.\n"
          ]
        },
        {
          "output_type": "stream",
          "name": "stdout",
          "text": [
            "\n",
            "I have received a message. I want to identify whether it's spam or not.\n",
            "If message is spam return “spam”. Otherwise return “ham”. Don’t return anything else.\n",
            "\n",
            "Message:Indeed and by the way it was either or - not both !\n",
            "\n",
            "Your answer:\n",
            "spam\n",
            "57\n"
          ]
        },
        {
          "output_type": "stream",
          "name": "stderr",
          "text": [
            "Setting `pad_token_id` to `eos_token_id`:2 for open-end generation.\n"
          ]
        },
        {
          "output_type": "stream",
          "name": "stdout",
          "text": [
            "\n",
            "I have received a message. I want to identify whether it's spam or not.\n",
            "If message is spam return “spam”. Otherwise return “ham”. Don’t return anything else.\n",
            "\n",
            "Message:\"The affidavit says  &lt;#&gt;  E Twiggs St, division g, courtroom  &lt;#&gt; , &lt;TIME&gt;  AM. I'll double check and text you again tomorrow\"\n",
            "\n",
            "Your answer:\n",
            "spam\n",
            "58\n"
          ]
        },
        {
          "output_type": "stream",
          "name": "stderr",
          "text": [
            "Setting `pad_token_id` to `eos_token_id`:2 for open-end generation.\n"
          ]
        },
        {
          "output_type": "stream",
          "name": "stdout",
          "text": [
            "\n",
            "I have received a message. I want to identify whether it's spam or not.\n",
            "If message is spam return “spam”. Otherwise return “ham”. Don’t return anything else.\n",
            "\n",
            "Message:Dont think you need yellow card for uk travel. Ask someone that has gone before. If you do its just  &lt;#&gt; bucks\n",
            "\n",
            "Your answer:\n",
            "spam\n",
            "59\n"
          ]
        },
        {
          "output_type": "stream",
          "name": "stderr",
          "text": [
            "Setting `pad_token_id` to `eos_token_id`:2 for open-end generation.\n"
          ]
        },
        {
          "output_type": "stream",
          "name": "stdout",
          "text": [
            "\n",
            "I have received a message. I want to identify whether it's spam or not.\n",
            "If message is spam return “spam”. Otherwise return “ham”. Don’t return anything else.\n",
            "\n",
            "Message:\"Sorry da thangam, very very sorry i am held up with prasad.\"\n",
            "\n",
            "Your answer:\n",
            "spam\n",
            "60\n"
          ]
        },
        {
          "output_type": "stream",
          "name": "stderr",
          "text": [
            "Setting `pad_token_id` to `eos_token_id`:2 for open-end generation.\n"
          ]
        },
        {
          "output_type": "stream",
          "name": "stdout",
          "text": [
            "\n",
            "I have received a message. I want to identify whether it's spam or not.\n",
            "If message is spam return “spam”. Otherwise return “ham”. Don’t return anything else.\n",
            "\n",
            "Message:Got but got 2 colours lor. One colour is quite light n e other is darker lor. Actually i'm done she's styling my hair now.\n",
            "\n",
            "Your answer:\n",
            "spam\n",
            "61\n"
          ]
        },
        {
          "output_type": "stream",
          "name": "stderr",
          "text": [
            "Setting `pad_token_id` to `eos_token_id`:2 for open-end generation.\n"
          ]
        },
        {
          "output_type": "stream",
          "name": "stdout",
          "text": [
            "\n",
            "I have received a message. I want to identify whether it's spam or not.\n",
            "If message is spam return “spam”. Otherwise return “ham”. Don’t return anything else.\n",
            "\n",
            "Message:He remains a bro amongst bros\n",
            "\n",
            "Your answer:\n",
            "spam\n",
            "62\n"
          ]
        },
        {
          "output_type": "stream",
          "name": "stderr",
          "text": [
            "Setting `pad_token_id` to `eos_token_id`:2 for open-end generation.\n"
          ]
        },
        {
          "output_type": "stream",
          "name": "stdout",
          "text": [
            "\n",
            "I have received a message. I want to identify whether it's spam or not.\n",
            "If message is spam return “spam”. Otherwise return “ham”. Don’t return anything else.\n",
            "\n",
            "Message:Missed your call cause I was yelling at scrappy. Miss u. Can't wait for u to come home. I'm so lonely today.\n",
            "\n",
            "Your answer:\n",
            "spam\n",
            "63\n"
          ]
        },
        {
          "output_type": "stream",
          "name": "stderr",
          "text": [
            "Setting `pad_token_id` to `eos_token_id`:2 for open-end generation.\n"
          ]
        },
        {
          "output_type": "stream",
          "name": "stdout",
          "text": [
            "\n",
            "I have received a message. I want to identify whether it's spam or not.\n",
            "If message is spam return “spam”. Otherwise return “ham”. Don’t return anything else.\n",
            "\n",
            "Message:\"HEY THERE BABE, HOW U DOIN? WOT U UP 2 2NITE LOVE ANNIE X.\"\n",
            "\n",
            "Your answer:\n",
            "spam\n",
            "64\n"
          ]
        },
        {
          "output_type": "stream",
          "name": "stderr",
          "text": [
            "Setting `pad_token_id` to `eos_token_id`:2 for open-end generation.\n"
          ]
        },
        {
          "output_type": "stream",
          "name": "stdout",
          "text": [
            "\n",
            "I have received a message. I want to identify whether it's spam or not.\n",
            "If message is spam return “spam”. Otherwise return “ham”. Don’t return anything else.\n",
            "\n",
            "Message:Hows the pain dear?y r u smiling?\n",
            "\n",
            "Your answer:\n",
            "spam\n",
            "65\n"
          ]
        },
        {
          "output_type": "stream",
          "name": "stderr",
          "text": [
            "Setting `pad_token_id` to `eos_token_id`:2 for open-end generation.\n"
          ]
        },
        {
          "output_type": "stream",
          "name": "stdout",
          "text": [
            "\n",
            "I have received a message. I want to identify whether it's spam or not.\n",
            "If message is spam return “spam”. Otherwise return “ham”. Don’t return anything else.\n",
            "\n",
            "Message:Hiya do u like the hlday pics looked horrible in them so took mo out! Hows the camp Amrca thing? Speak soon Serena:)\n",
            "\n",
            "Your answer:\n",
            "spam\n",
            "66\n"
          ]
        },
        {
          "output_type": "stream",
          "name": "stderr",
          "text": [
            "Setting `pad_token_id` to `eos_token_id`:2 for open-end generation.\n"
          ]
        },
        {
          "output_type": "stream",
          "name": "stdout",
          "text": [
            "\n",
            "I have received a message. I want to identify whether it's spam or not.\n",
            "If message is spam return “spam”. Otherwise return “ham”. Don’t return anything else.\n",
            "\n",
            "Message:Well its not like you actually called someone a punto. That woulda been worse.\n",
            "\n",
            "Your answer:\n",
            "spam\n",
            "67\n"
          ]
        },
        {
          "output_type": "stream",
          "name": "stderr",
          "text": [
            "Setting `pad_token_id` to `eos_token_id`:2 for open-end generation.\n"
          ]
        },
        {
          "output_type": "stream",
          "name": "stdout",
          "text": [
            "\n",
            "I have received a message. I want to identify whether it's spam or not.\n",
            "If message is spam return “spam”. Otherwise return “ham”. Don’t return anything else.\n",
            "\n",
            "Message:And whenever you and i see we can still hook up too.\n",
            "\n",
            "Your answer:\n",
            "spam\n",
            "68\n"
          ]
        },
        {
          "output_type": "stream",
          "name": "stderr",
          "text": [
            "Setting `pad_token_id` to `eos_token_id`:2 for open-end generation.\n"
          ]
        },
        {
          "output_type": "stream",
          "name": "stdout",
          "text": [
            "\n",
            "I have received a message. I want to identify whether it's spam or not.\n",
            "If message is spam return “spam”. Otherwise return “ham”. Don’t return anything else.\n",
            "\n",
            "Message:Jus finish bathing...\n",
            "\n",
            "Your answer:\n",
            "\n",
            "spam\n",
            "69\n"
          ]
        },
        {
          "output_type": "stream",
          "name": "stderr",
          "text": [
            "Setting `pad_token_id` to `eos_token_id`:2 for open-end generation.\n"
          ]
        },
        {
          "output_type": "stream",
          "name": "stdout",
          "text": [
            "\n",
            "I have received a message. I want to identify whether it's spam or not.\n",
            "If message is spam return “spam”. Otherwise return “ham”. Don’t return anything else.\n",
            "\n",
            "Message:Remind me how to get there and I shall do so\n",
            "\n",
            "Your answer:\n",
            "spam\n",
            "70\n"
          ]
        },
        {
          "output_type": "stream",
          "name": "stderr",
          "text": [
            "Setting `pad_token_id` to `eos_token_id`:2 for open-end generation.\n"
          ]
        },
        {
          "output_type": "stream",
          "name": "stdout",
          "text": [
            "\n",
            "I have received a message. I want to identify whether it's spam or not.\n",
            "If message is spam return “spam”. Otherwise return “ham”. Don’t return anything else.\n",
            "\n",
            "Message:\"Hello, As per request from  &lt;#&gt;  Rs.5 has been transfered to you\"\n",
            "\n",
            "Your answer:\n",
            "spam\n",
            "71\n"
          ]
        },
        {
          "output_type": "stream",
          "name": "stderr",
          "text": [
            "Setting `pad_token_id` to `eos_token_id`:2 for open-end generation.\n"
          ]
        },
        {
          "output_type": "stream",
          "name": "stdout",
          "text": [
            "\n",
            "I have received a message. I want to identify whether it's spam or not.\n",
            "If message is spam return “spam”. Otherwise return “ham”. Don’t return anything else.\n",
            "\n",
            "Message:\"Well, I have to leave for my class babe ... You never came back to me ... :-( ... Hope you have a nice sleep, my love\"\n",
            "\n",
            "Your answer:\n",
            "spam\n",
            "72\n"
          ]
        },
        {
          "output_type": "stream",
          "name": "stderr",
          "text": [
            "Setting `pad_token_id` to `eos_token_id`:2 for open-end generation.\n"
          ]
        },
        {
          "output_type": "stream",
          "name": "stdout",
          "text": [
            "\n",
            "I have received a message. I want to identify whether it's spam or not.\n",
            "If message is spam return “spam”. Otherwise return “ham”. Don’t return anything else.\n",
            "\n",
            "Message:Those ducking chinchillas\n",
            "\n",
            "Your answer:\n",
            "spam\n",
            "73\n"
          ]
        },
        {
          "output_type": "stream",
          "name": "stderr",
          "text": [
            "Setting `pad_token_id` to `eos_token_id`:2 for open-end generation.\n"
          ]
        },
        {
          "output_type": "stream",
          "name": "stdout",
          "text": [
            "\n",
            "I have received a message. I want to identify whether it's spam or not.\n",
            "If message is spam return “spam”. Otherwise return “ham”. Don’t return anything else.\n",
            "\n",
            "Message:Are you there in room.\n",
            "\n",
            "Your answer:\n",
            "spam\n",
            "74\n"
          ]
        },
        {
          "output_type": "stream",
          "name": "stderr",
          "text": [
            "Setting `pad_token_id` to `eos_token_id`:2 for open-end generation.\n"
          ]
        },
        {
          "output_type": "stream",
          "name": "stdout",
          "text": [
            "\n",
            "I have received a message. I want to identify whether it's spam or not.\n",
            "If message is spam return “spam”. Otherwise return “ham”. Don’t return anything else.\n",
            "\n",
            "Message:Not sure I have the stomach for it ...\n",
            "\n",
            "Your answer:\n",
            "spam\n",
            "75\n"
          ]
        },
        {
          "output_type": "stream",
          "name": "stderr",
          "text": [
            "Setting `pad_token_id` to `eos_token_id`:2 for open-end generation.\n"
          ]
        },
        {
          "output_type": "stream",
          "name": "stdout",
          "text": [
            "\n",
            "I have received a message. I want to identify whether it's spam or not.\n",
            "If message is spam return “spam”. Otherwise return “ham”. Don’t return anything else.\n",
            "\n",
            "Message:Its sunny in california. The weather's just cool\n",
            "\n",
            "Your answer:\n",
            "spam\n",
            "76\n"
          ]
        },
        {
          "output_type": "stream",
          "name": "stderr",
          "text": [
            "Setting `pad_token_id` to `eos_token_id`:2 for open-end generation.\n"
          ]
        },
        {
          "output_type": "stream",
          "name": "stdout",
          "text": [
            "\n",
            "I have received a message. I want to identify whether it's spam or not.\n",
            "If message is spam return “spam”. Otherwise return “ham”. Don’t return anything else.\n",
            "\n",
            "Message:\"HI HUN! IM NOT COMIN 2NITE-TELL EVERY1 IM SORRY 4 ME, HOPE U AVA GOODTIME!OLI RANG MELNITE IFINK IT MITE B SORTED,BUT IL EXPLAIN EVERYTHIN ON MON.L8RS.x\"\n",
            "\n",
            "Your answer:\n",
            "spam\n",
            "77\n"
          ]
        },
        {
          "output_type": "stream",
          "name": "stderr",
          "text": [
            "Setting `pad_token_id` to `eos_token_id`:2 for open-end generation.\n"
          ]
        },
        {
          "output_type": "stream",
          "name": "stdout",
          "text": [
            "\n",
            "I have received a message. I want to identify whether it's spam or not.\n",
            "If message is spam return “spam”. Otherwise return “ham”. Don’t return anything else.\n",
            "\n",
            "Message:I.ll give her once i have it. Plus she said grinule greet you whenever we speak\n",
            "\n",
            "Your answer:\n",
            "spam\n",
            "78\n"
          ]
        },
        {
          "output_type": "stream",
          "name": "stderr",
          "text": [
            "Setting `pad_token_id` to `eos_token_id`:2 for open-end generation.\n"
          ]
        },
        {
          "output_type": "stream",
          "name": "stdout",
          "text": [
            "\n",
            "I have received a message. I want to identify whether it's spam or not.\n",
            "If message is spam return “spam”. Otherwise return “ham”. Don’t return anything else.\n",
            "\n",
            "Message:I wont do anything de.\n",
            "\n",
            "Your answer:\n",
            "spam\n",
            "79\n"
          ]
        },
        {
          "output_type": "stream",
          "name": "stderr",
          "text": [
            "Setting `pad_token_id` to `eos_token_id`:2 for open-end generation.\n"
          ]
        },
        {
          "output_type": "stream",
          "name": "stdout",
          "text": [
            "\n",
            "I have received a message. I want to identify whether it's spam or not.\n",
            "If message is spam return “spam”. Otherwise return “ham”. Don’t return anything else.\n",
            "\n",
            "Message:Siva is in hostel aha:-.\n",
            "\n",
            "Your answer:\n",
            "spam\n",
            "80\n"
          ]
        },
        {
          "output_type": "stream",
          "name": "stderr",
          "text": [
            "Setting `pad_token_id` to `eos_token_id`:2 for open-end generation.\n"
          ]
        },
        {
          "output_type": "stream",
          "name": "stdout",
          "text": [
            "\n",
            "I have received a message. I want to identify whether it's spam or not.\n",
            "If message is spam return “spam”. Otherwise return “ham”. Don’t return anything else.\n",
            "\n",
            "Message:\"Yar lor he wan 2 go c horse racing today mah, so eat earlier lor. I ate chicken rice. U?\"\n",
            "\n",
            "Your answer:\n",
            "spam\n",
            "81\n"
          ]
        },
        {
          "output_type": "stream",
          "name": "stderr",
          "text": [
            "Setting `pad_token_id` to `eos_token_id`:2 for open-end generation.\n"
          ]
        },
        {
          "output_type": "stream",
          "name": "stdout",
          "text": [
            "\n",
            "I have received a message. I want to identify whether it's spam or not.\n",
            "If message is spam return “spam”. Otherwise return “ham”. Don’t return anything else.\n",
            "\n",
            "Message:I cant pick the phone right now. Pls send a message\n",
            "\n",
            "Your answer:\n",
            "spam\n",
            "82\n"
          ]
        },
        {
          "output_type": "stream",
          "name": "stderr",
          "text": [
            "Setting `pad_token_id` to `eos_token_id`:2 for open-end generation.\n"
          ]
        },
        {
          "output_type": "stream",
          "name": "stdout",
          "text": [
            "\n",
            "I have received a message. I want to identify whether it's spam or not.\n",
            "If message is spam return “spam”. Otherwise return “ham”. Don’t return anything else.\n",
            "\n",
            "Message:\"The world is running and i am still.maybe all are feeling the same,so be it.or i have to admit,i am mad.then where is the correction?or let me call this is life.and keep running with the world,may be u r also running.lets run.\"\n",
            "\n",
            "Your answer:\n",
            "spam\n",
            "83\n"
          ]
        },
        {
          "output_type": "stream",
          "name": "stderr",
          "text": [
            "Setting `pad_token_id` to `eos_token_id`:2 for open-end generation.\n"
          ]
        },
        {
          "output_type": "stream",
          "name": "stdout",
          "text": [
            "\n",
            "I have received a message. I want to identify whether it's spam or not.\n",
            "If message is spam return “spam”. Otherwise return “ham”. Don’t return anything else.\n",
            "\n",
            "Message:Long after I quit. I get on only like 5 minutes a day as it is.\n",
            "\n",
            "Your answer:\n",
            "spam\n",
            "84\n"
          ]
        },
        {
          "output_type": "stream",
          "name": "stderr",
          "text": [
            "Setting `pad_token_id` to `eos_token_id`:2 for open-end generation.\n"
          ]
        },
        {
          "output_type": "stream",
          "name": "stdout",
          "text": [
            "\n",
            "I have received a message. I want to identify whether it's spam or not.\n",
            "If message is spam return “spam”. Otherwise return “ham”. Don’t return anything else.\n",
            "\n",
            "Message:\"Hiya , have u been paying money into my account? If so, thanks. Got a pleasant surprise when i checked my balance -u c, i don't get statements 4 that acc\"\n",
            "\n",
            "Your answer:\n",
            "spam\n",
            "85\n"
          ]
        },
        {
          "output_type": "stream",
          "name": "stderr",
          "text": [
            "Setting `pad_token_id` to `eos_token_id`:2 for open-end generation.\n"
          ]
        },
        {
          "output_type": "stream",
          "name": "stdout",
          "text": [
            "\n",
            "I have received a message. I want to identify whether it's spam or not.\n",
            "If message is spam return “spam”. Otherwise return “ham”. Don’t return anything else.\n",
            "\n",
            "Message:I will come tomorrow di\n",
            "\n",
            "Your answer:\n",
            "spam\n",
            "86\n"
          ]
        },
        {
          "output_type": "stream",
          "name": "stderr",
          "text": [
            "Setting `pad_token_id` to `eos_token_id`:2 for open-end generation.\n"
          ]
        },
        {
          "output_type": "stream",
          "name": "stdout",
          "text": [
            "\n",
            "I have received a message. I want to identify whether it's spam or not.\n",
            "If message is spam return “spam”. Otherwise return “ham”. Don’t return anything else.\n",
            "\n",
            "Message:Dont put your phone on silent mode ok\n",
            "\n",
            "Your answer:\n",
            "spam\n",
            "87\n"
          ]
        },
        {
          "output_type": "stream",
          "name": "stderr",
          "text": [
            "Setting `pad_token_id` to `eos_token_id`:2 for open-end generation.\n"
          ]
        },
        {
          "output_type": "stream",
          "name": "stdout",
          "text": [
            "\n",
            "I have received a message. I want to identify whether it's spam or not.\n",
            "If message is spam return “spam”. Otherwise return “ham”. Don’t return anything else.\n",
            "\n",
            "Message:I HAVE A DATE ON SUNDAY WITH WILL!!\n",
            "\n",
            "Your answer:\n",
            "spam\n",
            "88\n"
          ]
        },
        {
          "output_type": "stream",
          "name": "stderr",
          "text": [
            "Setting `pad_token_id` to `eos_token_id`:2 for open-end generation.\n"
          ]
        },
        {
          "output_type": "stream",
          "name": "stdout",
          "text": [
            "\n",
            "I have received a message. I want to identify whether it's spam or not.\n",
            "If message is spam return “spam”. Otherwise return “ham”. Don’t return anything else.\n",
            "\n",
            "Message:\\Hey j! r u feeling any better\n",
            "\n",
            "Your answer:\n",
            "spam\n",
            "89\n"
          ]
        },
        {
          "output_type": "stream",
          "name": "stderr",
          "text": [
            "Setting `pad_token_id` to `eos_token_id`:2 for open-end generation.\n"
          ]
        },
        {
          "output_type": "stream",
          "name": "stdout",
          "text": [
            "\n",
            "I have received a message. I want to identify whether it's spam or not.\n",
            "If message is spam return “spam”. Otherwise return “ham”. Don’t return anything else.\n",
            "\n",
            "Message:Oh Howda gud gud.. Mathe en samachara chikku:-)\n",
            "\n",
            "Your answer:\n",
            "spam\n",
            "90\n"
          ]
        },
        {
          "output_type": "stream",
          "name": "stderr",
          "text": [
            "Setting `pad_token_id` to `eos_token_id`:2 for open-end generation.\n"
          ]
        },
        {
          "output_type": "stream",
          "name": "stdout",
          "text": [
            "\n",
            "I have received a message. I want to identify whether it's spam or not.\n",
            "If message is spam return “spam”. Otherwise return “ham”. Don’t return anything else.\n",
            "\n",
            "Message:\"Hmm, too many of them unfortunately... Pics obviously arent hot cakes. Its kinda fun tho\"\n",
            "\n",
            "Your answer:\n",
            "spam\n",
            "91\n"
          ]
        },
        {
          "output_type": "stream",
          "name": "stderr",
          "text": [
            "Setting `pad_token_id` to `eos_token_id`:2 for open-end generation.\n"
          ]
        },
        {
          "output_type": "stream",
          "name": "stdout",
          "text": [
            "\n",
            "I have received a message. I want to identify whether it's spam or not.\n",
            "If message is spam return “spam”. Otherwise return “ham”. Don’t return anything else.\n",
            "\n",
            "Message:She doesnt need any test.\n",
            "\n",
            "Your answer:\n",
            "spam\n",
            "92\n"
          ]
        },
        {
          "output_type": "stream",
          "name": "stderr",
          "text": [
            "Setting `pad_token_id` to `eos_token_id`:2 for open-end generation.\n"
          ]
        },
        {
          "output_type": "stream",
          "name": "stdout",
          "text": [
            "\n",
            "I have received a message. I want to identify whether it's spam or not.\n",
            "If message is spam return “spam”. Otherwise return “ham”. Don’t return anything else.\n",
            "\n",
            "Message:Die... I accidentally deleted e msg i suppose 2 put in e sim archive. Haiz... I so sad...\n",
            "\n",
            "Your answer:\n",
            "spam\n",
            "93\n"
          ]
        },
        {
          "output_type": "stream",
          "name": "stderr",
          "text": [
            "Setting `pad_token_id` to `eos_token_id`:2 for open-end generation.\n"
          ]
        },
        {
          "output_type": "stream",
          "name": "stdout",
          "text": [
            "\n",
            "I have received a message. I want to identify whether it's spam or not.\n",
            "If message is spam return “spam”. Otherwise return “ham”. Don’t return anything else.\n",
            "\n",
            "Message:Sun ah... Thk mayb can if dun have anythin on... Thk have to book e lesson... E pilates is at orchard mrt u noe hor...\n",
            "\n",
            "Your answer:\n",
            "spam\n",
            "94\n"
          ]
        },
        {
          "output_type": "stream",
          "name": "stderr",
          "text": [
            "Setting `pad_token_id` to `eos_token_id`:2 for open-end generation.\n"
          ]
        },
        {
          "output_type": "stream",
          "name": "stdout",
          "text": [
            "\n",
            "I have received a message. I want to identify whether it's spam or not.\n",
            "If message is spam return “spam”. Otherwise return “ham”. Don’t return anything else.\n",
            "\n",
            "Message:\"Rose needs water, season needs change, poet needs imagination..My phone needs ur sms and i need ur lovely frndship forever....\"\n",
            "\n",
            "Your answer:\n",
            "spam\n",
            "95\n"
          ]
        },
        {
          "output_type": "stream",
          "name": "stderr",
          "text": [
            "Setting `pad_token_id` to `eos_token_id`:2 for open-end generation.\n"
          ]
        },
        {
          "output_type": "stream",
          "name": "stdout",
          "text": [
            "\n",
            "I have received a message. I want to identify whether it's spam or not.\n",
            "If message is spam return “spam”. Otherwise return “ham”. Don’t return anything else.\n",
            "\n",
            "Message:Ok i juz receive..\n",
            "\n",
            "Your answer:\n",
            "spam\n",
            "96\n"
          ]
        },
        {
          "output_type": "stream",
          "name": "stderr",
          "text": [
            "Setting `pad_token_id` to `eos_token_id`:2 for open-end generation.\n"
          ]
        },
        {
          "output_type": "stream",
          "name": "stdout",
          "text": [
            "\n",
            "I have received a message. I want to identify whether it's spam or not.\n",
            "If message is spam return “spam”. Otherwise return “ham”. Don’t return anything else.\n",
            "\n",
            "Message:Mom wants to know where you at\n",
            "\n",
            "Your answer:\n",
            "spam\n",
            "97\n"
          ]
        },
        {
          "output_type": "stream",
          "name": "stderr",
          "text": [
            "Setting `pad_token_id` to `eos_token_id`:2 for open-end generation.\n"
          ]
        },
        {
          "output_type": "stream",
          "name": "stdout",
          "text": [
            "\n",
            "I have received a message. I want to identify whether it's spam or not.\n",
            "If message is spam return “spam”. Otherwise return “ham”. Don’t return anything else.\n",
            "\n",
            "Message:\"I am late,so call you tomorrow morning.take care sweet dreams....u and me...ummifying...bye.\"\n",
            "\n",
            "Your answer:\n",
            "spam\n",
            "98\n"
          ]
        },
        {
          "output_type": "stream",
          "name": "stderr",
          "text": [
            "Setting `pad_token_id` to `eos_token_id`:2 for open-end generation.\n"
          ]
        },
        {
          "output_type": "stream",
          "name": "stdout",
          "text": [
            "\n",
            "I have received a message. I want to identify whether it's spam or not.\n",
            "If message is spam return “spam”. Otherwise return “ham”. Don’t return anything else.\n",
            "\n",
            "Message:\"Kate jackson rec center before 7ish, right?\"\n",
            "\n",
            "Your answer:\n",
            "spam\n",
            "99\n"
          ]
        },
        {
          "output_type": "stream",
          "name": "stderr",
          "text": [
            "Setting `pad_token_id` to `eos_token_id`:2 for open-end generation.\n"
          ]
        },
        {
          "output_type": "stream",
          "name": "stdout",
          "text": [
            "\n",
            "I have received a message. I want to identify whether it's spam or not.\n",
            "If message is spam return “spam”. Otherwise return “ham”. Don’t return anything else.\n",
            "\n",
            "Message:Good afternoon starshine! How's my boytoy? Does he crave me yet? Ache to fuck me ? *sips cappuccino* I miss you babe *teasing kiss*\n",
            "\n",
            "Your answer:\n",
            "spam\n",
            "100\n"
          ]
        },
        {
          "output_type": "stream",
          "name": "stderr",
          "text": [
            "Setting `pad_token_id` to `eos_token_id`:2 for open-end generation.\n"
          ]
        },
        {
          "output_type": "stream",
          "name": "stdout",
          "text": [
            "\n",
            "I have received a message. I want to identify whether it's spam or not.\n",
            "If message is spam return “spam”. Otherwise return “ham”. Don’t return anything else.\n",
            "\n",
            "Message:Its sarcasm.. .nt scarcasim\n",
            "\n",
            "Your answer:\n",
            "spam\n",
            "101\n"
          ]
        },
        {
          "output_type": "stream",
          "name": "stderr",
          "text": [
            "Setting `pad_token_id` to `eos_token_id`:2 for open-end generation.\n"
          ]
        },
        {
          "output_type": "stream",
          "name": "stdout",
          "text": [
            "\n",
            "I have received a message. I want to identify whether it's spam or not.\n",
            "If message is spam return “spam”. Otherwise return “ham”. Don’t return anything else.\n",
            "\n",
            "Message:Go where n buy? Juz buy when we get there lar.\n",
            "\n",
            "Your answer:\n",
            "spam\n",
            "102\n"
          ]
        },
        {
          "output_type": "stream",
          "name": "stderr",
          "text": [
            "Setting `pad_token_id` to `eos_token_id`:2 for open-end generation.\n"
          ]
        },
        {
          "output_type": "stream",
          "name": "stdout",
          "text": [
            "\n",
            "I have received a message. I want to identify whether it's spam or not.\n",
            "If message is spam return “spam”. Otherwise return “ham”. Don’t return anything else.\n",
            "\n",
            "Message:Im done. Just studyn in library\n",
            "\n",
            "Your answer:\n",
            "spam\n",
            "103\n"
          ]
        },
        {
          "output_type": "stream",
          "name": "stderr",
          "text": [
            "Setting `pad_token_id` to `eos_token_id`:2 for open-end generation.\n"
          ]
        },
        {
          "output_type": "stream",
          "name": "stdout",
          "text": [
            "\n",
            "I have received a message. I want to identify whether it's spam or not.\n",
            "If message is spam return “spam”. Otherwise return “ham”. Don’t return anything else.\n",
            "\n",
            "Message:\"Its ok., i just askd did u knw tht no?\"\n",
            "\n",
            "Your answer:\n",
            "spam\n",
            "104\n"
          ]
        },
        {
          "output_type": "stream",
          "name": "stderr",
          "text": [
            "Setting `pad_token_id` to `eos_token_id`:2 for open-end generation.\n"
          ]
        },
        {
          "output_type": "stream",
          "name": "stdout",
          "text": [
            "\n",
            "I have received a message. I want to identify whether it's spam or not.\n",
            "If message is spam return “spam”. Otherwise return “ham”. Don’t return anything else.\n",
            "\n",
            "Message:What time you coming down later?\n",
            "\n",
            "Your answer:\n",
            "spam\n",
            "105\n"
          ]
        },
        {
          "output_type": "stream",
          "name": "stderr",
          "text": [
            "Setting `pad_token_id` to `eos_token_id`:2 for open-end generation.\n"
          ]
        },
        {
          "output_type": "stream",
          "name": "stdout",
          "text": [
            "\n",
            "I have received a message. I want to identify whether it's spam or not.\n",
            "If message is spam return “spam”. Otherwise return “ham”. Don’t return anything else.\n",
            "\n",
            "Message:Smith waste da.i wanna gayle.\n",
            "\n",
            "Your answer:\n",
            "spam\n",
            "106\n"
          ]
        },
        {
          "output_type": "stream",
          "name": "stderr",
          "text": [
            "Setting `pad_token_id` to `eos_token_id`:2 for open-end generation.\n"
          ]
        },
        {
          "output_type": "stream",
          "name": "stdout",
          "text": [
            "\n",
            "I have received a message. I want to identify whether it's spam or not.\n",
            "If message is spam return “spam”. Otherwise return “ham”. Don’t return anything else.\n",
            "\n",
            "Message:\"Its ok, called mom instead have fun\"\n",
            "\n",
            "Your answer:\n",
            "\n",
            "spam\n",
            "107\n"
          ]
        },
        {
          "output_type": "stream",
          "name": "stderr",
          "text": [
            "Setting `pad_token_id` to `eos_token_id`:2 for open-end generation.\n"
          ]
        },
        {
          "output_type": "stream",
          "name": "stdout",
          "text": [
            "\n",
            "I have received a message. I want to identify whether it's spam or not.\n",
            "If message is spam return “spam”. Otherwise return “ham”. Don’t return anything else.\n",
            "\n",
            "Message:\"Dear friends, sorry for the late information. Today is the birthday of our loving Ar.Praveesh. for more details log on to face book and see. Its his number + &lt;#&gt; . Dont miss a delicious treat.\"\n",
            "\n",
            "Your answer:\n",
            "spam\n",
            "108\n"
          ]
        },
        {
          "output_type": "stream",
          "name": "stderr",
          "text": [
            "Setting `pad_token_id` to `eos_token_id`:2 for open-end generation.\n"
          ]
        },
        {
          "output_type": "stream",
          "name": "stdout",
          "text": [
            "\n",
            "I have received a message. I want to identify whether it's spam or not.\n",
            "If message is spam return “spam”. Otherwise return “ham”. Don’t return anything else.\n",
            "\n",
            "Message:Ok no prob. Take ur time.\n",
            "\n",
            "Your answer:\n",
            "spam\n",
            "109\n"
          ]
        },
        {
          "output_type": "stream",
          "name": "stderr",
          "text": [
            "Setting `pad_token_id` to `eos_token_id`:2 for open-end generation.\n"
          ]
        },
        {
          "output_type": "stream",
          "name": "stdout",
          "text": [
            "\n",
            "I have received a message. I want to identify whether it's spam or not.\n",
            "If message is spam return “spam”. Otherwise return “ham”. Don’t return anything else.\n",
            "\n",
            "Message:Let me know how to contact you. I've you settled in a room. Lets know you are ok.\n",
            "\n",
            "Your answer:\n",
            "spam\n",
            "110\n"
          ]
        },
        {
          "output_type": "stream",
          "name": "stderr",
          "text": [
            "Setting `pad_token_id` to `eos_token_id`:2 for open-end generation.\n"
          ]
        },
        {
          "output_type": "stream",
          "name": "stdout",
          "text": [
            "\n",
            "I have received a message. I want to identify whether it's spam or not.\n",
            "If message is spam return “spam”. Otherwise return “ham”. Don’t return anything else.\n",
            "\n",
            "Message:Hey sexy buns! What of that day? No word from you this morning on YM ... :-( ... I think of you\n",
            "\n",
            "Your answer:\n",
            "spam\n",
            "111\n"
          ]
        },
        {
          "output_type": "stream",
          "name": "stderr",
          "text": [
            "Setting `pad_token_id` to `eos_token_id`:2 for open-end generation.\n"
          ]
        },
        {
          "output_type": "stream",
          "name": "stdout",
          "text": [
            "\n",
            "I have received a message. I want to identify whether it's spam or not.\n",
            "If message is spam return “spam”. Otherwise return “ham”. Don’t return anything else.\n",
            "\n",
            "Message:I am joining today formally.Pls keep praying.will talk later.\n",
            "\n",
            "Your answer:\n",
            "spam\n",
            "112\n"
          ]
        },
        {
          "output_type": "stream",
          "name": "stderr",
          "text": [
            "Setting `pad_token_id` to `eos_token_id`:2 for open-end generation.\n"
          ]
        },
        {
          "output_type": "stream",
          "name": "stdout",
          "text": [
            "\n",
            "I have received a message. I want to identify whether it's spam or not.\n",
            "If message is spam return “spam”. Otherwise return “ham”. Don’t return anything else.\n",
            "\n",
            "Message:\"Not yet chikku..going to room nw, i'm in bus..\"\n",
            "\n",
            "Your answer:\n",
            "\n",
            "spam\n",
            "113\n"
          ]
        },
        {
          "output_type": "stream",
          "name": "stderr",
          "text": [
            "Setting `pad_token_id` to `eos_token_id`:2 for open-end generation.\n"
          ]
        },
        {
          "output_type": "stream",
          "name": "stdout",
          "text": [
            "\n",
            "I have received a message. I want to identify whether it's spam or not.\n",
            "If message is spam return “spam”. Otherwise return “ham”. Don’t return anything else.\n",
            "\n",
            "Message:U definitely need a module from e humanities dis sem izzit? U wan 2 take other modules 1st?\n",
            "\n",
            "Your answer:\n",
            "spam\n",
            "114\n"
          ]
        },
        {
          "output_type": "stream",
          "name": "stderr",
          "text": [
            "Setting `pad_token_id` to `eos_token_id`:2 for open-end generation.\n"
          ]
        },
        {
          "output_type": "stream",
          "name": "stdout",
          "text": [
            "\n",
            "I have received a message. I want to identify whether it's spam or not.\n",
            "If message is spam return “spam”. Otherwise return “ham”. Don’t return anything else.\n",
            "\n",
            "Message:I dont have i shall buy one dear\n",
            "\n",
            "Your answer:\n",
            "spam\n",
            "115\n"
          ]
        },
        {
          "output_type": "stream",
          "name": "stderr",
          "text": [
            "Setting `pad_token_id` to `eos_token_id`:2 for open-end generation.\n"
          ]
        },
        {
          "output_type": "stream",
          "name": "stdout",
          "text": [
            "\n",
            "I have received a message. I want to identify whether it's spam or not.\n",
            "If message is spam return “spam”. Otherwise return “ham”. Don’t return anything else.\n",
            "\n",
            "Message:Huh y lei...\n",
            "\n",
            "Your answer:\n",
            "spam\n",
            "116\n"
          ]
        },
        {
          "output_type": "stream",
          "name": "stderr",
          "text": [
            "Setting `pad_token_id` to `eos_token_id`:2 for open-end generation.\n"
          ]
        },
        {
          "output_type": "stream",
          "name": "stdout",
          "text": [
            "\n",
            "I have received a message. I want to identify whether it's spam or not.\n",
            "If message is spam return “spam”. Otherwise return “ham”. Don’t return anything else.\n",
            "\n",
            "Message:How are you. Wish you a great semester\n",
            "\n",
            "Your answer:\n",
            "spam\n",
            "117\n"
          ]
        },
        {
          "output_type": "stream",
          "name": "stderr",
          "text": [
            "Setting `pad_token_id` to `eos_token_id`:2 for open-end generation.\n"
          ]
        },
        {
          "output_type": "stream",
          "name": "stdout",
          "text": [
            "\n",
            "I have received a message. I want to identify whether it's spam or not.\n",
            "If message is spam return “spam”. Otherwise return “ham”. Don’t return anything else.\n",
            "\n",
            "Message:\"Sorry, I'll call later\"\n",
            "\n",
            "Your answer:\n",
            "\n",
            "spam\n",
            "118\n"
          ]
        },
        {
          "output_type": "stream",
          "name": "stderr",
          "text": [
            "Setting `pad_token_id` to `eos_token_id`:2 for open-end generation.\n"
          ]
        },
        {
          "output_type": "stream",
          "name": "stdout",
          "text": [
            "\n",
            "I have received a message. I want to identify whether it's spam or not.\n",
            "If message is spam return “spam”. Otherwise return “ham”. Don’t return anything else.\n",
            "\n",
            "Message:They released vday shirts and when u put it on it makes your bottom half naked instead of those white underwear.\n",
            "\n",
            "Your answer:\n",
            "spam\n",
            "119\n"
          ]
        },
        {
          "output_type": "stream",
          "name": "stderr",
          "text": [
            "Setting `pad_token_id` to `eos_token_id`:2 for open-end generation.\n"
          ]
        },
        {
          "output_type": "stream",
          "name": "stdout",
          "text": [
            "\n",
            "I have received a message. I want to identify whether it's spam or not.\n",
            "If message is spam return “spam”. Otherwise return “ham”. Don’t return anything else.\n",
            "\n",
            "Message:That was random saw my old roomate on campus. He graduated\n",
            "\n",
            "Your answer:\n",
            "spam\n",
            "120\n"
          ]
        },
        {
          "output_type": "stream",
          "name": "stderr",
          "text": [
            "Setting `pad_token_id` to `eos_token_id`:2 for open-end generation.\n"
          ]
        },
        {
          "output_type": "stream",
          "name": "stdout",
          "text": [
            "\n",
            "I have received a message. I want to identify whether it's spam or not.\n",
            "If message is spam return “spam”. Otherwise return “ham”. Don’t return anything else.\n",
            "\n",
            "Message:Wot about on wed nite I am 3 then but only til 9!\n",
            "\n",
            "Your answer:\n",
            "spam\n",
            "121\n"
          ]
        },
        {
          "output_type": "stream",
          "name": "stderr",
          "text": [
            "Setting `pad_token_id` to `eos_token_id`:2 for open-end generation.\n"
          ]
        },
        {
          "output_type": "stream",
          "name": "stdout",
          "text": [
            "\n",
            "I have received a message. I want to identify whether it's spam or not.\n",
            "If message is spam return “spam”. Otherwise return “ham”. Don’t return anything else.\n",
            "\n",
            "Message:\"Damn, can you make it tonight or do you want to just wait til tomorrow\"\n",
            "\n",
            "Your answer:\n",
            "\n",
            "spam\n",
            "122\n"
          ]
        },
        {
          "output_type": "stream",
          "name": "stderr",
          "text": [
            "Setting `pad_token_id` to `eos_token_id`:2 for open-end generation.\n"
          ]
        },
        {
          "output_type": "stream",
          "name": "stdout",
          "text": [
            "\n",
            "I have received a message. I want to identify whether it's spam or not.\n",
            "If message is spam return “spam”. Otherwise return “ham”. Don’t return anything else.\n",
            "\n",
            "Message:Mm not entirely sure i understood that text but hey. Ho. Which weekend?\n",
            "\n",
            "Your answer:\n",
            "spam\n",
            "123\n"
          ]
        },
        {
          "output_type": "stream",
          "name": "stderr",
          "text": [
            "Setting `pad_token_id` to `eos_token_id`:2 for open-end generation.\n"
          ]
        },
        {
          "output_type": "stream",
          "name": "stdout",
          "text": [
            "\n",
            "I have received a message. I want to identify whether it's spam or not.\n",
            "If message is spam return “spam”. Otherwise return “ham”. Don’t return anything else.\n",
            "\n",
            "Message:\"New Theory: Argument wins d SITUATION, but loses the PERSON. So dont argue with ur friends just.. . . . kick them &amp; say, I'm always correct.!\"\n",
            "\n",
            "Your answer:\n",
            "spam\n",
            "124\n"
          ]
        },
        {
          "output_type": "stream",
          "name": "stderr",
          "text": [
            "Setting `pad_token_id` to `eos_token_id`:2 for open-end generation.\n"
          ]
        },
        {
          "output_type": "stream",
          "name": "stdout",
          "text": [
            "\n",
            "I have received a message. I want to identify whether it's spam or not.\n",
            "If message is spam return “spam”. Otherwise return “ham”. Don’t return anything else.\n",
            "\n",
            "Message:Our Prashanthettan's mother passed away last night. pray for her and family.\n",
            "\n",
            "Your answer:\n",
            "spam\n",
            "125\n"
          ]
        },
        {
          "output_type": "stream",
          "name": "stderr",
          "text": [
            "Setting `pad_token_id` to `eos_token_id`:2 for open-end generation.\n"
          ]
        },
        {
          "output_type": "stream",
          "name": "stdout",
          "text": [
            "\n",
            "I have received a message. I want to identify whether it's spam or not.\n",
            "If message is spam return “spam”. Otherwise return “ham”. Don’t return anything else.\n",
            "\n",
            "Message:\"Sorry, I'll call later\"\n",
            "\n",
            "Your answer:\n",
            "\n",
            "spam\n",
            "126\n"
          ]
        },
        {
          "output_type": "stream",
          "name": "stderr",
          "text": [
            "Setting `pad_token_id` to `eos_token_id`:2 for open-end generation.\n"
          ]
        },
        {
          "output_type": "stream",
          "name": "stdout",
          "text": [
            "\n",
            "I have received a message. I want to identify whether it's spam or not.\n",
            "If message is spam return “spam”. Otherwise return “ham”. Don’t return anything else.\n",
            "\n",
            "Message:I'm also came to room.\n",
            "\n",
            "Your answer:\n",
            "spam\n",
            "127\n"
          ]
        },
        {
          "output_type": "stream",
          "name": "stderr",
          "text": [
            "Setting `pad_token_id` to `eos_token_id`:2 for open-end generation.\n"
          ]
        },
        {
          "output_type": "stream",
          "name": "stdout",
          "text": [
            "\n",
            "I have received a message. I want to identify whether it's spam or not.\n",
            "If message is spam return “spam”. Otherwise return “ham”. Don’t return anything else.\n",
            "\n",
            "Message:Dude got a haircut. Now its breezy up there\n",
            "\n",
            "Your answer:\n",
            "spam\n",
            "128\n"
          ]
        },
        {
          "output_type": "stream",
          "name": "stderr",
          "text": [
            "Setting `pad_token_id` to `eos_token_id`:2 for open-end generation.\n"
          ]
        },
        {
          "output_type": "stream",
          "name": "stdout",
          "text": [
            "\n",
            "I have received a message. I want to identify whether it's spam or not.\n",
            "If message is spam return “spam”. Otherwise return “ham”. Don’t return anything else.\n",
            "\n",
            "Message:Are you willing to go for apps class.\n",
            "\n",
            "Your answer:\n",
            "\n",
            "I have received a message. I want to identify whether it's spam or not.\n",
            "129\n"
          ]
        },
        {
          "output_type": "stream",
          "name": "stderr",
          "text": [
            "Setting `pad_token_id` to `eos_token_id`:2 for open-end generation.\n"
          ]
        },
        {
          "output_type": "stream",
          "name": "stdout",
          "text": [
            "\n",
            "I have received a message. I want to identify whether it's spam or not.\n",
            "If message is spam return “spam”. Otherwise return “ham”. Don’t return anything else.\n",
            "\n",
            "Message:\"(And my man carlos is definitely coming by mu tonight, no excuses)\"\n",
            "\n",
            "Your answer:\n",
            "spam\n",
            "130\n"
          ]
        },
        {
          "output_type": "stream",
          "name": "stderr",
          "text": [
            "Setting `pad_token_id` to `eos_token_id`:2 for open-end generation.\n"
          ]
        },
        {
          "output_type": "stream",
          "name": "stdout",
          "text": [
            "\n",
            "I have received a message. I want to identify whether it's spam or not.\n",
            "If message is spam return “spam”. Otherwise return “ham”. Don’t return anything else.\n",
            "\n",
            "Message:\"Ugh y can't u just apologize, admit u were wrong and ask me to take u back?\"\n",
            "\n",
            "Your answer:\n",
            "spam\n",
            "131\n"
          ]
        },
        {
          "output_type": "stream",
          "name": "stderr",
          "text": [
            "Setting `pad_token_id` to `eos_token_id`:2 for open-end generation.\n"
          ]
        },
        {
          "output_type": "stream",
          "name": "stdout",
          "text": [
            "\n",
            "I have received a message. I want to identify whether it's spam or not.\n",
            "If message is spam return “spam”. Otherwise return “ham”. Don’t return anything else.\n",
            "\n",
            "Message:Hey you told your name to gautham ah?\n",
            "\n",
            "Your answer:\n",
            "spam\n",
            "132\n"
          ]
        },
        {
          "output_type": "stream",
          "name": "stderr",
          "text": [
            "Setting `pad_token_id` to `eos_token_id`:2 for open-end generation.\n"
          ]
        },
        {
          "output_type": "stream",
          "name": "stdout",
          "text": [
            "\n",
            "I have received a message. I want to identify whether it's spam or not.\n",
            "If message is spam return “spam”. Otherwise return “ham”. Don’t return anything else.\n",
            "\n",
            "Message:WHO ARE YOU SEEING?\n",
            "\n",
            "Your answer:\n",
            "\n",
            "I have received a message. I want to identify whether it's spam or not.\n",
            "133\n"
          ]
        },
        {
          "output_type": "stream",
          "name": "stderr",
          "text": [
            "Setting `pad_token_id` to `eos_token_id`:2 for open-end generation.\n"
          ]
        },
        {
          "output_type": "stream",
          "name": "stdout",
          "text": [
            "\n",
            "I have received a message. I want to identify whether it's spam or not.\n",
            "If message is spam return “spam”. Otherwise return “ham”. Don’t return anything else.\n",
            "\n",
            "Message:I'm good. Have you registered to vote?\n",
            "\n",
            "Your answer:\n",
            "spam\n",
            "134\n"
          ]
        },
        {
          "output_type": "stream",
          "name": "stderr",
          "text": [
            "Setting `pad_token_id` to `eos_token_id`:2 for open-end generation.\n"
          ]
        },
        {
          "output_type": "stream",
          "name": "stdout",
          "text": [
            "\n",
            "I have received a message. I want to identify whether it's spam or not.\n",
            "If message is spam return “spam”. Otherwise return “ham”. Don’t return anything else.\n",
            "\n",
            "Message:In xam hall boy asked girl Tell me the starting term for dis answer I can den manage on my own After lot of hesitation n lookin around silently she said THE! intha ponnungale ipaditan;)\n",
            "\n",
            "Your answer:\n",
            "spam\n",
            "135\n"
          ]
        },
        {
          "output_type": "stream",
          "name": "stderr",
          "text": [
            "Setting `pad_token_id` to `eos_token_id`:2 for open-end generation.\n"
          ]
        },
        {
          "output_type": "stream",
          "name": "stdout",
          "text": [
            "\n",
            "I have received a message. I want to identify whether it's spam or not.\n",
            "If message is spam return “spam”. Otherwise return “ham”. Don’t return anything else.\n",
            "\n",
            "Message:\"My life Means a lot to me, Not because I love my life, But because I love the people in my life, The world calls them friends, I call them my World:-).. Ge:-)..\"\n",
            "\n",
            "Your answer:\n",
            "\n",
            "spam\n",
            "136\n"
          ]
        },
        {
          "output_type": "stream",
          "name": "stderr",
          "text": [
            "Setting `pad_token_id` to `eos_token_id`:2 for open-end generation.\n"
          ]
        },
        {
          "output_type": "stream",
          "name": "stdout",
          "text": [
            "\n",
            "I have received a message. I want to identify whether it's spam or not.\n",
            "If message is spam return “spam”. Otherwise return “ham”. Don’t return anything else.\n",
            "\n",
            "Message:All these nice new shirts and the only thing I can wear them to is nudist themed ;_; you in mu?\n",
            "\n",
            "Your answer:\n",
            "spam\n",
            "137\n"
          ]
        },
        {
          "output_type": "stream",
          "name": "stderr",
          "text": [
            "Setting `pad_token_id` to `eos_token_id`:2 for open-end generation.\n"
          ]
        },
        {
          "output_type": "stream",
          "name": "stdout",
          "text": [
            "\n",
            "I have received a message. I want to identify whether it's spam or not.\n",
            "If message is spam return “spam”. Otherwise return “ham”. Don’t return anything else.\n",
            "\n",
            "Message:Then get some cash together and I'll text jason\n",
            "\n",
            "Your answer:\n",
            "spam\n",
            "138\n"
          ]
        },
        {
          "output_type": "stream",
          "name": "stderr",
          "text": [
            "Setting `pad_token_id` to `eos_token_id`:2 for open-end generation.\n"
          ]
        },
        {
          "output_type": "stream",
          "name": "stdout",
          "text": [
            "\n",
            "I have received a message. I want to identify whether it's spam or not.\n",
            "If message is spam return “spam”. Otherwise return “ham”. Don’t return anything else.\n",
            "\n",
            "Message:Okay name ur price as long as its legal! Wen can I pick them up? Y u ave x ams xx\n",
            "\n",
            "Your answer:\n",
            "spam\n",
            "139\n"
          ]
        },
        {
          "output_type": "stream",
          "name": "stderr",
          "text": [
            "Setting `pad_token_id` to `eos_token_id`:2 for open-end generation.\n"
          ]
        },
        {
          "output_type": "stream",
          "name": "stdout",
          "text": [
            "\n",
            "I have received a message. I want to identify whether it's spam or not.\n",
            "If message is spam return “spam”. Otherwise return “ham”. Don’t return anything else.\n",
            "\n",
            "Message:\"Love isn't a decision, it's a feeling. If we could decide who to love, then, life would be much simpler, but then less magical\"\n",
            "\n",
            "Your answer:\n",
            "\n",
            "Ham\n",
            "140\n"
          ]
        },
        {
          "output_type": "stream",
          "name": "stderr",
          "text": [
            "Setting `pad_token_id` to `eos_token_id`:2 for open-end generation.\n"
          ]
        },
        {
          "output_type": "stream",
          "name": "stdout",
          "text": [
            "\n",
            "I have received a message. I want to identify whether it's spam or not.\n",
            "If message is spam return “spam”. Otherwise return “ham”. Don’t return anything else.\n",
            "\n",
            "Message:But you were together so you should be thinkin about him\n",
            "\n",
            "Your answer:\n",
            "spam\n",
            "141\n"
          ]
        },
        {
          "output_type": "stream",
          "name": "stderr",
          "text": [
            "Setting `pad_token_id` to `eos_token_id`:2 for open-end generation.\n"
          ]
        },
        {
          "output_type": "stream",
          "name": "stdout",
          "text": [
            "\n",
            "I have received a message. I want to identify whether it's spam or not.\n",
            "If message is spam return “spam”. Otherwise return “ham”. Don’t return anything else.\n",
            "\n",
            "Message:I have no money 4 steve mate! !\n",
            "\n",
            "Your answer:\n",
            "spam\n",
            "142\n"
          ]
        },
        {
          "output_type": "stream",
          "name": "stderr",
          "text": [
            "Setting `pad_token_id` to `eos_token_id`:2 for open-end generation.\n"
          ]
        },
        {
          "output_type": "stream",
          "name": "stdout",
          "text": [
            "\n",
            "I have received a message. I want to identify whether it's spam or not.\n",
            "If message is spam return “spam”. Otherwise return “ham”. Don’t return anything else.\n",
            "\n",
            "Message:Hey what are you doing. Y no reply pa..\n",
            "\n",
            "Your answer:\n",
            "spam\n",
            "143\n"
          ]
        },
        {
          "output_type": "stream",
          "name": "stderr",
          "text": [
            "Setting `pad_token_id` to `eos_token_id`:2 for open-end generation.\n"
          ]
        },
        {
          "output_type": "stream",
          "name": "stdout",
          "text": [
            "\n",
            "I have received a message. I want to identify whether it's spam or not.\n",
            "If message is spam return “spam”. Otherwise return “ham”. Don’t return anything else.\n",
            "\n",
            "Message:\"I think your mentor is , but not 100 percent sure.\"\n",
            "\n",
            "Your answer:\n",
            "\n",
            "I think your mentor is , but not 100 percent sure.\n",
            "\n",
            "Your\n",
            "144\n"
          ]
        },
        {
          "output_type": "stream",
          "name": "stderr",
          "text": [
            "Setting `pad_token_id` to `eos_token_id`:2 for open-end generation.\n"
          ]
        },
        {
          "output_type": "stream",
          "name": "stdout",
          "text": [
            "\n",
            "I have received a message. I want to identify whether it's spam or not.\n",
            "If message is spam return “spam”. Otherwise return “ham”. Don’t return anything else.\n",
            "\n",
            "Message:Mm feeling sleepy. today itself i shall get that dear\n",
            "\n",
            "Your answer:\n",
            "spam\n",
            "145\n"
          ]
        },
        {
          "output_type": "stream",
          "name": "stderr",
          "text": [
            "Setting `pad_token_id` to `eos_token_id`:2 for open-end generation.\n"
          ]
        },
        {
          "output_type": "stream",
          "name": "stdout",
          "text": [
            "\n",
            "I have received a message. I want to identify whether it's spam or not.\n",
            "If message is spam return “spam”. Otherwise return “ham”. Don’t return anything else.\n",
            "\n",
            "Message:Do you mind if I ask what happened? You dont have to say if it is uncomfortable.\n",
            "\n",
            "Your answer:\n",
            "\n",
            "I have received a message. I want to identify whether it's spam or not.\n",
            "146\n"
          ]
        },
        {
          "output_type": "stream",
          "name": "stderr",
          "text": [
            "Setting `pad_token_id` to `eos_token_id`:2 for open-end generation.\n"
          ]
        },
        {
          "output_type": "stream",
          "name": "stdout",
          "text": [
            "\n",
            "I have received a message. I want to identify whether it's spam or not.\n",
            "If message is spam return “spam”. Otherwise return “ham”. Don’t return anything else.\n",
            "\n",
            "Message:I also thk too fast... Xy suggest one not me. U dun wan it's ok. Going 2 rain leh where got gd.\n",
            "\n",
            "Your answer:\n",
            "spam\n",
            "147\n"
          ]
        },
        {
          "output_type": "stream",
          "name": "stderr",
          "text": [
            "Setting `pad_token_id` to `eos_token_id`:2 for open-end generation.\n"
          ]
        },
        {
          "output_type": "stream",
          "name": "stdout",
          "text": [
            "\n",
            "I have received a message. I want to identify whether it's spam or not.\n",
            "If message is spam return “spam”. Otherwise return “ham”. Don’t return anything else.\n",
            "\n",
            "Message:Goodnight da thangam I really miss u dear.\n",
            "\n",
            "Your answer:\n",
            "spam\n",
            "148\n"
          ]
        },
        {
          "output_type": "stream",
          "name": "stderr",
          "text": [
            "Setting `pad_token_id` to `eos_token_id`:2 for open-end generation.\n"
          ]
        },
        {
          "output_type": "stream",
          "name": "stdout",
          "text": [
            "\n",
            "I have received a message. I want to identify whether it's spam or not.\n",
            "If message is spam return “spam”. Otherwise return “ham”. Don’t return anything else.\n",
            "\n",
            "Message:Who were those people ? Were you in a tour ? I thought you were doing that sofa thing you sent me ? Your curious sugar\n",
            "\n",
            "Your answer:\n",
            "spam\n",
            "149\n"
          ]
        },
        {
          "output_type": "stream",
          "name": "stderr",
          "text": [
            "Setting `pad_token_id` to `eos_token_id`:2 for open-end generation.\n"
          ]
        },
        {
          "output_type": "stream",
          "name": "stdout",
          "text": [
            "\n",
            "I have received a message. I want to identify whether it's spam or not.\n",
            "If message is spam return “spam”. Otherwise return “ham”. Don’t return anything else.\n",
            "\n",
            "Message:I wont touch you with out your permission.\n",
            "\n",
            "Your answer:\n",
            "spam\n",
            "150\n"
          ]
        },
        {
          "output_type": "stream",
          "name": "stderr",
          "text": [
            "Setting `pad_token_id` to `eos_token_id`:2 for open-end generation.\n"
          ]
        },
        {
          "output_type": "stream",
          "name": "stdout",
          "text": [
            "\n",
            "I have received a message. I want to identify whether it's spam or not.\n",
            "If message is spam return “spam”. Otherwise return “ham”. Don’t return anything else.\n",
            "\n",
            "Message:\"Good afternon, my love. How are today? I hope your good and maybe have some interviews. I wake and miss you babe. A passionate kiss from across the sea\"\n",
            "\n",
            "Your answer:\n",
            "\n",
            "spam\n",
            "151\n"
          ]
        },
        {
          "output_type": "stream",
          "name": "stderr",
          "text": [
            "Setting `pad_token_id` to `eos_token_id`:2 for open-end generation.\n"
          ]
        },
        {
          "output_type": "stream",
          "name": "stdout",
          "text": [
            "\n",
            "I have received a message. I want to identify whether it's spam or not.\n",
            "If message is spam return “spam”. Otherwise return “ham”. Don’t return anything else.\n",
            "\n",
            "Message:May i call You later Pls\n",
            "\n",
            "Your answer:\n",
            "spam\n",
            "152\n"
          ]
        },
        {
          "output_type": "stream",
          "name": "stderr",
          "text": [
            "Setting `pad_token_id` to `eos_token_id`:2 for open-end generation.\n"
          ]
        },
        {
          "output_type": "stream",
          "name": "stdout",
          "text": [
            "\n",
            "I have received a message. I want to identify whether it's spam or not.\n",
            "If message is spam return “spam”. Otherwise return “ham”. Don’t return anything else.\n",
            "\n",
            "Message:What was she looking for?\n",
            "\n",
            "Your answer:\n",
            "\n",
            "Ham\n",
            "153\n"
          ]
        },
        {
          "output_type": "stream",
          "name": "stderr",
          "text": [
            "Setting `pad_token_id` to `eos_token_id`:2 for open-end generation.\n"
          ]
        },
        {
          "output_type": "stream",
          "name": "stdout",
          "text": [
            "\n",
            "I have received a message. I want to identify whether it's spam or not.\n",
            "If message is spam return “spam”. Otherwise return “ham”. Don’t return anything else.\n",
            "\n",
            "Message:What's nannys address?\n",
            "\n",
            "Your answer:\n",
            "spam\n",
            "154\n"
          ]
        },
        {
          "output_type": "stream",
          "name": "stderr",
          "text": [
            "Setting `pad_token_id` to `eos_token_id`:2 for open-end generation.\n"
          ]
        },
        {
          "output_type": "stream",
          "name": "stdout",
          "text": [
            "\n",
            "I have received a message. I want to identify whether it's spam or not.\n",
            "If message is spam return “spam”. Otherwise return “ham”. Don’t return anything else.\n",
            "\n",
            "Message:No da if you run that it activate the full version da.\n",
            "\n",
            "Your answer:\n",
            "spam\n",
            "155\n"
          ]
        },
        {
          "output_type": "stream",
          "name": "stderr",
          "text": [
            "Setting `pad_token_id` to `eos_token_id`:2 for open-end generation.\n"
          ]
        },
        {
          "output_type": "stream",
          "name": "stdout",
          "text": [
            "\n",
            "I have received a message. I want to identify whether it's spam or not.\n",
            "If message is spam return “spam”. Otherwise return “ham”. Don’t return anything else.\n",
            "\n",
            "Message:Can you open the door?\n",
            "\n",
            "Your answer:\n",
            "spam\n",
            "156\n"
          ]
        },
        {
          "output_type": "stream",
          "name": "stderr",
          "text": [
            "Setting `pad_token_id` to `eos_token_id`:2 for open-end generation.\n"
          ]
        },
        {
          "output_type": "stream",
          "name": "stdout",
          "text": [
            "\n",
            "I have received a message. I want to identify whether it's spam or not.\n",
            "If message is spam return “spam”. Otherwise return “ham”. Don’t return anything else.\n",
            "\n",
            "Message:I was about to do it when i texted. I finished a long time ago and showered and er'ything!\n",
            "\n",
            "Your answer:\n",
            "spam\n",
            "157\n"
          ]
        },
        {
          "output_type": "stream",
          "name": "stderr",
          "text": [
            "Setting `pad_token_id` to `eos_token_id`:2 for open-end generation.\n"
          ]
        },
        {
          "output_type": "stream",
          "name": "stdout",
          "text": [
            "\n",
            "I have received a message. I want to identify whether it's spam or not.\n",
            "If message is spam return “spam”. Otherwise return “ham”. Don’t return anything else.\n",
            "\n",
            "Message:Ha... Then we must walk to everywhere... Cannot take tram. My cousin said can walk to vic market from our hotel\n",
            "\n",
            "Your answer:\n",
            "spam\n",
            "158\n"
          ]
        },
        {
          "output_type": "stream",
          "name": "stderr",
          "text": [
            "Setting `pad_token_id` to `eos_token_id`:2 for open-end generation.\n"
          ]
        },
        {
          "output_type": "stream",
          "name": "stdout",
          "text": [
            "\n",
            "I have received a message. I want to identify whether it's spam or not.\n",
            "If message is spam return “spam”. Otherwise return “ham”. Don’t return anything else.\n",
            "\n",
            "Message:Thankyou so much for the call. I appreciate your care.\n",
            "\n",
            "Your answer:\n",
            "spam\n",
            "159\n"
          ]
        },
        {
          "output_type": "stream",
          "name": "stderr",
          "text": [
            "Setting `pad_token_id` to `eos_token_id`:2 for open-end generation.\n"
          ]
        },
        {
          "output_type": "stream",
          "name": "stdout",
          "text": [
            "\n",
            "I have received a message. I want to identify whether it's spam or not.\n",
            "If message is spam return “spam”. Otherwise return “ham”. Don’t return anything else.\n",
            "\n",
            "Message:Smile in Pleasure Smile in Pain Smile when trouble pours like Rain Smile when sum1 Hurts U Smile becoz SOMEONE still Loves to see u Smiling!!\n",
            "\n",
            "Your answer:\n",
            "spam\n",
            "160\n"
          ]
        },
        {
          "output_type": "stream",
          "name": "stderr",
          "text": [
            "Setting `pad_token_id` to `eos_token_id`:2 for open-end generation.\n"
          ]
        },
        {
          "output_type": "stream",
          "name": "stdout",
          "text": [
            "\n",
            "I have received a message. I want to identify whether it's spam or not.\n",
            "If message is spam return “spam”. Otherwise return “ham”. Don’t return anything else.\n",
            "\n",
            "Message:Been up to ne thing interesting. Did you have a good birthday? When are u wrking nxt? I started uni today.\n",
            "\n",
            "Your answer:\n",
            "spam\n",
            "161\n"
          ]
        },
        {
          "output_type": "stream",
          "name": "stderr",
          "text": [
            "Setting `pad_token_id` to `eos_token_id`:2 for open-end generation.\n"
          ]
        },
        {
          "output_type": "stream",
          "name": "stdout",
          "text": [
            "\n",
            "I have received a message. I want to identify whether it's spam or not.\n",
            "If message is spam return “spam”. Otherwise return “ham”. Don’t return anything else.\n",
            "\n",
            "Message:In the end she might still vomit but its okay. Not everything will come out.\n",
            "\n",
            "Your answer:\n",
            "spam\n",
            "162\n"
          ]
        },
        {
          "output_type": "stream",
          "name": "stderr",
          "text": [
            "Setting `pad_token_id` to `eos_token_id`:2 for open-end generation.\n"
          ]
        },
        {
          "output_type": "stream",
          "name": "stdout",
          "text": [
            "\n",
            "I have received a message. I want to identify whether it's spam or not.\n",
            "If message is spam return “spam”. Otherwise return “ham”. Don’t return anything else.\n",
            "\n",
            "Message:\"I'm an actor. When i work, i work in the evening and sleep late. Since i'm unemployed at the moment, i ALWAYS sleep late. When you're unemployed, every day is saturday.\"\n",
            "\n",
            "Your answer:\n",
            "spam\n",
            "163\n"
          ]
        },
        {
          "output_type": "stream",
          "name": "stderr",
          "text": [
            "Setting `pad_token_id` to `eos_token_id`:2 for open-end generation.\n"
          ]
        },
        {
          "output_type": "stream",
          "name": "stdout",
          "text": [
            "\n",
            "I have received a message. I want to identify whether it's spam or not.\n",
            "If message is spam return “spam”. Otherwise return “ham”. Don’t return anything else.\n",
            "\n",
            "Message:Do we have any spare power supplies\n",
            "\n",
            "Your answer:\n",
            "spam\n",
            "164\n"
          ]
        },
        {
          "output_type": "stream",
          "name": "stderr",
          "text": [
            "Setting `pad_token_id` to `eos_token_id`:2 for open-end generation.\n"
          ]
        },
        {
          "output_type": "stream",
          "name": "stdout",
          "text": [
            "\n",
            "I have received a message. I want to identify whether it's spam or not.\n",
            "If message is spam return “spam”. Otherwise return “ham”. Don’t return anything else.\n",
            "\n",
            "Message:Aft i finish my lunch then i go str down lor. Ard 3 smth lor. U finish ur lunch already?\n",
            "\n",
            "Your answer:\n",
            "spam\n",
            "165\n"
          ]
        },
        {
          "output_type": "stream",
          "name": "stderr",
          "text": [
            "Setting `pad_token_id` to `eos_token_id`:2 for open-end generation.\n"
          ]
        },
        {
          "output_type": "stream",
          "name": "stdout",
          "text": [
            "\n",
            "I have received a message. I want to identify whether it's spam or not.\n",
            "If message is spam return “spam”. Otherwise return “ham”. Don’t return anything else.\n",
            "\n",
            "Message:As per your request 'Maangalyam (Alaipayuthe)' has been set as your callertune for all Callers. Press *9 to copy your friends Callertune\n",
            "\n",
            "Your answer:\n",
            "spam\n",
            "166\n"
          ]
        },
        {
          "output_type": "stream",
          "name": "stderr",
          "text": [
            "Setting `pad_token_id` to `eos_token_id`:2 for open-end generation.\n"
          ]
        },
        {
          "output_type": "stream",
          "name": "stdout",
          "text": [
            "\n",
            "I have received a message. I want to identify whether it's spam or not.\n",
            "If message is spam return “spam”. Otherwise return “ham”. Don’t return anything else.\n",
            "\n",
            "Message:\"Time n Smile r the two crucial things in our life. Sometimes time makes us to forget smile, and sometimes someone's smile makes us to forget time gud noon\"\n",
            "\n",
            "Your answer:\n",
            "spam\n",
            "167\n"
          ]
        },
        {
          "output_type": "stream",
          "name": "stderr",
          "text": [
            "Setting `pad_token_id` to `eos_token_id`:2 for open-end generation.\n"
          ]
        },
        {
          "output_type": "stream",
          "name": "stdout",
          "text": [
            "\n",
            "I have received a message. I want to identify whether it's spam or not.\n",
            "If message is spam return “spam”. Otherwise return “ham”. Don’t return anything else.\n",
            "\n",
            "Message:Aiyah ok wat as long as got improve can already wat...\n",
            "\n",
            "Your answer:\n",
            "spam\n",
            "168\n"
          ]
        },
        {
          "output_type": "stream",
          "name": "stderr",
          "text": [
            "Setting `pad_token_id` to `eos_token_id`:2 for open-end generation.\n"
          ]
        },
        {
          "output_type": "stream",
          "name": "stdout",
          "text": [
            "\n",
            "I have received a message. I want to identify whether it's spam or not.\n",
            "If message is spam return “spam”. Otherwise return “ham”. Don’t return anything else.\n",
            "\n",
            "Message:U sick still can go shopping?\n",
            "\n",
            "Your answer:\n",
            "spam\n",
            "169\n"
          ]
        },
        {
          "output_type": "stream",
          "name": "stderr",
          "text": [
            "Setting `pad_token_id` to `eos_token_id`:2 for open-end generation.\n"
          ]
        },
        {
          "output_type": "stream",
          "name": "stdout",
          "text": [
            "\n",
            "I have received a message. I want to identify whether it's spam or not.\n",
            "If message is spam return “spam”. Otherwise return “ham”. Don’t return anything else.\n",
            "\n",
            "Message:Normally i use to drink more water daily:)\n",
            "\n",
            "Your answer:\n",
            "spam\n",
            "170\n"
          ]
        },
        {
          "output_type": "stream",
          "name": "stderr",
          "text": [
            "Setting `pad_token_id` to `eos_token_id`:2 for open-end generation.\n"
          ]
        },
        {
          "output_type": "stream",
          "name": "stdout",
          "text": [
            "\n",
            "I have received a message. I want to identify whether it's spam or not.\n",
            "If message is spam return “spam”. Otherwise return “ham”. Don’t return anything else.\n",
            "\n",
            "Message:Well I might not come then...\n",
            "\n",
            "Your answer:\n",
            "spam\n",
            "171\n"
          ]
        },
        {
          "output_type": "stream",
          "name": "stderr",
          "text": [
            "Setting `pad_token_id` to `eos_token_id`:2 for open-end generation.\n"
          ]
        },
        {
          "output_type": "stream",
          "name": "stdout",
          "text": [
            "\n",
            "I have received a message. I want to identify whether it's spam or not.\n",
            "If message is spam return “spam”. Otherwise return “ham”. Don’t return anything else.\n",
            "\n",
            "Message:Depends on where u going lor.\n",
            "\n",
            "Your answer:\n",
            "\n",
            "\n",
            "\n",
            "\n",
            "\n",
            "\n",
            "\n",
            "\n",
            "\n",
            "\n",
            "\n",
            "\n",
            "\n",
            "\n",
            "\n",
            "\n",
            "\n",
            "\n",
            "\n",
            "\n",
            "\n",
            "172\n"
          ]
        },
        {
          "output_type": "stream",
          "name": "stderr",
          "text": [
            "Setting `pad_token_id` to `eos_token_id`:2 for open-end generation.\n"
          ]
        },
        {
          "output_type": "stream",
          "name": "stdout",
          "text": [
            "\n",
            "I have received a message. I want to identify whether it's spam or not.\n",
            "If message is spam return “spam”. Otherwise return “ham”. Don’t return anything else.\n",
            "\n",
            "Message:Sorry dude. Dont know how i forgot. Even after Dan reminded me. Sorry. Hope you guys had fun.\n",
            "\n",
            "Your answer:\n",
            "spam\n",
            "173\n"
          ]
        },
        {
          "output_type": "stream",
          "name": "stderr",
          "text": [
            "Setting `pad_token_id` to `eos_token_id`:2 for open-end generation.\n"
          ]
        },
        {
          "output_type": "stream",
          "name": "stdout",
          "text": [
            "\n",
            "I have received a message. I want to identify whether it's spam or not.\n",
            "If message is spam return “spam”. Otherwise return “ham”. Don’t return anything else.\n",
            "\n",
            "Message:Sounds like something that someone testing me would sayy\n",
            "\n",
            "Your answer:\n",
            "spam\n",
            "174\n"
          ]
        },
        {
          "output_type": "stream",
          "name": "stderr",
          "text": [
            "Setting `pad_token_id` to `eos_token_id`:2 for open-end generation.\n"
          ]
        },
        {
          "output_type": "stream",
          "name": "stdout",
          "text": [
            "\n",
            "I have received a message. I want to identify whether it's spam or not.\n",
            "If message is spam return “spam”. Otherwise return “ham”. Don’t return anything else.\n",
            "\n",
            "Message:Doc prescribed me morphine cause the other pain meds aren't enough. Waiting for my mom to bring it. That med should kick in fast so I'm gonna try to be on later\n",
            "\n",
            "Your answer:\n",
            "spam\n",
            "175\n"
          ]
        },
        {
          "output_type": "stream",
          "name": "stderr",
          "text": [
            "Setting `pad_token_id` to `eos_token_id`:2 for open-end generation.\n"
          ]
        },
        {
          "output_type": "stream",
          "name": "stdout",
          "text": [
            "\n",
            "I have received a message. I want to identify whether it's spam or not.\n",
            "If message is spam return “spam”. Otherwise return “ham”. Don’t return anything else.\n",
            "\n",
            "Message:So its to be poking man everyday that they teach you in canada abi! How are you. Just saying hi.\n",
            "\n",
            "Your answer:\n",
            "spam\n",
            "176\n"
          ]
        },
        {
          "output_type": "stream",
          "name": "stderr",
          "text": [
            "Setting `pad_token_id` to `eos_token_id`:2 for open-end generation.\n"
          ]
        },
        {
          "output_type": "stream",
          "name": "stdout",
          "text": [
            "\n",
            "I have received a message. I want to identify whether it's spam or not.\n",
            "If message is spam return “spam”. Otherwise return “ham”. Don’t return anything else.\n",
            "\n",
            "Message:Thanks for this hope you had a good day today\n",
            "\n",
            "Your answer:\n",
            "\n",
            "I have received a message. I want to identify whether it's spam or not.\n",
            "177\n"
          ]
        },
        {
          "output_type": "stream",
          "name": "stderr",
          "text": [
            "Setting `pad_token_id` to `eos_token_id`:2 for open-end generation.\n"
          ]
        },
        {
          "output_type": "stream",
          "name": "stdout",
          "text": [
            "\n",
            "I have received a message. I want to identify whether it's spam or not.\n",
            "If message is spam return “spam”. Otherwise return “ham”. Don’t return anything else.\n",
            "\n",
            "Message:Can i get your opinion on something first?\n",
            "\n",
            "Your answer:\n",
            "spam\n",
            "178\n"
          ]
        },
        {
          "output_type": "stream",
          "name": "stderr",
          "text": [
            "Setting `pad_token_id` to `eos_token_id`:2 for open-end generation.\n"
          ]
        },
        {
          "output_type": "stream",
          "name": "stdout",
          "text": [
            "\n",
            "I have received a message. I want to identify whether it's spam or not.\n",
            "If message is spam return “spam”. Otherwise return “ham”. Don’t return anything else.\n",
            "\n",
            "Message:\"Do you know why god created gap between your fingers..? So that, One who is made for you comes &amp; fills those gaps by holding your hand with LOVE..!\"\n",
            "\n",
            "Your answer:\n",
            "spam\n",
            "179\n"
          ]
        },
        {
          "output_type": "stream",
          "name": "stderr",
          "text": [
            "Setting `pad_token_id` to `eos_token_id`:2 for open-end generation.\n"
          ]
        },
        {
          "output_type": "stream",
          "name": "stdout",
          "text": [
            "\n",
            "I have received a message. I want to identify whether it's spam or not.\n",
            "If message is spam return “spam”. Otherwise return “ham”. Don’t return anything else.\n",
            "\n",
            "Message:Are you going to write ccna exam this week??\n",
            "\n",
            "Your answer:\n",
            "spam\n",
            "180\n"
          ]
        },
        {
          "output_type": "stream",
          "name": "stderr",
          "text": [
            "Setting `pad_token_id` to `eos_token_id`:2 for open-end generation.\n"
          ]
        },
        {
          "output_type": "stream",
          "name": "stdout",
          "text": [
            "\n",
            "I have received a message. I want to identify whether it's spam or not.\n",
            "If message is spam return “spam”. Otherwise return “ham”. Don’t return anything else.\n",
            "\n",
            "Message:Ok lor...\n",
            "\n",
            "Your answer:\n",
            "spam\n",
            "181\n"
          ]
        },
        {
          "output_type": "stream",
          "name": "stderr",
          "text": [
            "Setting `pad_token_id` to `eos_token_id`:2 for open-end generation.\n"
          ]
        },
        {
          "output_type": "stream",
          "name": "stdout",
          "text": [
            "\n",
            "I have received a message. I want to identify whether it's spam or not.\n",
            "If message is spam return “spam”. Otherwise return “ham”. Don’t return anything else.\n",
            "\n",
            "Message:Nope. I just forgot. Will show next week\n",
            "\n",
            "Your answer:\n",
            "spam\n",
            "182\n"
          ]
        },
        {
          "output_type": "stream",
          "name": "stderr",
          "text": [
            "Setting `pad_token_id` to `eos_token_id`:2 for open-end generation.\n"
          ]
        },
        {
          "output_type": "stream",
          "name": "stdout",
          "text": [
            "\n",
            "I have received a message. I want to identify whether it's spam or not.\n",
            "If message is spam return “spam”. Otherwise return “ham”. Don’t return anything else.\n",
            "\n",
            "Message:Good Morning plz call me sir\n",
            "\n",
            "Your answer:\n",
            "spam\n",
            "183\n"
          ]
        },
        {
          "output_type": "stream",
          "name": "stderr",
          "text": [
            "Setting `pad_token_id` to `eos_token_id`:2 for open-end generation.\n"
          ]
        },
        {
          "output_type": "stream",
          "name": "stdout",
          "text": [
            "\n",
            "I have received a message. I want to identify whether it's spam or not.\n",
            "If message is spam return “spam”. Otherwise return “ham”. Don’t return anything else.\n",
            "\n",
            "Message:I did. One slice and one breadstick. Lol\n",
            "\n",
            "Your answer:\n",
            "\n",
            "I did. One slice and one breadstick. Lol\n",
            "\n",
            "Your answer:\n",
            "\n",
            "sp\n",
            "184\n"
          ]
        },
        {
          "output_type": "stream",
          "name": "stderr",
          "text": [
            "Setting `pad_token_id` to `eos_token_id`:2 for open-end generation.\n"
          ]
        },
        {
          "output_type": "stream",
          "name": "stdout",
          "text": [
            "\n",
            "I have received a message. I want to identify whether it's spam or not.\n",
            "If message is spam return “spam”. Otherwise return “ham”. Don’t return anything else.\n",
            "\n",
            "Message:K I'll be there before 4.\n",
            "\n",
            "Your answer:\n",
            "\n",
            "I have received a message. I want to identify whether it's spam or not.\n",
            "185\n"
          ]
        },
        {
          "output_type": "stream",
          "name": "stderr",
          "text": [
            "Setting `pad_token_id` to `eos_token_id`:2 for open-end generation.\n"
          ]
        },
        {
          "output_type": "stream",
          "name": "stdout",
          "text": [
            "\n",
            "I have received a message. I want to identify whether it's spam or not.\n",
            "If message is spam return “spam”. Otherwise return “ham”. Don’t return anything else.\n",
            "\n",
            "Message:\"Watching cartoon, listening music &amp; at eve had to go temple &amp; church.. What about u?\"\n",
            "\n",
            "Your answer:\n",
            "spam\n",
            "186\n"
          ]
        },
        {
          "output_type": "stream",
          "name": "stderr",
          "text": [
            "Setting `pad_token_id` to `eos_token_id`:2 for open-end generation.\n"
          ]
        },
        {
          "output_type": "stream",
          "name": "stdout",
          "text": [
            "\n",
            "I have received a message. I want to identify whether it's spam or not.\n",
            "If message is spam return “spam”. Otherwise return “ham”. Don’t return anything else.\n",
            "\n",
            "Message:Sorry about that this is my mates phone and i didnt write it love Kate\n",
            "\n",
            "Your answer:\n",
            "spam\n",
            "187\n"
          ]
        },
        {
          "output_type": "stream",
          "name": "stderr",
          "text": [
            "Setting `pad_token_id` to `eos_token_id`:2 for open-end generation.\n"
          ]
        },
        {
          "output_type": "stream",
          "name": "stdout",
          "text": [
            "\n",
            "I have received a message. I want to identify whether it's spam or not.\n",
            "If message is spam return “spam”. Otherwise return “ham”. Don’t return anything else.\n",
            "\n",
            "Message:K. I will sent it again\n",
            "\n",
            "Your answer:\n",
            "spam\n",
            "188\n"
          ]
        },
        {
          "output_type": "stream",
          "name": "stderr",
          "text": [
            "Setting `pad_token_id` to `eos_token_id`:2 for open-end generation.\n"
          ]
        },
        {
          "output_type": "stream",
          "name": "stdout",
          "text": [
            "\n",
            "I have received a message. I want to identify whether it's spam or not.\n",
            "If message is spam return “spam”. Otherwise return “ham”. Don’t return anything else.\n",
            "\n",
            "Message:\"Dear relieved of westonzoyland, all going to plan this end too!\"\n",
            "\n",
            "Your answer:\n",
            "spam\n",
            "189\n"
          ]
        },
        {
          "output_type": "stream",
          "name": "stderr",
          "text": [
            "Setting `pad_token_id` to `eos_token_id`:2 for open-end generation.\n"
          ]
        },
        {
          "output_type": "stream",
          "name": "stdout",
          "text": [
            "\n",
            "I have received a message. I want to identify whether it's spam or not.\n",
            "If message is spam return “spam”. Otherwise return “ham”. Don’t return anything else.\n",
            "\n",
            "Message:One of the joys in lifeis waking up each daywith thoughts that somewhereSomeone cares enough tosend a warm morning greeting.. -\n",
            "\n",
            "Your answer:\n",
            "\n",
            "Ham\n",
            "190\n"
          ]
        },
        {
          "output_type": "stream",
          "name": "stderr",
          "text": [
            "Setting `pad_token_id` to `eos_token_id`:2 for open-end generation.\n"
          ]
        },
        {
          "output_type": "stream",
          "name": "stdout",
          "text": [
            "\n",
            "I have received a message. I want to identify whether it's spam or not.\n",
            "If message is spam return “spam”. Otherwise return “ham”. Don’t return anything else.\n",
            "\n",
            "Message:what number do u live at? Is it 11?\n",
            "\n",
            "Your answer:\n",
            "spam\n",
            "191\n"
          ]
        },
        {
          "output_type": "stream",
          "name": "stderr",
          "text": [
            "Setting `pad_token_id` to `eos_token_id`:2 for open-end generation.\n"
          ]
        },
        {
          "output_type": "stream",
          "name": "stdout",
          "text": [
            "\n",
            "I have received a message. I want to identify whether it's spam or not.\n",
            "If message is spam return “spam”. Otherwise return “ham”. Don’t return anything else.\n",
            "\n",
            "Message:Sorry i've not gone to that place. I.ll do so tomorrow. Really sorry.\n",
            "\n",
            "Your answer:\n",
            "spam\n",
            "192\n"
          ]
        },
        {
          "output_type": "stream",
          "name": "stderr",
          "text": [
            "Setting `pad_token_id` to `eos_token_id`:2 for open-end generation.\n"
          ]
        },
        {
          "output_type": "stream",
          "name": "stdout",
          "text": [
            "\n",
            "I have received a message. I want to identify whether it's spam or not.\n",
            "If message is spam return “spam”. Otherwise return “ham”. Don’t return anything else.\n",
            "\n",
            "Message:I jus reached home. I go bathe first. But my sis using net tell u when she finishes k...\n",
            "\n",
            "Your answer:\n",
            "spam\n",
            "193\n"
          ]
        },
        {
          "output_type": "stream",
          "name": "stderr",
          "text": [
            "Setting `pad_token_id` to `eos_token_id`:2 for open-end generation.\n"
          ]
        },
        {
          "output_type": "stream",
          "name": "stdout",
          "text": [
            "\n",
            "I have received a message. I want to identify whether it's spam or not.\n",
            "If message is spam return “spam”. Otherwise return “ham”. Don’t return anything else.\n",
            "\n",
            "Message:Sorry. You never hear unless you book it. One was kinda a joke--thet were really looking for skinny white girls. The other was one line--you can only do so much on camera with that. Something like that they're casting on the look.\n",
            "\n",
            "Your answer:\n",
            "spam\n",
            "194\n"
          ]
        },
        {
          "output_type": "stream",
          "name": "stderr",
          "text": [
            "Setting `pad_token_id` to `eos_token_id`:2 for open-end generation.\n"
          ]
        },
        {
          "output_type": "stream",
          "name": "stdout",
          "text": [
            "\n",
            "I have received a message. I want to identify whether it's spam or not.\n",
            "If message is spam return “spam”. Otherwise return “ham”. Don’t return anything else.\n",
            "\n",
            "Message:Your opinion about me? 1. Over 2. Jada 3. Kusruthi 4. Lovable 5. Silent 6. Spl character 7. Not matured 8. Stylish 9. Simple Pls reply..\n",
            "\n",
            "Your answer:\n",
            "spam\n",
            "195\n"
          ]
        },
        {
          "output_type": "stream",
          "name": "stderr",
          "text": [
            "Setting `pad_token_id` to `eos_token_id`:2 for open-end generation.\n"
          ]
        },
        {
          "output_type": "stream",
          "name": "stdout",
          "text": [
            "\n",
            "I have received a message. I want to identify whether it's spam or not.\n",
            "If message is spam return “spam”. Otherwise return “ham”. Don’t return anything else.\n",
            "\n",
            "Message:\"It's ok, at least armand's still around\"\n",
            "\n",
            "Your answer:\n",
            "\n",
            "spam\n",
            "196\n"
          ]
        },
        {
          "output_type": "stream",
          "name": "stderr",
          "text": [
            "Setting `pad_token_id` to `eos_token_id`:2 for open-end generation.\n"
          ]
        },
        {
          "output_type": "stream",
          "name": "stdout",
          "text": [
            "\n",
            "I have received a message. I want to identify whether it's spam or not.\n",
            "If message is spam return “spam”. Otherwise return “ham”. Don’t return anything else.\n",
            "\n",
            "Message:Lol! Oops sorry! Have fun.\n",
            "\n",
            "Your answer:\n",
            "spam\n",
            "197\n"
          ]
        },
        {
          "output_type": "stream",
          "name": "stderr",
          "text": [
            "Setting `pad_token_id` to `eos_token_id`:2 for open-end generation.\n"
          ]
        },
        {
          "output_type": "stream",
          "name": "stdout",
          "text": [
            "\n",
            "I have received a message. I want to identify whether it's spam or not.\n",
            "If message is spam return “spam”. Otherwise return “ham”. Don’t return anything else.\n",
            "\n",
            "Message:Wat so late still early mah. Or we juz go 4 dinner lor. Aiya i dunno...\n",
            "\n",
            "Your answer:\n",
            "spam\n",
            "198\n"
          ]
        },
        {
          "output_type": "stream",
          "name": "stderr",
          "text": [
            "Setting `pad_token_id` to `eos_token_id`:2 for open-end generation.\n"
          ]
        },
        {
          "output_type": "stream",
          "name": "stdout",
          "text": [
            "\n",
            "I have received a message. I want to identify whether it's spam or not.\n",
            "If message is spam return “spam”. Otherwise return “ham”. Don’t return anything else.\n",
            "\n",
            "Message:Customer place i will call you\n",
            "\n",
            "Your answer:\n",
            "spam\n",
            "199\n"
          ]
        },
        {
          "output_type": "stream",
          "name": "stderr",
          "text": [
            "Setting `pad_token_id` to `eos_token_id`:2 for open-end generation.\n"
          ]
        },
        {
          "output_type": "stream",
          "name": "stdout",
          "text": [
            "\n",
            "I have received a message. I want to identify whether it's spam or not.\n",
            "If message is spam return “spam”. Otherwise return “ham”. Don’t return anything else.\n",
            "\n",
            "Message:Am on the uworld site. Am i buying the qbank only or am i buying it with the self assessment also?\n",
            "\n",
            "Your answer:\n",
            "spam\n",
            "200\n"
          ]
        },
        {
          "output_type": "stream",
          "name": "stderr",
          "text": [
            "Setting `pad_token_id` to `eos_token_id`:2 for open-end generation.\n"
          ]
        },
        {
          "output_type": "stream",
          "name": "stdout",
          "text": [
            "\n",
            "I have received a message. I want to identify whether it's spam or not.\n",
            "If message is spam return “spam”. Otherwise return “ham”. Don’t return anything else.\n",
            "\n",
            "Message:Not yet had..ya sapna aunty manege y'day hogidhe..chinnu full weak and swalpa black agidhane..\n",
            "\n",
            "Your answer:\n",
            "spam\n",
            "201\n"
          ]
        },
        {
          "output_type": "stream",
          "name": "stderr",
          "text": [
            "Setting `pad_token_id` to `eos_token_id`:2 for open-end generation.\n"
          ]
        },
        {
          "output_type": "stream",
          "name": "stdout",
          "text": [
            "\n",
            "I have received a message. I want to identify whether it's spam or not.\n",
            "If message is spam return “spam”. Otherwise return “ham”. Don’t return anything else.\n",
            "\n",
            "Message:Whos this am in class:-)\n",
            "\n",
            "Your answer:\n",
            "spam\n",
            "202\n"
          ]
        },
        {
          "output_type": "stream",
          "name": "stderr",
          "text": [
            "Setting `pad_token_id` to `eos_token_id`:2 for open-end generation.\n"
          ]
        },
        {
          "output_type": "stream",
          "name": "stdout",
          "text": [
            "\n",
            "I have received a message. I want to identify whether it's spam or not.\n",
            "If message is spam return “spam”. Otherwise return “ham”. Don’t return anything else.\n",
            "\n",
            "Message:If you have belive me. Come to my home.\n",
            "\n",
            "Your answer:\n",
            "spam\n",
            "203\n"
          ]
        },
        {
          "output_type": "stream",
          "name": "stderr",
          "text": [
            "Setting `pad_token_id` to `eos_token_id`:2 for open-end generation.\n"
          ]
        },
        {
          "output_type": "stream",
          "name": "stdout",
          "text": [
            "\n",
            "I have received a message. I want to identify whether it's spam or not.\n",
            "If message is spam return “spam”. Otherwise return “ham”. Don’t return anything else.\n",
            "\n",
            "Message:Update your face book status frequently :)\n",
            "\n",
            "Your answer:\n",
            "spam\n",
            "204\n"
          ]
        },
        {
          "output_type": "stream",
          "name": "stderr",
          "text": [
            "Setting `pad_token_id` to `eos_token_id`:2 for open-end generation.\n"
          ]
        },
        {
          "output_type": "stream",
          "name": "stdout",
          "text": [
            "\n",
            "I have received a message. I want to identify whether it's spam or not.\n",
            "If message is spam return “spam”. Otherwise return “ham”. Don’t return anything else.\n",
            "\n",
            "Message:Wot u up 2 u weirdo?\n",
            "\n",
            "Your answer:\n",
            "spam\n",
            "205\n"
          ]
        },
        {
          "output_type": "stream",
          "name": "stderr",
          "text": [
            "Setting `pad_token_id` to `eos_token_id`:2 for open-end generation.\n"
          ]
        },
        {
          "output_type": "stream",
          "name": "stdout",
          "text": [
            "\n",
            "I have received a message. I want to identify whether it's spam or not.\n",
            "If message is spam return “spam”. Otherwise return “ham”. Don’t return anything else.\n",
            "\n",
            "Message:Yetunde i'm in class can you not run water on it to make it ok. Pls now.\n",
            "\n",
            "Your answer:\n",
            "spam\n",
            "206\n"
          ]
        },
        {
          "output_type": "stream",
          "name": "stderr",
          "text": [
            "Setting `pad_token_id` to `eos_token_id`:2 for open-end generation.\n"
          ]
        },
        {
          "output_type": "stream",
          "name": "stdout",
          "text": [
            "\n",
            "I have received a message. I want to identify whether it's spam or not.\n",
            "If message is spam return “spam”. Otherwise return “ham”. Don’t return anything else.\n",
            "\n",
            "Message:\"A Boy loved a gal. He propsd bt she didnt mind. He gv lv lttrs, Bt her frnds threw thm. Again d boy decided 2 aproach d gal , dt time a truck was speeding towards d gal. Wn it was about 2 hit d girl,d boy ran like hell n saved her. She asked 'hw cn u run so fast?' D boy replied \\Boost is d secret of my energy\\\"\" n instantly d girl shouted \\\"\"our energy\\\"\" n Thy lived happily 2gthr drinking boost evrydy Moral of d story:- I hv free msgs:D;): gud ni8\"\"\"\n",
            "\n",
            "Your answer:\n",
            "spam\n",
            "207\n"
          ]
        },
        {
          "output_type": "stream",
          "name": "stderr",
          "text": [
            "Setting `pad_token_id` to `eos_token_id`:2 for open-end generation.\n"
          ]
        },
        {
          "output_type": "stream",
          "name": "stdout",
          "text": [
            "\n",
            "I have received a message. I want to identify whether it's spam or not.\n",
            "If message is spam return “spam”. Otherwise return “ham”. Don’t return anything else.\n",
            "\n",
            "Message:Yup... Hey then one day on fri we can ask miwa and jiayin take leave go karaoke\n",
            "\n",
            "Your answer:\n",
            "spam\n",
            "208\n"
          ]
        },
        {
          "output_type": "stream",
          "name": "stderr",
          "text": [
            "Setting `pad_token_id` to `eos_token_id`:2 for open-end generation.\n"
          ]
        },
        {
          "output_type": "stream",
          "name": "stdout",
          "text": [
            "\n",
            "I have received a message. I want to identify whether it's spam or not.\n",
            "If message is spam return “spam”. Otherwise return “ham”. Don’t return anything else.\n",
            "\n",
            "Message:Do you know when the result.\n",
            "\n",
            "Your answer:\n",
            "spam\n",
            "209\n"
          ]
        },
        {
          "output_type": "stream",
          "name": "stderr",
          "text": [
            "Setting `pad_token_id` to `eos_token_id`:2 for open-end generation.\n"
          ]
        },
        {
          "output_type": "stream",
          "name": "stdout",
          "text": [
            "\n",
            "I have received a message. I want to identify whether it's spam or not.\n",
            "If message is spam return “spam”. Otherwise return “ham”. Don’t return anything else.\n",
            "\n",
            "Message:Oh shut it. Omg yesterday I had a dream that I had 2 kids both boys. I was so pissed. Not only about the kids but them being boys. I even told mark in my dream that he was changing diapers cause I'm not getting owed in the face.\n",
            "\n",
            "Your answer:\n",
            "spam\n",
            "210\n"
          ]
        },
        {
          "output_type": "stream",
          "name": "stderr",
          "text": [
            "Setting `pad_token_id` to `eos_token_id`:2 for open-end generation.\n"
          ]
        },
        {
          "output_type": "stream",
          "name": "stdout",
          "text": [
            "\n",
            "I have received a message. I want to identify whether it's spam or not.\n",
            "If message is spam return “spam”. Otherwise return “ham”. Don’t return anything else.\n",
            "\n",
            "Message:Watching tv now. I got new job :)\n",
            "\n",
            "Your answer:\n",
            "spam\n",
            "211\n"
          ]
        },
        {
          "output_type": "stream",
          "name": "stderr",
          "text": [
            "Setting `pad_token_id` to `eos_token_id`:2 for open-end generation.\n"
          ]
        },
        {
          "output_type": "stream",
          "name": "stdout",
          "text": [
            "\n",
            "I have received a message. I want to identify whether it's spam or not.\n",
            "If message is spam return “spam”. Otherwise return “ham”. Don’t return anything else.\n",
            "\n",
            "Message:Ok. I asked for money how far\n",
            "\n",
            "Your answer:\n",
            "spam\n",
            "212\n"
          ]
        },
        {
          "output_type": "stream",
          "name": "stderr",
          "text": [
            "Setting `pad_token_id` to `eos_token_id`:2 for open-end generation.\n"
          ]
        },
        {
          "output_type": "stream",
          "name": "stdout",
          "text": [
            "\n",
            "I have received a message. I want to identify whether it's spam or not.\n",
            "If message is spam return “spam”. Otherwise return “ham”. Don’t return anything else.\n",
            "\n",
            "Message:\"Garbage bags, eggs, jam, bread, hannaford wheat chex\"\n",
            "\n",
            "Your answer:\n",
            "spam\n",
            "213\n"
          ]
        },
        {
          "output_type": "stream",
          "name": "stderr",
          "text": [
            "Setting `pad_token_id` to `eos_token_id`:2 for open-end generation.\n"
          ]
        },
        {
          "output_type": "stream",
          "name": "stdout",
          "text": [
            "\n",
            "I have received a message. I want to identify whether it's spam or not.\n",
            "If message is spam return “spam”. Otherwise return “ham”. Don’t return anything else.\n",
            "\n",
            "Message:It's ok i wun b angry. Msg u aft i come home tonight.\n",
            "\n",
            "Your answer:\n",
            "spam\n",
            "214\n"
          ]
        },
        {
          "output_type": "stream",
          "name": "stderr",
          "text": [
            "Setting `pad_token_id` to `eos_token_id`:2 for open-end generation.\n"
          ]
        },
        {
          "output_type": "stream",
          "name": "stdout",
          "text": [
            "\n",
            "I have received a message. I want to identify whether it's spam or not.\n",
            "If message is spam return “spam”. Otherwise return “ham”. Don’t return anything else.\n",
            "\n",
            "Message:I'm always looking for an excuse to be in the city.\n",
            "\n",
            "Your answer:\n",
            "spam\n",
            "215\n"
          ]
        },
        {
          "output_type": "stream",
          "name": "stderr",
          "text": [
            "Setting `pad_token_id` to `eos_token_id`:2 for open-end generation.\n"
          ]
        },
        {
          "output_type": "stream",
          "name": "stdout",
          "text": [
            "\n",
            "I have received a message. I want to identify whether it's spam or not.\n",
            "If message is spam return “spam”. Otherwise return “ham”. Don’t return anything else.\n",
            "\n",
            "Message:I was gonna ask you lol but i think its at 7\n",
            "\n",
            "Your answer:\n",
            "spam\n",
            "216\n"
          ]
        },
        {
          "output_type": "stream",
          "name": "stderr",
          "text": [
            "Setting `pad_token_id` to `eos_token_id`:2 for open-end generation.\n"
          ]
        },
        {
          "output_type": "stream",
          "name": "stdout",
          "text": [
            "\n",
            "I have received a message. I want to identify whether it's spam or not.\n",
            "If message is spam return “spam”. Otherwise return “ham”. Don’t return anything else.\n",
            "\n",
            "Message:\"Sorry, I'll call later\"\n",
            "\n",
            "Your answer:\n",
            "\n",
            "spam\n",
            "217\n"
          ]
        },
        {
          "output_type": "stream",
          "name": "stderr",
          "text": [
            "Setting `pad_token_id` to `eos_token_id`:2 for open-end generation.\n"
          ]
        },
        {
          "output_type": "stream",
          "name": "stdout",
          "text": [
            "\n",
            "I have received a message. I want to identify whether it's spam or not.\n",
            "If message is spam return “spam”. Otherwise return “ham”. Don’t return anything else.\n",
            "\n",
            "Message:\"Ditto. And you won't have to worry about me saying ANYTHING to you anymore. Like i said last night, you do whatever you want and i'll do the same. Peace.\"\n",
            "\n",
            "Your answer:\n",
            "spam\n",
            "218\n"
          ]
        },
        {
          "output_type": "stream",
          "name": "stderr",
          "text": [
            "Setting `pad_token_id` to `eos_token_id`:2 for open-end generation.\n"
          ]
        },
        {
          "output_type": "stream",
          "name": "stdout",
          "text": [
            "\n",
            "I have received a message. I want to identify whether it's spam or not.\n",
            "If message is spam return “spam”. Otherwise return “ham”. Don’t return anything else.\n",
            "\n",
            "Message:HAPPY NEW YEAR MY NO.1 MAN\n",
            "\n",
            "Your answer:\n",
            "spam\n",
            "219\n"
          ]
        },
        {
          "output_type": "stream",
          "name": "stderr",
          "text": [
            "Setting `pad_token_id` to `eos_token_id`:2 for open-end generation.\n"
          ]
        },
        {
          "output_type": "stream",
          "name": "stdout",
          "text": [
            "\n",
            "I have received a message. I want to identify whether it's spam or not.\n",
            "If message is spam return “spam”. Otherwise return “ham”. Don’t return anything else.\n",
            "\n",
            "Message:\"Erm... Woodland avenue somewhere. Do you get the parish magazine, his telephone number will be in there.\"\n",
            "\n",
            "Your answer:\n",
            "spam\n",
            "220\n"
          ]
        },
        {
          "output_type": "stream",
          "name": "stderr",
          "text": [
            "Setting `pad_token_id` to `eos_token_id`:2 for open-end generation.\n"
          ]
        },
        {
          "output_type": "stream",
          "name": "stdout",
          "text": [
            "\n",
            "I have received a message. I want to identify whether it's spam or not.\n",
            "If message is spam return “spam”. Otherwise return “ham”. Don’t return anything else.\n",
            "\n",
            "Message:Sorry da. I gone mad so many pending works what to do.\n",
            "\n",
            "Your answer:\n",
            "spam\n",
            "221\n"
          ]
        },
        {
          "output_type": "stream",
          "name": "stderr",
          "text": [
            "Setting `pad_token_id` to `eos_token_id`:2 for open-end generation.\n"
          ]
        },
        {
          "output_type": "stream",
          "name": "stdout",
          "text": [
            "\n",
            "I have received a message. I want to identify whether it's spam or not.\n",
            "If message is spam return “spam”. Otherwise return “ham”. Don’t return anything else.\n",
            "\n",
            "Message:Exactly. Anyways how far. Is jide her to study or just visiting\n",
            "\n",
            "Your answer:\n",
            "spam\n",
            "222\n"
          ]
        },
        {
          "output_type": "stream",
          "name": "stderr",
          "text": [
            "Setting `pad_token_id` to `eos_token_id`:2 for open-end generation.\n"
          ]
        },
        {
          "output_type": "stream",
          "name": "stdout",
          "text": [
            "\n",
            "I have received a message. I want to identify whether it's spam or not.\n",
            "If message is spam return “spam”. Otherwise return “ham”. Don’t return anything else.\n",
            "\n",
            "Message:Jay is snickering and tells me that x is totally fucking up the chords as we speak\n",
            "\n",
            "Your answer:\n",
            "spam\n",
            "223\n"
          ]
        },
        {
          "output_type": "stream",
          "name": "stderr",
          "text": [
            "Setting `pad_token_id` to `eos_token_id`:2 for open-end generation.\n"
          ]
        },
        {
          "output_type": "stream",
          "name": "stdout",
          "text": [
            "\n",
            "I have received a message. I want to identify whether it's spam or not.\n",
            "If message is spam return “spam”. Otherwise return “ham”. Don’t return anything else.\n",
            "\n",
            "Message:Its a site to simulate the test. It just gives you very tough questions to test your readiness.\n",
            "\n",
            "Your answer:\n",
            "spam\n",
            "224\n"
          ]
        },
        {
          "output_type": "stream",
          "name": "stderr",
          "text": [
            "Setting `pad_token_id` to `eos_token_id`:2 for open-end generation.\n"
          ]
        },
        {
          "output_type": "stream",
          "name": "stdout",
          "text": [
            "\n",
            "I have received a message. I want to identify whether it's spam or not.\n",
            "If message is spam return “spam”. Otherwise return “ham”. Don’t return anything else.\n",
            "\n",
            "Message:\"Babe! I fucking love you too !! You know? Fuck it was so good to hear your voice. I so need that. I crave it. I can't get enough. I adore you, Ahmad *kisses*\"\n",
            "\n",
            "Your answer:\n",
            "spam\n",
            "225\n"
          ]
        },
        {
          "output_type": "stream",
          "name": "stderr",
          "text": [
            "Setting `pad_token_id` to `eos_token_id`:2 for open-end generation.\n"
          ]
        },
        {
          "output_type": "stream",
          "name": "stdout",
          "text": [
            "\n",
            "I have received a message. I want to identify whether it's spam or not.\n",
            "If message is spam return “spam”. Otherwise return “ham”. Don’t return anything else.\n",
            "\n",
            "Message:(That said can you text him one more time?)\n",
            "\n",
            "Your answer:\n",
            "spam\n",
            "226\n"
          ]
        },
        {
          "output_type": "stream",
          "name": "stderr",
          "text": [
            "Setting `pad_token_id` to `eos_token_id`:2 for open-end generation.\n"
          ]
        },
        {
          "output_type": "stream",
          "name": "stdout",
          "text": [
            "\n",
            "I have received a message. I want to identify whether it's spam or not.\n",
            "If message is spam return “spam”. Otherwise return “ham”. Don’t return anything else.\n",
            "\n",
            "Message:Any pain on urination any thing else?\n",
            "\n",
            "Your answer:\n",
            "spam\n",
            "227\n"
          ]
        },
        {
          "output_type": "stream",
          "name": "stderr",
          "text": [
            "Setting `pad_token_id` to `eos_token_id`:2 for open-end generation.\n"
          ]
        },
        {
          "output_type": "stream",
          "name": "stdout",
          "text": [
            "\n",
            "I have received a message. I want to identify whether it's spam or not.\n",
            "If message is spam return “spam”. Otherwise return “ham”. Don’t return anything else.\n",
            "\n",
            "Message:\"idc get over here, you are not weaseling your way out of this shit twice in a row\"\n",
            "\n",
            "Your answer:\n",
            "spam\n",
            "228\n"
          ]
        },
        {
          "output_type": "stream",
          "name": "stderr",
          "text": [
            "Setting `pad_token_id` to `eos_token_id`:2 for open-end generation.\n"
          ]
        },
        {
          "output_type": "stream",
          "name": "stdout",
          "text": [
            "\n",
            "I have received a message. I want to identify whether it's spam or not.\n",
            "If message is spam return “spam”. Otherwise return “ham”. Don’t return anything else.\n",
            "\n",
            "Message:Eat at old airport road... But now 630 oredi... Got a lot of pple...\n",
            "\n",
            "Your answer:\n",
            "spam\n",
            "229\n"
          ]
        },
        {
          "output_type": "stream",
          "name": "stderr",
          "text": [
            "Setting `pad_token_id` to `eos_token_id`:2 for open-end generation.\n"
          ]
        },
        {
          "output_type": "stream",
          "name": "stdout",
          "text": [
            "\n",
            "I have received a message. I want to identify whether it's spam or not.\n",
            "If message is spam return “spam”. Otherwise return “ham”. Don’t return anything else.\n",
            "\n",
            "Message:\"Sorry pa, i dont knw who ru pa?\"\n",
            "\n",
            "Your answer:\n",
            "spam\n",
            "230\n"
          ]
        },
        {
          "output_type": "stream",
          "name": "stderr",
          "text": [
            "Setting `pad_token_id` to `eos_token_id`:2 for open-end generation.\n"
          ]
        },
        {
          "output_type": "stream",
          "name": "stdout",
          "text": [
            "\n",
            "I have received a message. I want to identify whether it's spam or not.\n",
            "If message is spam return “spam”. Otherwise return “ham”. Don’t return anything else.\n",
            "\n",
            "Message:Hey! There's veggie pizza... :/\n",
            "\n",
            "Your answer:\n",
            "spam\n",
            "231\n"
          ]
        },
        {
          "output_type": "stream",
          "name": "stderr",
          "text": [
            "Setting `pad_token_id` to `eos_token_id`:2 for open-end generation.\n"
          ]
        },
        {
          "output_type": "stream",
          "name": "stdout",
          "text": [
            "\n",
            "I have received a message. I want to identify whether it's spam or not.\n",
            "If message is spam return “spam”. Otherwise return “ham”. Don’t return anything else.\n",
            "\n",
            "Message:\", im .. On the snowboarding trip. I was wondering if your planning to get everyone together befor we go..a meet and greet kind of affair? Cheers, \"\n",
            "\n",
            "Your answer:\n",
            "\n",
            "I have received a message. I want to identify whether it's spam or not.\n",
            "232\n"
          ]
        },
        {
          "output_type": "stream",
          "name": "stderr",
          "text": [
            "Setting `pad_token_id` to `eos_token_id`:2 for open-end generation.\n"
          ]
        },
        {
          "output_type": "stream",
          "name": "stdout",
          "text": [
            "\n",
            "I have received a message. I want to identify whether it's spam or not.\n",
            "If message is spam return “spam”. Otherwise return “ham”. Don’t return anything else.\n",
            "\n",
            "Message:\"I'm in solihull, | do you want anything?\"\n",
            "\n",
            "Your answer:\n",
            "spam\n",
            "233\n"
          ]
        },
        {
          "output_type": "stream",
          "name": "stderr",
          "text": [
            "Setting `pad_token_id` to `eos_token_id`:2 for open-end generation.\n"
          ]
        },
        {
          "output_type": "stream",
          "name": "stdout",
          "text": [
            "\n",
            "I have received a message. I want to identify whether it's spam or not.\n",
            "If message is spam return “spam”. Otherwise return “ham”. Don’t return anything else.\n",
            "\n",
            "Message:I wonder if you'll get this text?\n",
            "\n",
            "Your answer:\n",
            "spam\n",
            "234\n"
          ]
        },
        {
          "output_type": "stream",
          "name": "stderr",
          "text": [
            "Setting `pad_token_id` to `eos_token_id`:2 for open-end generation.\n"
          ]
        },
        {
          "output_type": "stream",
          "name": "stdout",
          "text": [
            "\n",
            "I have received a message. I want to identify whether it's spam or not.\n",
            "If message is spam return “spam”. Otherwise return “ham”. Don’t return anything else.\n",
            "\n",
            "Message:Lol! Nah wasn't too bad thanks. Its good to b home but its been quite a reality check. Hows ur day been? Did u do anything with website?\n",
            "\n",
            "Your answer:\n",
            "\n",
            "I have received a message. I want to identify whether it's spam or not.\n",
            "235\n"
          ]
        },
        {
          "output_type": "stream",
          "name": "stderr",
          "text": [
            "Setting `pad_token_id` to `eos_token_id`:2 for open-end generation.\n"
          ]
        },
        {
          "output_type": "stream",
          "name": "stdout",
          "text": [
            "\n",
            "I have received a message. I want to identify whether it's spam or not.\n",
            "If message is spam return “spam”. Otherwise return “ham”. Don’t return anything else.\n",
            "\n",
            "Message:somewhere out there beneath the pale moon light someone think in of u some where out there where dreams come true... goodnite &amp; sweet dreams\n",
            "\n",
            "Your answer:\n",
            "spam\n",
            "236\n"
          ]
        },
        {
          "output_type": "stream",
          "name": "stderr",
          "text": [
            "Setting `pad_token_id` to `eos_token_id`:2 for open-end generation.\n"
          ]
        },
        {
          "output_type": "stream",
          "name": "stdout",
          "text": [
            "\n",
            "I have received a message. I want to identify whether it's spam or not.\n",
            "If message is spam return “spam”. Otherwise return “ham”. Don’t return anything else.\n",
            "\n",
            "Message:3 pa but not selected.\n",
            "\n",
            "Your answer:\n",
            "spam\n",
            "237\n"
          ]
        },
        {
          "output_type": "stream",
          "name": "stderr",
          "text": [
            "Setting `pad_token_id` to `eos_token_id`:2 for open-end generation.\n"
          ]
        },
        {
          "output_type": "stream",
          "name": "stdout",
          "text": [
            "\n",
            "I have received a message. I want to identify whether it's spam or not.\n",
            "If message is spam return “spam”. Otherwise return “ham”. Don’t return anything else.\n",
            "\n",
            "Message:\"Aight, I'll text you when I'm back\"\n",
            "\n",
            "Your answer:\n",
            "\n",
            "spam\n",
            "238\n"
          ]
        },
        {
          "output_type": "stream",
          "name": "stderr",
          "text": [
            "Setting `pad_token_id` to `eos_token_id`:2 for open-end generation.\n"
          ]
        },
        {
          "output_type": "stream",
          "name": "stdout",
          "text": [
            "\n",
            "I have received a message. I want to identify whether it's spam or not.\n",
            "If message is spam return “spam”. Otherwise return “ham”. Don’t return anything else.\n",
            "\n",
            "Message:Are you wet right now?\n",
            "\n",
            "Your answer:\n",
            "spam\n",
            "239\n"
          ]
        },
        {
          "output_type": "stream",
          "name": "stderr",
          "text": [
            "Setting `pad_token_id` to `eos_token_id`:2 for open-end generation.\n"
          ]
        },
        {
          "output_type": "stream",
          "name": "stdout",
          "text": [
            "\n",
            "I have received a message. I want to identify whether it's spam or not.\n",
            "If message is spam return “spam”. Otherwise return “ham”. Don’t return anything else.\n",
            "\n",
            "Message:Did u got that persons story\n",
            "\n",
            "Your answer:\n",
            "spam\n",
            "240\n"
          ]
        },
        {
          "output_type": "stream",
          "name": "stderr",
          "text": [
            "Setting `pad_token_id` to `eos_token_id`:2 for open-end generation.\n"
          ]
        },
        {
          "output_type": "stream",
          "name": "stdout",
          "text": [
            "\n",
            "I have received a message. I want to identify whether it's spam or not.\n",
            "If message is spam return “spam”. Otherwise return “ham”. Don’t return anything else.\n",
            "\n",
            "Message:\"So many people seems to be special at first sight, But only very few will remain special to you till your last sight.. Maintain them till life ends.. Sh!jas\"\n",
            "\n",
            "Your answer:\n",
            "spam\n",
            "241\n"
          ]
        },
        {
          "output_type": "stream",
          "name": "stderr",
          "text": [
            "Setting `pad_token_id` to `eos_token_id`:2 for open-end generation.\n"
          ]
        },
        {
          "output_type": "stream",
          "name": "stdout",
          "text": [
            "\n",
            "I have received a message. I want to identify whether it's spam or not.\n",
            "If message is spam return “spam”. Otherwise return “ham”. Don’t return anything else.\n",
            "\n",
            "Message:Hey... are you going to quit soon? Xuhui and i working till end of the month\n",
            "\n",
            "Your answer:\n",
            "spam\n",
            "242\n"
          ]
        },
        {
          "output_type": "stream",
          "name": "stderr",
          "text": [
            "Setting `pad_token_id` to `eos_token_id`:2 for open-end generation.\n"
          ]
        },
        {
          "output_type": "stream",
          "name": "stdout",
          "text": [
            "\n",
            "I have received a message. I want to identify whether it's spam or not.\n",
            "If message is spam return “spam”. Otherwise return “ham”. Don’t return anything else.\n",
            "\n",
            "Message:Then u go back urself lor...\n",
            "\n",
            "Your answer:\n",
            "spam\n",
            "243\n"
          ]
        },
        {
          "output_type": "stream",
          "name": "stderr",
          "text": [
            "Setting `pad_token_id` to `eos_token_id`:2 for open-end generation.\n"
          ]
        },
        {
          "output_type": "stream",
          "name": "stdout",
          "text": [
            "\n",
            "I have received a message. I want to identify whether it's spam or not.\n",
            "If message is spam return “spam”. Otherwise return “ham”. Don’t return anything else.\n",
            "\n",
            "Message:Yeah jay's sort of a fucking retard\n",
            "\n",
            "Your answer:\n",
            "spam\n",
            "244\n"
          ]
        },
        {
          "output_type": "stream",
          "name": "stderr",
          "text": [
            "Setting `pad_token_id` to `eos_token_id`:2 for open-end generation.\n"
          ]
        },
        {
          "output_type": "stream",
          "name": "stdout",
          "text": [
            "\n",
            "I have received a message. I want to identify whether it's spam or not.\n",
            "If message is spam return “spam”. Otherwise return “ham”. Don’t return anything else.\n",
            "\n",
            "Message:Sat right? Okay thanks...\n",
            "\n",
            "Your answer:\n",
            "spam\n",
            "245\n"
          ]
        },
        {
          "output_type": "stream",
          "name": "stderr",
          "text": [
            "Setting `pad_token_id` to `eos_token_id`:2 for open-end generation.\n"
          ]
        },
        {
          "output_type": "stream",
          "name": "stdout",
          "text": [
            "\n",
            "I have received a message. I want to identify whether it's spam or not.\n",
            "If message is spam return “spam”. Otherwise return “ham”. Don’t return anything else.\n",
            "\n",
            "Message:\"Sorry, went to bed early, nightnight\"\n",
            "\n",
            "Your answer:\n",
            "\n",
            "spam\n",
            "246\n"
          ]
        },
        {
          "output_type": "stream",
          "name": "stderr",
          "text": [
            "Setting `pad_token_id` to `eos_token_id`:2 for open-end generation.\n"
          ]
        },
        {
          "output_type": "stream",
          "name": "stdout",
          "text": [
            "\n",
            "I have received a message. I want to identify whether it's spam or not.\n",
            "If message is spam return “spam”. Otherwise return “ham”. Don’t return anything else.\n",
            "\n",
            "Message:Tomorrow i am not going to theatre. . . So i can come wherever u call me. . . Tell me where and when to come tomorrow\n",
            "\n",
            "Your answer:\n",
            "spam\n",
            "247\n"
          ]
        },
        {
          "output_type": "stream",
          "name": "stderr",
          "text": [
            "Setting `pad_token_id` to `eos_token_id`:2 for open-end generation.\n"
          ]
        },
        {
          "output_type": "stream",
          "name": "stdout",
          "text": [
            "\n",
            "I have received a message. I want to identify whether it's spam or not.\n",
            "If message is spam return “spam”. Otherwise return “ham”. Don’t return anything else.\n",
            "\n",
            "Message:\"Cool, want me to go to kappa or should I meet you outside mu\"\n",
            "\n",
            "Your answer:\n",
            "\n",
            "spam\n",
            "248\n"
          ]
        },
        {
          "output_type": "stream",
          "name": "stderr",
          "text": [
            "Setting `pad_token_id` to `eos_token_id`:2 for open-end generation.\n"
          ]
        },
        {
          "output_type": "stream",
          "name": "stdout",
          "text": [
            "\n",
            "I have received a message. I want to identify whether it's spam or not.\n",
            "If message is spam return “spam”. Otherwise return “ham”. Don’t return anything else.\n",
            "\n",
            "Message:\"Lol you forgot it eh ? Yes, I'll bring it in babe\"\n",
            "\n",
            "Your answer:\n",
            "spam\n",
            "249\n"
          ]
        },
        {
          "output_type": "stream",
          "name": "stderr",
          "text": [
            "Setting `pad_token_id` to `eos_token_id`:2 for open-end generation.\n"
          ]
        },
        {
          "output_type": "stream",
          "name": "stdout",
          "text": [
            "\n",
            "I have received a message. I want to identify whether it's spam or not.\n",
            "If message is spam return “spam”. Otherwise return “ham”. Don’t return anything else.\n",
            "\n",
            "Message:Thanx 4 e brownie it's v nice...\n",
            "\n",
            "Your answer:\n",
            "spam\n",
            "250\n"
          ]
        },
        {
          "output_type": "stream",
          "name": "stderr",
          "text": [
            "Setting `pad_token_id` to `eos_token_id`:2 for open-end generation.\n"
          ]
        },
        {
          "output_type": "stream",
          "name": "stdout",
          "text": [
            "\n",
            "I have received a message. I want to identify whether it's spam or not.\n",
            "If message is spam return “spam”. Otherwise return “ham”. Don’t return anything else.\n",
            "\n",
            "Message:How's it feel? Mr. Your not my real Valentine just my yo Valentine even tho u hardly play!!\n",
            "\n",
            "Your answer:\n",
            "spam\n",
            "251\n"
          ]
        },
        {
          "output_type": "stream",
          "name": "stderr",
          "text": [
            "Setting `pad_token_id` to `eos_token_id`:2 for open-end generation.\n"
          ]
        },
        {
          "output_type": "stream",
          "name": "stdout",
          "text": [
            "\n",
            "I have received a message. I want to identify whether it's spam or not.\n",
            "If message is spam return “spam”. Otherwise return “ham”. Don’t return anything else.\n",
            "\n",
            "Message:S:)8 min to go for lunch:)\n",
            "\n",
            "Your answer:\n",
            "spam\n",
            "252\n"
          ]
        },
        {
          "output_type": "stream",
          "name": "stderr",
          "text": [
            "Setting `pad_token_id` to `eos_token_id`:2 for open-end generation.\n"
          ]
        },
        {
          "output_type": "stream",
          "name": "stdout",
          "text": [
            "\n",
            "I have received a message. I want to identify whether it's spam or not.\n",
            "If message is spam return “spam”. Otherwise return “ham”. Don’t return anything else.\n",
            "\n",
            "Message:I can make lasagna for you... vodka...\n",
            "\n",
            "Your answer:\n",
            "spam\n",
            "253\n"
          ]
        },
        {
          "output_type": "stream",
          "name": "stderr",
          "text": [
            "Setting `pad_token_id` to `eos_token_id`:2 for open-end generation.\n"
          ]
        },
        {
          "output_type": "stream",
          "name": "stdout",
          "text": [
            "\n",
            "I have received a message. I want to identify whether it's spam or not.\n",
            "If message is spam return “spam”. Otherwise return “ham”. Don’t return anything else.\n",
            "\n",
            "Message:\"Once a fishrman woke early in d mrng. It was very dark. He waited a while &amp; found a sack ful of stones. He strtd throwin thm in2 d sea 2 pass time. Atlast he had jus 1stone, sun rose up &amp; he found out tht those r nt stones, those were diamonds. Moral:\\Dont wake up early in d mrng'' GOOD night\"\"\"\n",
            "\n",
            "Your answer:\n",
            "spam\n",
            "254\n"
          ]
        },
        {
          "output_type": "stream",
          "name": "stderr",
          "text": [
            "Setting `pad_token_id` to `eos_token_id`:2 for open-end generation.\n"
          ]
        },
        {
          "output_type": "stream",
          "name": "stdout",
          "text": [
            "\n",
            "I have received a message. I want to identify whether it's spam or not.\n",
            "If message is spam return “spam”. Otherwise return “ham”. Don’t return anything else.\n",
            "\n",
            "Message:The world's most happiest frnds never have the same characters... Dey just have the best understanding of their differences...\n",
            "\n",
            "Your answer:\n",
            "spam\n",
            "255\n"
          ]
        },
        {
          "output_type": "stream",
          "name": "stderr",
          "text": [
            "Setting `pad_token_id` to `eos_token_id`:2 for open-end generation.\n"
          ]
        },
        {
          "output_type": "stream",
          "name": "stdout",
          "text": [
            "\n",
            "I have received a message. I want to identify whether it's spam or not.\n",
            "If message is spam return “spam”. Otherwise return “ham”. Don’t return anything else.\n",
            "\n",
            "Message:The Xmas story is peace.. The Xmas msg is love.. The Xmas miracle is jesus.. Hav a blessed month ahead &amp; wish U Merry Xmas...\n",
            "\n",
            "Your answer:\n",
            "spam\n",
            "256\n"
          ]
        },
        {
          "output_type": "stream",
          "name": "stderr",
          "text": [
            "Setting `pad_token_id` to `eos_token_id`:2 for open-end generation.\n"
          ]
        },
        {
          "output_type": "stream",
          "name": "stdout",
          "text": [
            "\n",
            "I have received a message. I want to identify whether it's spam or not.\n",
            "If message is spam return “spam”. Otherwise return “ham”. Don’t return anything else.\n",
            "\n",
            "Message:\"I guess that's why you re worried. You must know that there's a way the body repairs itself. And i'm quite sure you shouldn't worry. We'll take it slow. First the tests, they will guide when your ovulation is then just relax. Nothing you've said is a reason to worry but i.ll keep on followin you up.\"\n",
            "\n",
            "Your answer:\n",
            "spam\n",
            "257\n"
          ]
        },
        {
          "output_type": "stream",
          "name": "stderr",
          "text": [
            "Setting `pad_token_id` to `eos_token_id`:2 for open-end generation.\n"
          ]
        },
        {
          "output_type": "stream",
          "name": "stdout",
          "text": [
            "\n",
            "I have received a message. I want to identify whether it's spam or not.\n",
            "If message is spam return “spam”. Otherwise return “ham”. Don’t return anything else.\n",
            "\n",
            "Message:\"Faith makes things possible,Hope makes things work,Love makes things beautiful,May you have all three this Christmas!Merry Christmas!\"\n",
            "\n",
            "Your answer:\n",
            "\n",
            "Ham\n",
            "258\n"
          ]
        },
        {
          "output_type": "stream",
          "name": "stderr",
          "text": [
            "Setting `pad_token_id` to `eos_token_id`:2 for open-end generation.\n"
          ]
        },
        {
          "output_type": "stream",
          "name": "stdout",
          "text": [
            "\n",
            "I have received a message. I want to identify whether it's spam or not.\n",
            "If message is spam return “spam”. Otherwise return “ham”. Don’t return anything else.\n",
            "\n",
            "Message:Pandy joined 4w technologies today.he got job..\n",
            "\n",
            "Your answer:\n",
            "spam\n",
            "259\n"
          ]
        },
        {
          "output_type": "stream",
          "name": "stderr",
          "text": [
            "Setting `pad_token_id` to `eos_token_id`:2 for open-end generation.\n"
          ]
        },
        {
          "output_type": "stream",
          "name": "stdout",
          "text": [
            "\n",
            "I have received a message. I want to identify whether it's spam or not.\n",
            "If message is spam return “spam”. Otherwise return “ham”. Don’t return anything else.\n",
            "\n",
            "Message:\"We have sent JD for Customer Service cum Accounts Executive to ur mail id, For details contact us\"\n",
            "\n",
            "Your answer:\n",
            "spam\n",
            "260\n"
          ]
        },
        {
          "output_type": "stream",
          "name": "stderr",
          "text": [
            "Setting `pad_token_id` to `eos_token_id`:2 for open-end generation.\n"
          ]
        },
        {
          "output_type": "stream",
          "name": "stdout",
          "text": [
            "\n",
            "I have received a message. I want to identify whether it's spam or not.\n",
            "If message is spam return “spam”. Otherwise return “ham”. Don’t return anything else.\n",
            "\n",
            "Message:\"K, text me when you're on the way\"\n",
            "\n",
            "Your answer:\n",
            "spam\n",
            "261\n"
          ]
        },
        {
          "output_type": "stream",
          "name": "stderr",
          "text": [
            "Setting `pad_token_id` to `eos_token_id`:2 for open-end generation.\n"
          ]
        },
        {
          "output_type": "stream",
          "name": "stdout",
          "text": [
            "\n",
            "I have received a message. I want to identify whether it's spam or not.\n",
            "If message is spam return “spam”. Otherwise return “ham”. Don’t return anything else.\n",
            "\n",
            "Message:When you guys planning on coming over?\n",
            "\n",
            "Your answer:\n",
            "spam\n",
            "262\n"
          ]
        },
        {
          "output_type": "stream",
          "name": "stderr",
          "text": [
            "Setting `pad_token_id` to `eos_token_id`:2 for open-end generation.\n"
          ]
        },
        {
          "output_type": "stream",
          "name": "stdout",
          "text": [
            "\n",
            "I have received a message. I want to identify whether it's spam or not.\n",
            "If message is spam return “spam”. Otherwise return “ham”. Don’t return anything else.\n",
            "\n",
            "Message:I finished my lunch already. U wake up already?\n",
            "\n",
            "Your answer:\n",
            "spam\n",
            "263\n"
          ]
        },
        {
          "output_type": "stream",
          "name": "stderr",
          "text": [
            "Setting `pad_token_id` to `eos_token_id`:2 for open-end generation.\n"
          ]
        },
        {
          "output_type": "stream",
          "name": "stdout",
          "text": [
            "\n",
            "I have received a message. I want to identify whether it's spam or not.\n",
            "If message is spam return “spam”. Otherwise return “ham”. Don’t return anything else.\n",
            "\n",
            "Message:In other news after hassling me to get him weed for a week andres has no money. HAUGHAIGHGTUJHYGUJ\n",
            "\n",
            "Your answer:\n",
            "spam\n",
            "264\n"
          ]
        },
        {
          "output_type": "stream",
          "name": "stderr",
          "text": [
            "Setting `pad_token_id` to `eos_token_id`:2 for open-end generation.\n"
          ]
        },
        {
          "output_type": "stream",
          "name": "stdout",
          "text": [
            "\n",
            "I have received a message. I want to identify whether it's spam or not.\n",
            "If message is spam return “spam”. Otherwise return “ham”. Don’t return anything else.\n",
            "\n",
            "Message:No one interested. May be some business plan.\n",
            "\n",
            "Your answer:\n",
            "spam\n",
            "265\n"
          ]
        },
        {
          "output_type": "stream",
          "name": "stderr",
          "text": [
            "Setting `pad_token_id` to `eos_token_id`:2 for open-end generation.\n"
          ]
        },
        {
          "output_type": "stream",
          "name": "stdout",
          "text": [
            "\n",
            "I have received a message. I want to identify whether it's spam or not.\n",
            "If message is spam return “spam”. Otherwise return “ham”. Don’t return anything else.\n",
            "\n",
            "Message:He didn't see his shadow. We get an early spring yay\n",
            "\n",
            "Your answer:\n",
            "spam\n",
            "266\n"
          ]
        },
        {
          "output_type": "stream",
          "name": "stderr",
          "text": [
            "Setting `pad_token_id` to `eos_token_id`:2 for open-end generation.\n"
          ]
        },
        {
          "output_type": "stream",
          "name": "stdout",
          "text": [
            "\n",
            "I have received a message. I want to identify whether it's spam or not.\n",
            "If message is spam return “spam”. Otherwise return “ham”. Don’t return anything else.\n",
            "\n",
            "Message:Wah lucky man... Then can save money... Hee...\n",
            "\n",
            "Your answer:\n",
            "spam\n",
            "267\n"
          ]
        },
        {
          "output_type": "stream",
          "name": "stderr",
          "text": [
            "Setting `pad_token_id` to `eos_token_id`:2 for open-end generation.\n"
          ]
        },
        {
          "output_type": "stream",
          "name": "stdout",
          "text": [
            "\n",
            "I have received a message. I want to identify whether it's spam or not.\n",
            "If message is spam return “spam”. Otherwise return “ham”. Don’t return anything else.\n",
            "\n",
            "Message:Hello hun how ru? Its here by the way. Im good. Been on 2 dates with that guy i met in walkabout so far. We have to meet up soon. Hows everyone else?\n",
            "\n",
            "Your answer:\n",
            "spam\n",
            "268\n"
          ]
        },
        {
          "output_type": "stream",
          "name": "stderr",
          "text": [
            "Setting `pad_token_id` to `eos_token_id`:2 for open-end generation.\n"
          ]
        },
        {
          "output_type": "stream",
          "name": "stdout",
          "text": [
            "\n",
            "I have received a message. I want to identify whether it's spam or not.\n",
            "If message is spam return “spam”. Otherwise return “ham”. Don’t return anything else.\n",
            "\n",
            "Message:Is she replying. Has boye changed his phone number\n",
            "\n",
            "Your answer:\n",
            "spam\n",
            "269\n"
          ]
        },
        {
          "output_type": "stream",
          "name": "stderr",
          "text": [
            "Setting `pad_token_id` to `eos_token_id`:2 for open-end generation.\n"
          ]
        },
        {
          "output_type": "stream",
          "name": "stdout",
          "text": [
            "\n",
            "I have received a message. I want to identify whether it's spam or not.\n",
            "If message is spam return “spam”. Otherwise return “ham”. Don’t return anything else.\n",
            "\n",
            "Message:S.i'm watching it in live..\n",
            "\n",
            "Your answer:\n",
            "spam\n",
            "270\n"
          ]
        },
        {
          "output_type": "stream",
          "name": "stderr",
          "text": [
            "Setting `pad_token_id` to `eos_token_id`:2 for open-end generation.\n"
          ]
        },
        {
          "output_type": "stream",
          "name": "stdout",
          "text": [
            "\n",
            "I have received a message. I want to identify whether it's spam or not.\n",
            "If message is spam return “spam”. Otherwise return “ham”. Don’t return anything else.\n",
            "\n",
            "Message:\"K, I might come by tonight then if my class lets out early\"\n",
            "\n",
            "Your answer:\n",
            "\n",
            "spam\n",
            "271\n"
          ]
        },
        {
          "output_type": "stream",
          "name": "stderr",
          "text": [
            "Setting `pad_token_id` to `eos_token_id`:2 for open-end generation.\n"
          ]
        },
        {
          "output_type": "stream",
          "name": "stdout",
          "text": [
            "\n",
            "I have received a message. I want to identify whether it's spam or not.\n",
            "If message is spam return “spam”. Otherwise return “ham”. Don’t return anything else.\n",
            "\n",
            "Message:\"I got like $ &lt;#&gt; , I can get some more later though. Get whatever you feel like\"\n",
            "\n",
            "Your answer:\n",
            "spam\n",
            "272\n"
          ]
        },
        {
          "output_type": "stream",
          "name": "stderr",
          "text": [
            "Setting `pad_token_id` to `eos_token_id`:2 for open-end generation.\n"
          ]
        },
        {
          "output_type": "stream",
          "name": "stdout",
          "text": [
            "\n",
            "I have received a message. I want to identify whether it's spam or not.\n",
            "If message is spam return “spam”. Otherwise return “ham”. Don’t return anything else.\n",
            "\n",
            "Message:Thk some of em find wtc too far... Weiyi not goin... E rest i dunno yet... R ur goin 4 dinner den i might b able to join...\n",
            "\n",
            "Your answer:\n",
            "spam\n",
            "273\n"
          ]
        },
        {
          "output_type": "stream",
          "name": "stderr",
          "text": [
            "Setting `pad_token_id` to `eos_token_id`:2 for open-end generation.\n"
          ]
        },
        {
          "output_type": "stream",
          "name": "stdout",
          "text": [
            "\n",
            "I have received a message. I want to identify whether it's spam or not.\n",
            "If message is spam return “spam”. Otherwise return “ham”. Don’t return anything else.\n",
            "\n",
            "Message:Cool. Do you like swimming? I have a pool and jacuzzi at my house.\n",
            "\n",
            "Your answer:\n",
            "spam\n",
            "274\n"
          ]
        },
        {
          "output_type": "stream",
          "name": "stderr",
          "text": [
            "Setting `pad_token_id` to `eos_token_id`:2 for open-end generation.\n"
          ]
        },
        {
          "output_type": "stream",
          "name": "stdout",
          "text": [
            "\n",
            "I have received a message. I want to identify whether it's spam or not.\n",
            "If message is spam return “spam”. Otherwise return “ham”. Don’t return anything else.\n",
            "\n",
            "Message:NEFT Transaction with reference number  &lt;#&gt;  for Rs. &lt;DECIMAL&gt;  has been credited to the beneficiary account on  &lt;#&gt;  at  &lt;TIME&gt; : &lt;#&gt;\n",
            "\n",
            "Your answer:\n",
            "spam\n",
            "275\n"
          ]
        },
        {
          "output_type": "stream",
          "name": "stderr",
          "text": [
            "Setting `pad_token_id` to `eos_token_id`:2 for open-end generation.\n"
          ]
        },
        {
          "output_type": "stream",
          "name": "stdout",
          "text": [
            "\n",
            "I have received a message. I want to identify whether it's spam or not.\n",
            "If message is spam return “spam”. Otherwise return “ham”. Don’t return anything else.\n",
            "\n",
            "Message:Nothing but we jus tot u would ask cos u ba gua... But we went mt faber yest... Yest jus went out already mah so today not going out... Jus call lor...\n",
            "\n",
            "Your answer:\n",
            "spam\n",
            "276\n"
          ]
        },
        {
          "output_type": "stream",
          "name": "stderr",
          "text": [
            "Setting `pad_token_id` to `eos_token_id`:2 for open-end generation.\n"
          ]
        },
        {
          "output_type": "stream",
          "name": "stdout",
          "text": [
            "\n",
            "I have received a message. I want to identify whether it's spam or not.\n",
            "If message is spam return “spam”. Otherwise return “ham”. Don’t return anything else.\n",
            "\n",
            "Message:You getting back any time soon?\n",
            "\n",
            "Your answer:\n",
            "spam\n",
            "277\n"
          ]
        },
        {
          "output_type": "stream",
          "name": "stderr",
          "text": [
            "Setting `pad_token_id` to `eos_token_id`:2 for open-end generation.\n"
          ]
        },
        {
          "output_type": "stream",
          "name": "stdout",
          "text": [
            "\n",
            "I have received a message. I want to identify whether it's spam or not.\n",
            "If message is spam return “spam”. Otherwise return “ham”. Don’t return anything else.\n",
            "\n",
            "Message:That day you asked about anand number. Why:-)\n",
            "\n",
            "Your answer:\n",
            "spam\n",
            "278\n"
          ]
        },
        {
          "output_type": "stream",
          "name": "stderr",
          "text": [
            "Setting `pad_token_id` to `eos_token_id`:2 for open-end generation.\n"
          ]
        },
        {
          "output_type": "stream",
          "name": "stdout",
          "text": [
            "\n",
            "I have received a message. I want to identify whether it's spam or not.\n",
            "If message is spam return “spam”. Otherwise return “ham”. Don’t return anything else.\n",
            "\n",
            "Message:I am in hospital da. . I will return home in evening\n",
            "\n",
            "Your answer:\n",
            "spam\n",
            "279\n"
          ]
        },
        {
          "output_type": "stream",
          "name": "stderr",
          "text": [
            "Setting `pad_token_id` to `eos_token_id`:2 for open-end generation.\n"
          ]
        },
        {
          "output_type": "stream",
          "name": "stdout",
          "text": [
            "\n",
            "I have received a message. I want to identify whether it's spam or not.\n",
            "If message is spam return “spam”. Otherwise return “ham”. Don’t return anything else.\n",
            "\n",
            "Message:\"Say this slowly.? GOD,I LOVE YOU &amp; I NEED YOU,CLEAN MY HEART WITH YOUR BLOOD.Send this to Ten special people &amp; u c miracle tomorrow, do it,pls,pls do it...\"\n",
            "\n",
            "Your answer:\n",
            "spam\n",
            "280\n"
          ]
        },
        {
          "output_type": "stream",
          "name": "stderr",
          "text": [
            "Setting `pad_token_id` to `eos_token_id`:2 for open-end generation.\n"
          ]
        },
        {
          "output_type": "stream",
          "name": "stdout",
          "text": [
            "\n",
            "I have received a message. I want to identify whether it's spam or not.\n",
            "If message is spam return “spam”. Otherwise return “ham”. Don’t return anything else.\n",
            "\n",
            "Message:Ha... U jus ate honey ar? So sweet...\n",
            "\n",
            "Your answer:\n",
            "spam\n",
            "281\n"
          ]
        },
        {
          "output_type": "stream",
          "name": "stderr",
          "text": [
            "Setting `pad_token_id` to `eos_token_id`:2 for open-end generation.\n"
          ]
        },
        {
          "output_type": "stream",
          "name": "stdout",
          "text": [
            "\n",
            "I have received a message. I want to identify whether it's spam or not.\n",
            "If message is spam return “spam”. Otherwise return “ham”. Don’t return anything else.\n",
            "\n",
            "Message:Yes :)it completely in out of form:)clark also utter waste.\n",
            "\n",
            "Your answer:\n",
            "spam\n",
            "282\n"
          ]
        },
        {
          "output_type": "stream",
          "name": "stderr",
          "text": [
            "Setting `pad_token_id` to `eos_token_id`:2 for open-end generation.\n"
          ]
        },
        {
          "output_type": "stream",
          "name": "stdout",
          "text": [
            "\n",
            "I have received a message. I want to identify whether it's spam or not.\n",
            "If message is spam return “spam”. Otherwise return “ham”. Don’t return anything else.\n",
            "\n",
            "Message:But i'm really really broke oh. No amount is too small even  &lt;#&gt;\n",
            "\n",
            "Your answer:\n",
            "spam\n",
            "283\n"
          ]
        },
        {
          "output_type": "stream",
          "name": "stderr",
          "text": [
            "Setting `pad_token_id` to `eos_token_id`:2 for open-end generation.\n"
          ]
        },
        {
          "output_type": "stream",
          "name": "stdout",
          "text": [
            "\n",
            "I have received a message. I want to identify whether it's spam or not.\n",
            "If message is spam return “spam”. Otherwise return “ham”. Don’t return anything else.\n",
            "\n",
            "Message:Haven't heard anything and he's not answering my texts so I'm guessing he flaked. That said the jb is fantastic\n",
            "\n",
            "Your answer:\n",
            "spam\n",
            "284\n"
          ]
        },
        {
          "output_type": "stream",
          "name": "stderr",
          "text": [
            "Setting `pad_token_id` to `eos_token_id`:2 for open-end generation.\n"
          ]
        },
        {
          "output_type": "stream",
          "name": "stdout",
          "text": [
            "\n",
            "I have received a message. I want to identify whether it's spam or not.\n",
            "If message is spam return “spam”. Otherwise return “ham”. Don’t return anything else.\n",
            "\n",
            "Message:Ok... Ur typical reply...\n",
            "\n",
            "Your answer:\n",
            "spam\n",
            "285\n"
          ]
        },
        {
          "output_type": "stream",
          "name": "stderr",
          "text": [
            "Setting `pad_token_id` to `eos_token_id`:2 for open-end generation.\n"
          ]
        },
        {
          "output_type": "stream",
          "name": "stdout",
          "text": [
            "\n",
            "I have received a message. I want to identify whether it's spam or not.\n",
            "If message is spam return “spam”. Otherwise return “ham”. Don’t return anything else.\n",
            "\n",
            "Message:At 4. Let's go to bill millers\n",
            "\n",
            "Your answer:\n",
            "spam\n",
            "286\n"
          ]
        },
        {
          "output_type": "stream",
          "name": "stderr",
          "text": [
            "Setting `pad_token_id` to `eos_token_id`:2 for open-end generation.\n"
          ]
        },
        {
          "output_type": "stream",
          "name": "stdout",
          "text": [
            "\n",
            "I have received a message. I want to identify whether it's spam or not.\n",
            "If message is spam return “spam”. Otherwise return “ham”. Don’t return anything else.\n",
            "\n",
            "Message:\"That's good, because I need drugs\"\n",
            "\n",
            "Your answer:\n",
            "spam\n",
            "287\n"
          ]
        },
        {
          "output_type": "stream",
          "name": "stderr",
          "text": [
            "Setting `pad_token_id` to `eos_token_id`:2 for open-end generation.\n"
          ]
        },
        {
          "output_type": "stream",
          "name": "stdout",
          "text": [
            "\n",
            "I have received a message. I want to identify whether it's spam or not.\n",
            "If message is spam return “spam”. Otherwise return “ham”. Don’t return anything else.\n",
            "\n",
            "Message:No need lar. Jus testing e phone card. Dunno network not gd i thk. Me waiting 4 my sis 2 finish bathing so i can bathe. Dun disturb u liao u cleaning ur room.\n",
            "\n",
            "Your answer:\n",
            "spam\n",
            "288\n"
          ]
        },
        {
          "output_type": "stream",
          "name": "stderr",
          "text": [
            "Setting `pad_token_id` to `eos_token_id`:2 for open-end generation.\n"
          ]
        },
        {
          "output_type": "stream",
          "name": "stdout",
          "text": [
            "\n",
            "I have received a message. I want to identify whether it's spam or not.\n",
            "If message is spam return “spam”. Otherwise return “ham”. Don’t return anything else.\n",
            "\n",
            "Message:I'm e person who's doing e sms survey...\n",
            "\n",
            "Your answer:\n",
            "spam\n",
            "289\n"
          ]
        },
        {
          "output_type": "stream",
          "name": "stderr",
          "text": [
            "Setting `pad_token_id` to `eos_token_id`:2 for open-end generation.\n"
          ]
        },
        {
          "output_type": "stream",
          "name": "stdout",
          "text": [
            "\n",
            "I have received a message. I want to identify whether it's spam or not.\n",
            "If message is spam return “spam”. Otherwise return “ham”. Don’t return anything else.\n",
            "\n",
            "Message:Never try alone to take the weight of a tear that comes out of ur heart and falls through ur eyes... Always remember a STUPID FRIEND is here to share... BSLVYL\n",
            "\n",
            "Your answer:\n",
            "spam\n",
            "290\n"
          ]
        },
        {
          "output_type": "stream",
          "name": "stderr",
          "text": [
            "Setting `pad_token_id` to `eos_token_id`:2 for open-end generation.\n"
          ]
        },
        {
          "output_type": "stream",
          "name": "stdout",
          "text": [
            "\n",
            "I have received a message. I want to identify whether it's spam or not.\n",
            "If message is spam return “spam”. Otherwise return “ham”. Don’t return anything else.\n",
            "\n",
            "Message:Yun buying... But school got offer 2000 plus only...\n",
            "\n",
            "Your answer:\n",
            "spam\n",
            "291\n"
          ]
        },
        {
          "output_type": "stream",
          "name": "stderr",
          "text": [
            "Setting `pad_token_id` to `eos_token_id`:2 for open-end generation.\n"
          ]
        },
        {
          "output_type": "stream",
          "name": "stdout",
          "text": [
            "\n",
            "I have received a message. I want to identify whether it's spam or not.\n",
            "If message is spam return “spam”. Otherwise return “ham”. Don’t return anything else.\n",
            "\n",
            "Message:\"Hmmm.. Thk sure got time to hop ard... Ya, can go 4 free abt... Muz call u to discuss liao... \"\n",
            "\n",
            "Your answer:\n",
            "spam\n",
            "292\n"
          ]
        },
        {
          "output_type": "stream",
          "name": "stderr",
          "text": [
            "Setting `pad_token_id` to `eos_token_id`:2 for open-end generation.\n"
          ]
        },
        {
          "output_type": "stream",
          "name": "stdout",
          "text": [
            "\n",
            "I have received a message. I want to identify whether it's spam or not.\n",
            "If message is spam return “spam”. Otherwise return “ham”. Don’t return anything else.\n",
            "\n",
            "Message:Oooh I got plenty of those!\n",
            "\n",
            "Your answer:\n",
            "spam\n",
            "293\n"
          ]
        },
        {
          "output_type": "stream",
          "name": "stderr",
          "text": [
            "Setting `pad_token_id` to `eos_token_id`:2 for open-end generation.\n"
          ]
        },
        {
          "output_type": "stream",
          "name": "stdout",
          "text": [
            "\n",
            "I have received a message. I want to identify whether it's spam or not.\n",
            "If message is spam return “spam”. Otherwise return “ham”. Don’t return anything else.\n",
            "\n",
            "Message:ARR birthday today:) i wish him to get more oscar.\n",
            "\n",
            "Your answer:\n",
            "spam\n",
            "294\n"
          ]
        },
        {
          "output_type": "stream",
          "name": "stderr",
          "text": [
            "Setting `pad_token_id` to `eos_token_id`:2 for open-end generation.\n"
          ]
        },
        {
          "output_type": "stream",
          "name": "stdout",
          "text": [
            "\n",
            "I have received a message. I want to identify whether it's spam or not.\n",
            "If message is spam return “spam”. Otherwise return “ham”. Don’t return anything else.\n",
            "\n",
            "Message:Carlos says he'll be at mu in  &lt;#&gt;  minutes\n",
            "\n",
            "Your answer:\n",
            "spam\n",
            "295\n"
          ]
        },
        {
          "output_type": "stream",
          "name": "stderr",
          "text": [
            "Setting `pad_token_id` to `eos_token_id`:2 for open-end generation.\n"
          ]
        },
        {
          "output_type": "stream",
          "name": "stdout",
          "text": [
            "\n",
            "I have received a message. I want to identify whether it's spam or not.\n",
            "If message is spam return “spam”. Otherwise return “ham”. Don’t return anything else.\n",
            "\n",
            "Message:What i told before i tell. Stupid hear after i wont tell anything to you. You dad called to my brother and spoken. Not with me.\n",
            "\n",
            "Your answer:\n",
            "spam\n",
            "296\n"
          ]
        },
        {
          "output_type": "stream",
          "name": "stderr",
          "text": [
            "Setting `pad_token_id` to `eos_token_id`:2 for open-end generation.\n"
          ]
        },
        {
          "output_type": "stream",
          "name": "stdout",
          "text": [
            "\n",
            "I have received a message. I want to identify whether it's spam or not.\n",
            "If message is spam return “spam”. Otherwise return “ham”. Don’t return anything else.\n",
            "\n",
            "Message:\"K, if u bored up just come to my home..\"\n",
            "\n",
            "Your answer:\n",
            "spam\n",
            "297\n"
          ]
        },
        {
          "output_type": "stream",
          "name": "stderr",
          "text": [
            "Setting `pad_token_id` to `eos_token_id`:2 for open-end generation.\n"
          ]
        },
        {
          "output_type": "stream",
          "name": "stdout",
          "text": [
            "\n",
            "I have received a message. I want to identify whether it's spam or not.\n",
            "If message is spam return “spam”. Otherwise return “ham”. Don’t return anything else.\n",
            "\n",
            "Message:Don know:)this week i'm going to tirunelvai da.\n",
            "\n",
            "Your answer:\n",
            "spam\n",
            "298\n"
          ]
        },
        {
          "output_type": "stream",
          "name": "stderr",
          "text": [
            "Setting `pad_token_id` to `eos_token_id`:2 for open-end generation.\n"
          ]
        },
        {
          "output_type": "stream",
          "name": "stdout",
          "text": [
            "\n",
            "I have received a message. I want to identify whether it's spam or not.\n",
            "If message is spam return “spam”. Otherwise return “ham”. Don’t return anything else.\n",
            "\n",
            "Message:Change again... It's e one next to escalator...\n",
            "\n",
            "Your answer:\n",
            "spam\n",
            "299\n"
          ]
        },
        {
          "output_type": "stream",
          "name": "stderr",
          "text": [
            "Setting `pad_token_id` to `eos_token_id`:2 for open-end generation.\n"
          ]
        },
        {
          "output_type": "stream",
          "name": "stdout",
          "text": [
            "\n",
            "I have received a message. I want to identify whether it's spam or not.\n",
            "If message is spam return “spam”. Otherwise return “ham”. Don’t return anything else.\n",
            "\n",
            "Message:I love ya too but try and budget your money better babe. Gary would freak on me if he knew\n",
            "\n",
            "Your answer:\n",
            "spam\n",
            "300\n"
          ]
        },
        {
          "output_type": "stream",
          "name": "stderr",
          "text": [
            "Setting `pad_token_id` to `eos_token_id`:2 for open-end generation.\n"
          ]
        },
        {
          "output_type": "stream",
          "name": "stdout",
          "text": [
            "\n",
            "I have received a message. I want to identify whether it's spam or not.\n",
            "If message is spam return “spam”. Otherwise return “ham”. Don’t return anything else.\n",
            "\n",
            "Message:HIYA COMIN 2 BRISTOL 1 ST WEEK IN APRIL. LES GOT OFF + RUDI ON NEW YRS EVE BUT I WAS SNORING.THEY WERE DRUNK! U BAK AT COLLEGE YET? MY WORK SENDS INK 2 BATH.\n",
            "\n",
            "Your answer:\n",
            "spam\n",
            "301\n"
          ]
        },
        {
          "output_type": "stream",
          "name": "stderr",
          "text": [
            "Setting `pad_token_id` to `eos_token_id`:2 for open-end generation.\n"
          ]
        },
        {
          "output_type": "stream",
          "name": "stdout",
          "text": [
            "\n",
            "I have received a message. I want to identify whether it's spam or not.\n",
            "If message is spam return “spam”. Otherwise return “ham”. Don’t return anything else.\n",
            "\n",
            "Message:\"I'm back &amp; we're packing the car now, I'll let you know if there's room\"\n",
            "\n",
            "Your answer:\n",
            "spam\n",
            "302\n"
          ]
        },
        {
          "output_type": "stream",
          "name": "stderr",
          "text": [
            "Setting `pad_token_id` to `eos_token_id`:2 for open-end generation.\n"
          ]
        },
        {
          "output_type": "stream",
          "name": "stdout",
          "text": [
            "\n",
            "I have received a message. I want to identify whether it's spam or not.\n",
            "If message is spam return “spam”. Otherwise return “ham”. Don’t return anything else.\n",
            "\n",
            "Message:\"Derp. Which is worse, a dude who always wants to party or a dude who files a complaint about the three drug abusers he lives with\"\n",
            "\n",
            "Your answer:\n",
            "spam\n",
            "303\n"
          ]
        },
        {
          "output_type": "stream",
          "name": "stderr",
          "text": [
            "Setting `pad_token_id` to `eos_token_id`:2 for open-end generation.\n"
          ]
        },
        {
          "output_type": "stream",
          "name": "stdout",
          "text": [
            "\n",
            "I have received a message. I want to identify whether it's spam or not.\n",
            "If message is spam return “spam”. Otherwise return “ham”. Don’t return anything else.\n",
            "\n",
            "Message:Well. Im computerless. Time to make some oreo truffles\n",
            "\n",
            "Your answer:\n",
            "spam\n",
            "304\n"
          ]
        },
        {
          "output_type": "stream",
          "name": "stderr",
          "text": [
            "Setting `pad_token_id` to `eos_token_id`:2 for open-end generation.\n"
          ]
        },
        {
          "output_type": "stream",
          "name": "stdout",
          "text": [
            "\n",
            "I have received a message. I want to identify whether it's spam or not.\n",
            "If message is spam return “spam”. Otherwise return “ham”. Don’t return anything else.\n",
            "\n",
            "Message:Dont kick coco when he's down\n",
            "\n",
            "Your answer:\n",
            "spam\n",
            "305\n"
          ]
        },
        {
          "output_type": "stream",
          "name": "stderr",
          "text": [
            "Setting `pad_token_id` to `eos_token_id`:2 for open-end generation.\n"
          ]
        },
        {
          "output_type": "stream",
          "name": "stdout",
          "text": [
            "\n",
            "I have received a message. I want to identify whether it's spam or not.\n",
            "If message is spam return “spam”. Otherwise return “ham”. Don’t return anything else.\n",
            "\n",
            "Message:Ok no prob...\n",
            "\n",
            "Your answer:\n",
            "spam\n",
            "306\n"
          ]
        },
        {
          "output_type": "stream",
          "name": "stderr",
          "text": [
            "Setting `pad_token_id` to `eos_token_id`:2 for open-end generation.\n"
          ]
        },
        {
          "output_type": "stream",
          "name": "stdout",
          "text": [
            "\n",
            "I have received a message. I want to identify whether it's spam or not.\n",
            "If message is spam return “spam”. Otherwise return “ham”. Don’t return anything else.\n",
            "\n",
            "Message:Me i'm not workin. Once i get job...\n",
            "\n",
            "Your answer:\n",
            "spam\n",
            "307\n"
          ]
        },
        {
          "output_type": "stream",
          "name": "stderr",
          "text": [
            "Setting `pad_token_id` to `eos_token_id`:2 for open-end generation.\n"
          ]
        },
        {
          "output_type": "stream",
          "name": "stdout",
          "text": [
            "\n",
            "I have received a message. I want to identify whether it's spam or not.\n",
            "If message is spam return “spam”. Otherwise return “ham”. Don’t return anything else.\n",
            "\n",
            "Message:Convey my regards to him\n",
            "\n",
            "Your answer:\n",
            "spam\n",
            "308\n"
          ]
        },
        {
          "output_type": "stream",
          "name": "stderr",
          "text": [
            "Setting `pad_token_id` to `eos_token_id`:2 for open-end generation.\n"
          ]
        },
        {
          "output_type": "stream",
          "name": "stdout",
          "text": [
            "\n",
            "I have received a message. I want to identify whether it's spam or not.\n",
            "If message is spam return “spam”. Otherwise return “ham”. Don’t return anything else.\n",
            "\n",
            "Message:\"Honeybee Said: *I'm d Sweetest in d World* God Laughed &amp; Said: *Wait,U Havnt Met d Person Reading This Msg* MORAL: Even GOD Can Crack Jokes! GM+GN+GE+GN:)\"\n",
            "\n",
            "Your answer:\n",
            "spam\n",
            "309\n"
          ]
        },
        {
          "output_type": "stream",
          "name": "stderr",
          "text": [
            "Setting `pad_token_id` to `eos_token_id`:2 for open-end generation.\n"
          ]
        },
        {
          "output_type": "stream",
          "name": "stdout",
          "text": [
            "\n",
            "I have received a message. I want to identify whether it's spam or not.\n",
            "If message is spam return “spam”. Otherwise return “ham”. Don’t return anything else.\n",
            "\n",
            "Message:The guy did some bitching but I acted like i'd be interested in buying something else next week and he gave it to us for free\n",
            "\n",
            "Your answer:\n",
            "spam\n",
            "310\n"
          ]
        },
        {
          "output_type": "stream",
          "name": "stderr",
          "text": [
            "Setting `pad_token_id` to `eos_token_id`:2 for open-end generation.\n"
          ]
        },
        {
          "output_type": "stream",
          "name": "stdout",
          "text": [
            "\n",
            "I have received a message. I want to identify whether it's spam or not.\n",
            "If message is spam return “spam”. Otherwise return “ham”. Don’t return anything else.\n",
            "\n",
            "Message:\"You are everywhere dirt, on the floor, the windows, even on my shirt. And sometimes when i open my mouth, you are all that comes flowing out. I dream of my world without you, then half my chores are out too. A time of joy for me, lots of tv shows i.ll see. But i guess like all things you just must exist, like rain, hail and mist, and when my time here is done, you and i become one.\"\n",
            "\n",
            "Your answer:\n",
            "spam\n",
            "311\n"
          ]
        },
        {
          "output_type": "stream",
          "name": "stderr",
          "text": [
            "Setting `pad_token_id` to `eos_token_id`:2 for open-end generation.\n"
          ]
        },
        {
          "output_type": "stream",
          "name": "stdout",
          "text": [
            "\n",
            "I have received a message. I want to identify whether it's spam or not.\n",
            "If message is spam return “spam”. Otherwise return “ham”. Don’t return anything else.\n",
            "\n",
            "Message:Oooh bed ridden ey? What are YOU thinking of?\n",
            "\n",
            "Your answer:\n",
            "spam\n",
            "312\n"
          ]
        },
        {
          "output_type": "stream",
          "name": "stderr",
          "text": [
            "Setting `pad_token_id` to `eos_token_id`:2 for open-end generation.\n"
          ]
        },
        {
          "output_type": "stream",
          "name": "stdout",
          "text": [
            "\n",
            "I have received a message. I want to identify whether it's spam or not.\n",
            "If message is spam return “spam”. Otherwise return “ham”. Don’t return anything else.\n",
            "\n",
            "Message:Some of them told accenture is not confirm. Is it true.\n",
            "\n",
            "Your answer:\n",
            "spam\n",
            "313\n"
          ]
        },
        {
          "output_type": "stream",
          "name": "stderr",
          "text": [
            "Setting `pad_token_id` to `eos_token_id`:2 for open-end generation.\n"
          ]
        },
        {
          "output_type": "stream",
          "name": "stdout",
          "text": [
            "\n",
            "I have received a message. I want to identify whether it's spam or not.\n",
            "If message is spam return “spam”. Otherwise return “ham”. Don’t return anything else.\n",
            "\n",
            "Message:Your dad is back in ph?\n",
            "\n",
            "Your answer:\n",
            "spam\n",
            "314\n"
          ]
        },
        {
          "output_type": "stream",
          "name": "stderr",
          "text": [
            "Setting `pad_token_id` to `eos_token_id`:2 for open-end generation.\n"
          ]
        },
        {
          "output_type": "stream",
          "name": "stdout",
          "text": [
            "\n",
            "I have received a message. I want to identify whether it's spam or not.\n",
            "If message is spam return “spam”. Otherwise return “ham”. Don’t return anything else.\n",
            "\n",
            "Message:Oh ho. Is this the first time u use these type of words\n",
            "\n",
            "Your answer:\n",
            "spam\n",
            "315\n"
          ]
        },
        {
          "output_type": "stream",
          "name": "stderr",
          "text": [
            "Setting `pad_token_id` to `eos_token_id`:2 for open-end generation.\n"
          ]
        },
        {
          "output_type": "stream",
          "name": "stdout",
          "text": [
            "\n",
            "I have received a message. I want to identify whether it's spam or not.\n",
            "If message is spam return “spam”. Otherwise return “ham”. Don’t return anything else.\n",
            "\n",
            "Message:Merry christmas to u too annie!\n",
            "\n",
            "Your answer:\n",
            "spam\n",
            "316\n"
          ]
        },
        {
          "output_type": "stream",
          "name": "stderr",
          "text": [
            "Setting `pad_token_id` to `eos_token_id`:2 for open-end generation.\n"
          ]
        },
        {
          "output_type": "stream",
          "name": "stdout",
          "text": [
            "\n",
            "I have received a message. I want to identify whether it's spam or not.\n",
            "If message is spam return “spam”. Otherwise return “ham”. Don’t return anything else.\n",
            "\n",
            "Message:Desires- u going to doctor 4 liver. And get a bit stylish. Get ur hair managed. Thats it.\n",
            "\n",
            "Your answer:\n",
            "spam\n",
            "317\n"
          ]
        },
        {
          "output_type": "stream",
          "name": "stderr",
          "text": [
            "Setting `pad_token_id` to `eos_token_id`:2 for open-end generation.\n"
          ]
        },
        {
          "output_type": "stream",
          "name": "stdout",
          "text": [
            "\n",
            "I have received a message. I want to identify whether it's spam or not.\n",
            "If message is spam return “spam”. Otherwise return “ham”. Don’t return anything else.\n",
            "\n",
            "Message:\" said kiss, kiss, i can't do the sound effects! He is a gorgeous man isn't he! Kind of person who needs a smile to brighten his day! \"\n",
            "\n",
            "Your answer:\n",
            "\n",
            "I have received a message. I want to identify whether it's spam or not.\n",
            "318\n"
          ]
        },
        {
          "output_type": "stream",
          "name": "stderr",
          "text": [
            "Setting `pad_token_id` to `eos_token_id`:2 for open-end generation.\n"
          ]
        },
        {
          "output_type": "stream",
          "name": "stdout",
          "text": [
            "\n",
            "I have received a message. I want to identify whether it's spam or not.\n",
            "If message is spam return “spam”. Otherwise return “ham”. Don’t return anything else.\n",
            "\n",
            "Message:Good evening! this is roger. How are you?\n",
            "\n",
            "Your answer:\n",
            "spam\n",
            "319\n"
          ]
        },
        {
          "output_type": "stream",
          "name": "stderr",
          "text": [
            "Setting `pad_token_id` to `eos_token_id`:2 for open-end generation.\n"
          ]
        },
        {
          "output_type": "stream",
          "name": "stdout",
          "text": [
            "\n",
            "I have received a message. I want to identify whether it's spam or not.\n",
            "If message is spam return “spam”. Otherwise return “ham”. Don’t return anything else.\n",
            "\n",
            "Message:\"Fighting with the world is easy, u either win or lose bt fightng with some1 who is close to u is dificult if u lose - u lose if u win - u still lose.\"\n",
            "\n",
            "Your answer:\n",
            "spam\n",
            "320\n"
          ]
        },
        {
          "output_type": "stream",
          "name": "stderr",
          "text": [
            "Setting `pad_token_id` to `eos_token_id`:2 for open-end generation.\n"
          ]
        },
        {
          "output_type": "stream",
          "name": "stdout",
          "text": [
            "\n",
            "I have received a message. I want to identify whether it's spam or not.\n",
            "If message is spam return “spam”. Otherwise return “ham”. Don’t return anything else.\n",
            "\n",
            "Message:\"K, I'll work something out\"\n",
            "\n",
            "Your answer:\n",
            "\n",
            "spam\n",
            "321\n"
          ]
        },
        {
          "output_type": "stream",
          "name": "stderr",
          "text": [
            "Setting `pad_token_id` to `eos_token_id`:2 for open-end generation.\n"
          ]
        },
        {
          "output_type": "stream",
          "name": "stdout",
          "text": [
            "\n",
            "I have received a message. I want to identify whether it's spam or not.\n",
            "If message is spam return “spam”. Otherwise return “ham”. Don’t return anything else.\n",
            "\n",
            "Message:Sitting ard nothing to do lor. U leh busy w work?\n",
            "\n",
            "Your answer:\n",
            "spam\n",
            "322\n"
          ]
        },
        {
          "output_type": "stream",
          "name": "stderr",
          "text": [
            "Setting `pad_token_id` to `eos_token_id`:2 for open-end generation.\n"
          ]
        },
        {
          "output_type": "stream",
          "name": "stdout",
          "text": [
            "\n",
            "I have received a message. I want to identify whether it's spam or not.\n",
            "If message is spam return “spam”. Otherwise return “ham”. Don’t return anything else.\n",
            "\n",
            "Message:\"Cool, we shall go and see, have to go to tip anyway. Are you at home, got something to drop in later? So lets go to town tonight! Maybe mum can take us in.\"\n",
            "\n",
            "Your answer:\n",
            "\n",
            "spam\n",
            "323\n"
          ]
        },
        {
          "output_type": "stream",
          "name": "stderr",
          "text": [
            "Setting `pad_token_id` to `eos_token_id`:2 for open-end generation.\n"
          ]
        },
        {
          "output_type": "stream",
          "name": "stdout",
          "text": [
            "\n",
            "I have received a message. I want to identify whether it's spam or not.\n",
            "If message is spam return “spam”. Otherwise return “ham”. Don’t return anything else.\n",
            "\n",
            "Message:Meeting u is my work. . . Tel me when shall i do my work tomorrow\n",
            "\n",
            "Your answer:\n",
            "spam\n",
            "324\n"
          ]
        },
        {
          "output_type": "stream",
          "name": "stderr",
          "text": [
            "Setting `pad_token_id` to `eos_token_id`:2 for open-end generation.\n"
          ]
        },
        {
          "output_type": "stream",
          "name": "stdout",
          "text": [
            "\n",
            "I have received a message. I want to identify whether it's spam or not.\n",
            "If message is spam return “spam”. Otherwise return “ham”. Don’t return anything else.\n",
            "\n",
            "Message:THING R GOOD THANX GOT EXAMS IN MARCH IVE DONE NO REVISION? IS FRAN STILL WITH BOYF? IVE GOTTA INTERVIW 4 EXETER BIT WORRIED!x\n",
            "\n",
            "Your answer:\n",
            "spam\n",
            "325\n"
          ]
        },
        {
          "output_type": "stream",
          "name": "stderr",
          "text": [
            "Setting `pad_token_id` to `eos_token_id`:2 for open-end generation.\n"
          ]
        },
        {
          "output_type": "stream",
          "name": "stdout",
          "text": [
            "\n",
            "I have received a message. I want to identify whether it's spam or not.\n",
            "If message is spam return “spam”. Otherwise return “ham”. Don’t return anything else.\n",
            "\n",
            "Message:Not planned yet :)going to join company on jan 5 only.don know what will happen after that.\n",
            "\n",
            "Your answer:\n",
            "spam\n",
            "326\n"
          ]
        },
        {
          "output_type": "stream",
          "name": "stderr",
          "text": [
            "Setting `pad_token_id` to `eos_token_id`:2 for open-end generation.\n"
          ]
        },
        {
          "output_type": "stream",
          "name": "stdout",
          "text": [
            "\n",
            "I have received a message. I want to identify whether it's spam or not.\n",
            "If message is spam return “spam”. Otherwise return “ham”. Don’t return anything else.\n",
            "\n",
            "Message:Hi.what you think about match?\n",
            "\n",
            "Your answer:\n",
            "spam\n",
            "327\n"
          ]
        },
        {
          "output_type": "stream",
          "name": "stderr",
          "text": [
            "Setting `pad_token_id` to `eos_token_id`:2 for open-end generation.\n"
          ]
        },
        {
          "output_type": "stream",
          "name": "stdout",
          "text": [
            "\n",
            "I have received a message. I want to identify whether it's spam or not.\n",
            "If message is spam return “spam”. Otherwise return “ham”. Don’t return anything else.\n",
            "\n",
            "Message:Auntie huai juan never pick up her phone\n",
            "\n",
            "Your answer:\n",
            "spam\n",
            "328\n"
          ]
        },
        {
          "output_type": "stream",
          "name": "stderr",
          "text": [
            "Setting `pad_token_id` to `eos_token_id`:2 for open-end generation.\n"
          ]
        },
        {
          "output_type": "stream",
          "name": "stdout",
          "text": [
            "\n",
            "I have received a message. I want to identify whether it's spam or not.\n",
            "If message is spam return “spam”. Otherwise return “ham”. Don’t return anything else.\n",
            "\n",
            "Message:NOT MUCH NO FIGHTS. IT WAS A GOOD NITE!!\n",
            "\n",
            "Your answer:\n",
            "spam\n",
            "329\n"
          ]
        },
        {
          "output_type": "stream",
          "name": "stderr",
          "text": [
            "Setting `pad_token_id` to `eos_token_id`:2 for open-end generation.\n"
          ]
        },
        {
          "output_type": "stream",
          "name": "stdout",
          "text": [
            "\n",
            "I have received a message. I want to identify whether it's spam or not.\n",
            "If message is spam return “spam”. Otherwise return “ham”. Don’t return anything else.\n",
            "\n",
            "Message:You should get more chicken broth if you want ramen unless there's some I don't know about\n",
            "\n",
            "Your answer:\n",
            "spam\n",
            "330\n"
          ]
        },
        {
          "output_type": "stream",
          "name": "stderr",
          "text": [
            "Setting `pad_token_id` to `eos_token_id`:2 for open-end generation.\n"
          ]
        },
        {
          "output_type": "stream",
          "name": "stdout",
          "text": [
            "\n",
            "I have received a message. I want to identify whether it's spam or not.\n",
            "If message is spam return “spam”. Otherwise return “ham”. Don’t return anything else.\n",
            "\n",
            "Message:But i haf enuff space got like 4 mb...\n",
            "\n",
            "Your answer:\n",
            "spam\n",
            "331\n"
          ]
        },
        {
          "output_type": "stream",
          "name": "stderr",
          "text": [
            "Setting `pad_token_id` to `eos_token_id`:2 for open-end generation.\n"
          ]
        },
        {
          "output_type": "stream",
          "name": "stdout",
          "text": [
            "\n",
            "I have received a message. I want to identify whether it's spam or not.\n",
            "If message is spam return “spam”. Otherwise return “ham”. Don’t return anything else.\n",
            "\n",
            "Message:Ok.\n",
            "\n",
            "Your answer:\n",
            "\n",
            "I have received a message. I want to identify whether it's spam or not.\n",
            "332\n"
          ]
        },
        {
          "output_type": "stream",
          "name": "stderr",
          "text": [
            "Setting `pad_token_id` to `eos_token_id`:2 for open-end generation.\n"
          ]
        },
        {
          "output_type": "stream",
          "name": "stdout",
          "text": [
            "\n",
            "I have received a message. I want to identify whether it's spam or not.\n",
            "If message is spam return “spam”. Otherwise return “ham”. Don’t return anything else.\n",
            "\n",
            "Message:Maybe i could get book out tomo then return it immediately ..? Or something.\n",
            "\n",
            "Your answer:\n",
            "spam\n",
            "333\n"
          ]
        },
        {
          "output_type": "stream",
          "name": "stderr",
          "text": [
            "Setting `pad_token_id` to `eos_token_id`:2 for open-end generation.\n"
          ]
        },
        {
          "output_type": "stream",
          "name": "stdout",
          "text": [
            "\n",
            "I have received a message. I want to identify whether it's spam or not.\n",
            "If message is spam return “spam”. Otherwise return “ham”. Don’t return anything else.\n",
            "\n",
            "Message:Aiyar dun disturb u liao... Thk u have lots 2 do aft ur cupboard come...\n",
            "\n",
            "Your answer:\n",
            "spam\n",
            "334\n"
          ]
        },
        {
          "output_type": "stream",
          "name": "stderr",
          "text": [
            "Setting `pad_token_id` to `eos_token_id`:2 for open-end generation.\n"
          ]
        },
        {
          "output_type": "stream",
          "name": "stdout",
          "text": [
            "\n",
            "I have received a message. I want to identify whether it's spam or not.\n",
            "If message is spam return “spam”. Otherwise return “ham”. Don’t return anything else.\n",
            "\n",
            "Message:\"its cool but tyler had to take off so we're gonna buy for him and drop it off at his place later tonight. Our total order is a quarter, you got enough?\"\n",
            "\n",
            "Your answer:\n",
            "\n",
            "spam\n",
            "335\n"
          ]
        },
        {
          "output_type": "stream",
          "name": "stderr",
          "text": [
            "Setting `pad_token_id` to `eos_token_id`:2 for open-end generation.\n"
          ]
        },
        {
          "output_type": "stream",
          "name": "stdout",
          "text": [
            "\n",
            "I have received a message. I want to identify whether it's spam or not.\n",
            "If message is spam return “spam”. Otherwise return “ham”. Don’t return anything else.\n",
            "\n",
            "Message:great princess! I love giving and receiving oral. Doggy style is my fave position. How about you? I enjoy making love  &lt;#&gt;  times per night :)\n",
            "\n",
            "Your answer:\n",
            "spam\n",
            "336\n"
          ]
        },
        {
          "output_type": "stream",
          "name": "stderr",
          "text": [
            "Setting `pad_token_id` to `eos_token_id`:2 for open-end generation.\n"
          ]
        },
        {
          "output_type": "stream",
          "name": "stdout",
          "text": [
            "\n",
            "I have received a message. I want to identify whether it's spam or not.\n",
            "If message is spam return “spam”. Otherwise return “ham”. Don’t return anything else.\n",
            "\n",
            "Message:Dai i downloaded but there is only exe file which i can only run that exe after installing.\n",
            "\n",
            "Your answer:\n",
            "spam\n",
            "337\n"
          ]
        },
        {
          "output_type": "stream",
          "name": "stderr",
          "text": [
            "Setting `pad_token_id` to `eos_token_id`:2 for open-end generation.\n"
          ]
        },
        {
          "output_type": "stream",
          "name": "stdout",
          "text": [
            "\n",
            "I have received a message. I want to identify whether it's spam or not.\n",
            "If message is spam return “spam”. Otherwise return “ham”. Don’t return anything else.\n",
            "\n",
            "Message:\"As I entered my cabin my PA said, '' Happy B'day Boss !!''. I felt special. She askd me 4 lunch. After lunch she invited me to her apartment. We went there.\"\n",
            "\n",
            "Your answer:\n",
            "spam\n",
            "338\n"
          ]
        },
        {
          "output_type": "stream",
          "name": "stderr",
          "text": [
            "Setting `pad_token_id` to `eos_token_id`:2 for open-end generation.\n"
          ]
        },
        {
          "output_type": "stream",
          "name": "stdout",
          "text": [
            "\n",
            "I have received a message. I want to identify whether it's spam or not.\n",
            "If message is spam return “spam”. Otherwise return “ham”. Don’t return anything else.\n",
            "\n",
            "Message:I'm thinking that chennai forgot to come for auction..\n",
            "\n",
            "Your answer:\n",
            "spam\n",
            "339\n"
          ]
        },
        {
          "output_type": "stream",
          "name": "stderr",
          "text": [
            "Setting `pad_token_id` to `eos_token_id`:2 for open-end generation.\n"
          ]
        },
        {
          "output_type": "stream",
          "name": "stdout",
          "text": [
            "\n",
            "I have received a message. I want to identify whether it's spam or not.\n",
            "If message is spam return “spam”. Otherwise return “ham”. Don’t return anything else.\n",
            "\n",
            "Message:\"Buzz! Hey, my Love ! I think of you and hope your day goes well. Did you sleep in ? I miss you babe. I long for the moment we are together again*loving smile*\"\n",
            "\n",
            "Your answer:\n",
            "spam\n",
            "340\n"
          ]
        },
        {
          "output_type": "stream",
          "name": "stderr",
          "text": [
            "Setting `pad_token_id` to `eos_token_id`:2 for open-end generation.\n"
          ]
        },
        {
          "output_type": "stream",
          "name": "stdout",
          "text": [
            "\n",
            "I have received a message. I want to identify whether it's spam or not.\n",
            "If message is spam return “spam”. Otherwise return “ham”. Don’t return anything else.\n",
            "\n",
            "Message:Today is ACCEPT DAY..U Accept me as? Brother Sister Lover Dear1 Best1 Clos1 Lvblefrnd Jstfrnd Cutefrnd Lifpartnr Belovd Swtheart Bstfrnd No rply means enemy\n",
            "\n",
            "Your answer:\n",
            "spam\n",
            "341\n"
          ]
        },
        {
          "output_type": "stream",
          "name": "stderr",
          "text": [
            "Setting `pad_token_id` to `eos_token_id`:2 for open-end generation.\n"
          ]
        },
        {
          "output_type": "stream",
          "name": "stdout",
          "text": [
            "\n",
            "I have received a message. I want to identify whether it's spam or not.\n",
            "If message is spam return “spam”. Otherwise return “ham”. Don’t return anything else.\n",
            "\n",
            "Message:\"Good afternoon on this glorious anniversary day, my sweet J !! I hope this finds you happy and content, my Prey. I think of you and send a teasing kiss from across the sea coaxing images of fond souveniers ... You Cougar-Pen\"\n",
            "\n",
            "Your answer:\n",
            "spam\n",
            "342\n"
          ]
        },
        {
          "output_type": "stream",
          "name": "stderr",
          "text": [
            "Setting `pad_token_id` to `eos_token_id`:2 for open-end generation.\n"
          ]
        },
        {
          "output_type": "stream",
          "name": "stdout",
          "text": [
            "\n",
            "I have received a message. I want to identify whether it's spam or not.\n",
            "If message is spam return “spam”. Otherwise return “ham”. Don’t return anything else.\n",
            "\n",
            "Message:Did you show him and wot did he say or could u not c him 4 dust?\n",
            "\n",
            "Your answer:\n",
            "spam\n",
            "343\n"
          ]
        },
        {
          "output_type": "stream",
          "name": "stderr",
          "text": [
            "Setting `pad_token_id` to `eos_token_id`:2 for open-end generation.\n"
          ]
        },
        {
          "output_type": "stream",
          "name": "stdout",
          "text": [
            "\n",
            "I have received a message. I want to identify whether it's spam or not.\n",
            "If message is spam return “spam”. Otherwise return “ham”. Don’t return anything else.\n",
            "\n",
            "Message:\"He said that he had a right giggle when he saw u again! You would possibly be the first person2die from NVQ, but think how much you could for! \"\n",
            "\n",
            "Your answer:\n",
            "spam\n",
            "344\n"
          ]
        },
        {
          "output_type": "stream",
          "name": "stderr",
          "text": [
            "Setting `pad_token_id` to `eos_token_id`:2 for open-end generation.\n"
          ]
        },
        {
          "output_type": "stream",
          "name": "stdout",
          "text": [
            "\n",
            "I have received a message. I want to identify whether it's spam or not.\n",
            "If message is spam return “spam”. Otherwise return “ham”. Don’t return anything else.\n",
            "\n",
            "Message:\"No, its true..k,Do u knw dis no. &lt;#&gt; ?\"\n",
            "\n",
            "Your answer:\n",
            "spam\n",
            "345\n"
          ]
        },
        {
          "output_type": "stream",
          "name": "stderr",
          "text": [
            "Setting `pad_token_id` to `eos_token_id`:2 for open-end generation.\n"
          ]
        },
        {
          "output_type": "stream",
          "name": "stdout",
          "text": [
            "\n",
            "I have received a message. I want to identify whether it's spam or not.\n",
            "If message is spam return “spam”. Otherwise return “ham”. Don’t return anything else.\n",
            "\n",
            "Message:How do friends help us in problems? They give the most stupid suggestion that Lands us into another problem and helps us forgt the previous problem\n",
            "\n",
            "Your answer:\n",
            "spam\n",
            "346\n"
          ]
        },
        {
          "output_type": "stream",
          "name": "stderr",
          "text": [
            "Setting `pad_token_id` to `eos_token_id`:2 for open-end generation.\n"
          ]
        },
        {
          "output_type": "stream",
          "name": "stdout",
          "text": [
            "\n",
            "I have received a message. I want to identify whether it's spam or not.\n",
            "If message is spam return “spam”. Otherwise return “ham”. Don’t return anything else.\n",
            "\n",
            "Message:I want  &lt;#&gt;  rs da:)do you have it?\n",
            "\n",
            "Your answer:\n",
            "spam\n",
            "347\n"
          ]
        },
        {
          "output_type": "stream",
          "name": "stderr",
          "text": [
            "Setting `pad_token_id` to `eos_token_id`:2 for open-end generation.\n"
          ]
        },
        {
          "output_type": "stream",
          "name": "stdout",
          "text": [
            "\n",
            "I have received a message. I want to identify whether it's spam or not.\n",
            "If message is spam return “spam”. Otherwise return “ham”. Don’t return anything else.\n",
            "\n",
            "Message:No..jst change tat only..\n",
            "\n",
            "Your answer:\n",
            "spam\n",
            "348\n"
          ]
        },
        {
          "output_type": "stream",
          "name": "stderr",
          "text": [
            "Setting `pad_token_id` to `eos_token_id`:2 for open-end generation.\n"
          ]
        },
        {
          "output_type": "stream",
          "name": "stdout",
          "text": [
            "\n",
            "I have received a message. I want to identify whether it's spam or not.\n",
            "If message is spam return “spam”. Otherwise return “ham”. Don’t return anything else.\n",
            "\n",
            "Message:Ha ha cool cool chikku chikku:-):-DB-)\n",
            "\n",
            "Your answer:\n",
            "spam\n",
            "349\n"
          ]
        },
        {
          "output_type": "stream",
          "name": "stderr",
          "text": [
            "Setting `pad_token_id` to `eos_token_id`:2 for open-end generation.\n"
          ]
        },
        {
          "output_type": "stream",
          "name": "stdout",
          "text": [
            "\n",
            "I have received a message. I want to identify whether it's spam or not.\n",
            "If message is spam return “spam”. Otherwise return “ham”. Don’t return anything else.\n",
            "\n",
            "Message:Just send a text. We'll skype later.\n",
            "\n",
            "Your answer:\n",
            "spam\n",
            "350\n"
          ]
        },
        {
          "output_type": "stream",
          "name": "stderr",
          "text": [
            "Setting `pad_token_id` to `eos_token_id`:2 for open-end generation.\n"
          ]
        },
        {
          "output_type": "stream",
          "name": "stdout",
          "text": [
            "\n",
            "I have received a message. I want to identify whether it's spam or not.\n",
            "If message is spam return “spam”. Otherwise return “ham”. Don’t return anything else.\n",
            "\n",
            "Message:Pls speak to that customer machan.\n",
            "\n",
            "Your answer:\n",
            "spam\n",
            "351\n"
          ]
        },
        {
          "output_type": "stream",
          "name": "stderr",
          "text": [
            "Setting `pad_token_id` to `eos_token_id`:2 for open-end generation.\n"
          ]
        },
        {
          "output_type": "stream",
          "name": "stdout",
          "text": [
            "\n",
            "I have received a message. I want to identify whether it's spam or not.\n",
            "If message is spam return “spam”. Otherwise return “ham”. Don’t return anything else.\n",
            "\n",
            "Message:I donno its in your genes or something\n",
            "\n",
            "Your answer:\n",
            "spam\n",
            "352\n"
          ]
        },
        {
          "output_type": "stream",
          "name": "stderr",
          "text": [
            "Setting `pad_token_id` to `eos_token_id`:2 for open-end generation.\n"
          ]
        },
        {
          "output_type": "stream",
          "name": "stdout",
          "text": [
            "\n",
            "I have received a message. I want to identify whether it's spam or not.\n",
            "If message is spam return “spam”. Otherwise return “ham”. Don’t return anything else.\n",
            "\n",
            "Message:\"It's fine, imma get a drink or somethin. Want me to come find you?\"\n",
            "\n",
            "Your answer:\n",
            "\n",
            "spam\n",
            "353\n"
          ]
        },
        {
          "output_type": "stream",
          "name": "stderr",
          "text": [
            "Setting `pad_token_id` to `eos_token_id`:2 for open-end generation.\n"
          ]
        },
        {
          "output_type": "stream",
          "name": "stdout",
          "text": [
            "\n",
            "I have received a message. I want to identify whether it's spam or not.\n",
            "If message is spam return “spam”. Otherwise return “ham”. Don’t return anything else.\n",
            "\n",
            "Message:\"I thought i'd get him a watch, just cos thats the kind of thing u get4an18th. And he loves so much!\"\n",
            "\n",
            "Your answer:\n",
            "spam\n",
            "354\n"
          ]
        },
        {
          "output_type": "stream",
          "name": "stderr",
          "text": [
            "Setting `pad_token_id` to `eos_token_id`:2 for open-end generation.\n"
          ]
        },
        {
          "output_type": "stream",
          "name": "stdout",
          "text": [
            "\n",
            "I have received a message. I want to identify whether it's spam or not.\n",
            "If message is spam return “spam”. Otherwise return “ham”. Don’t return anything else.\n",
            "\n",
            "Message:Ugh my leg hurts. Musta overdid it on mon.\n",
            "\n",
            "Your answer:\n",
            "ham\n",
            "355\n"
          ]
        },
        {
          "output_type": "stream",
          "name": "stderr",
          "text": [
            "Setting `pad_token_id` to `eos_token_id`:2 for open-end generation.\n"
          ]
        },
        {
          "output_type": "stream",
          "name": "stdout",
          "text": [
            "\n",
            "I have received a message. I want to identify whether it's spam or not.\n",
            "If message is spam return “spam”. Otherwise return “ham”. Don’t return anything else.\n",
            "\n",
            "Message:\"Some friends want me to drive em someplace, probably take a while\"\n",
            "\n",
            "Your answer:\n",
            "\n",
            "spam\n",
            "356\n"
          ]
        },
        {
          "output_type": "stream",
          "name": "stderr",
          "text": [
            "Setting `pad_token_id` to `eos_token_id`:2 for open-end generation.\n"
          ]
        },
        {
          "output_type": "stream",
          "name": "stdout",
          "text": [
            "\n",
            "I have received a message. I want to identify whether it's spam or not.\n",
            "If message is spam return “spam”. Otherwise return “ham”. Don’t return anything else.\n",
            "\n",
            "Message:Ok. I only ask abt e movie. U wan ktv oso?\n",
            "\n",
            "Your answer:\n",
            "spam\n",
            "357\n"
          ]
        },
        {
          "output_type": "stream",
          "name": "stderr",
          "text": [
            "Setting `pad_token_id` to `eos_token_id`:2 for open-end generation.\n"
          ]
        },
        {
          "output_type": "stream",
          "name": "stdout",
          "text": [
            "\n",
            "I have received a message. I want to identify whether it's spam or not.\n",
            "If message is spam return “spam”. Otherwise return “ham”. Don’t return anything else.\n",
            "\n",
            "Message:\"Hey there! Glad u r better now. I hear u treated urself to a digi cam, is it good? We r off at 9pm. Have a fab new year, c u in coupla wks!\"\n",
            "\n",
            "Your answer:\n",
            "spam\n",
            "358\n"
          ]
        },
        {
          "output_type": "stream",
          "name": "stderr",
          "text": [
            "Setting `pad_token_id` to `eos_token_id`:2 for open-end generation.\n"
          ]
        },
        {
          "output_type": "stream",
          "name": "stdout",
          "text": [
            "\n",
            "I have received a message. I want to identify whether it's spam or not.\n",
            "If message is spam return “spam”. Otherwise return “ham”. Don’t return anything else.\n",
            "\n",
            "Message:\"Sorry, left phone upstairs. OK, might be hectic but would be all my birds with one fell swoop. It's a date.\"\n",
            "\n",
            "Your answer:\n",
            "spam\n",
            "359\n"
          ]
        },
        {
          "output_type": "stream",
          "name": "stderr",
          "text": [
            "Setting `pad_token_id` to `eos_token_id`:2 for open-end generation.\n"
          ]
        },
        {
          "output_type": "stream",
          "name": "stdout",
          "text": [
            "\n",
            "I have received a message. I want to identify whether it's spam or not.\n",
            "If message is spam return “spam”. Otherwise return “ham”. Don’t return anything else.\n",
            "\n",
            "Message:Theyre doing it to lots of places. Only hospitals and medical places are safe.\n",
            "\n",
            "Your answer:\n",
            "spam\n",
            "360\n"
          ]
        },
        {
          "output_type": "stream",
          "name": "stderr",
          "text": [
            "Setting `pad_token_id` to `eos_token_id`:2 for open-end generation.\n"
          ]
        },
        {
          "output_type": "stream",
          "name": "stdout",
          "text": [
            "\n",
            "I have received a message. I want to identify whether it's spam or not.\n",
            "If message is spam return “spam”. Otherwise return “ham”. Don’t return anything else.\n",
            "\n",
            "Message:Thnx dude. u guys out 2nite?\n",
            "\n",
            "Your answer:\n",
            "spam\n",
            "361\n"
          ]
        },
        {
          "output_type": "stream",
          "name": "stderr",
          "text": [
            "Setting `pad_token_id` to `eos_token_id`:2 for open-end generation.\n"
          ]
        },
        {
          "output_type": "stream",
          "name": "stdout",
          "text": [
            "\n",
            "I have received a message. I want to identify whether it's spam or not.\n",
            "If message is spam return “spam”. Otherwise return “ham”. Don’t return anything else.\n",
            "\n",
            "Message:Yes. I come to nyc for audiitions and am trying to relocate.\n",
            "\n",
            "Your answer:\n",
            "spam\n",
            "362\n"
          ]
        },
        {
          "output_type": "stream",
          "name": "stderr",
          "text": [
            "Setting `pad_token_id` to `eos_token_id`:2 for open-end generation.\n"
          ]
        },
        {
          "output_type": "stream",
          "name": "stdout",
          "text": [
            "\n",
            "I have received a message. I want to identify whether it's spam or not.\n",
            "If message is spam return “spam”. Otherwise return “ham”. Don’t return anything else.\n",
            "\n",
            "Message:2 and half years i missed your friendship:-)\n",
            "\n",
            "Your answer:\n",
            "spam\n",
            "363\n"
          ]
        },
        {
          "output_type": "stream",
          "name": "stderr",
          "text": [
            "Setting `pad_token_id` to `eos_token_id`:2 for open-end generation.\n"
          ]
        },
        {
          "output_type": "stream",
          "name": "stdout",
          "text": [
            "\n",
            "I have received a message. I want to identify whether it's spam or not.\n",
            "If message is spam return “spam”. Otherwise return “ham”. Don’t return anything else.\n",
            "\n",
            "Message:\"Aight, I'll ask a few of my roommates\"\n",
            "\n",
            "Your answer:\n",
            "spam\n",
            "364\n"
          ]
        },
        {
          "output_type": "stream",
          "name": "stderr",
          "text": [
            "Setting `pad_token_id` to `eos_token_id`:2 for open-end generation.\n"
          ]
        },
        {
          "output_type": "stream",
          "name": "stdout",
          "text": [
            "\n",
            "I have received a message. I want to identify whether it's spam or not.\n",
            "If message is spam return “spam”. Otherwise return “ham”. Don’t return anything else.\n",
            "\n",
            "Message:\"sorry brah, just finished the last of my exams, what up\"\n",
            "\n",
            "Your answer:\n",
            "\n",
            "spam\n",
            "365\n"
          ]
        },
        {
          "output_type": "stream",
          "name": "stderr",
          "text": [
            "Setting `pad_token_id` to `eos_token_id`:2 for open-end generation.\n"
          ]
        },
        {
          "output_type": "stream",
          "name": "stdout",
          "text": [
            "\n",
            "I have received a message. I want to identify whether it's spam or not.\n",
            "If message is spam return “spam”. Otherwise return “ham”. Don’t return anything else.\n",
            "\n",
            "Message:No pic. Please re-send.\n",
            "\n",
            "Your answer:\n",
            "spam\n",
            "366\n"
          ]
        },
        {
          "output_type": "stream",
          "name": "stderr",
          "text": [
            "Setting `pad_token_id` to `eos_token_id`:2 for open-end generation.\n"
          ]
        },
        {
          "output_type": "stream",
          "name": "stdout",
          "text": [
            "\n",
            "I have received a message. I want to identify whether it's spam or not.\n",
            "If message is spam return “spam”. Otherwise return “ham”. Don’t return anything else.\n",
            "\n",
            "Message:Dude while were makin those weirdy brownies my sister made awesome cookies. I took pics.\n",
            "\n",
            "Your answer:\n",
            "spam\n",
            "367\n"
          ]
        },
        {
          "output_type": "stream",
          "name": "stderr",
          "text": [
            "Setting `pad_token_id` to `eos_token_id`:2 for open-end generation.\n"
          ]
        },
        {
          "output_type": "stream",
          "name": "stdout",
          "text": [
            "\n",
            "I have received a message. I want to identify whether it's spam or not.\n",
            "If message is spam return “spam”. Otherwise return “ham”. Don’t return anything else.\n",
            "\n",
            "Message:How abt making some of the pics bigger?\n",
            "\n",
            "Your answer:\n",
            "spam\n",
            "368\n"
          ]
        },
        {
          "output_type": "stream",
          "name": "stderr",
          "text": [
            "Setting `pad_token_id` to `eos_token_id`:2 for open-end generation.\n"
          ]
        },
        {
          "output_type": "stream",
          "name": "stdout",
          "text": [
            "\n",
            "I have received a message. I want to identify whether it's spam or not.\n",
            "If message is spam return “spam”. Otherwise return “ham”. Don’t return anything else.\n",
            "\n",
            "Message:Ok but knackered. Just came home and went to sleep! Not good at this full time work lark.\n",
            "\n",
            "Your answer:\n",
            "spam\n",
            "369\n"
          ]
        },
        {
          "output_type": "stream",
          "name": "stderr",
          "text": [
            "Setting `pad_token_id` to `eos_token_id`:2 for open-end generation.\n"
          ]
        },
        {
          "output_type": "stream",
          "name": "stdout",
          "text": [
            "\n",
            "I have received a message. I want to identify whether it's spam or not.\n",
            "If message is spam return “spam”. Otherwise return “ham”. Don’t return anything else.\n",
            "\n",
            "Message:\"Hey...Great deal...Farm tour 9am to 5pm $95/pax, $50 deposit by 16 May\"\n",
            "\n",
            "Your answer:\n",
            "spam\n",
            "370\n"
          ]
        },
        {
          "output_type": "stream",
          "name": "stderr",
          "text": [
            "Setting `pad_token_id` to `eos_token_id`:2 for open-end generation.\n"
          ]
        },
        {
          "output_type": "stream",
          "name": "stdout",
          "text": [
            "\n",
            "I have received a message. I want to identify whether it's spam or not.\n",
            "If message is spam return “spam”. Otherwise return “ham”. Don’t return anything else.\n",
            "\n",
            "Message:\"I need an 8th but I'm off campus atm, could I pick up in an hour or two?\"\n",
            "\n",
            "Your answer:\n",
            "\n",
            "spam\n",
            "371\n"
          ]
        },
        {
          "output_type": "stream",
          "name": "stderr",
          "text": [
            "Setting `pad_token_id` to `eos_token_id`:2 for open-end generation.\n"
          ]
        },
        {
          "output_type": "stream",
          "name": "stdout",
          "text": [
            "\n",
            "I have received a message. I want to identify whether it's spam or not.\n",
            "If message is spam return “spam”. Otherwise return “ham”. Don’t return anything else.\n",
            "\n",
            "Message:K come to nordstrom when you're done\n",
            "\n",
            "Your answer:\n",
            "spam\n",
            "372\n"
          ]
        },
        {
          "output_type": "stream",
          "name": "stderr",
          "text": [
            "Setting `pad_token_id` to `eos_token_id`:2 for open-end generation.\n"
          ]
        },
        {
          "output_type": "stream",
          "name": "stdout",
          "text": [
            "\n",
            "I have received a message. I want to identify whether it's spam or not.\n",
            "If message is spam return “spam”. Otherwise return “ham”. Don’t return anything else.\n",
            "\n",
            "Message:Purity of friendship between two is not about smiling after reading the forwarded message..Its about smiling just by seeing the name. Gud evng musthu\n",
            "\n",
            "Your answer:\n",
            "spam\n",
            "373\n"
          ]
        },
        {
          "output_type": "stream",
          "name": "stderr",
          "text": [
            "Setting `pad_token_id` to `eos_token_id`:2 for open-end generation.\n"
          ]
        },
        {
          "output_type": "stream",
          "name": "stdout",
          "text": [
            "\n",
            "I have received a message. I want to identify whether it's spam or not.\n",
            "If message is spam return “spam”. Otherwise return “ham”. Don’t return anything else.\n",
            "\n",
            "Message:I have to take exam with march 3\n",
            "\n",
            "Your answer:\n",
            "spam\n",
            "374\n"
          ]
        },
        {
          "output_type": "stream",
          "name": "stderr",
          "text": [
            "Setting `pad_token_id` to `eos_token_id`:2 for open-end generation.\n"
          ]
        },
        {
          "output_type": "stream",
          "name": "stdout",
          "text": [
            "\n",
            "I have received a message. I want to identify whether it's spam or not.\n",
            "If message is spam return “spam”. Otherwise return “ham”. Don’t return anything else.\n",
            "\n",
            "Message:Mum say we wan to go then go... Then she can shun bian watch da glass exhibition...\n",
            "\n",
            "Your answer:\n",
            "spam\n",
            "375\n"
          ]
        },
        {
          "output_type": "stream",
          "name": "stderr",
          "text": [
            "Setting `pad_token_id` to `eos_token_id`:2 for open-end generation.\n"
          ]
        },
        {
          "output_type": "stream",
          "name": "stdout",
          "text": [
            "\n",
            "I have received a message. I want to identify whether it's spam or not.\n",
            "If message is spam return “spam”. Otherwise return “ham”. Don’t return anything else.\n",
            "\n",
            "Message:Hi Princess! Thank you for the pics. You are very pretty. How are you?\n",
            "\n",
            "Your answer:\n",
            "spam\n",
            "376\n"
          ]
        },
        {
          "output_type": "stream",
          "name": "stderr",
          "text": [
            "Setting `pad_token_id` to `eos_token_id`:2 for open-end generation.\n"
          ]
        },
        {
          "output_type": "stream",
          "name": "stdout",
          "text": [
            "\n",
            "I have received a message. I want to identify whether it's spam or not.\n",
            "If message is spam return “spam”. Otherwise return “ham”. Don’t return anything else.\n",
            "\n",
            "Message:No i'm not gonna be able to. || too late notice. || i'll be home in a few weeks anyway. || what are the plans\n",
            "\n",
            "Your answer:\n",
            "spam\n",
            "377\n"
          ]
        },
        {
          "output_type": "stream",
          "name": "stderr",
          "text": [
            "Setting `pad_token_id` to `eos_token_id`:2 for open-end generation.\n"
          ]
        },
        {
          "output_type": "stream",
          "name": "stdout",
          "text": [
            "\n",
            "I have received a message. I want to identify whether it's spam or not.\n",
            "If message is spam return “spam”. Otherwise return “ham”. Don’t return anything else.\n",
            "\n",
            "Message:\"Jay wants to work out first, how's 4 sound?\"\n",
            "\n",
            "Your answer:\n",
            "\n",
            "spam\n",
            "378\n"
          ]
        },
        {
          "output_type": "stream",
          "name": "stderr",
          "text": [
            "Setting `pad_token_id` to `eos_token_id`:2 for open-end generation.\n"
          ]
        },
        {
          "output_type": "stream",
          "name": "stdout",
          "text": [
            "\n",
            "I have received a message. I want to identify whether it's spam or not.\n",
            "If message is spam return “spam”. Otherwise return “ham”. Don’t return anything else.\n",
            "\n",
            "Message:Lol no. U can trust me.\n",
            "\n",
            "Your answer:\n",
            "spam\n",
            "379\n"
          ]
        },
        {
          "output_type": "stream",
          "name": "stderr",
          "text": [
            "Setting `pad_token_id` to `eos_token_id`:2 for open-end generation.\n"
          ]
        },
        {
          "output_type": "stream",
          "name": "stdout",
          "text": [
            "\n",
            "I have received a message. I want to identify whether it's spam or not.\n",
            "If message is spam return “spam”. Otherwise return “ham”. Don’t return anything else.\n",
            "\n",
            "Message:and  picking them up from various points\n",
            "\n",
            "Your answer:\n",
            "\n",
            "I have received a message. I want to identify whether it's spam or not.\n",
            "380\n"
          ]
        },
        {
          "output_type": "stream",
          "name": "stderr",
          "text": [
            "Setting `pad_token_id` to `eos_token_id`:2 for open-end generation.\n"
          ]
        },
        {
          "output_type": "stream",
          "name": "stdout",
          "text": [
            "\n",
            "I have received a message. I want to identify whether it's spam or not.\n",
            "If message is spam return “spam”. Otherwise return “ham”. Don’t return anything else.\n",
            "\n",
            "Message:Tired. I haven't slept well the past few nights.\n",
            "\n",
            "Your answer:\n",
            "spam\n",
            "381\n"
          ]
        },
        {
          "output_type": "stream",
          "name": "stderr",
          "text": [
            "Setting `pad_token_id` to `eos_token_id`:2 for open-end generation.\n"
          ]
        },
        {
          "output_type": "stream",
          "name": "stdout",
          "text": [
            "\n",
            "I have received a message. I want to identify whether it's spam or not.\n",
            "If message is spam return “spam”. Otherwise return “ham”. Don’t return anything else.\n",
            "\n",
            "Message:Quite late lar... Ard 12 anyway i wun b drivin...\n",
            "\n",
            "Your answer:\n",
            "spam\n",
            "382\n"
          ]
        },
        {
          "output_type": "stream",
          "name": "stderr",
          "text": [
            "Setting `pad_token_id` to `eos_token_id`:2 for open-end generation.\n"
          ]
        },
        {
          "output_type": "stream",
          "name": "stdout",
          "text": [
            "\n",
            "I have received a message. I want to identify whether it's spam or not.\n",
            "If message is spam return “spam”. Otherwise return “ham”. Don’t return anything else.\n",
            "\n",
            "Message:Dis is yijue. I jus saw ur mail. In case huiming havent sent u my num. Dis is my num.\n",
            "\n",
            "Your answer:\n",
            "spam\n",
            "383\n"
          ]
        },
        {
          "output_type": "stream",
          "name": "stderr",
          "text": [
            "Setting `pad_token_id` to `eos_token_id`:2 for open-end generation.\n"
          ]
        },
        {
          "output_type": "stream",
          "name": "stdout",
          "text": [
            "\n",
            "I have received a message. I want to identify whether it's spam or not.\n",
            "If message is spam return “spam”. Otherwise return “ham”. Don’t return anything else.\n",
            "\n",
            "Message:Sary just need Tim in the bollox &it hurt him a lot so he tol me!\n",
            "\n",
            "Your answer:\n",
            "spam\n",
            "384\n"
          ]
        },
        {
          "output_type": "stream",
          "name": "stderr",
          "text": [
            "Setting `pad_token_id` to `eos_token_id`:2 for open-end generation.\n"
          ]
        },
        {
          "output_type": "stream",
          "name": "stdout",
          "text": [
            "\n",
            "I have received a message. I want to identify whether it's spam or not.\n",
            "If message is spam return “spam”. Otherwise return “ham”. Don’t return anything else.\n",
            "\n",
            "Message:Ha ha ha good joke. Girls are situation seekers.\n",
            "\n",
            "Your answer:\n",
            "spam\n",
            "385\n"
          ]
        },
        {
          "output_type": "stream",
          "name": "stderr",
          "text": [
            "Setting `pad_token_id` to `eos_token_id`:2 for open-end generation.\n"
          ]
        },
        {
          "output_type": "stream",
          "name": "stdout",
          "text": [
            "\n",
            "I have received a message. I want to identify whether it's spam or not.\n",
            "If message is spam return “spam”. Otherwise return “ham”. Don’t return anything else.\n",
            "\n",
            "Message:BABE !!! I miiiiiiissssssssss you ! I need you !!! I crave you !!! :-( ... Geeee ... I'm so sad without you babe ... I love you ...\n",
            "\n",
            "Your answer:\n",
            "spam\n",
            "386\n"
          ]
        },
        {
          "output_type": "stream",
          "name": "stderr",
          "text": [
            "Setting `pad_token_id` to `eos_token_id`:2 for open-end generation.\n"
          ]
        },
        {
          "output_type": "stream",
          "name": "stdout",
          "text": [
            "\n",
            "I have received a message. I want to identify whether it's spam or not.\n",
            "If message is spam return “spam”. Otherwise return “ham”. Don’t return anything else.\n",
            "\n",
            "Message:Hope you are feeling great. Pls fill me in. Abiola\n",
            "\n",
            "Your answer:\n",
            "spam\n",
            "387\n"
          ]
        },
        {
          "output_type": "stream",
          "name": "stderr",
          "text": [
            "Setting `pad_token_id` to `eos_token_id`:2 for open-end generation.\n"
          ]
        },
        {
          "output_type": "stream",
          "name": "stdout",
          "text": [
            "\n",
            "I have received a message. I want to identify whether it's spam or not.\n",
            "If message is spam return “spam”. Otherwise return “ham”. Don’t return anything else.\n",
            "\n",
            "Message:You also didnt get na hi hi hi hi hi\n",
            "\n",
            "Your answer:\n",
            "spam\n",
            "388\n"
          ]
        },
        {
          "output_type": "stream",
          "name": "stderr",
          "text": [
            "Setting `pad_token_id` to `eos_token_id`:2 for open-end generation.\n"
          ]
        },
        {
          "output_type": "stream",
          "name": "stdout",
          "text": [
            "\n",
            "I have received a message. I want to identify whether it's spam or not.\n",
            "If message is spam return “spam”. Otherwise return “ham”. Don’t return anything else.\n",
            "\n",
            "Message:\"\\Response\\\"\" is one of d powerful weapon 2 occupy a place in others 'HEART'... So\"\n",
            "\n",
            "Your answer:\n",
            "spam\n",
            "389\n"
          ]
        },
        {
          "output_type": "stream",
          "name": "stderr",
          "text": [
            "Setting `pad_token_id` to `eos_token_id`:2 for open-end generation.\n"
          ]
        },
        {
          "output_type": "stream",
          "name": "stdout",
          "text": [
            "\n",
            "I have received a message. I want to identify whether it's spam or not.\n",
            "If message is spam return “spam”. Otherwise return “ham”. Don’t return anything else.\n",
            "\n",
            "Message:Nope... Think i will go for it on monday... Sorry i replied so late\n",
            "\n",
            "Your answer:\n",
            "spam\n",
            "390\n"
          ]
        },
        {
          "output_type": "stream",
          "name": "stderr",
          "text": [
            "Setting `pad_token_id` to `eos_token_id`:2 for open-end generation.\n"
          ]
        },
        {
          "output_type": "stream",
          "name": "stdout",
          "text": [
            "\n",
            "I have received a message. I want to identify whether it's spam or not.\n",
            "If message is spam return “spam”. Otherwise return “ham”. Don’t return anything else.\n",
            "\n",
            "Message:Also are you bringing galileo or dobby\n",
            "\n",
            "Your answer:\n",
            "spam\n",
            "391\n"
          ]
        },
        {
          "output_type": "stream",
          "name": "stderr",
          "text": [
            "Setting `pad_token_id` to `eos_token_id`:2 for open-end generation.\n"
          ]
        },
        {
          "output_type": "stream",
          "name": "stdout",
          "text": [
            "\n",
            "I have received a message. I want to identify whether it's spam or not.\n",
            "If message is spam return “spam”. Otherwise return “ham”. Don’t return anything else.\n",
            "\n",
            "Message:Ok lor... But buy wat?\n",
            "\n",
            "Your answer:\n",
            "spam\n",
            "392\n"
          ]
        },
        {
          "output_type": "stream",
          "name": "stderr",
          "text": [
            "Setting `pad_token_id` to `eos_token_id`:2 for open-end generation.\n"
          ]
        },
        {
          "output_type": "stream",
          "name": "stdout",
          "text": [
            "\n",
            "I have received a message. I want to identify whether it's spam or not.\n",
            "If message is spam return “spam”. Otherwise return “ham”. Don’t return anything else.\n",
            "\n",
            "Message:o turns out i had stereo love on mi phone under the unknown album.\n",
            "\n",
            "Your answer:\n",
            "spam\n",
            "393\n"
          ]
        },
        {
          "output_type": "stream",
          "name": "stderr",
          "text": [
            "Setting `pad_token_id` to `eos_token_id`:2 for open-end generation.\n"
          ]
        },
        {
          "output_type": "stream",
          "name": "stdout",
          "text": [
            "\n",
            "I have received a message. I want to identify whether it's spam or not.\n",
            "If message is spam return “spam”. Otherwise return “ham”. Don’t return anything else.\n",
            "\n",
            "Message:I'm freezing and craving ice. Fml\n",
            "\n",
            "Your answer:\n",
            "spam\n",
            "394\n"
          ]
        },
        {
          "output_type": "stream",
          "name": "stderr",
          "text": [
            "Setting `pad_token_id` to `eos_token_id`:2 for open-end generation.\n"
          ]
        },
        {
          "output_type": "stream",
          "name": "stdout",
          "text": [
            "\n",
            "I have received a message. I want to identify whether it's spam or not.\n",
            "If message is spam return “spam”. Otherwise return “ham”. Don’t return anything else.\n",
            "\n",
            "Message:The fact that you're cleaning shows you know why i'm upset. Your priority is constantly \\what i want to do\n",
            "\n",
            "Your answer:\n",
            "spam\n",
            "395\n"
          ]
        },
        {
          "output_type": "stream",
          "name": "stderr",
          "text": [
            "Setting `pad_token_id` to `eos_token_id`:2 for open-end generation.\n"
          ]
        },
        {
          "output_type": "stream",
          "name": "stdout",
          "text": [
            "\n",
            "I have received a message. I want to identify whether it's spam or not.\n",
            "If message is spam return “spam”. Otherwise return “ham”. Don’t return anything else.\n",
            "\n",
            "Message:Every day i use to sleep after  &lt;#&gt;  so only.\n",
            "\n",
            "Your answer:\n",
            "spam\n",
            "396\n"
          ]
        },
        {
          "output_type": "stream",
          "name": "stderr",
          "text": [
            "Setting `pad_token_id` to `eos_token_id`:2 for open-end generation.\n"
          ]
        },
        {
          "output_type": "stream",
          "name": "stdout",
          "text": [
            "\n",
            "I have received a message. I want to identify whether it's spam or not.\n",
            "If message is spam return “spam”. Otherwise return “ham”. Don’t return anything else.\n",
            "\n",
            "Message:Yes.mum lookin strong:)\n",
            "\n",
            "Your answer:\n",
            "spam\n",
            "397\n"
          ]
        },
        {
          "output_type": "stream",
          "name": "stderr",
          "text": [
            "Setting `pad_token_id` to `eos_token_id`:2 for open-end generation.\n"
          ]
        },
        {
          "output_type": "stream",
          "name": "stdout",
          "text": [
            "\n",
            "I have received a message. I want to identify whether it's spam or not.\n",
            "If message is spam return “spam”. Otherwise return “ham”. Don’t return anything else.\n",
            "\n",
            "Message:Becoz its  &lt;#&gt;  jan whn al the post ofice is in holiday so she cn go fr the post ofice...got it duffer\n",
            "\n",
            "Your answer:\n",
            "spam\n",
            "398\n"
          ]
        },
        {
          "output_type": "stream",
          "name": "stderr",
          "text": [
            "Setting `pad_token_id` to `eos_token_id`:2 for open-end generation.\n"
          ]
        },
        {
          "output_type": "stream",
          "name": "stdout",
          "text": [
            "\n",
            "I have received a message. I want to identify whether it's spam or not.\n",
            "If message is spam return “spam”. Otherwise return “ham”. Don’t return anything else.\n",
            "\n",
            "Message:Have you heard about that job? I'm going to that wildlife talk again tonight if u want2come. Its that2worzels and a wizzle or whatever it is?!\n",
            "\n",
            "Your answer:\n",
            "spam\n",
            "399\n"
          ]
        },
        {
          "output_type": "stream",
          "name": "stderr",
          "text": [
            "Setting `pad_token_id` to `eos_token_id`:2 for open-end generation.\n"
          ]
        },
        {
          "output_type": "stream",
          "name": "stdout",
          "text": [
            "\n",
            "I have received a message. I want to identify whether it's spam or not.\n",
            "If message is spam return “spam”. Otherwise return “ham”. Don’t return anything else.\n",
            "\n",
            "Message:HCL chennai requires FRESHERS for voice process.Excellent english needed.Salary upto  &lt;#&gt; .Call Ms.Suman  &lt;#&gt;  for Telephonic interview -via Indyarocks.com\n",
            "\n",
            "Your answer:\n",
            "spam\n",
            "400\n"
          ]
        },
        {
          "output_type": "stream",
          "name": "stderr",
          "text": [
            "Setting `pad_token_id` to `eos_token_id`:2 for open-end generation.\n"
          ]
        },
        {
          "output_type": "stream",
          "name": "stdout",
          "text": [
            "\n",
            "I have received a message. I want to identify whether it's spam or not.\n",
            "If message is spam return “spam”. Otherwise return “ham”. Don’t return anything else.\n",
            "\n",
            "Message:Do you want a New Nokia 3510i colour phone DeliveredTomorrow? With 300 free minutes to any mobile + 100 free texts + Free Camcorder reply or call 08000930705.\n",
            "\n",
            "Your answer:\n",
            "spam\n",
            "401\n"
          ]
        },
        {
          "output_type": "stream",
          "name": "stderr",
          "text": [
            "Setting `pad_token_id` to `eos_token_id`:2 for open-end generation.\n"
          ]
        },
        {
          "output_type": "stream",
          "name": "stdout",
          "text": [
            "\n",
            "I have received a message. I want to identify whether it's spam or not.\n",
            "If message is spam return “spam”. Otherwise return “ham”. Don’t return anything else.\n",
            "\n",
            "Message:Do you want 750 anytime any network mins 150 text and a NEW VIDEO phone for only five pounds per week call 08002888812 or reply for delivery tomorrow\n",
            "\n",
            "Your answer:\n",
            "spam\n",
            "402\n"
          ]
        },
        {
          "output_type": "stream",
          "name": "stderr",
          "text": [
            "Setting `pad_token_id` to `eos_token_id`:2 for open-end generation.\n"
          ]
        },
        {
          "output_type": "stream",
          "name": "stdout",
          "text": [
            "\n",
            "I have received a message. I want to identify whether it's spam or not.\n",
            "If message is spam return “spam”. Otherwise return “ham”. Don’t return anything else.\n",
            "\n",
            "Message:\"This is the 2nd time we have tried 2 contact u. U have won the 750 Pound prize. 2 claim is easy, call 08712101358 NOW! Only 10p per min. BT-national-rate\"\n",
            "\n",
            "Your answer:\n",
            "spam\n",
            "403\n"
          ]
        },
        {
          "output_type": "stream",
          "name": "stderr",
          "text": [
            "Setting `pad_token_id` to `eos_token_id`:2 for open-end generation.\n"
          ]
        },
        {
          "output_type": "stream",
          "name": "stdout",
          "text": [
            "\n",
            "I have received a message. I want to identify whether it's spam or not.\n",
            "If message is spam return “spam”. Otherwise return “ham”. Don’t return anything else.\n",
            "\n",
            "Message:Camera - You are awarded a SiPix Digital Camera! call 09061221066 fromm landline. Delivery within 28 days.\n",
            "\n",
            "Your answer:\n",
            "spam\n",
            "404\n"
          ]
        },
        {
          "output_type": "stream",
          "name": "stderr",
          "text": [
            "Setting `pad_token_id` to `eos_token_id`:2 for open-end generation.\n"
          ]
        },
        {
          "output_type": "stream",
          "name": "stdout",
          "text": [
            "\n",
            "I have received a message. I want to identify whether it's spam or not.\n",
            "If message is spam return “spam”. Otherwise return “ham”. Don’t return anything else.\n",
            "\n",
            "Message:lyricalladie(21/F) is inviting you to be her friend. Reply YES-910 or NO-910. See her: www.SMS.ac/u/hmmross STOP? Send STOP FRND to 62468\n",
            "\n",
            "Your answer:\n",
            "spam\n",
            "405\n"
          ]
        },
        {
          "output_type": "stream",
          "name": "stderr",
          "text": [
            "Setting `pad_token_id` to `eos_token_id`:2 for open-end generation.\n"
          ]
        },
        {
          "output_type": "stream",
          "name": "stdout",
          "text": [
            "\n",
            "I have received a message. I want to identify whether it's spam or not.\n",
            "If message is spam return “spam”. Otherwise return “ham”. Don’t return anything else.\n",
            "\n",
            "Message:\"Customer service announcement. We recently tried to make a delivery to you but were unable to do so, please call 07090298926 to re-schedule. Ref:9307622\"\n",
            "\n",
            "Your answer:\n",
            "spam\n",
            "406\n"
          ]
        },
        {
          "output_type": "stream",
          "name": "stderr",
          "text": [
            "Setting `pad_token_id` to `eos_token_id`:2 for open-end generation.\n"
          ]
        },
        {
          "output_type": "stream",
          "name": "stdout",
          "text": [
            "\n",
            "I have received a message. I want to identify whether it's spam or not.\n",
            "If message is spam return “spam”. Otherwise return “ham”. Don’t return anything else.\n",
            "\n",
            "Message:December only! Had your mobile 11mths+? You are entitled to update to the latest colour camera mobile for Free! Call The Mobile Update Co FREE on 08002986906\n",
            "\n",
            "Your answer:\n",
            "spam\n",
            "407\n"
          ]
        },
        {
          "output_type": "stream",
          "name": "stderr",
          "text": [
            "Setting `pad_token_id` to `eos_token_id`:2 for open-end generation.\n"
          ]
        },
        {
          "output_type": "stream",
          "name": "stdout",
          "text": [
            "\n",
            "I have received a message. I want to identify whether it's spam or not.\n",
            "If message is spam return “spam”. Otherwise return “ham”. Don’t return anything else.\n",
            "\n",
            "Message:This message is brought to you by GMW Ltd. and is not connected to the\n",
            "\n",
            "Your answer:\n",
            "spam\n",
            "408\n"
          ]
        },
        {
          "output_type": "stream",
          "name": "stderr",
          "text": [
            "Setting `pad_token_id` to `eos_token_id`:2 for open-end generation.\n"
          ]
        },
        {
          "output_type": "stream",
          "name": "stdout",
          "text": [
            "\n",
            "I have received a message. I want to identify whether it's spam or not.\n",
            "If message is spam return “spam”. Otherwise return “ham”. Don’t return anything else.\n",
            "\n",
            "Message:2p per min to call Germany 08448350055 from your BT line. Just 2p per min. Check PlanetTalkInstant.com for info & T's & C's. Text stop to opt out\n",
            "\n",
            "Your answer:\n",
            "spam\n",
            "409\n"
          ]
        },
        {
          "output_type": "stream",
          "name": "stderr",
          "text": [
            "Setting `pad_token_id` to `eos_token_id`:2 for open-end generation.\n"
          ]
        },
        {
          "output_type": "stream",
          "name": "stdout",
          "text": [
            "\n",
            "I have received a message. I want to identify whether it's spam or not.\n",
            "If message is spam return “spam”. Otherwise return “ham”. Don’t return anything else.\n",
            "\n",
            "Message:FreeMsg: Fancy a flirt? Reply DATE now & join the UKs fastest growing mobile dating service. Msgs rcvd just 25p to optout txt stop to 83021. Reply DATE now!\n",
            "\n",
            "Your answer:\n",
            "spam\n",
            "410\n"
          ]
        },
        {
          "output_type": "stream",
          "name": "stderr",
          "text": [
            "Setting `pad_token_id` to `eos_token_id`:2 for open-end generation.\n"
          ]
        },
        {
          "output_type": "stream",
          "name": "stdout",
          "text": [
            "\n",
            "I have received a message. I want to identify whether it's spam or not.\n",
            "If message is spam return “spam”. Otherwise return “ham”. Don’t return anything else.\n",
            "\n",
            "Message:PRIVATE! Your 2004 Account Statement for 07742676969 shows 786 unredeemed Bonus Points. To claim call 08719180248 Identifier Code: 45239 Expires\n",
            "\n",
            "Your answer:\n",
            "spam\n",
            "411\n"
          ]
        },
        {
          "output_type": "stream",
          "name": "stderr",
          "text": [
            "Setting `pad_token_id` to `eos_token_id`:2 for open-end generation.\n"
          ]
        },
        {
          "output_type": "stream",
          "name": "stdout",
          "text": [
            "\n",
            "I have received a message. I want to identify whether it's spam or not.\n",
            "If message is spam return “spam”. Otherwise return “ham”. Don’t return anything else.\n",
            "\n",
            "Message:Please CALL 08712402779 immediately as there is an urgent message waiting for you\n",
            "\n",
            "Your answer:\n",
            "spam\n",
            "412\n"
          ]
        },
        {
          "output_type": "stream",
          "name": "stderr",
          "text": [
            "Setting `pad_token_id` to `eos_token_id`:2 for open-end generation.\n"
          ]
        },
        {
          "output_type": "stream",
          "name": "stdout",
          "text": [
            "\n",
            "I have received a message. I want to identify whether it's spam or not.\n",
            "If message is spam return “spam”. Otherwise return “ham”. Don’t return anything else.\n",
            "\n",
            "Message:Santa calling! Would your little ones like a call from Santa Xmas Eve? Call 09077818151 to book you time. Calls1.50ppm last 3mins 30s T&C www.santacalling.com\n",
            "\n",
            "Your answer:\n",
            "spam\n",
            "413\n"
          ]
        },
        {
          "output_type": "stream",
          "name": "stderr",
          "text": [
            "Setting `pad_token_id` to `eos_token_id`:2 for open-end generation.\n"
          ]
        },
        {
          "output_type": "stream",
          "name": "stdout",
          "text": [
            "\n",
            "I have received a message. I want to identify whether it's spam or not.\n",
            "If message is spam return “spam”. Otherwise return “ham”. Don’t return anything else.\n",
            "\n",
            "Message:You have won a Nokia 7250i. This is what you get when you win our FREE auction. To take part send Nokia to 86021 now. HG/Suite342/2Lands Row/W1JHL 16+\n",
            "\n",
            "Your answer:\n",
            "spam\n",
            "414\n"
          ]
        },
        {
          "output_type": "stream",
          "name": "stderr",
          "text": [
            "Setting `pad_token_id` to `eos_token_id`:2 for open-end generation.\n"
          ]
        },
        {
          "output_type": "stream",
          "name": "stdout",
          "text": [
            "\n",
            "I have received a message. I want to identify whether it's spam or not.\n",
            "If message is spam return “spam”. Otherwise return “ham”. Don’t return anything else.\n",
            "\n",
            "Message:Please call Amanda with regard to renewing or upgrading your current T-Mobile handset free of charge. Offer ends today. Tel 0845 021 3680 subject to T's and C's\n",
            "\n",
            "Your answer:\n",
            "spam\n",
            "415\n"
          ]
        },
        {
          "output_type": "stream",
          "name": "stderr",
          "text": [
            "Setting `pad_token_id` to `eos_token_id`:2 for open-end generation.\n"
          ]
        },
        {
          "output_type": "stream",
          "name": "stdout",
          "text": [
            "\n",
            "I have received a message. I want to identify whether it's spam or not.\n",
            "If message is spam return “spam”. Otherwise return “ham”. Don’t return anything else.\n",
            "\n",
            "Message:4mths half price Orange line rental & latest camera phones 4 FREE. Had your phone 11mths+? Call MobilesDirect free on 08000938767 to update now! or2stoptxt T&Cs\n",
            "\n",
            "Your answer:\n",
            "spam\n",
            "416\n"
          ]
        },
        {
          "output_type": "stream",
          "name": "stderr",
          "text": [
            "Setting `pad_token_id` to `eos_token_id`:2 for open-end generation.\n"
          ]
        },
        {
          "output_type": "stream",
          "name": "stdout",
          "text": [
            "\n",
            "I have received a message. I want to identify whether it's spam or not.\n",
            "If message is spam return “spam”. Otherwise return “ham”. Don’t return anything else.\n",
            "\n",
            "Message:Want the latest Video handset? 750 anytime any network mins? Half price line rental? Reply or call 08000930705 for delivery tomorrow\n",
            "\n",
            "Your answer:\n",
            "spam\n",
            "417\n"
          ]
        },
        {
          "output_type": "stream",
          "name": "stderr",
          "text": [
            "Setting `pad_token_id` to `eos_token_id`:2 for open-end generation.\n"
          ]
        },
        {
          "output_type": "stream",
          "name": "stdout",
          "text": [
            "\n",
            "I have received a message. I want to identify whether it's spam or not.\n",
            "If message is spam return “spam”. Otherwise return “ham”. Don’t return anything else.\n",
            "\n",
            "Message:* FREE* POLYPHONIC RINGTONE Text SUPER to 87131 to get your FREE POLY TONE of the week now! 16 SN PoBox202 NR31 7ZS subscription 450pw\n",
            "\n",
            "Your answer:\n",
            "spam\n",
            "418\n"
          ]
        },
        {
          "output_type": "stream",
          "name": "stderr",
          "text": [
            "Setting `pad_token_id` to `eos_token_id`:2 for open-end generation.\n"
          ]
        },
        {
          "output_type": "stream",
          "name": "stdout",
          "text": [
            "\n",
            "I have received a message. I want to identify whether it's spam or not.\n",
            "If message is spam return “spam”. Otherwise return “ham”. Don’t return anything else.\n",
            "\n",
            "Message:Congrats! Nokia 3650 video camera phone is your Call 09066382422 Calls cost 150ppm Ave call 3mins vary from mobiles 16+ Close 300603 post BCM4284 Ldn WC1N3XX\n",
            "\n",
            "Your answer:\n",
            "spam\n",
            "419\n"
          ]
        },
        {
          "output_type": "stream",
          "name": "stderr",
          "text": [
            "Setting `pad_token_id` to `eos_token_id`:2 for open-end generation.\n"
          ]
        },
        {
          "output_type": "stream",
          "name": "stdout",
          "text": [
            "\n",
            "I have received a message. I want to identify whether it's spam or not.\n",
            "If message is spam return “spam”. Otherwise return “ham”. Don’t return anything else.\n",
            "\n",
            "Message:\"Someone has contacted our dating service and entered your phone becausethey fancy you! To find out who it is call from a landline 09058098002. PoBox1, W14RG 150p\"\n",
            "\n",
            "Your answer:\n",
            "spam\n",
            "420\n"
          ]
        },
        {
          "output_type": "stream",
          "name": "stderr",
          "text": [
            "Setting `pad_token_id` to `eos_token_id`:2 for open-end generation.\n"
          ]
        },
        {
          "output_type": "stream",
          "name": "stdout",
          "text": [
            "\n",
            "I have received a message. I want to identify whether it's spam or not.\n",
            "If message is spam return “spam”. Otherwise return “ham”. Don’t return anything else.\n",
            "\n",
            "Message:FREE for 1st week! No1 Nokia tone 4 ur mobile every week just txt NOKIA to 8077 Get txting and tell ur mates. www.getzed.co.uk POBox 36504 W45WQ 16+ norm150p/tone\n",
            "\n",
            "Your answer:\n",
            "spam\n",
            "421\n"
          ]
        },
        {
          "output_type": "stream",
          "name": "stderr",
          "text": [
            "Setting `pad_token_id` to `eos_token_id`:2 for open-end generation.\n"
          ]
        },
        {
          "output_type": "stream",
          "name": "stdout",
          "text": [
            "\n",
            "I have received a message. I want to identify whether it's spam or not.\n",
            "If message is spam return “spam”. Otherwise return “ham”. Don’t return anything else.\n",
            "\n",
            "Message:TheMob>Yo yo yo-Here comes a new selection of hot downloads for our members to get for FREE! Just click & open the next link sent to ur fone...\n",
            "\n",
            "Your answer:\n",
            "spam\n",
            "422\n"
          ]
        },
        {
          "output_type": "stream",
          "name": "stderr",
          "text": [
            "Setting `pad_token_id` to `eos_token_id`:2 for open-end generation.\n"
          ]
        },
        {
          "output_type": "stream",
          "name": "stdout",
          "text": [
            "\n",
            "I have received a message. I want to identify whether it's spam or not.\n",
            "If message is spam return “spam”. Otherwise return “ham”. Don’t return anything else.\n",
            "\n",
            "Message:Check Out Choose Your Babe Videos @ sms.shsex.netUN fgkslpoPW fgkslpo\n",
            "\n",
            "Your answer:\n",
            "spam\n",
            "423\n"
          ]
        },
        {
          "output_type": "stream",
          "name": "stderr",
          "text": [
            "Setting `pad_token_id` to `eos_token_id`:2 for open-end generation.\n"
          ]
        },
        {
          "output_type": "stream",
          "name": "stdout",
          "text": [
            "\n",
            "I have received a message. I want to identify whether it's spam or not.\n",
            "If message is spam return “spam”. Otherwise return “ham”. Don’t return anything else.\n",
            "\n",
            "Message:We tried to contact you re your reply to our offer of 750 mins 150 textand a new video phone call 08002988890 now or reply for free delivery tomorrow\n",
            "\n",
            "Your answer:\n",
            "spam\n",
            "424\n"
          ]
        },
        {
          "output_type": "stream",
          "name": "stderr",
          "text": [
            "Setting `pad_token_id` to `eos_token_id`:2 for open-end generation.\n"
          ]
        },
        {
          "output_type": "stream",
          "name": "stdout",
          "text": [
            "\n",
            "I have received a message. I want to identify whether it's spam or not.\n",
            "If message is spam return “spam”. Otherwise return “ham”. Don’t return anything else.\n",
            "\n",
            "Message:Ever thought about living a good life with a perfect partner? Just txt back NAME and AGE to join the mobile community. (100p/SMS)\n",
            "\n",
            "Your answer:\n",
            "spam\n",
            "425\n"
          ]
        },
        {
          "output_type": "stream",
          "name": "stderr",
          "text": [
            "Setting `pad_token_id` to `eos_token_id`:2 for open-end generation.\n"
          ]
        },
        {
          "output_type": "stream",
          "name": "stdout",
          "text": [
            "\n",
            "I have received a message. I want to identify whether it's spam or not.\n",
            "If message is spam return “spam”. Otherwise return “ham”. Don’t return anything else.\n",
            "\n",
            "Message:\"Orange customer, you may now claim your FREE CAMERA PHONE upgrade for your loyalty. Call now on 0207 153 9996. Offer ends 14thMarch. T&C's apply. Opt-out availa\"\n",
            "\n",
            "Your answer:\n",
            "spam\n",
            "426\n"
          ]
        },
        {
          "output_type": "stream",
          "name": "stderr",
          "text": [
            "Setting `pad_token_id` to `eos_token_id`:2 for open-end generation.\n"
          ]
        },
        {
          "output_type": "stream",
          "name": "stdout",
          "text": [
            "\n",
            "I have received a message. I want to identify whether it's spam or not.\n",
            "If message is spam return “spam”. Otherwise return “ham”. Don’t return anything else.\n",
            "\n",
            "Message:Monthly password for wap. mobsi.com is 391784. Use your wap phone not PC.\n",
            "\n",
            "Your answer:\n",
            "spam\n",
            "427\n"
          ]
        },
        {
          "output_type": "stream",
          "name": "stderr",
          "text": [
            "Setting `pad_token_id` to `eos_token_id`:2 for open-end generation.\n"
          ]
        },
        {
          "output_type": "stream",
          "name": "stdout",
          "text": [
            "\n",
            "I have received a message. I want to identify whether it's spam or not.\n",
            "If message is spam return “spam”. Otherwise return “ham”. Don’t return anything else.\n",
            "\n",
            "Message:LORD OF THE RINGS:RETURN OF THE KING in store NOW!REPLY LOTR by 2 June 4 Chance 2 WIN LOTR soundtrack CDs StdTxtRate. Reply STOP to end txts\n",
            "\n",
            "Your answer:\n",
            "spam\n",
            "428\n"
          ]
        },
        {
          "output_type": "stream",
          "name": "stderr",
          "text": [
            "Setting `pad_token_id` to `eos_token_id`:2 for open-end generation.\n"
          ]
        },
        {
          "output_type": "stream",
          "name": "stdout",
          "text": [
            "\n",
            "I have received a message. I want to identify whether it's spam or not.\n",
            "If message is spam return “spam”. Otherwise return “ham”. Don’t return anything else.\n",
            "\n",
            "Message:Hard LIVE 121 chat just 60p/min. Choose your girl and connect LIVE. Call 09094646899 now! Cheap Chat UK's biggest live service. VU BCM1896WC1N3XX\n",
            "\n",
            "Your answer:\n",
            "spam\n",
            "429\n"
          ]
        },
        {
          "output_type": "stream",
          "name": "stderr",
          "text": [
            "Setting `pad_token_id` to `eos_token_id`:2 for open-end generation.\n"
          ]
        },
        {
          "output_type": "stream",
          "name": "stdout",
          "text": [
            "\n",
            "I have received a message. I want to identify whether it's spam or not.\n",
            "If message is spam return “spam”. Otherwise return “ham”. Don’t return anything else.\n",
            "\n",
            "Message:Someone U know has asked our dating service 2 contact you! Cant Guess who? CALL 09058091854 NOW all will be revealed. PO BOX385 M6 6WU\n",
            "\n",
            "Your answer:\n",
            "spam\n",
            "430\n"
          ]
        },
        {
          "output_type": "stream",
          "name": "stderr",
          "text": [
            "Setting `pad_token_id` to `eos_token_id`:2 for open-end generation.\n"
          ]
        },
        {
          "output_type": "stream",
          "name": "stdout",
          "text": [
            "\n",
            "I have received a message. I want to identify whether it's spam or not.\n",
            "If message is spam return “spam”. Otherwise return “ham”. Don’t return anything else.\n",
            "\n",
            "Message:Panasonic & BluetoothHdset FREE. Nokia FREE. Motorola FREE & DoubleMins & DoubleTxt on Orange contract. Call MobileUpd8 on 08000839402 or call 2optout\n",
            "\n",
            "Your answer:\n",
            "spam\n",
            "431\n"
          ]
        },
        {
          "output_type": "stream",
          "name": "stderr",
          "text": [
            "Setting `pad_token_id` to `eos_token_id`:2 for open-end generation.\n"
          ]
        },
        {
          "output_type": "stream",
          "name": "stdout",
          "text": [
            "\n",
            "I have received a message. I want to identify whether it's spam or not.\n",
            "If message is spam return “spam”. Otherwise return “ham”. Don’t return anything else.\n",
            "\n",
            "Message:network operator. The service is free. For T & C's visit 80488.biz\n",
            "\n",
            "Your answer:\n",
            "spam\n",
            "432\n"
          ]
        },
        {
          "output_type": "stream",
          "name": "stderr",
          "text": [
            "Setting `pad_token_id` to `eos_token_id`:2 for open-end generation.\n"
          ]
        },
        {
          "output_type": "stream",
          "name": "stdout",
          "text": [
            "\n",
            "I have received a message. I want to identify whether it's spam or not.\n",
            "If message is spam return “spam”. Otherwise return “ham”. Don’t return anything else.\n",
            "\n",
            "Message:You have won a Nokia 7250i. This is what you get when you win our FREE auction. To take part send Nokia to 86021 now. HG/Suite342/2Lands Row/W1JHL 16+\n",
            "\n",
            "Your answer:\n",
            "spam\n",
            "433\n"
          ]
        },
        {
          "output_type": "stream",
          "name": "stderr",
          "text": [
            "Setting `pad_token_id` to `eos_token_id`:2 for open-end generation.\n"
          ]
        },
        {
          "output_type": "stream",
          "name": "stdout",
          "text": [
            "\n",
            "I have received a message. I want to identify whether it's spam or not.\n",
            "If message is spam return “spam”. Otherwise return “ham”. Don’t return anything else.\n",
            "\n",
            "Message:FREE for 1st week! No1 Nokia tone 4 ur mob every week just txt NOKIA to 8007 Get txting and tell ur mates www.getzed.co.uk POBox 36504 W45WQ norm150p/tone 16+\n",
            "\n",
            "Your answer:\n",
            "spam\n",
            "434\n"
          ]
        },
        {
          "output_type": "stream",
          "name": "stderr",
          "text": [
            "Setting `pad_token_id` to `eos_token_id`:2 for open-end generation.\n"
          ]
        },
        {
          "output_type": "stream",
          "name": "stdout",
          "text": [
            "\n",
            "I have received a message. I want to identify whether it's spam or not.\n",
            "If message is spam return “spam”. Otherwise return “ham”. Don’t return anything else.\n",
            "\n",
            "Message:Congratulations ur awarded 500 of CD vouchers or 125gift guaranteed & Free entry 2 100 wkly draw txt MUSIC to 87066 TnCs www.Ldew.com1win150ppmx3age16\n",
            "\n",
            "Your answer:\n",
            "spam\n",
            "435\n"
          ]
        },
        {
          "output_type": "stream",
          "name": "stderr",
          "text": [
            "Setting `pad_token_id` to `eos_token_id`:2 for open-end generation.\n"
          ]
        },
        {
          "output_type": "stream",
          "name": "stdout",
          "text": [
            "\n",
            "I have received a message. I want to identify whether it's spam or not.\n",
            "If message is spam return “spam”. Otherwise return “ham”. Don’t return anything else.\n",
            "\n",
            "Message:\"Do you realize that in about 40 years, we'll have thousands of old ladies running around with tattoos?\"\n",
            "\n",
            "Your answer:\n",
            "spam\n",
            "436\n"
          ]
        },
        {
          "output_type": "stream",
          "name": "stderr",
          "text": [
            "Setting `pad_token_id` to `eos_token_id`:2 for open-end generation.\n"
          ]
        },
        {
          "output_type": "stream",
          "name": "stdout",
          "text": [
            "\n",
            "I have received a message. I want to identify whether it's spam or not.\n",
            "If message is spam return “spam”. Otherwise return “ham”. Don’t return anything else.\n",
            "\n",
            "Message:Free entry in 2 a wkly comp to win FA Cup final tkts 21st May 2005. Text FA to 87121 to receive entry question(std txt rate)T&C's apply 08452810075over18's\n",
            "\n",
            "Your answer:\n",
            "spam\n",
            "437\n"
          ]
        },
        {
          "output_type": "stream",
          "name": "stderr",
          "text": [
            "Setting `pad_token_id` to `eos_token_id`:2 for open-end generation.\n"
          ]
        },
        {
          "output_type": "stream",
          "name": "stdout",
          "text": [
            "\n",
            "I have received a message. I want to identify whether it's spam or not.\n",
            "If message is spam return “spam”. Otherwise return “ham”. Don’t return anything else.\n",
            "\n",
            "Message:Want 2 get laid tonight? Want real Dogging locations sent direct 2 ur mob? Join the UK's largest Dogging Network bt Txting GRAVEL to 69888! Nt. ec2a. 31p.msg@150p\n",
            "\n",
            "Your answer:\n",
            "spam\n",
            "438\n"
          ]
        },
        {
          "output_type": "stream",
          "name": "stderr",
          "text": [
            "Setting `pad_token_id` to `eos_token_id`:2 for open-end generation.\n"
          ]
        },
        {
          "output_type": "stream",
          "name": "stdout",
          "text": [
            "\n",
            "I have received a message. I want to identify whether it's spam or not.\n",
            "If message is spam return “spam”. Otherwise return “ham”. Don’t return anything else.\n",
            "\n",
            "Message:sports fans - get the latest sports news str* 2 ur mobile 1 wk FREE PLUS a FREE TONE Txt SPORT ON to 8007 www.getzed.co.uk 0870141701216+ norm 4txt/120p\n",
            "\n",
            "Your answer:\n",
            "spam\n",
            "439\n"
          ]
        },
        {
          "output_type": "stream",
          "name": "stderr",
          "text": [
            "Setting `pad_token_id` to `eos_token_id`:2 for open-end generation.\n"
          ]
        },
        {
          "output_type": "stream",
          "name": "stdout",
          "text": [
            "\n",
            "I have received a message. I want to identify whether it's spam or not.\n",
            "If message is spam return “spam”. Otherwise return “ham”. Don’t return anything else.\n",
            "\n",
            "Message:\"Sunshine Hols. To claim ur med holiday send a stamped self address envelope to Drinks on Us UK, PO Box 113, Bray, Wicklow, Eire. Quiz Starts Saturday! Unsub Stop\"\n",
            "\n",
            "Your answer:\n",
            "spam\n",
            "440\n"
          ]
        },
        {
          "output_type": "stream",
          "name": "stderr",
          "text": [
            "Setting `pad_token_id` to `eos_token_id`:2 for open-end generation.\n"
          ]
        },
        {
          "output_type": "stream",
          "name": "stdout",
          "text": [
            "\n",
            "I have received a message. I want to identify whether it's spam or not.\n",
            "If message is spam return “spam”. Otherwise return “ham”. Don’t return anything else.\n",
            "\n",
            "Message:Congratulations ur awarded 500 of CD vouchers or 125gift guaranteed & Free entry 2 100 wkly draw txt MUSIC to 87066\n",
            "\n",
            "Your answer:\n",
            "spam\n",
            "441\n"
          ]
        },
        {
          "output_type": "stream",
          "name": "stderr",
          "text": [
            "Setting `pad_token_id` to `eos_token_id`:2 for open-end generation.\n"
          ]
        },
        {
          "output_type": "stream",
          "name": "stdout",
          "text": [
            "\n",
            "I have received a message. I want to identify whether it's spam or not.\n",
            "If message is spam return “spam”. Otherwise return “ham”. Don’t return anything else.\n",
            "\n",
            "Message:\"Welcome to UK-mobile-date this msg is FREE giving you free calling to 08719839835. Future mgs billed at 150p daily. To cancel send \\go stop\\\"\" to 89123\"\"\"\n",
            "\n",
            "Your answer:\n",
            "spam\n",
            "442\n"
          ]
        },
        {
          "output_type": "stream",
          "name": "stderr",
          "text": [
            "Setting `pad_token_id` to `eos_token_id`:2 for open-end generation.\n"
          ]
        },
        {
          "output_type": "stream",
          "name": "stdout",
          "text": [
            "\n",
            "I have received a message. I want to identify whether it's spam or not.\n",
            "If message is spam return “spam”. Otherwise return “ham”. Don’t return anything else.\n",
            "\n",
            "Message:FreeMsg: Txt: CALL to No: 86888 & claim your reward of 3 hours talk time to use from your phone now! Subscribe6GBP/mnth inc 3hrs 16 stop?txtStop\n",
            "\n",
            "Your answer:\n",
            "spam\n",
            "443\n"
          ]
        },
        {
          "output_type": "stream",
          "name": "stderr",
          "text": [
            "Setting `pad_token_id` to `eos_token_id`:2 for open-end generation.\n"
          ]
        },
        {
          "output_type": "stream",
          "name": "stdout",
          "text": [
            "\n",
            "I have received a message. I want to identify whether it's spam or not.\n",
            "If message is spam return “spam”. Otherwise return “ham”. Don’t return anything else.\n",
            "\n",
            "Message:FreeMsg:Feelin kinda lnly hope u like 2 keep me company! Jst got a cam moby wanna c my pic?Txt or reply DATE to 82242 Msg150p 2rcv Hlp 08712317606 stop to 82242\n",
            "\n",
            "Your answer:\n",
            "spam\n",
            "444\n"
          ]
        },
        {
          "output_type": "stream",
          "name": "stderr",
          "text": [
            "Setting `pad_token_id` to `eos_token_id`:2 for open-end generation.\n"
          ]
        },
        {
          "output_type": "stream",
          "name": "stdout",
          "text": [
            "\n",
            "I have received a message. I want to identify whether it's spam or not.\n",
            "If message is spam return “spam”. Otherwise return “ham”. Don’t return anything else.\n",
            "\n",
            "Message:<Forwarded from 448712404000>Please CALL 08712404000 immediately as there is an urgent message waiting for you.\n",
            "\n",
            "Your answer:\n",
            "spam\n",
            "445\n"
          ]
        },
        {
          "output_type": "stream",
          "name": "stderr",
          "text": [
            "Setting `pad_token_id` to `eos_token_id`:2 for open-end generation.\n"
          ]
        },
        {
          "output_type": "stream",
          "name": "stdout",
          "text": [
            "\n",
            "I have received a message. I want to identify whether it's spam or not.\n",
            "If message is spam return “spam”. Otherwise return “ham”. Don’t return anything else.\n",
            "\n",
            "Message:FREE camera phones with linerental from 4.49/month with 750 cross ntwk mins. 1/2 price txt bundle deals also avble. Call 08001950382 or call2optout/J MF\n",
            "\n",
            "Your answer:\n",
            "spam\n",
            "446\n"
          ]
        },
        {
          "output_type": "stream",
          "name": "stderr",
          "text": [
            "Setting `pad_token_id` to `eos_token_id`:2 for open-end generation.\n"
          ]
        },
        {
          "output_type": "stream",
          "name": "stdout",
          "text": [
            "\n",
            "I have received a message. I want to identify whether it's spam or not.\n",
            "If message is spam return “spam”. Otherwise return “ham”. Don’t return anything else.\n",
            "\n",
            "Message:\"Will u meet ur dream partner soon? Is ur career off 2 a flyng start? 2 find out free, txt HORO followed by ur star sign, e. g. HORO ARIES\"\n",
            "\n",
            "Your answer:\n",
            "spam\n",
            "447\n"
          ]
        },
        {
          "output_type": "stream",
          "name": "stderr",
          "text": [
            "Setting `pad_token_id` to `eos_token_id`:2 for open-end generation.\n"
          ]
        },
        {
          "output_type": "stream",
          "name": "stdout",
          "text": [
            "\n",
            "I have received a message. I want to identify whether it's spam or not.\n",
            "If message is spam return “spam”. Otherwise return “ham”. Don’t return anything else.\n",
            "\n",
            "Message:Ur cash-balance is currently 500 pounds - to maximize ur cash-in now send GO to 86688 only 150p/meg. CC: 08718720201 HG/Suite342/2lands Row/W1j6HL\n",
            "\n",
            "Your answer:\n",
            "spam\n",
            "448\n"
          ]
        },
        {
          "output_type": "stream",
          "name": "stderr",
          "text": [
            "Setting `pad_token_id` to `eos_token_id`:2 for open-end generation.\n"
          ]
        },
        {
          "output_type": "stream",
          "name": "stdout",
          "text": [
            "\n",
            "I have received a message. I want to identify whether it's spam or not.\n",
            "If message is spam return “spam”. Otherwise return “ham”. Don’t return anything else.\n",
            "\n",
            "Message:\"SMS SERVICES. for your inclusive text credits, pls goto www.comuk.net login= 3qxj9 unsubscribe with STOP, no extra charge. help 08702840625.COMUK. 220-CM2 9AE\"\n",
            "\n",
            "Your answer:\n",
            "spam\n",
            "449\n"
          ]
        },
        {
          "output_type": "stream",
          "name": "stderr",
          "text": [
            "Setting `pad_token_id` to `eos_token_id`:2 for open-end generation.\n"
          ]
        },
        {
          "output_type": "stream",
          "name": "stdout",
          "text": [
            "\n",
            "I have received a message. I want to identify whether it's spam or not.\n",
            "If message is spam return “spam”. Otherwise return “ham”. Don’t return anything else.\n",
            "\n",
            "Message:December only! Had your mobile 11mths+? You are entitled to update to the latest colour camera mobile for Free! Call The Mobile Update Co FREE on 08002986906\n",
            "\n",
            "Your answer:\n",
            "spam\n",
            "450\n"
          ]
        },
        {
          "output_type": "stream",
          "name": "stderr",
          "text": [
            "Setting `pad_token_id` to `eos_token_id`:2 for open-end generation.\n"
          ]
        },
        {
          "output_type": "stream",
          "name": "stdout",
          "text": [
            "\n",
            "I have received a message. I want to identify whether it's spam or not.\n",
            "If message is spam return “spam”. Otherwise return “ham”. Don’t return anything else.\n",
            "\n",
            "Message:Bored housewives! Chat n date now! 0871750.77.11! BT-national rate 10p/min only from landlines!\n",
            "\n",
            "Your answer:\n",
            "spam\n",
            "451\n"
          ]
        },
        {
          "output_type": "stream",
          "name": "stderr",
          "text": [
            "Setting `pad_token_id` to `eos_token_id`:2 for open-end generation.\n"
          ]
        },
        {
          "output_type": "stream",
          "name": "stdout",
          "text": [
            "\n",
            "I have received a message. I want to identify whether it's spam or not.\n",
            "If message is spam return “spam”. Otherwise return “ham”. Don’t return anything else.\n",
            "\n",
            "Message:4mths half price Orange line rental & latest camera phones 4 FREE. Had your phone 11mths ? Call MobilesDirect free on 08000938767 to update now! or2stoptxt\n",
            "\n",
            "Your answer:\n",
            "spam\n",
            "452\n"
          ]
        },
        {
          "output_type": "stream",
          "name": "stderr",
          "text": [
            "Setting `pad_token_id` to `eos_token_id`:2 for open-end generation.\n"
          ]
        },
        {
          "output_type": "stream",
          "name": "stdout",
          "text": [
            "\n",
            "I have received a message. I want to identify whether it's spam or not.\n",
            "If message is spam return “spam”. Otherwise return “ham”. Don’t return anything else.\n",
            "\n",
            "Message:CALL 09090900040 & LISTEN TO EXTREME DIRTY LIVE CHAT GOING ON IN THE OFFICE RIGHT NOW TOTAL PRIVACY NO ONE KNOWS YOUR [sic] LISTENING 60P MIN 24/7MP 0870753331018+\n",
            "\n",
            "Your answer:\n",
            "spam\n",
            "453\n"
          ]
        },
        {
          "output_type": "stream",
          "name": "stderr",
          "text": [
            "Setting `pad_token_id` to `eos_token_id`:2 for open-end generation.\n"
          ]
        },
        {
          "output_type": "stream",
          "name": "stdout",
          "text": [
            "\n",
            "I have received a message. I want to identify whether it's spam or not.\n",
            "If message is spam return “spam”. Otherwise return “ham”. Don’t return anything else.\n",
            "\n",
            "Message:Dorothy@kiefer.com (Bank of Granite issues Strong-Buy) EXPLOSIVE PICK FOR OUR MEMBERS *****UP OVER 300% *********** Nasdaq Symbol CDGT That is a $5.00 per..\n",
            "\n",
            "Your answer:\n",
            "spam\n",
            "454\n"
          ]
        },
        {
          "output_type": "stream",
          "name": "stderr",
          "text": [
            "Setting `pad_token_id` to `eos_token_id`:2 for open-end generation.\n"
          ]
        },
        {
          "output_type": "stream",
          "name": "stdout",
          "text": [
            "\n",
            "I have received a message. I want to identify whether it's spam or not.\n",
            "If message is spam return “spam”. Otherwise return “ham”. Don’t return anything else.\n",
            "\n",
            "Message:Free Top ringtone -sub to weekly ringtone-get 1st week free-send SUBPOLY to 81618-?3 per week-stop sms-08718727870\n",
            "\n",
            "Your answer:\n",
            "spam\n",
            "455\n"
          ]
        },
        {
          "output_type": "stream",
          "name": "stderr",
          "text": [
            "Setting `pad_token_id` to `eos_token_id`:2 for open-end generation.\n"
          ]
        },
        {
          "output_type": "stream",
          "name": "stdout",
          "text": [
            "\n",
            "I have received a message. I want to identify whether it's spam or not.\n",
            "If message is spam return “spam”. Otherwise return “ham”. Don’t return anything else.\n",
            "\n",
            "Message:Email AlertFrom: Jeri StewartSize: 2KBSubject: Low-cost prescripiton drvgsTo listen to email call 123\n",
            "\n",
            "Your answer:\n",
            "spam\n",
            "456\n"
          ]
        },
        {
          "output_type": "stream",
          "name": "stderr",
          "text": [
            "Setting `pad_token_id` to `eos_token_id`:2 for open-end generation.\n"
          ]
        },
        {
          "output_type": "stream",
          "name": "stdout",
          "text": [
            "\n",
            "I have received a message. I want to identify whether it's spam or not.\n",
            "If message is spam return “spam”. Otherwise return “ham”. Don’t return anything else.\n",
            "\n",
            "Message:ree entry in 2 a weekly comp for a chance to win an ipod. Txt POD to 80182 to get entry (std txt rate) T&C's apply 08452810073 for details 18+\n",
            "\n",
            "Your answer:\n",
            "spam\n",
            "457\n"
          ]
        },
        {
          "output_type": "stream",
          "name": "stderr",
          "text": [
            "Setting `pad_token_id` to `eos_token_id`:2 for open-end generation.\n"
          ]
        },
        {
          "output_type": "stream",
          "name": "stdout",
          "text": [
            "\n",
            "I have received a message. I want to identify whether it's spam or not.\n",
            "If message is spam return “spam”. Otherwise return “ham”. Don’t return anything else.\n",
            "\n",
            "Message:Reminder: You have not downloaded the content you have already paid for. Goto http://doit. mymoby. tv/ to collect your content.\n",
            "\n",
            "Your answer:\n",
            "spam\n",
            "458\n"
          ]
        },
        {
          "output_type": "stream",
          "name": "stderr",
          "text": [
            "Setting `pad_token_id` to `eos_token_id`:2 for open-end generation.\n"
          ]
        },
        {
          "output_type": "stream",
          "name": "stdout",
          "text": [
            "\n",
            "I have received a message. I want to identify whether it's spam or not.\n",
            "If message is spam return “spam”. Otherwise return “ham”. Don’t return anything else.\n",
            "\n",
            "Message:A link to your picture has been sent. You can also use http://alto18.co.uk/wave/wave.asp?o=44345\n",
            "\n",
            "Your answer:\n",
            "spam\n",
            "459\n"
          ]
        },
        {
          "output_type": "stream",
          "name": "stderr",
          "text": [
            "Setting `pad_token_id` to `eos_token_id`:2 for open-end generation.\n"
          ]
        },
        {
          "output_type": "stream",
          "name": "stdout",
          "text": [
            "\n",
            "I have received a message. I want to identify whether it's spam or not.\n",
            "If message is spam return “spam”. Otherwise return “ham”. Don’t return anything else.\n",
            "\n",
            "Message:RT-KIng Pro Video Club>> Need help? info@ringtoneking.co.uk or call 08701237397 You must be 16+ Club credits redeemable at www.ringtoneking.co.uk! Enjoy!\n",
            "\n",
            "Your answer:\n",
            "spam\n",
            "460\n"
          ]
        },
        {
          "output_type": "stream",
          "name": "stderr",
          "text": [
            "Setting `pad_token_id` to `eos_token_id`:2 for open-end generation.\n"
          ]
        },
        {
          "output_type": "stream",
          "name": "stdout",
          "text": [
            "\n",
            "I have received a message. I want to identify whether it's spam or not.\n",
            "If message is spam return “spam”. Otherwise return “ham”. Don’t return anything else.\n",
            "\n",
            "Message:PRIVATE! Your 2003 Account Statement for 07808247860 shows 800 un-redeemed S. I. M. points. Call 08719899229 Identifier Code: 40411 Expires 06/11/04\n",
            "\n",
            "Your answer:\n",
            "spam\n",
            "461\n"
          ]
        },
        {
          "output_type": "stream",
          "name": "stderr",
          "text": [
            "Setting `pad_token_id` to `eos_token_id`:2 for open-end generation.\n"
          ]
        },
        {
          "output_type": "stream",
          "name": "stdout",
          "text": [
            "\n",
            "I have received a message. I want to identify whether it's spam or not.\n",
            "If message is spam return “spam”. Otherwise return “ham”. Don’t return anything else.\n",
            "\n",
            "Message:**FREE MESSAGE**Thanks for using the Auction Subscription Service. 18 . 150p/MSGRCVD 2 Skip an Auction txt OUT. 2 Unsubscribe txt STOP CustomerCare 08718726270\n",
            "\n",
            "Your answer:\n",
            "spam\n",
            "462\n"
          ]
        },
        {
          "output_type": "stream",
          "name": "stderr",
          "text": [
            "Setting `pad_token_id` to `eos_token_id`:2 for open-end generation.\n"
          ]
        },
        {
          "output_type": "stream",
          "name": "stdout",
          "text": [
            "\n",
            "I have received a message. I want to identify whether it's spam or not.\n",
            "If message is spam return “spam”. Otherwise return “ham”. Don’t return anything else.\n",
            "\n",
            "Message:PRIVATE! Your 2003 Account Statement for shows 800 un-redeemed S. I. M. points. Call 08715203694 Identifier Code: 40533 Expires 31/10/04\n",
            "\n",
            "Your answer:\n",
            "spam\n",
            "463\n"
          ]
        },
        {
          "output_type": "stream",
          "name": "stderr",
          "text": [
            "Setting `pad_token_id` to `eos_token_id`:2 for open-end generation.\n"
          ]
        },
        {
          "output_type": "stream",
          "name": "stdout",
          "text": [
            "\n",
            "I have received a message. I want to identify whether it's spam or not.\n",
            "If message is spam return “spam”. Otherwise return “ham”. Don’t return anything else.\n",
            "\n",
            "Message:8007 25p 4 Alfie Moon's Children in Need song on ur mob. Tell ur m8s. Txt TONE CHARITY to 8007 for nokias or POLY CHARITY for polys :zed 08701417012 profit 2 charity\n",
            "\n",
            "Your answer:\n",
            "spam\n",
            "464\n"
          ]
        },
        {
          "output_type": "stream",
          "name": "stderr",
          "text": [
            "Setting `pad_token_id` to `eos_token_id`:2 for open-end generation.\n"
          ]
        },
        {
          "output_type": "stream",
          "name": "stdout",
          "text": [
            "\n",
            "I have received a message. I want to identify whether it's spam or not.\n",
            "If message is spam return “spam”. Otherwise return “ham”. Don’t return anything else.\n",
            "\n",
            "Message:Free video camera phones with Half Price line rental for 12 mths and 500 cross ntwk mins 100 txts. Call MobileUpd8 08001950382 or Call2OptOut/674&\n",
            "\n",
            "Your answer:\n",
            "spam\n",
            "465\n"
          ]
        },
        {
          "output_type": "stream",
          "name": "stderr",
          "text": [
            "Setting `pad_token_id` to `eos_token_id`:2 for open-end generation.\n"
          ]
        },
        {
          "output_type": "stream",
          "name": "stdout",
          "text": [
            "\n",
            "I have received a message. I want to identify whether it's spam or not.\n",
            "If message is spam return “spam”. Otherwise return “ham”. Don’t return anything else.\n",
            "\n",
            "Message:Not heard from U4 a while. Call 4 rude chat private line 01223585334 to cum. Wan 2C pics of me gettin shagged then text PIX to 8552. 2End send STOP 8552 SAM xxx\n",
            "\n",
            "Your answer:\n",
            "spam\n",
            "466\n"
          ]
        },
        {
          "output_type": "stream",
          "name": "stderr",
          "text": [
            "Setting `pad_token_id` to `eos_token_id`:2 for open-end generation.\n"
          ]
        },
        {
          "output_type": "stream",
          "name": "stdout",
          "text": [
            "\n",
            "I have received a message. I want to identify whether it's spam or not.\n",
            "If message is spam return “spam”. Otherwise return “ham”. Don’t return anything else.\n",
            "\n",
            "Message:What do U want for Xmas? How about 100 free text messages & a new video phone with half price line rental? Call free now on 0800 0721072 to find out more!\n",
            "\n",
            "Your answer:\n",
            "spam\n",
            "467\n"
          ]
        },
        {
          "output_type": "stream",
          "name": "stderr",
          "text": [
            "Setting `pad_token_id` to `eos_token_id`:2 for open-end generation.\n"
          ]
        },
        {
          "output_type": "stream",
          "name": "stdout",
          "text": [
            "\n",
            "I have received a message. I want to identify whether it's spam or not.\n",
            "If message is spam return “spam”. Otherwise return “ham”. Don’t return anything else.\n",
            "\n",
            "Message:You are now unsubscribed all services. Get tons of sexy babes or hunks straight to your phone! go to http://gotbabes.co.uk. No subscriptions.\n",
            "\n",
            "Your answer:\n",
            "spam\n",
            "468\n"
          ]
        },
        {
          "output_type": "stream",
          "name": "stderr",
          "text": [
            "Setting `pad_token_id` to `eos_token_id`:2 for open-end generation.\n"
          ]
        },
        {
          "output_type": "stream",
          "name": "stdout",
          "text": [
            "\n",
            "I have received a message. I want to identify whether it's spam or not.\n",
            "If message is spam return “spam”. Otherwise return “ham”. Don’t return anything else.\n",
            "\n",
            "Message:Mobile Club: Choose any of the top quality items for your mobile. 7cfca1a\n",
            "\n",
            "Your answer:\n",
            "spam\n",
            "469\n"
          ]
        },
        {
          "output_type": "stream",
          "name": "stderr",
          "text": [
            "Setting `pad_token_id` to `eos_token_id`:2 for open-end generation.\n"
          ]
        },
        {
          "output_type": "stream",
          "name": "stdout",
          "text": [
            "\n",
            "I have received a message. I want to identify whether it's spam or not.\n",
            "If message is spam return “spam”. Otherwise return “ham”. Don’t return anything else.\n",
            "\n",
            "Message:\"Latest News! Police station toilet stolen, cops have nothing to go on!\"\n",
            "\n",
            "Your answer:\n",
            "spam\n",
            "470\n"
          ]
        },
        {
          "output_type": "stream",
          "name": "stderr",
          "text": [
            "Setting `pad_token_id` to `eos_token_id`:2 for open-end generation.\n"
          ]
        },
        {
          "output_type": "stream",
          "name": "stdout",
          "text": [
            "\n",
            "I have received a message. I want to identify whether it's spam or not.\n",
            "If message is spam return “spam”. Otherwise return “ham”. Don’t return anything else.\n",
            "\n",
            "Message:Cashbin.co.uk (Get lots of cash this weekend!) www.cashbin.co.uk Dear Welcome to the weekend We have got our biggest and best EVER cash give away!! These..\n",
            "\n",
            "Your answer:\n",
            "spam\n",
            "471\n"
          ]
        },
        {
          "output_type": "stream",
          "name": "stderr",
          "text": [
            "Setting `pad_token_id` to `eos_token_id`:2 for open-end generation.\n"
          ]
        },
        {
          "output_type": "stream",
          "name": "stdout",
          "text": [
            "\n",
            "I have received a message. I want to identify whether it's spam or not.\n",
            "If message is spam return “spam”. Otherwise return “ham”. Don’t return anything else.\n",
            "\n",
            "Message:\"We know someone who you know that fancies you. Call 09058097218 to find out who. POBox 6, LS15HB 150p\"\n",
            "\n",
            "Your answer:\n",
            "spam\n",
            "472\n"
          ]
        },
        {
          "output_type": "stream",
          "name": "stderr",
          "text": [
            "Setting `pad_token_id` to `eos_token_id`:2 for open-end generation.\n"
          ]
        },
        {
          "output_type": "stream",
          "name": "stdout",
          "text": [
            "\n",
            "I have received a message. I want to identify whether it's spam or not.\n",
            "If message is spam return “spam”. Otherwise return “ham”. Don’t return anything else.\n",
            "\n",
            "Message:\"Free Msg: get Gnarls Barkleys \\Crazy\\\"\" ringtone TOTALLY FREE just reply GO to this message right now!\"\"\"\n",
            "\n",
            "Your answer:\n",
            "spam\n",
            "473\n"
          ]
        },
        {
          "output_type": "stream",
          "name": "stderr",
          "text": [
            "Setting `pad_token_id` to `eos_token_id`:2 for open-end generation.\n"
          ]
        },
        {
          "output_type": "stream",
          "name": "stdout",
          "text": [
            "\n",
            "I have received a message. I want to identify whether it's spam or not.\n",
            "If message is spam return “spam”. Otherwise return “ham”. Don’t return anything else.\n",
            "\n",
            "Message:Someonone you know is trying to contact you via our dating service! To find out who it could be call from your mobile or landline 09064015307 BOX334SK38ch\n",
            "\n",
            "Your answer:\n",
            "spam\n",
            "474\n"
          ]
        },
        {
          "output_type": "stream",
          "name": "stderr",
          "text": [
            "Setting `pad_token_id` to `eos_token_id`:2 for open-end generation.\n"
          ]
        },
        {
          "output_type": "stream",
          "name": "stdout",
          "text": [
            "\n",
            "I have received a message. I want to identify whether it's spam or not.\n",
            "If message is spam return “spam”. Otherwise return “ham”. Don’t return anything else.\n",
            "\n",
            "Message:dating:i have had two of these. Only started after i sent a text to talk sport radio last week. Any connection do you think or coincidence?\n",
            "\n",
            "Your answer:\n",
            "spam\n",
            "475\n"
          ]
        },
        {
          "output_type": "stream",
          "name": "stderr",
          "text": [
            "Setting `pad_token_id` to `eos_token_id`:2 for open-end generation.\n"
          ]
        },
        {
          "output_type": "stream",
          "name": "stdout",
          "text": [
            "\n",
            "I have received a message. I want to identify whether it's spam or not.\n",
            "If message is spam return “spam”. Otherwise return “ham”. Don’t return anything else.\n",
            "\n",
            "Message:\"U were outbid by simonwatson5120 on the Shinco DVD Plyr. 2 bid again, visit sms. ac/smsrewards 2 end bid notifications, reply END OUT\"\n",
            "\n",
            "Your answer:\n",
            "spam\n",
            "476\n"
          ]
        },
        {
          "output_type": "stream",
          "name": "stderr",
          "text": [
            "Setting `pad_token_id` to `eos_token_id`:2 for open-end generation.\n"
          ]
        },
        {
          "output_type": "stream",
          "name": "stdout",
          "text": [
            "\n",
            "I have received a message. I want to identify whether it's spam or not.\n",
            "If message is spam return “spam”. Otherwise return “ham”. Don’t return anything else.\n",
            "\n",
            "Message:Save money on wedding lingerie at www.bridal.petticoatdreams.co.uk Choose from a superb selection with national delivery. Brought to you by WeddingFriend\n",
            "\n",
            "Your answer:\n",
            "spam\n",
            "477\n"
          ]
        },
        {
          "output_type": "stream",
          "name": "stderr",
          "text": [
            "Setting `pad_token_id` to `eos_token_id`:2 for open-end generation.\n"
          ]
        },
        {
          "output_type": "stream",
          "name": "stdout",
          "text": [
            "\n",
            "I have received a message. I want to identify whether it's spam or not.\n",
            "If message is spam return “spam”. Otherwise return “ham”. Don’t return anything else.\n",
            "\n",
            "Message:\"Thanks for your ringtone order, reference number X49. Your mobile will be charged 4.50. Should your tone not arrive please call customer services 09065989182. From: [colour=red]text[/colour]TXTstar\"\n",
            "\n",
            "Your answer:\n",
            "spam\n",
            "478\n"
          ]
        },
        {
          "output_type": "stream",
          "name": "stderr",
          "text": [
            "Setting `pad_token_id` to `eos_token_id`:2 for open-end generation.\n"
          ]
        },
        {
          "output_type": "stream",
          "name": "stdout",
          "text": [
            "\n",
            "I have received a message. I want to identify whether it's spam or not.\n",
            "If message is spam return “spam”. Otherwise return “ham”. Don’t return anything else.\n",
            "\n",
            "Message:U have a secret admirer. REVEAL who thinks U R So special. Call 09065174042. To opt out Reply REVEAL STOP. 1.50 per msg recd. Cust care 07821230901\n",
            "\n",
            "Your answer:\n",
            "spam\n",
            "479\n"
          ]
        },
        {
          "output_type": "stream",
          "name": "stderr",
          "text": [
            "Setting `pad_token_id` to `eos_token_id`:2 for open-end generation.\n"
          ]
        },
        {
          "output_type": "stream",
          "name": "stdout",
          "text": [
            "\n",
            "I have received a message. I want to identify whether it's spam or not.\n",
            "If message is spam return “spam”. Otherwise return “ham”. Don’t return anything else.\n",
            "\n",
            "Message:Double Mins & Double Txt & 1/2 price Linerental on Latest Orange Bluetooth mobiles. Call MobileUpd8 for the very latest offers. 08000839402 or call2optout/LF56\n",
            "\n",
            "Your answer:\n",
            "spam\n",
            "480\n"
          ]
        },
        {
          "output_type": "stream",
          "name": "stderr",
          "text": [
            "Setting `pad_token_id` to `eos_token_id`:2 for open-end generation.\n"
          ]
        },
        {
          "output_type": "stream",
          "name": "stdout",
          "text": [
            "\n",
            "I have received a message. I want to identify whether it's spam or not.\n",
            "If message is spam return “spam”. Otherwise return “ham”. Don’t return anything else.\n",
            "\n",
            "Message:Do you want a New Nokia 3510i Colour Phone Delivered Tomorrow? With 200 FREE minutes to any mobile + 100 FREE text + FREE camcorder Reply or Call 08000930705\n",
            "\n",
            "Your answer:\n",
            "spam\n",
            "481\n"
          ]
        },
        {
          "output_type": "stream",
          "name": "stderr",
          "text": [
            "Setting `pad_token_id` to `eos_token_id`:2 for open-end generation.\n"
          ]
        },
        {
          "output_type": "stream",
          "name": "stdout",
          "text": [
            "\n",
            "I have received a message. I want to identify whether it's spam or not.\n",
            "If message is spam return “spam”. Otherwise return “ham”. Don’t return anything else.\n",
            "\n",
            "Message:Please CALL 08712402972 immediately as there is an urgent message waiting for you\n",
            "\n",
            "Your answer:\n",
            "spam\n",
            "482\n"
          ]
        },
        {
          "output_type": "stream",
          "name": "stderr",
          "text": [
            "Setting `pad_token_id` to `eos_token_id`:2 for open-end generation.\n"
          ]
        },
        {
          "output_type": "stream",
          "name": "stdout",
          "text": [
            "\n",
            "I have received a message. I want to identify whether it's spam or not.\n",
            "If message is spam return “spam”. Otherwise return “ham”. Don’t return anything else.\n",
            "\n",
            "Message:As one of our registered subscribers u can enter the draw 4 a 100 G.B. gift voucher by replying with ENTER. To unsubscribe text STOP\n",
            "\n",
            "Your answer:\n",
            "spam\n",
            "483\n"
          ]
        },
        {
          "output_type": "stream",
          "name": "stderr",
          "text": [
            "Setting `pad_token_id` to `eos_token_id`:2 for open-end generation.\n"
          ]
        },
        {
          "output_type": "stream",
          "name": "stdout",
          "text": [
            "\n",
            "I have received a message. I want to identify whether it's spam or not.\n",
            "If message is spam return “spam”. Otherwise return “ham”. Don’t return anything else.\n",
            "\n",
            "Message:\"\\For the most sparkling shopping breaks from 45 per person; call 0121 2025050 or visit www.shortbreaks.org.uk\\\"\"\"\"\"\n",
            "\n",
            "Your answer:\n",
            "spam\n",
            "484\n"
          ]
        },
        {
          "output_type": "stream",
          "name": "stderr",
          "text": [
            "Setting `pad_token_id` to `eos_token_id`:2 for open-end generation.\n"
          ]
        },
        {
          "output_type": "stream",
          "name": "stdout",
          "text": [
            "\n",
            "I have received a message. I want to identify whether it's spam or not.\n",
            "If message is spam return “spam”. Otherwise return “ham”. Don’t return anything else.\n",
            "\n",
            "Message:Free entry in 2 a wkly comp to win FA Cup final tkts 21st May 2005. Text FA to 87121 to receive entry question(std txt rate)T&C's apply 08452810075over18's\n",
            "\n",
            "Your answer:\n",
            "spam\n",
            "485\n"
          ]
        },
        {
          "output_type": "stream",
          "name": "stderr",
          "text": [
            "Setting `pad_token_id` to `eos_token_id`:2 for open-end generation.\n"
          ]
        },
        {
          "output_type": "stream",
          "name": "stdout",
          "text": [
            "\n",
            "I have received a message. I want to identify whether it's spam or not.\n",
            "If message is spam return “spam”. Otherwise return “ham”. Don’t return anything else.\n",
            "\n",
            "Message:ringtoneking 84484\n",
            "\n",
            "Your answer:\n",
            "spam\n",
            "486\n"
          ]
        },
        {
          "output_type": "stream",
          "name": "stderr",
          "text": [
            "Setting `pad_token_id` to `eos_token_id`:2 for open-end generation.\n"
          ]
        },
        {
          "output_type": "stream",
          "name": "stdout",
          "text": [
            "\n",
            "I have received a message. I want to identify whether it's spam or not.\n",
            "If message is spam return “spam”. Otherwise return “ham”. Don’t return anything else.\n",
            "\n",
            "Message:\"Urgent! call 09066350750 from your landline. Your complimentary 4* Ibiza Holiday or 10,000 cash await collection SAE T&Cs PO BOX 434 SK3 8WP 150 ppm 18+ \"\n",
            "\n",
            "Your answer:\n",
            "spam\n",
            "487\n"
          ]
        },
        {
          "output_type": "stream",
          "name": "stderr",
          "text": [
            "Setting `pad_token_id` to `eos_token_id`:2 for open-end generation.\n"
          ]
        },
        {
          "output_type": "stream",
          "name": "stdout",
          "text": [
            "\n",
            "I have received a message. I want to identify whether it's spam or not.\n",
            "If message is spam return “spam”. Otherwise return “ham”. Don’t return anything else.\n",
            "\n",
            "Message:You have an important customer service announcement from PREMIER. Call FREEPHONE 0800 542 0578 now!\n",
            "\n",
            "Your answer:\n",
            "spam\n",
            "488\n"
          ]
        },
        {
          "output_type": "stream",
          "name": "stderr",
          "text": [
            "Setting `pad_token_id` to `eos_token_id`:2 for open-end generation.\n"
          ]
        },
        {
          "output_type": "stream",
          "name": "stdout",
          "text": [
            "\n",
            "I have received a message. I want to identify whether it's spam or not.\n",
            "If message is spam return “spam”. Otherwise return “ham”. Don’t return anything else.\n",
            "\n",
            "Message:No 1 POLYPHONIC tone 4 ur mob every week! Just txt PT2 to 87575. 1st Tone FREE ! so get txtin now and tell ur friends. 150p/tone. 16 reply HL 4info\n",
            "\n",
            "Your answer:\n",
            "spam\n",
            "489\n"
          ]
        },
        {
          "output_type": "stream",
          "name": "stderr",
          "text": [
            "Setting `pad_token_id` to `eos_token_id`:2 for open-end generation.\n"
          ]
        },
        {
          "output_type": "stream",
          "name": "stdout",
          "text": [
            "\n",
            "I have received a message. I want to identify whether it's spam or not.\n",
            "If message is spam return “spam”. Otherwise return “ham”. Don’t return anything else.\n",
            "\n",
            "Message:-PLS STOP bootydelious (32/F) is inviting you to be her friend. Reply YES-434 or NO-434 See her: www.SMS.ac/u/bootydelious STOP? Send STOP FRND to 62468\n",
            "\n",
            "Your answer:\n",
            "spam\n",
            "490\n"
          ]
        },
        {
          "output_type": "stream",
          "name": "stderr",
          "text": [
            "Setting `pad_token_id` to `eos_token_id`:2 for open-end generation.\n"
          ]
        },
        {
          "output_type": "stream",
          "name": "stdout",
          "text": [
            "\n",
            "I have received a message. I want to identify whether it's spam or not.\n",
            "If message is spam return “spam”. Otherwise return “ham”. Don’t return anything else.\n",
            "\n",
            "Message:Tone Club: Your subs has now expired 2 re-sub reply MONOC 4 monos or POLYC 4 polys 1 weekly @ 150p per week Txt STOP 2 stop This msg free Stream 0871212025016\n",
            "\n",
            "Your answer:\n",
            "spam\n",
            "491\n"
          ]
        },
        {
          "output_type": "stream",
          "name": "stderr",
          "text": [
            "Setting `pad_token_id` to `eos_token_id`:2 for open-end generation.\n"
          ]
        },
        {
          "output_type": "stream",
          "name": "stdout",
          "text": [
            "\n",
            "I have received a message. I want to identify whether it's spam or not.\n",
            "If message is spam return “spam”. Otherwise return “ham”. Don’t return anything else.\n",
            "\n",
            "Message:HMV BONUS SPECIAL 500 pounds of genuine HMV vouchers to be won. Just answer 4 easy questions. Play Now! Send HMV to 86688 More info:www.100percent-real.com\n",
            "\n",
            "Your answer:\n",
            "spam\n",
            "492\n"
          ]
        },
        {
          "output_type": "stream",
          "name": "stderr",
          "text": [
            "Setting `pad_token_id` to `eos_token_id`:2 for open-end generation.\n"
          ]
        },
        {
          "output_type": "stream",
          "name": "stdout",
          "text": [
            "\n",
            "I have received a message. I want to identify whether it's spam or not.\n",
            "If message is spam return “spam”. Otherwise return “ham”. Don’t return anything else.\n",
            "\n",
            "Message:Text & meet someone sexy today. U can find a date or even flirt its up to U. Join 4 just 10p. REPLY with NAME & AGE eg Sam 25. 18 -msg recd@thirtyeight pence\n",
            "\n",
            "Your answer:\n",
            "spam\n",
            "493\n"
          ]
        },
        {
          "output_type": "stream",
          "name": "stderr",
          "text": [
            "Setting `pad_token_id` to `eos_token_id`:2 for open-end generation.\n"
          ]
        },
        {
          "output_type": "stream",
          "name": "stdout",
          "text": [
            "\n",
            "I have received a message. I want to identify whether it's spam or not.\n",
            "If message is spam return “spam”. Otherwise return “ham”. Don’t return anything else.\n",
            "\n",
            "Message:\"Hi there, 2nights ur lucky night! Uve been invited 2 XCHAT, the Uks wildest chat! Txt CHAT to 86688 now! 150p/MsgrcvdHG/Suite342/2Lands/Row/W1J6HL LDN 18yrs\"\n",
            "\n",
            "Your answer:\n",
            "spam\n",
            "494\n"
          ]
        },
        {
          "output_type": "stream",
          "name": "stderr",
          "text": [
            "Setting `pad_token_id` to `eos_token_id`:2 for open-end generation.\n"
          ]
        },
        {
          "output_type": "stream",
          "name": "stdout",
          "text": [
            "\n",
            "I have received a message. I want to identify whether it's spam or not.\n",
            "If message is spam return “spam”. Otherwise return “ham”. Don’t return anything else.\n",
            "\n",
            "Message:\"URGENT. Important information for 02 user. Today is your lucky day! 2 find out why , log onto http://www.urawinner.com there is a fantastic surprise awaiting you !\"\n",
            "\n",
            "Your answer:\n",
            "spam\n",
            "495\n"
          ]
        },
        {
          "output_type": "stream",
          "name": "stderr",
          "text": [
            "Setting `pad_token_id` to `eos_token_id`:2 for open-end generation.\n"
          ]
        },
        {
          "output_type": "stream",
          "name": "stdout",
          "text": [
            "\n",
            "I have received a message. I want to identify whether it's spam or not.\n",
            "If message is spam return “spam”. Otherwise return “ham”. Don’t return anything else.\n",
            "\n",
            "Message:You have been specially selected to receive a 2000 pound award! Call 08712402050 BEFORE the lines close. Cost 10ppm. 16+. T&Cs apply. AG Promo\n",
            "\n",
            "Your answer:\n",
            "spam\n",
            "496\n"
          ]
        },
        {
          "output_type": "stream",
          "name": "stderr",
          "text": [
            "Setting `pad_token_id` to `eos_token_id`:2 for open-end generation.\n"
          ]
        },
        {
          "output_type": "stream",
          "name": "stdout",
          "text": [
            "\n",
            "I have received a message. I want to identify whether it's spam or not.\n",
            "If message is spam return “spam”. Otherwise return “ham”. Don’t return anything else.\n",
            "\n",
            "Message:\"This is the 2nd time we have tried 2 contact u. U have won the 750 Pound prize. 2 claim is easy, call 08712101358 NOW! Only 10p per min. BT-national-rate\"\n",
            "\n",
            "Your answer:\n",
            "spam\n",
            "497\n"
          ]
        },
        {
          "output_type": "stream",
          "name": "stderr",
          "text": [
            "Setting `pad_token_id` to `eos_token_id`:2 for open-end generation.\n"
          ]
        },
        {
          "output_type": "stream",
          "name": "stdout",
          "text": [
            "\n",
            "I have received a message. I want to identify whether it's spam or not.\n",
            "If message is spam return “spam”. Otherwise return “ham”. Don’t return anything else.\n",
            "\n",
            "Message:Money i have won wining number 946 wot do i do next\n",
            "\n",
            "Your answer:\n",
            "spam\n",
            "498\n"
          ]
        },
        {
          "output_type": "stream",
          "name": "stderr",
          "text": [
            "Setting `pad_token_id` to `eos_token_id`:2 for open-end generation.\n"
          ]
        },
        {
          "output_type": "stream",
          "name": "stdout",
          "text": [
            "\n",
            "I have received a message. I want to identify whether it's spam or not.\n",
            "If message is spam return “spam”. Otherwise return “ham”. Don’t return anything else.\n",
            "\n",
            "Message:\"Want to funk up ur fone with a weekly new tone reply TONES2U 2 this text. www.ringtones.co.uk, the original n best. Tones 3GBP network operator rates apply\"\n",
            "\n",
            "Your answer:\n",
            "spam\n",
            "499\n"
          ]
        },
        {
          "output_type": "stream",
          "name": "stderr",
          "text": [
            "Setting `pad_token_id` to `eos_token_id`:2 for open-end generation.\n"
          ]
        },
        {
          "output_type": "stream",
          "name": "stdout",
          "text": [
            "\n",
            "I have received a message. I want to identify whether it's spam or not.\n",
            "If message is spam return “spam”. Otherwise return “ham”. Don’t return anything else.\n",
            "\n",
            "Message:\"HOT LIVE FANTASIES call now 08707509020 Just 20p per min NTT Ltd, PO Box 1327 Croydon CR9 5WB 0870 is a national rate call\"\n",
            "\n",
            "Your answer:\n",
            "spam\n",
            "500\n"
          ]
        },
        {
          "output_type": "stream",
          "name": "stderr",
          "text": [
            "Setting `pad_token_id` to `eos_token_id`:2 for open-end generation.\n"
          ]
        },
        {
          "output_type": "stream",
          "name": "stdout",
          "text": [
            "\n",
            "I have received a message. I want to identify whether it's spam or not.\n",
            "If message is spam return “spam”. Otherwise return “ham”. Don’t return anything else.\n",
            "\n",
            "Message:\"Goal! Arsenal 4 (Henry, 7 v Liverpool 2 Henry scores with a simple shot from 6 yards from a pass by Bergkamp to give Arsenal a 2 goal margin after 78 mins.\"\n",
            "\n",
            "Your answer:\n",
            "\n",
            "spam\n",
            "501\n"
          ]
        },
        {
          "output_type": "stream",
          "name": "stderr",
          "text": [
            "Setting `pad_token_id` to `eos_token_id`:2 for open-end generation.\n"
          ]
        },
        {
          "output_type": "stream",
          "name": "stdout",
          "text": [
            "\n",
            "I have received a message. I want to identify whether it's spam or not.\n",
            "If message is spam return “spam”. Otherwise return “ham”. Don’t return anything else.\n",
            "\n",
            "Message:\"Had your mobile 10 mths? Update to the latest Camera/Video phones for FREE. KEEP UR SAME NUMBER, Get extra free mins/texts. Text YES for a call\"\n",
            "\n",
            "Your answer:\n",
            "spam\n",
            "502\n"
          ]
        },
        {
          "output_type": "stream",
          "name": "stderr",
          "text": [
            "Setting `pad_token_id` to `eos_token_id`:2 for open-end generation.\n"
          ]
        },
        {
          "output_type": "stream",
          "name": "stdout",
          "text": [
            "\n",
            "I have received a message. I want to identify whether it's spam or not.\n",
            "If message is spam return “spam”. Otherwise return “ham”. Don’t return anything else.\n",
            "\n",
            "Message:\"Had your contract mobile 11 Mnths? Latest Motorola, Nokia etc. all FREE! Double Mins & Text on Orange tariffs. TEXT YES for callback, no to remove from records.\"\n",
            "\n",
            "Your answer:\n",
            "spam\n",
            "503\n"
          ]
        },
        {
          "output_type": "stream",
          "name": "stderr",
          "text": [
            "Setting `pad_token_id` to `eos_token_id`:2 for open-end generation.\n"
          ]
        },
        {
          "output_type": "stream",
          "name": "stdout",
          "text": [
            "\n",
            "I have received a message. I want to identify whether it's spam or not.\n",
            "If message is spam return “spam”. Otherwise return “ham”. Don’t return anything else.\n",
            "\n",
            "Message:Ringtone Club: Get the UK singles chart on your mobile each week and choose any top quality ringtone! This message is free of charge.\n",
            "\n",
            "Your answer:\n",
            "spam\n",
            "504\n"
          ]
        },
        {
          "output_type": "stream",
          "name": "stderr",
          "text": [
            "Setting `pad_token_id` to `eos_token_id`:2 for open-end generation.\n"
          ]
        },
        {
          "output_type": "stream",
          "name": "stdout",
          "text": [
            "\n",
            "I have received a message. I want to identify whether it's spam or not.\n",
            "If message is spam return “spam”. Otherwise return “ham”. Don’t return anything else.\n",
            "\n",
            "Message:\"Congrats 2 mobile 3G Videophones R yours. call 09063458130 now! videochat wid ur mates, play java games, Dload polypH music, noline rentl. bx420. ip4. 5we. 150p\"\n",
            "\n",
            "Your answer:\n",
            "spam\n",
            "505\n"
          ]
        },
        {
          "output_type": "stream",
          "name": "stderr",
          "text": [
            "Setting `pad_token_id` to `eos_token_id`:2 for open-end generation.\n"
          ]
        },
        {
          "output_type": "stream",
          "name": "stdout",
          "text": [
            "\n",
            "I have received a message. I want to identify whether it's spam or not.\n",
            "If message is spam return “spam”. Otherwise return “ham”. Don’t return anything else.\n",
            "\n",
            "Message:Bought one ringtone and now getting texts costing 3 pound offering more tones etc\n",
            "\n",
            "Your answer:\n",
            "spam\n",
            "506\n"
          ]
        },
        {
          "output_type": "stream",
          "name": "stderr",
          "text": [
            "Setting `pad_token_id` to `eos_token_id`:2 for open-end generation.\n"
          ]
        },
        {
          "output_type": "stream",
          "name": "stdout",
          "text": [
            "\n",
            "I have received a message. I want to identify whether it's spam or not.\n",
            "If message is spam return “spam”. Otherwise return “ham”. Don’t return anything else.\n",
            "\n",
            "Message:You have 1 new message. Please call 08715205273\n",
            "\n",
            "Your answer:\n",
            "spam\n",
            "507\n"
          ]
        },
        {
          "output_type": "stream",
          "name": "stderr",
          "text": [
            "Setting `pad_token_id` to `eos_token_id`:2 for open-end generation.\n"
          ]
        },
        {
          "output_type": "stream",
          "name": "stdout",
          "text": [
            "\n",
            "I have received a message. I want to identify whether it's spam or not.\n",
            "If message is spam return “spam”. Otherwise return “ham”. Don’t return anything else.\n",
            "\n",
            "Message:Loans for any purpose even if you have Bad Credit! Tenants Welcome. Call NoWorriesLoans.com on 08717111821\n",
            "\n",
            "Your answer:\n",
            "spam\n",
            "508\n"
          ]
        },
        {
          "output_type": "stream",
          "name": "stderr",
          "text": [
            "Setting `pad_token_id` to `eos_token_id`:2 for open-end generation.\n"
          ]
        },
        {
          "output_type": "stream",
          "name": "stdout",
          "text": [
            "\n",
            "I have received a message. I want to identify whether it's spam or not.\n",
            "If message is spam return “spam”. Otherwise return “ham”. Don’t return anything else.\n",
            "\n",
            "Message:Someone has contacted our dating service and entered your phone because they fancy you! To find out who it is call from a landline 09111032124 . PoBox12n146tf150p\n",
            "\n",
            "Your answer:\n",
            "spam\n",
            "509\n"
          ]
        },
        {
          "output_type": "stream",
          "name": "stderr",
          "text": [
            "Setting `pad_token_id` to `eos_token_id`:2 for open-end generation.\n"
          ]
        },
        {
          "output_type": "stream",
          "name": "stdout",
          "text": [
            "\n",
            "I have received a message. I want to identify whether it's spam or not.\n",
            "If message is spam return “spam”. Otherwise return “ham”. Don’t return anything else.\n",
            "\n",
            "Message:\"Spook up your mob with a Halloween collection of a logo & pic message plus a free eerie tone, txt CARD SPOOK to 8007 zed 08701417012150p per logo/pic\"\n",
            "\n",
            "Your answer:\n",
            "spam\n",
            "510\n"
          ]
        },
        {
          "output_type": "stream",
          "name": "stderr",
          "text": [
            "Setting `pad_token_id` to `eos_token_id`:2 for open-end generation.\n"
          ]
        },
        {
          "output_type": "stream",
          "name": "stdout",
          "text": [
            "\n",
            "I have received a message. I want to identify whether it's spam or not.\n",
            "If message is spam return “spam”. Otherwise return “ham”. Don’t return anything else.\n",
            "\n",
            "Message:Burger King - Wanna play footy at a top stadium? Get 2 Burger King before 1st Sept and go Large or Super with Coca-Cola and walk out a winner\n",
            "\n",
            "Your answer:\n",
            "spam\n",
            "511\n"
          ]
        },
        {
          "output_type": "stream",
          "name": "stderr",
          "text": [
            "Setting `pad_token_id` to `eos_token_id`:2 for open-end generation.\n"
          ]
        },
        {
          "output_type": "stream",
          "name": "stdout",
          "text": [
            "\n",
            "I have received a message. I want to identify whether it's spam or not.\n",
            "If message is spam return “spam”. Otherwise return “ham”. Don’t return anything else.\n",
            "\n",
            "Message:\"Dear Voucher Holder, To claim this weeks offer, at you PC please go to http://www.e-tlp.co.uk/reward. Ts&Cs apply.\"\n",
            "\n",
            "Your answer:\n",
            "spam\n",
            "512\n"
          ]
        },
        {
          "output_type": "stream",
          "name": "stderr",
          "text": [
            "Setting `pad_token_id` to `eos_token_id`:2 for open-end generation.\n"
          ]
        },
        {
          "output_type": "stream",
          "name": "stdout",
          "text": [
            "\n",
            "I have received a message. I want to identify whether it's spam or not.\n",
            "If message is spam return “spam”. Otherwise return “ham”. Don’t return anything else.\n",
            "\n",
            "Message:\"pdate_Now - Double mins and 1000 txts on Orange tariffs. Latest Motorola, SonyEricsson & Nokia & Bluetooth FREE! Call MobileUpd8 on 08000839402 or call2optout/!YHL\"\n",
            "\n",
            "Your answer:\n",
            "spam\n",
            "513\n"
          ]
        },
        {
          "output_type": "stream",
          "name": "stderr",
          "text": [
            "Setting `pad_token_id` to `eos_token_id`:2 for open-end generation.\n"
          ]
        },
        {
          "output_type": "stream",
          "name": "stdout",
          "text": [
            "\n",
            "I have received a message. I want to identify whether it's spam or not.\n",
            "If message is spam return “spam”. Otherwise return “ham”. Don’t return anything else.\n",
            "\n",
            "Message:PRIVATE! Your 2003 Account Statement for <fone no> shows 800 un-redeemed S. I. M. points. Call 08715203656 Identifier Code: 42049 Expires 26/10/04\n",
            "\n",
            "Your answer:\n",
            "spam\n",
            "514\n"
          ]
        },
        {
          "output_type": "stream",
          "name": "stderr",
          "text": [
            "Setting `pad_token_id` to `eos_token_id`:2 for open-end generation.\n"
          ]
        },
        {
          "output_type": "stream",
          "name": "stdout",
          "text": [
            "\n",
            "I have received a message. I want to identify whether it's spam or not.\n",
            "If message is spam return “spam”. Otherwise return “ham”. Don’t return anything else.\n",
            "\n",
            "Message:\"HOT LIVE FANTASIES call now 08707500020 Just 20p per min NTT Ltd, PO Box 1327 Croydon CR9 5WB 0870 is a national rate call\"\n",
            "\n",
            "Your answer:\n",
            "spam\n",
            "515\n"
          ]
        },
        {
          "output_type": "stream",
          "name": "stderr",
          "text": [
            "Setting `pad_token_id` to `eos_token_id`:2 for open-end generation.\n"
          ]
        },
        {
          "output_type": "stream",
          "name": "stdout",
          "text": [
            "\n",
            "I have received a message. I want to identify whether it's spam or not.\n",
            "If message is spam return “spam”. Otherwise return “ham”. Don’t return anything else.\n",
            "\n",
            "Message:We tried to contact you re your reply to our offer of a Video Phone 750 anytime any network mins Half Price Line Rental Camcorder Reply or call 08000930705\n",
            "\n",
            "Your answer:\n",
            "\n",
            "I have received a message. I want to identify whether it's spam or not.\n",
            "516\n"
          ]
        },
        {
          "output_type": "stream",
          "name": "stderr",
          "text": [
            "Setting `pad_token_id` to `eos_token_id`:2 for open-end generation.\n"
          ]
        },
        {
          "output_type": "stream",
          "name": "stdout",
          "text": [
            "\n",
            "I have received a message. I want to identify whether it's spam or not.\n",
            "If message is spam return “spam”. Otherwise return “ham”. Don’t return anything else.\n",
            "\n",
            "Message:\"YOUR CHANCE TO BE ON A REALITY FANTASY SHOW call now = 08707509020 Just 20p per min NTT Ltd, PO Box 1327 Croydon CR9 5WB 0870 is a national = rate call\"\n",
            "\n",
            "Your answer:\n",
            "spam\n",
            "517\n"
          ]
        },
        {
          "output_type": "stream",
          "name": "stderr",
          "text": [
            "Setting `pad_token_id` to `eos_token_id`:2 for open-end generation.\n"
          ]
        },
        {
          "output_type": "stream",
          "name": "stdout",
          "text": [
            "\n",
            "I have received a message. I want to identify whether it's spam or not.\n",
            "If message is spam return “spam”. Otherwise return “ham”. Don’t return anything else.\n",
            "\n",
            "Message:goldviking (29/M) is inviting you to be his friend. Reply YES-762 or NO-762 See him: www.SMS.ac/u/goldviking STOP? Send STOP FRND to 62468\n",
            "\n",
            "Your answer:\n",
            "spam\n",
            "518\n"
          ]
        },
        {
          "output_type": "stream",
          "name": "stderr",
          "text": [
            "Setting `pad_token_id` to `eos_token_id`:2 for open-end generation.\n"
          ]
        },
        {
          "output_type": "stream",
          "name": "stdout",
          "text": [
            "\n",
            "I have received a message. I want to identify whether it's spam or not.\n",
            "If message is spam return “spam”. Otherwise return “ham”. Don’t return anything else.\n",
            "\n",
            "Message:We tried to contact you re your reply to our offer of a Video Handset? 750 anytime networks mins? UNLIMITED TEXT? Camcorder? Reply or call 08000930705 NOW\n",
            "\n",
            "Your answer:\n",
            "spam\n",
            "519\n"
          ]
        },
        {
          "output_type": "stream",
          "name": "stderr",
          "text": [
            "Setting `pad_token_id` to `eos_token_id`:2 for open-end generation.\n"
          ]
        },
        {
          "output_type": "stream",
          "name": "stdout",
          "text": [
            "\n",
            "I have received a message. I want to identify whether it's spam or not.\n",
            "If message is spam return “spam”. Otherwise return “ham”. Don’t return anything else.\n",
            "\n",
            "Message:YES! The only place in town to meet exciting adult singles is now in the UK. Txt CHAT to 86688 now! 150p/Msg.\n",
            "\n",
            "Your answer:\n",
            "spam\n",
            "520\n"
          ]
        },
        {
          "output_type": "stream",
          "name": "stderr",
          "text": [
            "Setting `pad_token_id` to `eos_token_id`:2 for open-end generation.\n"
          ]
        },
        {
          "output_type": "stream",
          "name": "stdout",
          "text": [
            "\n",
            "I have received a message. I want to identify whether it's spam or not.\n",
            "If message is spam return “spam”. Otherwise return “ham”. Don’t return anything else.\n",
            "\n",
            "Message:Want 2 get laid tonight? Want real Dogging locations sent direct 2 ur Mob? Join the UK's largest Dogging Network by txting MOAN to 69888Nyt. ec2a. 31p.msg@150p\n",
            "\n",
            "Your answer:\n",
            "spam\n",
            "521\n"
          ]
        },
        {
          "output_type": "stream",
          "name": "stderr",
          "text": [
            "Setting `pad_token_id` to `eos_token_id`:2 for open-end generation.\n"
          ]
        },
        {
          "output_type": "stream",
          "name": "stdout",
          "text": [
            "\n",
            "I have received a message. I want to identify whether it's spam or not.\n",
            "If message is spam return “spam”. Otherwise return “ham”. Don’t return anything else.\n",
            "\n",
            "Message:Call Germany for only 1 pence per minute! Call from a fixed line via access number 0844 861 85 85. No prepayment. Direct access!\n",
            "\n",
            "Your answer:\n",
            "spam\n",
            "522\n"
          ]
        },
        {
          "output_type": "stream",
          "name": "stderr",
          "text": [
            "Setting `pad_token_id` to `eos_token_id`:2 for open-end generation.\n"
          ]
        },
        {
          "output_type": "stream",
          "name": "stdout",
          "text": [
            "\n",
            "I have received a message. I want to identify whether it's spam or not.\n",
            "If message is spam return “spam”. Otherwise return “ham”. Don’t return anything else.\n",
            "\n",
            "Message:For taking part in our mobile survey yesterday! You can now have 500 texts 2 use however you wish. 2 get txts just send TXT to 80160 T&C www.txt43.com 1.50p\n",
            "\n",
            "Your answer:\n",
            "spam\n",
            "523\n"
          ]
        },
        {
          "output_type": "stream",
          "name": "stderr",
          "text": [
            "Setting `pad_token_id` to `eos_token_id`:2 for open-end generation.\n"
          ]
        },
        {
          "output_type": "stream",
          "name": "stdout",
          "text": [
            "\n",
            "I have received a message. I want to identify whether it's spam or not.\n",
            "If message is spam return “spam”. Otherwise return “ham”. Don’t return anything else.\n",
            "\n",
            "Message:FREEMSG: Our records indicate you may be entitled to 3750 pounds for the Accident you had. To claim for free reply with YES to this msg. To opt out text STOP\n",
            "\n",
            "Your answer:\n",
            "spam\n",
            "524\n"
          ]
        },
        {
          "output_type": "stream",
          "name": "stderr",
          "text": [
            "Setting `pad_token_id` to `eos_token_id`:2 for open-end generation.\n"
          ]
        },
        {
          "output_type": "stream",
          "name": "stdout",
          "text": [
            "\n",
            "I have received a message. I want to identify whether it's spam or not.\n",
            "If message is spam return “spam”. Otherwise return “ham”. Don’t return anything else.\n",
            "\n",
            "Message:Not heard from U4 a while. Call me now am here all night with just my knickers on. Make me beg for it like U did last time 01223585236 XX Luv Nikiyu4.net\n",
            "\n",
            "Your answer:\n",
            "spam\n",
            "525\n"
          ]
        },
        {
          "output_type": "stream",
          "name": "stderr",
          "text": [
            "Setting `pad_token_id` to `eos_token_id`:2 for open-end generation.\n"
          ]
        },
        {
          "output_type": "stream",
          "name": "stdout",
          "text": [
            "\n",
            "I have received a message. I want to identify whether it's spam or not.\n",
            "If message is spam return “spam”. Otherwise return “ham”. Don’t return anything else.\n",
            "\n",
            "Message:FreeMsg: Hey - I'm Buffy. 25 and love to satisfy men. Home alone feeling randy. Reply 2 C my PIX! QlynnBV Help08700621170150p a msg Send stop to stop txts\n",
            "\n",
            "Your answer:\n",
            "spam\n",
            "526\n"
          ]
        },
        {
          "output_type": "stream",
          "name": "stderr",
          "text": [
            "Setting `pad_token_id` to `eos_token_id`:2 for open-end generation.\n"
          ]
        },
        {
          "output_type": "stream",
          "name": "stdout",
          "text": [
            "\n",
            "I have received a message. I want to identify whether it's spam or not.\n",
            "If message is spam return “spam”. Otherwise return “ham”. Don’t return anything else.\n",
            "\n",
            "Message:No. 1 Nokia Tone 4 ur mob every week! Just txt NOK to 87021. 1st Tone FREE ! so get txtin now and tell ur friends. 150p/tone. 16 reply HL 4info\n",
            "\n",
            "Your answer:\n",
            "spam\n",
            "527\n"
          ]
        },
        {
          "output_type": "stream",
          "name": "stderr",
          "text": [
            "Setting `pad_token_id` to `eos_token_id`:2 for open-end generation.\n"
          ]
        },
        {
          "output_type": "stream",
          "name": "stdout",
          "text": [
            "\n",
            "I have received a message. I want to identify whether it's spam or not.\n",
            "If message is spam return “spam”. Otherwise return “ham”. Don’t return anything else.\n",
            "\n",
            "Message:PRIVATE! Your 2003 Account Statement for 07753741225 shows 800 un-redeemed S. I. M. points. Call 08715203677 Identifier Code: 42478 Expires 24/10/04\n",
            "\n",
            "Your answer:\n",
            "spam\n",
            "528\n"
          ]
        },
        {
          "output_type": "stream",
          "name": "stderr",
          "text": [
            "Setting `pad_token_id` to `eos_token_id`:2 for open-end generation.\n"
          ]
        },
        {
          "output_type": "stream",
          "name": "stdout",
          "text": [
            "\n",
            "I have received a message. I want to identify whether it's spam or not.\n",
            "If message is spam return “spam”. Otherwise return “ham”. Don’t return anything else.\n",
            "\n",
            "Message:4mths half price Orange line rental & latest camera phones 4 FREE. Had your phone 11mths ? Call MobilesDirect free on 08000938767 to update now! or2stoptxt\n",
            "\n",
            "Your answer:\n",
            "spam\n",
            "529\n"
          ]
        },
        {
          "output_type": "stream",
          "name": "stderr",
          "text": [
            "Setting `pad_token_id` to `eos_token_id`:2 for open-end generation.\n"
          ]
        },
        {
          "output_type": "stream",
          "name": "stdout",
          "text": [
            "\n",
            "I have received a message. I want to identify whether it's spam or not.\n",
            "If message is spam return “spam”. Otherwise return “ham”. Don’t return anything else.\n",
            "\n",
            "Message:Ur ringtone service has changed! 25 Free credits! Go to club4mobiles.com to choose content now! Stop? txt CLUB STOP to 87070. 150p/wk Club4 PO Box1146 MK45 2WT\n",
            "\n",
            "Your answer:\n",
            "spam\n",
            "530\n"
          ]
        },
        {
          "output_type": "stream",
          "name": "stderr",
          "text": [
            "Setting `pad_token_id` to `eos_token_id`:2 for open-end generation.\n"
          ]
        },
        {
          "output_type": "stream",
          "name": "stdout",
          "text": [
            "\n",
            "I have received a message. I want to identify whether it's spam or not.\n",
            "If message is spam return “spam”. Otherwise return “ham”. Don’t return anything else.\n",
            "\n",
            "Message:Are you unique enough? Find out from 30th August. www.areyouunique.co.uk\n",
            "\n",
            "Your answer:\n",
            "spam\n",
            "531\n"
          ]
        },
        {
          "output_type": "stream",
          "name": "stderr",
          "text": [
            "Setting `pad_token_id` to `eos_token_id`:2 for open-end generation.\n"
          ]
        },
        {
          "output_type": "stream",
          "name": "stdout",
          "text": [
            "\n",
            "I have received a message. I want to identify whether it's spam or not.\n",
            "If message is spam return “spam”. Otherwise return “ham”. Don’t return anything else.\n",
            "\n",
            "Message:Free tones Hope you enjoyed your new content. text stop to 61610 to unsubscribe. help:08712400602450p Provided by tones2you.co.uk\n",
            "\n",
            "Your answer:\n",
            "spam\n",
            "532\n"
          ]
        },
        {
          "output_type": "stream",
          "name": "stderr",
          "text": [
            "Setting `pad_token_id` to `eos_token_id`:2 for open-end generation.\n"
          ]
        },
        {
          "output_type": "stream",
          "name": "stdout",
          "text": [
            "\n",
            "I have received a message. I want to identify whether it's spam or not.\n",
            "If message is spam return “spam”. Otherwise return “ham”. Don’t return anything else.\n",
            "\n",
            "Message:SMS. ac sun0819 posts HELLO:\\You seem cool\n",
            "\n",
            "Your answer:\n",
            "spam\n",
            "533\n"
          ]
        },
        {
          "output_type": "stream",
          "name": "stderr",
          "text": [
            "Setting `pad_token_id` to `eos_token_id`:2 for open-end generation.\n"
          ]
        },
        {
          "output_type": "stream",
          "name": "stdout",
          "text": [
            "\n",
            "I have received a message. I want to identify whether it's spam or not.\n",
            "If message is spam return “spam”. Otherwise return “ham”. Don’t return anything else.\n",
            "\n",
            "Message:FREE UNLIMITED HARDCORE PORN direct 2 your mobile Txt PORN to 69200 & get FREE access for 24 hrs then chrgd@50p per day txt Stop 2exit. This msg is free\n",
            "\n",
            "Your answer:\n",
            "spam\n",
            "534\n"
          ]
        },
        {
          "output_type": "stream",
          "name": "stderr",
          "text": [
            "Setting `pad_token_id` to `eos_token_id`:2 for open-end generation.\n"
          ]
        },
        {
          "output_type": "stream",
          "name": "stdout",
          "text": [
            "\n",
            "I have received a message. I want to identify whether it's spam or not.\n",
            "If message is spam return “spam”. Otherwise return “ham”. Don’t return anything else.\n",
            "\n",
            "Message:New TEXTBUDDY Chat 2 horny guys in ur area 4 just 25p Free 2 receive Search postcode or at gaytextbuddy.com. TXT ONE name to 89693. 08715500022 rpl Stop 2 cnl\n",
            "\n",
            "Your answer:\n",
            "spam\n",
            "535\n"
          ]
        },
        {
          "output_type": "stream",
          "name": "stderr",
          "text": [
            "Setting `pad_token_id` to `eos_token_id`:2 for open-end generation.\n"
          ]
        },
        {
          "output_type": "stream",
          "name": "stdout",
          "text": [
            "\n",
            "I have received a message. I want to identify whether it's spam or not.\n",
            "If message is spam return “spam”. Otherwise return “ham”. Don’t return anything else.\n",
            "\n",
            "Message:\"Your free ringtone is waiting to be collected. Simply text the password \\MIX\\\"\" to 85069 to verify. Get Usher and Britney. FML\"\n",
            "\n",
            "Your answer:\n",
            "spam\n",
            "536\n"
          ]
        },
        {
          "output_type": "stream",
          "name": "stderr",
          "text": [
            "Setting `pad_token_id` to `eos_token_id`:2 for open-end generation.\n"
          ]
        },
        {
          "output_type": "stream",
          "name": "stdout",
          "text": [
            "\n",
            "I have received a message. I want to identify whether it's spam or not.\n",
            "If message is spam return “spam”. Otherwise return “ham”. Don’t return anything else.\n",
            "\n",
            "Message:2/2 146tf150p\n",
            "\n",
            "Your answer:\n",
            "spam\n",
            "537\n"
          ]
        },
        {
          "output_type": "stream",
          "name": "stderr",
          "text": [
            "Setting `pad_token_id` to `eos_token_id`:2 for open-end generation.\n"
          ]
        },
        {
          "output_type": "stream",
          "name": "stdout",
          "text": [
            "\n",
            "I have received a message. I want to identify whether it's spam or not.\n",
            "If message is spam return “spam”. Otherwise return “ham”. Don’t return anything else.\n",
            "\n",
            "Message:important information 4 orange user 0789xxxxxxx. today is your lucky day!2find out why log onto http://www.urawinner.com THERE'S A FANTASTIC SURPRISE AWAITING YOU!\n",
            "\n",
            "Your answer:\n",
            "spam\n",
            "538\n"
          ]
        },
        {
          "output_type": "stream",
          "name": "stderr",
          "text": [
            "Setting `pad_token_id` to `eos_token_id`:2 for open-end generation.\n"
          ]
        },
        {
          "output_type": "stream",
          "name": "stdout",
          "text": [
            "\n",
            "I have received a message. I want to identify whether it's spam or not.\n",
            "If message is spam return “spam”. Otherwise return “ham”. Don’t return anything else.\n",
            "\n",
            "Message:Hey I am really horny want to chat or see me naked text hot to 69698 text charged at 150pm to unsubscribe text stop 69698\n",
            "\n",
            "Your answer:\n",
            "spam\n",
            "539\n"
          ]
        },
        {
          "output_type": "stream",
          "name": "stderr",
          "text": [
            "Setting `pad_token_id` to `eos_token_id`:2 for open-end generation.\n"
          ]
        },
        {
          "output_type": "stream",
          "name": "stdout",
          "text": [
            "\n",
            "I have received a message. I want to identify whether it's spam or not.\n",
            "If message is spam return “spam”. Otherwise return “ham”. Don’t return anything else.\n",
            "\n",
            "Message:YES! The only place in town to meet exciting adult singles is now in the UK. Txt CHAT to 86688 now! 150p/Msg.\n",
            "\n",
            "Your answer:\n",
            "spam\n",
            "540\n"
          ]
        },
        {
          "output_type": "stream",
          "name": "stderr",
          "text": [
            "Setting `pad_token_id` to `eos_token_id`:2 for open-end generation.\n"
          ]
        },
        {
          "output_type": "stream",
          "name": "stdout",
          "text": [
            "\n",
            "I have received a message. I want to identify whether it's spam or not.\n",
            "If message is spam return “spam”. Otherwise return “ham”. Don’t return anything else.\n",
            "\n",
            "Message:You will be receiving this week's Triple Echo ringtone shortly. Enjoy it!\n",
            "\n",
            "Your answer:\n",
            "spam\n",
            "541\n"
          ]
        },
        {
          "output_type": "stream",
          "name": "stderr",
          "text": [
            "Setting `pad_token_id` to `eos_token_id`:2 for open-end generation.\n"
          ]
        },
        {
          "output_type": "stream",
          "name": "stdout",
          "text": [
            "\n",
            "I have received a message. I want to identify whether it's spam or not.\n",
            "If message is spam return “spam”. Otherwise return “ham”. Don’t return anything else.\n",
            "\n",
            "Message:Text BANNEDUK to 89555 to see! cost 150p textoperator g696ga 18+ XXX\n",
            "\n",
            "Your answer:\n",
            "spam\n",
            "542\n"
          ]
        },
        {
          "output_type": "stream",
          "name": "stderr",
          "text": [
            "Setting `pad_token_id` to `eos_token_id`:2 for open-end generation.\n"
          ]
        },
        {
          "output_type": "stream",
          "name": "stdout",
          "text": [
            "\n",
            "I have received a message. I want to identify whether it's spam or not.\n",
            "If message is spam return “spam”. Otherwise return “ham”. Don’t return anything else.\n",
            "\n",
            "Message:SMS. ac Sptv: The New Jersey Devils and the Detroit Red Wings play Ice Hockey. Correct or Incorrect? End? Reply END SPTV\n",
            "\n",
            "Your answer:\n",
            "spam\n",
            "543\n"
          ]
        },
        {
          "output_type": "stream",
          "name": "stderr",
          "text": [
            "Setting `pad_token_id` to `eos_token_id`:2 for open-end generation.\n"
          ]
        },
        {
          "output_type": "stream",
          "name": "stdout",
          "text": [
            "\n",
            "I have received a message. I want to identify whether it's spam or not.\n",
            "If message is spam return “spam”. Otherwise return “ham”. Don’t return anything else.\n",
            "\n",
            "Message:\"Thank you, winner notified by sms. Good Luck! No future marketing reply STOP to 84122 customer services 08450542832\"\n",
            "\n",
            "Your answer:\n",
            "spam\n",
            "544\n"
          ]
        },
        {
          "output_type": "stream",
          "name": "stderr",
          "text": [
            "Setting `pad_token_id` to `eos_token_id`:2 for open-end generation.\n"
          ]
        },
        {
          "output_type": "stream",
          "name": "stdout",
          "text": [
            "\n",
            "I have received a message. I want to identify whether it's spam or not.\n",
            "If message is spam return “spam”. Otherwise return “ham”. Don’t return anything else.\n",
            "\n",
            "Message:okmail: Dear Dave this is your final notice to collect your 4* Tenerife Holiday or #5000 CASH award! Call 09061743806 from landline. TCs SAE Box326 CW25WX 150ppm\n",
            "\n",
            "Your answer:\n",
            "spam\n",
            "545\n"
          ]
        },
        {
          "output_type": "stream",
          "name": "stderr",
          "text": [
            "Setting `pad_token_id` to `eos_token_id`:2 for open-end generation.\n"
          ]
        },
        {
          "output_type": "stream",
          "name": "stdout",
          "text": [
            "\n",
            "I have received a message. I want to identify whether it's spam or not.\n",
            "If message is spam return “spam”. Otherwise return “ham”. Don’t return anything else.\n",
            "\n",
            "Message:\"BangBabes Ur order is on the way. U SHOULD receive a Service Msg 2 download UR content. If U do not, GoTo wap. bangb. tv on UR mobile internet/service menu\"\n",
            "\n",
            "Your answer:\n",
            "spam\n",
            "546\n"
          ]
        },
        {
          "output_type": "stream",
          "name": "stderr",
          "text": [
            "Setting `pad_token_id` to `eos_token_id`:2 for open-end generation.\n"
          ]
        },
        {
          "output_type": "stream",
          "name": "stdout",
          "text": [
            "\n",
            "I have received a message. I want to identify whether it's spam or not.\n",
            "If message is spam return “spam”. Otherwise return “ham”. Don’t return anything else.\n",
            "\n",
            "Message:\"TheMob>Hit the link to get a premium Pink Panther game, the new no. 1 from Sugababes, a crazy Zebra animation or a badass Hoody wallpaper-all 4 FREE!\"\n",
            "\n",
            "Your answer:\n",
            "spam\n",
            "547\n"
          ]
        },
        {
          "output_type": "stream",
          "name": "stderr",
          "text": [
            "Setting `pad_token_id` to `eos_token_id`:2 for open-end generation.\n"
          ]
        },
        {
          "output_type": "stream",
          "name": "stdout",
          "text": [
            "\n",
            "I have received a message. I want to identify whether it's spam or not.\n",
            "If message is spam return “spam”. Otherwise return “ham”. Don’t return anything else.\n",
            "\n",
            "Message:Gr8 new service - live sex video chat on your mob - see the sexiest dirtiest girls live on ur phone - 4 details text horny to 89070 to cancel send STOP to 89070\n",
            "\n",
            "Your answer:\n",
            "spam\n",
            "548\n"
          ]
        },
        {
          "output_type": "stream",
          "name": "stderr",
          "text": [
            "Setting `pad_token_id` to `eos_token_id`:2 for open-end generation.\n"
          ]
        },
        {
          "output_type": "stream",
          "name": "stdout",
          "text": [
            "\n",
            "I have received a message. I want to identify whether it's spam or not.\n",
            "If message is spam return “spam”. Otherwise return “ham”. Don’t return anything else.\n",
            "\n",
            "Message:\"XXXMobileMovieClub: To use your credit, click the WAP link in the next txt message or click here>> http://wap. xxxmobilemovieclub.com?n=QJKGIGHJJGCBL\"\n",
            "\n",
            "Your answer:\n",
            "spam\n",
            "549\n"
          ]
        },
        {
          "output_type": "stream",
          "name": "stderr",
          "text": [
            "Setting `pad_token_id` to `eos_token_id`:2 for open-end generation.\n"
          ]
        },
        {
          "output_type": "stream",
          "name": "stdout",
          "text": [
            "\n",
            "I have received a message. I want to identify whether it's spam or not.\n",
            "If message is spam return “spam”. Otherwise return “ham”. Don’t return anything else.\n",
            "\n",
            "Message:Ringtone Club: Gr8 new polys direct to your mobile every week !\n",
            "\n",
            "Your answer:\n",
            "spam\n",
            "550\n"
          ]
        },
        {
          "output_type": "stream",
          "name": "stderr",
          "text": [
            "Setting `pad_token_id` to `eos_token_id`:2 for open-end generation.\n"
          ]
        },
        {
          "output_type": "stream",
          "name": "stdout",
          "text": [
            "\n",
            "I have received a message. I want to identify whether it's spam or not.\n",
            "If message is spam return “spam”. Otherwise return “ham”. Don’t return anything else.\n",
            "\n",
            "Message:Natalie (20/F) is inviting you to be her friend. Reply YES-165 or NO-165 See her: www.SMS.ac/u/natalie2k9 STOP? Send STOP FRND to 62468\n",
            "\n",
            "Your answer:\n",
            "spam\n",
            "551\n"
          ]
        },
        {
          "output_type": "stream",
          "name": "stderr",
          "text": [
            "Setting `pad_token_id` to `eos_token_id`:2 for open-end generation.\n"
          ]
        },
        {
          "output_type": "stream",
          "name": "stdout",
          "text": [
            "\n",
            "I have received a message. I want to identify whether it's spam or not.\n",
            "If message is spam return “spam”. Otherwise return “ham”. Don’t return anything else.\n",
            "\n",
            "Message:22 days to kick off! For Euro2004 U will be kept up to date with the latest news and results daily. To be removed send GET TXT STOP to 83222\n",
            "\n",
            "Your answer:\n",
            "spam\n",
            "552\n"
          ]
        },
        {
          "output_type": "stream",
          "name": "stderr",
          "text": [
            "Setting `pad_token_id` to `eos_token_id`:2 for open-end generation.\n"
          ]
        },
        {
          "output_type": "stream",
          "name": "stdout",
          "text": [
            "\n",
            "I have received a message. I want to identify whether it's spam or not.\n",
            "If message is spam return “spam”. Otherwise return “ham”. Don’t return anything else.\n",
            "\n",
            "Message:Message Important information for O2 user. Today is your lucky day! 2 find out why log onto http://www.urawinner.com there is a fantastic surprise awaiting you\n",
            "\n",
            "Your answer:\n",
            "spam\n",
            "553\n"
          ]
        },
        {
          "output_type": "stream",
          "name": "stderr",
          "text": [
            "Setting `pad_token_id` to `eos_token_id`:2 for open-end generation.\n"
          ]
        },
        {
          "output_type": "stream",
          "name": "stdout",
          "text": [
            "\n",
            "I have received a message. I want to identify whether it's spam or not.\n",
            "If message is spam return “spam”. Otherwise return “ham”. Don’t return anything else.\n",
            "\n",
            "Message:PRIVATE! Your 2003 Account Statement for 078\n",
            "\n",
            "Your answer:\n",
            "spam\n",
            "554\n"
          ]
        },
        {
          "output_type": "stream",
          "name": "stderr",
          "text": [
            "Setting `pad_token_id` to `eos_token_id`:2 for open-end generation.\n"
          ]
        },
        {
          "output_type": "stream",
          "name": "stdout",
          "text": [
            "\n",
            "I have received a message. I want to identify whether it's spam or not.\n",
            "If message is spam return “spam”. Otherwise return “ham”. Don’t return anything else.\n",
            "\n",
            "Message:Do you want a NEW video phone750 anytime any network mins 150 text for only five pounds per week call 08000776320 now or reply for delivery tomorrow\n",
            "\n",
            "Your answer:\n",
            "spam\n",
            "555\n"
          ]
        },
        {
          "output_type": "stream",
          "name": "stderr",
          "text": [
            "Setting `pad_token_id` to `eos_token_id`:2 for open-end generation.\n"
          ]
        },
        {
          "output_type": "stream",
          "name": "stdout",
          "text": [
            "\n",
            "I have received a message. I want to identify whether it's spam or not.\n",
            "If message is spam return “spam”. Otherwise return “ham”. Don’t return anything else.\n",
            "\n",
            "Message:\"TheMob> Check out our newest selection of content, Games, Tones, Gossip, babes and sport, Keep your mobile fit and funky text WAP to 82468\"\n",
            "\n",
            "Your answer:\n",
            "spam\n",
            "556\n"
          ]
        },
        {
          "output_type": "stream",
          "name": "stderr",
          "text": [
            "Setting `pad_token_id` to `eos_token_id`:2 for open-end generation.\n"
          ]
        },
        {
          "output_type": "stream",
          "name": "stdout",
          "text": [
            "\n",
            "I have received a message. I want to identify whether it's spam or not.\n",
            "If message is spam return “spam”. Otherwise return “ham”. Don’t return anything else.\n",
            "\n",
            "Message:Free entry in 2 a weekly comp for a chance to win an ipod. Txt POD to 80182 to get entry (std txt rate) T&C's apply 08452810073 for details 18+\n",
            "\n",
            "Your answer:\n",
            "spam\n",
            "557\n"
          ]
        },
        {
          "output_type": "stream",
          "name": "stderr",
          "text": [
            "Setting `pad_token_id` to `eos_token_id`:2 for open-end generation.\n"
          ]
        },
        {
          "output_type": "stream",
          "name": "stdout",
          "text": [
            "\n",
            "I have received a message. I want to identify whether it's spam or not.\n",
            "If message is spam return “spam”. Otherwise return “ham”. Don’t return anything else.\n",
            "\n",
            "Message:\"Hello darling how are you today? I would love to have a chat, why dont you tell me what you look like and what you are in to sexy?\"\n",
            "\n",
            "Your answer:\n",
            "spam\n",
            "558\n"
          ]
        },
        {
          "output_type": "stream",
          "name": "stderr",
          "text": [
            "Setting `pad_token_id` to `eos_token_id`:2 for open-end generation.\n"
          ]
        },
        {
          "output_type": "stream",
          "name": "stdout",
          "text": [
            "\n",
            "I have received a message. I want to identify whether it's spam or not.\n",
            "If message is spam return “spam”. Otherwise return “ham”. Don’t return anything else.\n",
            "\n",
            "Message:HMV BONUS SPECIAL 500 pounds of genuine HMV vouchers to be won. Just answer 4 easy questions. Play Now! Send HMV to 86688 More info:www.100percent-real.com\n",
            "\n",
            "Your answer:\n",
            "spam\n",
            "559\n"
          ]
        },
        {
          "output_type": "stream",
          "name": "stderr",
          "text": [
            "Setting `pad_token_id` to `eos_token_id`:2 for open-end generation.\n"
          ]
        },
        {
          "output_type": "stream",
          "name": "stdout",
          "text": [
            "\n",
            "I have received a message. I want to identify whether it's spam or not.\n",
            "If message is spam return “spam”. Otherwise return “ham”. Don’t return anything else.\n",
            "\n",
            "Message:\"Did you hear about the new \\Divorce Barbie\\\"\"? It comes with all of Ken's stuff!\"\"\"\n",
            "\n",
            "Your answer:\n",
            "spam\n",
            "560\n"
          ]
        },
        {
          "output_type": "stream",
          "name": "stderr",
          "text": [
            "Setting `pad_token_id` to `eos_token_id`:2 for open-end generation.\n"
          ]
        },
        {
          "output_type": "stream",
          "name": "stdout",
          "text": [
            "\n",
            "I have received a message. I want to identify whether it's spam or not.\n",
            "If message is spam return “spam”. Otherwise return “ham”. Don’t return anything else.\n",
            "\n",
            "Message:I'd like to tell you my deepest darkest fantasies. Call me 09094646631 just 60p/min. To stop texts call 08712460324 (nat rate)\n",
            "\n",
            "Your answer:\n",
            "spam\n",
            "561\n"
          ]
        },
        {
          "output_type": "stream",
          "name": "stderr",
          "text": [
            "Setting `pad_token_id` to `eos_token_id`:2 for open-end generation.\n"
          ]
        },
        {
          "output_type": "stream",
          "name": "stdout",
          "text": [
            "\n",
            "I have received a message. I want to identify whether it's spam or not.\n",
            "If message is spam return “spam”. Otherwise return “ham”. Don’t return anything else.\n",
            "\n",
            "Message:Someone U know has asked our dating service 2 contact you! Cant Guess who? CALL 09058091854 NOW all will be revealed. PO BOX385 M6 6WU\n",
            "\n",
            "Your answer:\n",
            "spam\n",
            "562\n"
          ]
        },
        {
          "output_type": "stream",
          "name": "stderr",
          "text": [
            "Setting `pad_token_id` to `eos_token_id`:2 for open-end generation.\n"
          ]
        },
        {
          "output_type": "stream",
          "name": "stdout",
          "text": [
            "\n",
            "I have received a message. I want to identify whether it's spam or not.\n",
            "If message is spam return “spam”. Otherwise return “ham”. Don’t return anything else.\n",
            "\n",
            "Message:\"Thanks for your Ringtone Order, Reference T91. You will be charged GBP 4 per week. You can unsubscribe at anytime by calling customer services on 09057039994\"\n",
            "\n",
            "Your answer:\n",
            "spam\n",
            "563\n"
          ]
        },
        {
          "output_type": "stream",
          "name": "stderr",
          "text": [
            "Setting `pad_token_id` to `eos_token_id`:2 for open-end generation.\n"
          ]
        },
        {
          "output_type": "stream",
          "name": "stdout",
          "text": [
            "\n",
            "I have received a message. I want to identify whether it's spam or not.\n",
            "If message is spam return “spam”. Otherwise return “ham”. Don’t return anything else.\n",
            "\n",
            "Message:Hard LIVE 121 chat just 60p/min. Choose your girl and connect LIVE. Call 09094646899 now! Cheap Chat UK's biggest live service. VU BCM1896WC1N3XX\n",
            "\n",
            "Your answer:\n",
            "spam\n",
            "564\n"
          ]
        },
        {
          "output_type": "stream",
          "name": "stderr",
          "text": [
            "Setting `pad_token_id` to `eos_token_id`:2 for open-end generation.\n"
          ]
        },
        {
          "output_type": "stream",
          "name": "stdout",
          "text": [
            "\n",
            "I have received a message. I want to identify whether it's spam or not.\n",
            "If message is spam return “spam”. Otherwise return “ham”. Don’t return anything else.\n",
            "\n",
            "Message:\"Get 3 Lions England tone, reply lionm 4 mono or lionp 4 poly. 4 more go 2 www.ringtones.co.uk, the original n best. Tones 3GBP network operator rates apply.\"\n",
            "\n",
            "Your answer:\n",
            "spam\n",
            "565\n"
          ]
        },
        {
          "output_type": "stream",
          "name": "stderr",
          "text": [
            "Setting `pad_token_id` to `eos_token_id`:2 for open-end generation.\n"
          ]
        },
        {
          "output_type": "stream",
          "name": "stdout",
          "text": [
            "\n",
            "I have received a message. I want to identify whether it's spam or not.\n",
            "If message is spam return “spam”. Otherwise return “ham”. Don’t return anything else.\n",
            "\n",
            "Message:\"Got what it takes 2 take part in the WRC Rally in Oz? U can with Lucozade Energy! Text RALLY LE to 61200 (25p), see packs or lucozade.co.uk/wrc & itcould be u!\"\n",
            "\n",
            "Your answer:\n",
            "spam\n",
            "566\n"
          ]
        },
        {
          "output_type": "stream",
          "name": "stderr",
          "text": [
            "Setting `pad_token_id` to `eos_token_id`:2 for open-end generation.\n"
          ]
        },
        {
          "output_type": "stream",
          "name": "stdout",
          "text": [
            "\n",
            "I have received a message. I want to identify whether it's spam or not.\n",
            "If message is spam return “spam”. Otherwise return “ham”. Don’t return anything else.\n",
            "\n",
            "Message:Dont forget you can place as many FREE Requests with 1stchoice.co.uk as you wish. For more Information call 08707808226.\n",
            "\n",
            "Your answer:\n",
            "spam\n",
            "567\n"
          ]
        },
        {
          "output_type": "stream",
          "name": "stderr",
          "text": [
            "Setting `pad_token_id` to `eos_token_id`:2 for open-end generation.\n"
          ]
        },
        {
          "output_type": "stream",
          "name": "stdout",
          "text": [
            "\n",
            "I have received a message. I want to identify whether it's spam or not.\n",
            "If message is spam return “spam”. Otherwise return “ham”. Don’t return anything else.\n",
            "\n",
            "Message:we tried to contact you re your response to our offer of a new nokia fone and camcorder hit reply or call 08000930705 for delivery\n",
            "\n",
            "Your answer:\n",
            "\n",
            "I have received a message. I want to identify whether it's spam or not.\n",
            "568\n"
          ]
        },
        {
          "output_type": "stream",
          "name": "stderr",
          "text": [
            "Setting `pad_token_id` to `eos_token_id`:2 for open-end generation.\n"
          ]
        },
        {
          "output_type": "stream",
          "name": "stdout",
          "text": [
            "\n",
            "I have received a message. I want to identify whether it's spam or not.\n",
            "If message is spam return “spam”. Otherwise return “ham”. Don’t return anything else.\n",
            "\n",
            "Message:Dear 0776xxxxxxx U've been invited to XCHAT. This is our final attempt to contact u! Txt CHAT to 86688 150p/MsgrcvdHG/Suite342/2Lands/Row/W1J6HL LDN 18yrs\n",
            "\n",
            "Your answer:\n",
            "spam\n",
            "569\n"
          ]
        },
        {
          "output_type": "stream",
          "name": "stderr",
          "text": [
            "Setting `pad_token_id` to `eos_token_id`:2 for open-end generation.\n"
          ]
        },
        {
          "output_type": "stream",
          "name": "stdout",
          "text": [
            "\n",
            "I have received a message. I want to identify whether it's spam or not.\n",
            "If message is spam return “spam”. Otherwise return “ham”. Don’t return anything else.\n",
            "\n",
            "Message:\"Hello from Orange. For 1 month's free access to games, news and sport, plus 10 free texts and 20 photo messages, reply YES. Terms apply: www.orange.co.uk/ow\"\n",
            "\n",
            "Your answer:\n",
            "spam\n",
            "570\n"
          ]
        },
        {
          "output_type": "stream",
          "name": "stderr",
          "text": [
            "Setting `pad_token_id` to `eos_token_id`:2 for open-end generation.\n"
          ]
        },
        {
          "output_type": "stream",
          "name": "stdout",
          "text": [
            "\n",
            "I have received a message. I want to identify whether it's spam or not.\n",
            "If message is spam return “spam”. Otherwise return “ham”. Don’t return anything else.\n",
            "\n",
            "Message:Had your mobile 11 months or more? U R entitled to Update to the latest colour mobiles with camera for Free! Call The Mobile Update Co FREE on 08002986030\n",
            "\n",
            "Your answer:\n",
            "spam\n",
            "571\n"
          ]
        },
        {
          "output_type": "stream",
          "name": "stderr",
          "text": [
            "Setting `pad_token_id` to `eos_token_id`:2 for open-end generation.\n"
          ]
        },
        {
          "output_type": "stream",
          "name": "stdout",
          "text": [
            "\n",
            "I have received a message. I want to identify whether it's spam or not.\n",
            "If message is spam return “spam”. Otherwise return “ham”. Don’t return anything else.\n",
            "\n",
            "Message:IMPORTANT MESSAGE. This is a final contact attempt. You have important messages waiting out our customer claims dept. Expires 13/4/04. Call 08717507382 NOW!\n",
            "\n",
            "Your answer:\n",
            "spam\n",
            "572\n"
          ]
        },
        {
          "output_type": "stream",
          "name": "stderr",
          "text": [
            "Setting `pad_token_id` to `eos_token_id`:2 for open-end generation.\n"
          ]
        },
        {
          "output_type": "stream",
          "name": "stdout",
          "text": [
            "\n",
            "I have received a message. I want to identify whether it's spam or not.\n",
            "If message is spam return “spam”. Otherwise return “ham”. Don’t return anything else.\n",
            "\n",
            "Message:Sexy Singles are waiting for you! Text your AGE followed by your GENDER as wither M or F E.G.23F. For gay men text your AGE followed by a G. e.g.23G.\n",
            "\n",
            "Your answer:\n",
            "spam\n",
            "573\n"
          ]
        },
        {
          "output_type": "stream",
          "name": "stderr",
          "text": [
            "Setting `pad_token_id` to `eos_token_id`:2 for open-end generation.\n"
          ]
        },
        {
          "output_type": "stream",
          "name": "stdout",
          "text": [
            "\n",
            "I have received a message. I want to identify whether it's spam or not.\n",
            "If message is spam return “spam”. Otherwise return “ham”. Don’t return anything else.\n",
            "\n",
            "Message:\"Congrats! 1 year special cinema pass for 2 is yours. call 09061209465 now! C Suprman V, Matrix3, StarWars3, etc all 4 FREE! bx420-ip4-5we. 150pm. Dont miss out!\"\n",
            "\n",
            "Your answer:\n",
            "spam\n",
            "574\n"
          ]
        },
        {
          "output_type": "stream",
          "name": "stderr",
          "text": [
            "Setting `pad_token_id` to `eos_token_id`:2 for open-end generation.\n"
          ]
        },
        {
          "output_type": "stream",
          "name": "stdout",
          "text": [
            "\n",
            "I have received a message. I want to identify whether it's spam or not.\n",
            "If message is spam return “spam”. Otherwise return “ham”. Don’t return anything else.\n",
            "\n",
            "Message:Camera - You are awarded a SiPix Digital Camera! call 09061221066 fromm landline. Delivery within 28 days.\n",
            "\n",
            "Your answer:\n",
            "spam\n",
            "575\n"
          ]
        },
        {
          "output_type": "stream",
          "name": "stderr",
          "text": [
            "Setting `pad_token_id` to `eos_token_id`:2 for open-end generation.\n"
          ]
        },
        {
          "output_type": "stream",
          "name": "stdout",
          "text": [
            "\n",
            "I have received a message. I want to identify whether it's spam or not.\n",
            "If message is spam return “spam”. Otherwise return “ham”. Don’t return anything else.\n",
            "\n",
            "Message:\"Hi, the SEXYCHAT girls are waiting for you to text them. Text now for a great night chatting. send STOP to stop this service\"\n",
            "\n",
            "Your answer:\n",
            "spam\n",
            "576\n"
          ]
        },
        {
          "output_type": "stream",
          "name": "stderr",
          "text": [
            "Setting `pad_token_id` to `eos_token_id`:2 for open-end generation.\n"
          ]
        },
        {
          "output_type": "stream",
          "name": "stdout",
          "text": [
            "\n",
            "I have received a message. I want to identify whether it's spam or not.\n",
            "If message is spam return “spam”. Otherwise return “ham”. Don’t return anything else.\n",
            "\n",
            "Message:Thanks for the Vote. Now sing along with the stars with Karaoke on your mobile. For a FREE link just reply with SING now.\n",
            "\n",
            "Your answer:\n",
            "spam\n",
            "577\n"
          ]
        },
        {
          "output_type": "stream",
          "name": "stderr",
          "text": [
            "Setting `pad_token_id` to `eos_token_id`:2 for open-end generation.\n"
          ]
        },
        {
          "output_type": "stream",
          "name": "stdout",
          "text": [
            "\n",
            "I have received a message. I want to identify whether it's spam or not.\n",
            "If message is spam return “spam”. Otherwise return “ham”. Don’t return anything else.\n",
            "\n",
            "Message:FreeMsg Today's the day if you are ready! I'm horny & live in your town. I love sex fun & games! Netcollex Ltd 08700621170150p per msg reply Stop to end\n",
            "\n",
            "Your answer:\n",
            "spam\n",
            "578\n"
          ]
        },
        {
          "output_type": "stream",
          "name": "stderr",
          "text": [
            "Setting `pad_token_id` to `eos_token_id`:2 for open-end generation.\n"
          ]
        },
        {
          "output_type": "stream",
          "name": "stdout",
          "text": [
            "\n",
            "I have received a message. I want to identify whether it's spam or not.\n",
            "If message is spam return “spam”. Otherwise return “ham”. Don’t return anything else.\n",
            "\n",
            "Message:Hi I'm sue. I am 20 years old and work as a lapdancer. I love sex. Text me live - I'm i my bedroom now. text SUE to 89555. By TextOperator G2 1DA 150ppmsg 18+\n",
            "\n",
            "Your answer:\n",
            "spam\n",
            "579\n"
          ]
        },
        {
          "output_type": "stream",
          "name": "stderr",
          "text": [
            "Setting `pad_token_id` to `eos_token_id`:2 for open-end generation.\n"
          ]
        },
        {
          "output_type": "stream",
          "name": "stdout",
          "text": [
            "\n",
            "I have received a message. I want to identify whether it's spam or not.\n",
            "If message is spam return “spam”. Otherwise return “ham”. Don’t return anything else.\n",
            "\n",
            "Message:88066 FROM 88066 LOST 3POUND HELP\n",
            "\n",
            "Your answer:\n",
            "spam\n",
            "580\n"
          ]
        },
        {
          "output_type": "stream",
          "name": "stderr",
          "text": [
            "Setting `pad_token_id` to `eos_token_id`:2 for open-end generation.\n"
          ]
        },
        {
          "output_type": "stream",
          "name": "stdout",
          "text": [
            "\n",
            "I have received a message. I want to identify whether it's spam or not.\n",
            "If message is spam return “spam”. Otherwise return “ham”. Don’t return anything else.\n",
            "\n",
            "Message:\"This is the 2nd time we have tried 2 contact u. U have won the 750 Pound prize. 2 claim is easy, call 08718726970 NOW! Only 10p per min. BT-national-rate \"\n",
            "\n",
            "Your answer:\n",
            "spam\n",
            "581\n"
          ]
        },
        {
          "output_type": "stream",
          "name": "stderr",
          "text": [
            "Setting `pad_token_id` to `eos_token_id`:2 for open-end generation.\n"
          ]
        },
        {
          "output_type": "stream",
          "name": "stdout",
          "text": [
            "\n",
            "I have received a message. I want to identify whether it's spam or not.\n",
            "If message is spam return “spam”. Otherwise return “ham”. Don’t return anything else.\n",
            "\n",
            "Message:IMPORTANT INFORMATION 4 ORANGE USER 0796XXXXXX. TODAY IS UR LUCKY DAY!2 FIND OUT WHY LOG ONTO http://www.urawinner.com THERE'S A FANTASTIC PRIZEAWAITING YOU!\n",
            "\n",
            "Your answer:\n",
            "spam\n",
            "582\n"
          ]
        },
        {
          "output_type": "stream",
          "name": "stderr",
          "text": [
            "Setting `pad_token_id` to `eos_token_id`:2 for open-end generation.\n"
          ]
        },
        {
          "output_type": "stream",
          "name": "stdout",
          "text": [
            "\n",
            "I have received a message. I want to identify whether it's spam or not.\n",
            "If message is spam return “spam”. Otherwise return “ham”. Don’t return anything else.\n",
            "\n",
            "Message:Wanna have a laugh? Try CHIT-CHAT on your mobile now! Logon by txting the word: CHAT and send it to No: 8883 CM PO Box 4217 London W1A 6ZF 16+ 118p/msg rcvd\n",
            "\n",
            "Your answer:\n",
            "spam\n",
            "583\n"
          ]
        },
        {
          "output_type": "stream",
          "name": "stderr",
          "text": [
            "Setting `pad_token_id` to `eos_token_id`:2 for open-end generation.\n"
          ]
        },
        {
          "output_type": "stream",
          "name": "stdout",
          "text": [
            "\n",
            "I have received a message. I want to identify whether it's spam or not.\n",
            "If message is spam return “spam”. Otherwise return “ham”. Don’t return anything else.\n",
            "\n",
            "Message:18 days to Euro2004 kickoff! U will be kept informed of all the latest news and results daily. Unsubscribe send GET EURO STOP to 83222.\n",
            "\n",
            "Your answer:\n",
            "spam\n",
            "584\n"
          ]
        },
        {
          "output_type": "stream",
          "name": "stderr",
          "text": [
            "Setting `pad_token_id` to `eos_token_id`:2 for open-end generation.\n"
          ]
        },
        {
          "output_type": "stream",
          "name": "stdout",
          "text": [
            "\n",
            "I have received a message. I want to identify whether it's spam or not.\n",
            "If message is spam return “spam”. Otherwise return “ham”. Don’t return anything else.\n",
            "\n",
            "Message:Dear U've been invited to XCHAT. This is our final attempt to contact u! Txt CHAT to 86688\n",
            "\n",
            "Your answer:\n",
            "spam\n",
            "585\n"
          ]
        },
        {
          "output_type": "stream",
          "name": "stderr",
          "text": [
            "Setting `pad_token_id` to `eos_token_id`:2 for open-end generation.\n"
          ]
        },
        {
          "output_type": "stream",
          "name": "stdout",
          "text": [
            "\n",
            "I have received a message. I want to identify whether it's spam or not.\n",
            "If message is spam return “spam”. Otherwise return “ham”. Don’t return anything else.\n",
            "\n",
            "Message:You have 1 new message. Call 0207-083-6089\n",
            "\n",
            "Your answer:\n",
            "spam\n",
            "586\n"
          ]
        },
        {
          "output_type": "stream",
          "name": "stderr",
          "text": [
            "Setting `pad_token_id` to `eos_token_id`:2 for open-end generation.\n"
          ]
        },
        {
          "output_type": "stream",
          "name": "stdout",
          "text": [
            "\n",
            "I have received a message. I want to identify whether it's spam or not.\n",
            "If message is spam return “spam”. Otherwise return “ham”. Don’t return anything else.\n",
            "\n",
            "Message:Ur cash-balance is currently 500 pounds - to maximize ur cash-in now send GO to 86688 only 150p/msg. CC 08718720201 HG/Suite342/2Lands Row/W1J6HL\n",
            "\n",
            "Your answer:\n",
            "spam\n",
            "587\n"
          ]
        },
        {
          "output_type": "stream",
          "name": "stderr",
          "text": [
            "Setting `pad_token_id` to `eos_token_id`:2 for open-end generation.\n"
          ]
        },
        {
          "output_type": "stream",
          "name": "stdout",
          "text": [
            "\n",
            "I have received a message. I want to identify whether it's spam or not.\n",
            "If message is spam return “spam”. Otherwise return “ham”. Don’t return anything else.\n",
            "\n",
            "Message:December only! Had your mobile 11mths+? You are entitled to update to the latest colour camera mobile for Free! Call The Mobile Update VCo FREE on 08002986906\n",
            "\n",
            "Your answer:\n",
            "spam\n",
            "588\n"
          ]
        },
        {
          "output_type": "stream",
          "name": "stderr",
          "text": [
            "Setting `pad_token_id` to `eos_token_id`:2 for open-end generation.\n"
          ]
        },
        {
          "output_type": "stream",
          "name": "stdout",
          "text": [
            "\n",
            "I have received a message. I want to identify whether it's spam or not.\n",
            "If message is spam return “spam”. Otherwise return “ham”. Don’t return anything else.\n",
            "\n",
            "Message:\"0A$NETWORKS allow companies to bill for SMS, so they are responsible for their \\suppliers\\\"\"\"\n",
            "\n",
            "Your answer:\n",
            "spam\n",
            "589\n"
          ]
        },
        {
          "output_type": "stream",
          "name": "stderr",
          "text": [
            "Setting `pad_token_id` to `eos_token_id`:2 for open-end generation.\n"
          ]
        },
        {
          "output_type": "stream",
          "name": "stdout",
          "text": [
            "\n",
            "I have received a message. I want to identify whether it's spam or not.\n",
            "If message is spam return “spam”. Otherwise return “ham”. Don’t return anything else.\n",
            "\n",
            "Message:We currently have a message awaiting your collection. To collect your message just call 08718723815.\n",
            "\n",
            "Your answer:\n",
            "spam\n",
            "590\n"
          ]
        },
        {
          "output_type": "stream",
          "name": "stderr",
          "text": [
            "Setting `pad_token_id` to `eos_token_id`:2 for open-end generation.\n"
          ]
        },
        {
          "output_type": "stream",
          "name": "stdout",
          "text": [
            "\n",
            "I have received a message. I want to identify whether it's spam or not.\n",
            "If message is spam return “spam”. Otherwise return “ham”. Don’t return anything else.\n",
            "\n",
            "Message:\"Text82228>> Get more ringtones, logos and games from www.txt82228.com. Questions: info@txt82228.co.uk\"\n",
            "\n",
            "Your answer:\n",
            "spam\n",
            "591\n"
          ]
        },
        {
          "output_type": "stream",
          "name": "stderr",
          "text": [
            "Setting `pad_token_id` to `eos_token_id`:2 for open-end generation.\n"
          ]
        },
        {
          "output_type": "stream",
          "name": "stdout",
          "text": [
            "\n",
            "I have received a message. I want to identify whether it's spam or not.\n",
            "If message is spam return “spam”. Otherwise return “ham”. Don’t return anything else.\n",
            "\n",
            "Message:\"Dear Voucher Holder, To claim this weeks offer, at you PC please go to http://www.e-tlp.co.uk/expressoffer Ts&Cs apply. To stop texts, txt STOP to 80062\"\n",
            "\n",
            "Your answer:\n",
            "spam\n",
            "592\n"
          ]
        },
        {
          "output_type": "stream",
          "name": "stderr",
          "text": [
            "Setting `pad_token_id` to `eos_token_id`:2 for open-end generation.\n"
          ]
        },
        {
          "output_type": "stream",
          "name": "stdout",
          "text": [
            "\n",
            "I have received a message. I want to identify whether it's spam or not.\n",
            "If message is spam return “spam”. Otherwise return “ham”. Don’t return anything else.\n",
            "\n",
            "Message:Camera - You are awarded a SiPix Digital Camera! call 09061221066 fromm landline. Delivery within 28 days.\n",
            "\n",
            "Your answer:\n",
            "spam\n",
            "593\n"
          ]
        },
        {
          "output_type": "stream",
          "name": "stderr",
          "text": [
            "Setting `pad_token_id` to `eos_token_id`:2 for open-end generation.\n"
          ]
        },
        {
          "output_type": "stream",
          "name": "stdout",
          "text": [
            "\n",
            "I have received a message. I want to identify whether it's spam or not.\n",
            "If message is spam return “spam”. Otherwise return “ham”. Don’t return anything else.\n",
            "\n",
            "Message:\"Hottest pics straight to your phone!! See me getting Wet and Wanting, just for you xx Text PICS to 89555 now! txt costs 150p textoperator g696ga 18 XxX\"\n",
            "\n",
            "Your answer:\n",
            "spam\n",
            "594\n"
          ]
        },
        {
          "output_type": "stream",
          "name": "stderr",
          "text": [
            "Setting `pad_token_id` to `eos_token_id`:2 for open-end generation.\n"
          ]
        },
        {
          "output_type": "stream",
          "name": "stdout",
          "text": [
            "\n",
            "I have received a message. I want to identify whether it's spam or not.\n",
            "If message is spam return “spam”. Otherwise return “ham”. Don’t return anything else.\n",
            "\n",
            "Message:\"Hey Boys. Want hot XXX pics sent direct 2 ur phone? Txt PORN to 69855, 24Hrs free and then just 50p per day. To stop text STOPBCM SF WC1N3XX\"\n",
            "\n",
            "Your answer:\n",
            "spam\n",
            "595\n"
          ]
        },
        {
          "output_type": "stream",
          "name": "stderr",
          "text": [
            "Setting `pad_token_id` to `eos_token_id`:2 for open-end generation.\n"
          ]
        },
        {
          "output_type": "stream",
          "name": "stdout",
          "text": [
            "\n",
            "I have received a message. I want to identify whether it's spam or not.\n",
            "If message is spam return “spam”. Otherwise return “ham”. Don’t return anything else.\n",
            "\n",
            "Message:\"New Tones This week include: 1)McFly-All Ab.., 2) Sara Jorge-Shock.. 3) Will Smith-Switch.. To order follow instructions on next message\"\n",
            "\n",
            "Your answer:\n",
            "spam\n",
            "596\n"
          ]
        },
        {
          "output_type": "stream",
          "name": "stderr",
          "text": [
            "Setting `pad_token_id` to `eos_token_id`:2 for open-end generation.\n"
          ]
        },
        {
          "output_type": "stream",
          "name": "stdout",
          "text": [
            "\n",
            "I have received a message. I want to identify whether it's spam or not.\n",
            "If message is spam return “spam”. Otherwise return “ham”. Don’t return anything else.\n",
            "\n",
            "Message:You have an important customer service announcement from PREMIER.\n",
            "\n",
            "Your answer:\n",
            "spam\n",
            "597\n"
          ]
        },
        {
          "output_type": "stream",
          "name": "stderr",
          "text": [
            "Setting `pad_token_id` to `eos_token_id`:2 for open-end generation.\n"
          ]
        },
        {
          "output_type": "stream",
          "name": "stdout",
          "text": [
            "\n",
            "I have received a message. I want to identify whether it's spam or not.\n",
            "If message is spam return “spam”. Otherwise return “ham”. Don’t return anything else.\n",
            "\n",
            "Message:\"Congrats! 2 mobile 3G Videophones R yours. call 09061744553 now! videochat wid ur mates, play java games, Dload polyH music, noline rentl. bx420. ip4. 5we. 150pm\"\n",
            "\n",
            "Your answer:\n",
            "spam\n",
            "598\n"
          ]
        },
        {
          "output_type": "stream",
          "name": "stderr",
          "text": [
            "Setting `pad_token_id` to `eos_token_id`:2 for open-end generation.\n"
          ]
        },
        {
          "output_type": "stream",
          "name": "stdout",
          "text": [
            "\n",
            "I have received a message. I want to identify whether it's spam or not.\n",
            "If message is spam return “spam”. Otherwise return “ham”. Don’t return anything else.\n",
            "\n",
            "Message:Good Luck! Draw takes place 28th Feb 06. Good Luck! For removal send STOP to 87239 customer services 08708034412\n",
            "\n",
            "Your answer:\n",
            "spam\n",
            "599\n",
            "\n",
            "I have received a message. I want to identify whether it's spam or not.\n",
            "If message is spam return “spam”. Otherwise return “ham”. Don’t return anything else.\n",
            "\n",
            "Message:How come it takes so little time for a child who is afraid of the dark to become a teenager who wants to stay out all night?\n",
            "\n",
            "Your answer:\n",
            "spam\n"
          ]
        }
      ]
    },
    {
      "cell_type": "code",
      "source": [
        "#Process the output of LLM to calculate the evaulation metrics\n",
        "import re\n",
        "\n",
        "y_predicted_plain=[]\n",
        "for lable in Labels:\n",
        "  split_text = lable.split(\"Your answer:\", 1)\n",
        "  if \"spam\" in split_text[1]:\n",
        "    y_predicted_plain.append(1)\n",
        "  else:\n",
        "    y_predicted_plain.append(0)"
      ],
      "metadata": {
        "id": "PxP3WKzEjyWs"
      },
      "execution_count": null,
      "outputs": []
    },
    {
      "cell_type": "code",
      "source": [
        "from sklearn.metrics import f1_score, recall_score, precision_score, confusion_matrix\n",
        "import matplotlib.pyplot as plt\n",
        "import seaborn as sns\n",
        "\n",
        "y_test=test_data[\"flag\"].tolist()\n",
        "# Assuming y_pred and y_test are your predicted and actual labels respectively\n",
        "y_pred=y_predicted_plain\n",
        "# Calculate evaluation metrics\n",
        "f1 = f1_score(y_test, y_pred)\n",
        "recall = recall_score(y_test, y_pred)\n",
        "precision = precision_score(y_test, y_pred)\n",
        "\n",
        "print(f\"F1 Score: {f1}\")\n",
        "print(f\"Recall: {recall}\")\n",
        "print(f\"Precision: {precision}\")\n",
        "\n",
        "# Plot confusion matrix\n",
        "cm = confusion_matrix(y_test, y_pred)\n",
        "plt.figure(figsize=(8, 6))\n",
        "sns.heatmap(cm, annot=True, fmt='d', cmap='Blues', cbar=False)\n",
        "plt.xlabel('Predicted Labels')\n",
        "plt.ylabel('True Labels')\n",
        "plt.title('Confusion Matrix')\n",
        "plt.show()"
      ],
      "metadata": {
        "colab": {
          "base_uri": "https://localhost:8080/",
          "height": 618
        },
        "id": "t_foPAGWkDII",
        "outputId": "e51dc4b6-569f-45d9-8c63-2af2e6cbd855"
      },
      "execution_count": null,
      "outputs": [
        {
          "output_type": "stream",
          "name": "stdout",
          "text": [
            "F1 Score: 0.5063291139240507\n",
            "Recall: 1.0\n",
            "Precision: 0.3389830508474576\n"
          ]
        },
        {
          "output_type": "display_data",
          "data": {
            "text/plain": [
              "<Figure size 800x600 with 1 Axes>"
            ],
            "image/png": "[encoded data removed]"
          },
          "metadata": {}
        }
      ]
    },
    {
      "cell_type": "markdown",
      "source": [
        "### Finetuned LLM"
      ],
      "metadata": {
        "id": "aewyrZopM_Pj"
      }
    },
    {
      "cell_type": "code",
      "source": [
        "#Load training data to finetune our model\n",
        "import pandas as pd\n",
        "train_data=pd.read_csv(\"train_data.csv\")"
      ],
      "metadata": {
        "id": "Ybh0WADvruzj"
      },
      "execution_count": null,
      "outputs": []
    },
    {
      "cell_type": "code",
      "source": [
        "#Convert numerical values to categorical values\n",
        "train_data['flag'] = train_data['flag'].map({0: 'this is ham', 1: 'this is spam'})\n",
        "train_data.to_csv(\"clean.csv\")"
      ],
      "metadata": {
        "id": "gQvmODv2stGO"
      },
      "execution_count": null,
      "outputs": []
    },
    {
      "cell_type": "code",
      "source": [
        "# To finetune LLMs data needs to be in jsonl format. Convert our data to jsonl format\n",
        "import csv\n",
        "import json\n",
        "\n",
        "def csv_to_jsonl(csv_file, jsonl_file):\n",
        "    with open(csv_file, 'r') as file:\n",
        "        reader = csv.DictReader(file)\n",
        "\n",
        "        with open(jsonl_file, 'w') as jsonl:\n",
        "            for row in reader:\n",
        "                jsonl.write(json.dumps(row) + '\\n')"
      ],
      "metadata": {
        "id": "hapd7ytdzmGn"
      },
      "execution_count": null,
      "outputs": []
    },
    {
      "cell_type": "code",
      "source": [
        "#Call the function\n",
        "csv_to_jsonl('clean.csv', 'final_all.jsonl')"
      ],
      "metadata": {
        "id": "fGqUc3Q8znUu"
      },
      "execution_count": null,
      "outputs": []
    },
    {
      "cell_type": "code",
      "source": [
        "# You only need to run this once per machine\n",
        "!pip install -q -U bitsandbytes\n",
        "!pip install -q -U git+https://github.com/huggingface/transformers.git\n",
        "!pip install -q -U git+https://github.com/huggingface/peft.git\n",
        "!pip install -q -U git+https://github.com/huggingface/accelerate.git\n",
        "!pip install -q -U datasets scipy ipywidgets matplotlib"
      ],
      "metadata": {
        "colab": {
          "base_uri": "https://localhost:8080/"
        },
        "id": "4LopmOm0twhm",
        "outputId": "58035722-b709-4894-dfcb-3d6db425abfd"
      },
      "execution_count": null,
      "outputs": [
        {
          "output_type": "stream",
          "name": "stdout",
          "text": [
            "\u001b[2K     \u001b[90m━━━━━━━━━━━━━━━━━━━━━━━━━━━━━━━━━━━━━━━━\u001b[0m \u001b[32m92.6/92.6 MB\u001b[0m \u001b[31m8.5 MB/s\u001b[0m eta \u001b[36m0:00:00\u001b[0m\n",
            "\u001b[?25h  Installing build dependencies ... \u001b[?25l\u001b[?25hdone\n",
            "  Getting requirements to build wheel ... \u001b[?25l\u001b[?25hdone\n",
            "  Preparing metadata (pyproject.toml) ... \u001b[?25l\u001b[?25hdone\n",
            "  Building wheel for transformers (pyproject.toml) ... \u001b[?25l\u001b[?25hdone\n",
            "  Installing build dependencies ... \u001b[?25l\u001b[?25hdone\n",
            "  Getting requirements to build wheel ... \u001b[?25l\u001b[?25hdone\n",
            "  Preparing metadata (pyproject.toml) ... \u001b[?25l\u001b[?25hdone\n",
            "\u001b[2K     \u001b[90m━━━━━━━━━━━━━━━━━━━━━━━━━━━━━━━━━━━━━━━━\u001b[0m \u001b[32m265.7/265.7 kB\u001b[0m \u001b[31m5.1 MB/s\u001b[0m eta \u001b[36m0:00:00\u001b[0m\n",
            "\u001b[?25h  Building wheel for peft (pyproject.toml) ... \u001b[?25l\u001b[?25hdone\n",
            "  Installing build dependencies ... \u001b[?25l\u001b[?25hdone\n",
            "  Getting requirements to build wheel ... \u001b[?25l\u001b[?25hdone\n",
            "  Preparing metadata (pyproject.toml) ... \u001b[?25l\u001b[?25hdone\n",
            "  Building wheel for accelerate (pyproject.toml) ... \u001b[?25l\u001b[?25hdone\n",
            "\u001b[2K     \u001b[90m━━━━━━━━━━━━━━━━━━━━━━━━━━━━━━━━━━━━━━━━\u001b[0m \u001b[32m507.1/507.1 kB\u001b[0m \u001b[31m6.9 MB/s\u001b[0m eta \u001b[36m0:00:00\u001b[0m\n",
            "\u001b[2K     \u001b[90m━━━━━━━━━━━━━━━━━━━━━━━━━━━━━━━━━━━━━━━━\u001b[0m \u001b[32m139.4/139.4 kB\u001b[0m \u001b[31m8.3 MB/s\u001b[0m eta \u001b[36m0:00:00\u001b[0m\n",
            "\u001b[2K     \u001b[90m━━━━━━━━━━━━━━━━━━━━━━━━━━━━━━━━━━━━━━━━\u001b[0m \u001b[32m11.6/11.6 MB\u001b[0m \u001b[31m51.7 MB/s\u001b[0m eta \u001b[36m0:00:00\u001b[0m\n",
            "\u001b[2K     \u001b[90m━━━━━━━━━━━━━━━━━━━━━━━━━━━━━━━━━━━━━━━━\u001b[0m \u001b[32m115.3/115.3 kB\u001b[0m \u001b[31m14.8 MB/s\u001b[0m eta \u001b[36m0:00:00\u001b[0m\n",
            "\u001b[2K     \u001b[90m━━━━━━━━━━━━━━━━━━━━━━━━━━━━━━━━━━━━━━━━\u001b[0m \u001b[32m134.8/134.8 kB\u001b[0m \u001b[31m11.3 MB/s\u001b[0m eta \u001b[36m0:00:00\u001b[0m\n",
            "\u001b[2K     \u001b[90m━━━━━━━━━━━━━━━━━━━━━━━━━━━━━━━━━━━━━━━━\u001b[0m \u001b[32m2.3/2.3 MB\u001b[0m \u001b[31m80.0 MB/s\u001b[0m eta \u001b[36m0:00:00\u001b[0m\n",
            "\u001b[2K     \u001b[90m━━━━━━━━━━━━━━━━━━━━━━━━━━━━━━━━━━━━━━━━\u001b[0m \u001b[32m1.6/1.6 MB\u001b[0m \u001b[31m78.1 MB/s\u001b[0m eta \u001b[36m0:00:00\u001b[0m\n",
            "\u001b[?25h\u001b[31mERROR: pip's dependency resolver does not currently take into account all the packages that are installed. This behaviour is the source of the following dependency conflicts.\n",
            "lida 0.0.10 requires fastapi, which is not installed.\n",
            "lida 0.0.10 requires kaleido, which is not installed.\n",
            "lida 0.0.10 requires python-multipart, which is not installed.\n",
            "lida 0.0.10 requires uvicorn, which is not installed.\u001b[0m\u001b[31m\n",
            "\u001b[0m"
          ]
        }
      ]
    },
    {
      "cell_type": "code",
      "source": [
        "with open('final_all.jsonl', 'r') as file:\n",
        "    lines = file.readlines()\n",
        "\n",
        "# Splitting the data into training and evaluation sets (e.g., 80% for training and 20% for evaluation)\n",
        "split_index = int(len(lines) * 0.8)  # Adjust the percentage as needed\n",
        "train_data = lines[:split_index]\n",
        "eval_data = lines[split_index:]\n",
        "\n",
        "# Writing training data to a new JSONL file\n",
        "with open('train_data.jsonl', 'w') as train_file:\n",
        "    train_file.writelines(train_data)\n",
        "\n",
        "# Writing evaluation data to a new JSONL file\n",
        "with open('eval_data.jsonl', 'w') as eval_file:\n",
        "    eval_file.writelines(eval_data)"
      ],
      "metadata": {
        "id": "Li4SryjBu4u5"
      },
      "execution_count": null,
      "outputs": []
    },
    {
      "cell_type": "code",
      "source": [
        "#Load train and eval sets\n",
        "from datasets import load_dataset\n",
        "\n",
        "train_dataset = load_dataset('json', data_files='train_data.jsonl',split=\"train\")\n",
        "eval_dataset = load_dataset('json', data_files='eval_data.jsonl',split=\"train\")"
      ],
      "metadata": {
        "id": "NfAFEY-huHZn"
      },
      "execution_count": null,
      "outputs": []
    },
    {
      "cell_type": "code",
      "source": [
        "#Create a formatting_func to structure training examples as prompts.\n",
        "def formatting_func(example):\n",
        "    text = f\"### Email Messsage: {example['message']}\\n ### Category of message: {example['flag']}\"\n",
        "    return text"
      ],
      "metadata": {
        "id": "LfIoz5_Xz1-_"
      },
      "execution_count": null,
      "outputs": []
    },
    {
      "cell_type": "code",
      "source": [
        "#Let's now load Mistral - mistralai/Mistral-7B-v0.1 - using 4-bit quantization!\n",
        "import torch\n",
        "from transformers import AutoTokenizer, AutoModelForCausalLM, BitsAndBytesConfig\n",
        "\n",
        "base_model_id = \"mistralai/Mistral-7B-Instruct-v0.1\"\n",
        "bnb_config = BitsAndBytesConfig(\n",
        "    load_in_4bit=True,\n",
        "    bnb_4bit_use_double_quant=True,\n",
        "    bnb_4bit_quant_type=\"nf4\",\n",
        "    bnb_4bit_compute_dtype=torch.bfloat16\n",
        ")\n",
        "\n",
        "model = AutoModelForCausalLM.from_pretrained(base_model_id, quantization_config=bnb_config)"
      ],
      "metadata": {
        "id": "1Ei3weg_0Byv"
      },
      "execution_count": null,
      "outputs": []
    },
    {
      "cell_type": "markdown",
      "source": [
        "Support for third party widgets will remain active for the duration of the session. To disable support:"
      ],
      "metadata": {
        "id": "YSIFIK9xg1Gz"
      }
    },
    {
      "cell_type": "code",
      "source": [
        "from google.colab import output\n",
        "output.disable_custom_widget_manager()"
      ],
      "metadata": {
        "id": "UXlfMlcOg1Gz"
      },
      "execution_count": null,
      "outputs": []
    },
    {
      "cell_type": "code",
      "source": [
        "#Set up the tokenizer. Add padding on the left as it makes training use less memory.\n",
        "\n",
        "tokenizer = AutoTokenizer.from_pretrained(\n",
        "    base_model_id,\n",
        "    padding_side=\"left\",\n",
        "    add_eos_token=True,\n",
        "    add_bos_token=True,\n",
        ")\n",
        "tokenizer.pad_token = tokenizer.eos_token\n",
        "\n",
        "def generate_and_tokenize_prompt(prompt):\n",
        "    return tokenizer(formatting_func(prompt))"
      ],
      "metadata": {
        "id": "gkGC3R400g4k"
      },
      "execution_count": null,
      "outputs": []
    },
    {
      "cell_type": "code",
      "source": [
        "#Reformat the prompt and tokenize each sample:\n",
        "tokenized_train_dataset = train_dataset.map(generate_and_tokenize_prompt)\n",
        "tokenized_val_dataset = eval_dataset.map(generate_and_tokenize_prompt)"
      ],
      "metadata": {
        "colab": {
          "base_uri": "https://localhost:8080/",
          "height": 49,
          "referenced_widgets": [
            "a637e6cb3f9c43aaae2b186399d9b931",
            "bbaf6d2fe1a6458e931f2fa28aa3e241",
            "4d5b5da03f5e480b9db30e827f35e3b0",
            "f0b7d7e1704e4ac09751bd78bd8497fd",
            "9ed6d5c0c4fc4265a69cd414269a976e",
            "6ae4ce2fb65645ad90e2375f9a2155b1",
            "1271b72449344af6b8256e87c1baf14f",
            "622896cbc82445fd8c239c1ae2384f00",
            "4980fd8948a74b50ad24b31b68c3de96",
            "6dd09370df3248eca050c03f453d5b5b",
            "fd1d0a4e200a4b108abcdaa734acb96c"
          ]
        },
        "id": "3r9Rr6_C0h-n",
        "outputId": "d3b147d6-6c47-4162-cf83-b3586582f1b3"
      },
      "execution_count": null,
      "outputs": [
        {
          "output_type": "display_data",
          "data": {
            "text/plain": [
              "Map:   0%|          | 0/4073 [00:00<?, ? examples/s]"
            ],
            "application/vnd.jupyter.widget-view+json": {
              "version_major": 2,
              "version_minor": 0,
              "model_id": "a637e6cb3f9c43aaae2b186399d9b931"
            }
          },
          "metadata": {}
        }
      ]
    },
    {
      "cell_type": "code",
      "source": [
        "#Now let's tokenize again with padding and truncation,\n",
        "#and set up the tokenize function to make labels and input_ids the same.\n",
        "max_length = 512 # This was an appropriate max length for our dataset\n",
        "\n",
        "def generate_and_tokenize_prompt2(prompt):\n",
        "    result = tokenizer(\n",
        "        formatting_func(prompt),\n",
        "        truncation=True,\n",
        "        max_length=max_length,\n",
        "        padding=\"max_length\",\n",
        "    )\n",
        "    result[\"labels\"] = result[\"input_ids\"].copy()\n",
        "    return result"
      ],
      "metadata": {
        "id": "_aPZqXyu0vY9"
      },
      "execution_count": null,
      "outputs": []
    },
    {
      "cell_type": "code",
      "source": [
        "#Reformat the prompt and tokenize each sample:\n",
        "tokenized_train_dataset = train_dataset.map(generate_and_tokenize_prompt2)\n",
        "tokenized_val_dataset = eval_dataset.map(generate_and_tokenize_prompt2)"
      ],
      "metadata": {
        "colab": {
          "base_uri": "https://localhost:8080/",
          "height": 49,
          "referenced_widgets": [
            "3fdbb0a461054f2a89e79d74610018f2",
            "803092f349d34fe496e960cf4dedea63",
            "c16c29460cc941b09f7e7c265faa3987",
            "7c8850840bf84002a570b559e71b0faf",
            "3ebe4ce8cf584c6fa9f0630f2c2d6a26",
            "20ab4b7f200144ab94fbed48603e33f6",
            "67d1800e4107488c8792ef35af69696e",
            "62f06fc301354d89800c085c46b5a3b4",
            "fbafa1817ea44e57b222dd09b56cd299",
            "7042333a8bd4453ab00580cd80abf897",
            "98be9c648ee74c1cbefacdb4b72fe0e3"
          ]
        },
        "id": "6md_4wva00Ac",
        "outputId": "4dd7af10-7f87-4872-8005-bfcea078cfd7"
      },
      "execution_count": null,
      "outputs": [
        {
          "output_type": "display_data",
          "data": {
            "text/plain": [
              "Map:   0%|          | 0/1019 [00:00<?, ? examples/s]"
            ],
            "application/vnd.jupyter.widget-view+json": {
              "version_major": 2,
              "version_minor": 0,
              "model_id": "3fdbb0a461054f2a89e79d74610018f2"
            }
          },
          "metadata": {}
        }
      ]
    },
    {
      "cell_type": "code",
      "source": [
        "#Now all the samples should be the same length, max_length.\n",
        "plot_data_lengths(tokenized_train_dataset, tokenized_val_dataset)"
      ],
      "metadata": {
        "colab": {
          "base_uri": "https://localhost:8080/",
          "height": 582
        },
        "id": "R_UA77dK04Kw",
        "outputId": "b4cc20e0-0bcc-46c9-d20c-35a006fae156"
      },
      "execution_count": null,
      "outputs": [
        {
          "output_type": "stream",
          "name": "stdout",
          "text": [
            "5092\n"
          ]
        },
        {
          "output_type": "display_data",
          "data": {
            "text/plain": [
              "<Figure size 1000x600 with 1 Axes>"
            ],
            "image/png": "[encoded data removed]"
          },
          "metadata": {}
        }
      ]
    },
    {
      "cell_type": "code",
      "source": [
        "#Set up LoRa\n",
        "#Now, to start our fine-tuning, we have to apply some preprocessing to the model to prepare it for training.\n",
        "#For that use the prepare_model_for_kbit_training method from PEFT.\n",
        "from peft import prepare_model_for_kbit_training\n",
        "\n",
        "model.gradient_checkpointing_enable()\n",
        "model = prepare_model_for_kbit_training(model)"
      ],
      "metadata": {
        "id": "P8t_m9tq1dp9"
      },
      "execution_count": null,
      "outputs": []
    },
    {
      "cell_type": "code",
      "source": [
        "def print_trainable_parameters(model):\n",
        "    \"\"\"\n",
        "    Prints the number of trainable parameters in the model.\n",
        "    \"\"\"\n",
        "    trainable_params = 0\n",
        "    all_param = 0\n",
        "    for _, param in model.named_parameters():\n",
        "        all_param += param.numel()\n",
        "        if param.requires_grad:\n",
        "            trainable_params += param.numel()\n",
        "    print(\n",
        "        f\"trainable params: {trainable_params} || all params: {all_param} || trainable%: {100 * trainable_params / all_param}\"\n",
        "    )"
      ],
      "metadata": {
        "id": "-p_3CdSi1esW"
      },
      "execution_count": null,
      "outputs": []
    },
    {
      "cell_type": "code",
      "source": [
        "#Let's print the model to examine its layers, as we will apply QLoRA to all the linear layers of the model.\n",
        "#Those layers are q_proj, k_proj, v_proj, o_proj, gate_proj, up_proj, down_proj, and lm_head.\n",
        "print(model)"
      ],
      "metadata": {
        "colab": {
          "base_uri": "https://localhost:8080/"
        },
        "id": "74RgbPuE1iCr",
        "outputId": "55ff8217-a2ef-4069-830c-8b598e48cf3a"
      },
      "execution_count": null,
      "outputs": [
        {
          "output_type": "stream",
          "name": "stdout",
          "text": [
            "MistralForCausalLM(\n",
            "  (model): MistralModel(\n",
            "    (embed_tokens): Embedding(32000, 4096)\n",
            "    (layers): ModuleList(\n",
            "      (0-31): 32 x MistralDecoderLayer(\n",
            "        (self_attn): MistralAttention(\n",
            "          (q_proj): Linear4bit(in_features=4096, out_features=4096, bias=False)\n",
            "          (k_proj): Linear4bit(in_features=4096, out_features=1024, bias=False)\n",
            "          (v_proj): Linear4bit(in_features=4096, out_features=1024, bias=False)\n",
            "          (o_proj): Linear4bit(in_features=4096, out_features=4096, bias=False)\n",
            "          (rotary_emb): MistralRotaryEmbedding()\n",
            "        )\n",
            "        (mlp): MistralMLP(\n",
            "          (gate_proj): Linear4bit(in_features=4096, out_features=14336, bias=False)\n",
            "          (up_proj): Linear4bit(in_features=4096, out_features=14336, bias=False)\n",
            "          (down_proj): Linear4bit(in_features=14336, out_features=4096, bias=False)\n",
            "          (act_fn): SiLU()\n",
            "        )\n",
            "        (input_layernorm): MistralRMSNorm()\n",
            "        (post_attention_layernorm): MistralRMSNorm()\n",
            "      )\n",
            "    )\n",
            "    (norm): MistralRMSNorm()\n",
            "  )\n",
            "  (lm_head): Linear(in_features=4096, out_features=32000, bias=False)\n",
            ")\n"
          ]
        }
      ]
    },
    {
      "cell_type": "code",
      "source": [
        "\"\"\"\n",
        "Here we define the LoRA config.\n",
        "\n",
        "r is the rank of the low-rank matrix used in the adapters, which thus controls the number of parameters trained.\n",
        "A higher rank will allow for more expressivity, but there is a compute tradeoff.\n",
        "\n",
        "alpha is the scaling factor for the learned weights. The weight matrix is scaled by alpha/r,\n",
        " and thus a higher value for alpha assigns more weight to the LoRA activations.\n",
        "\n",
        "we will use r=32 and lora_alpha=64 so that we have more emphasis on the new fine-tuned\n",
        "data while also reducing computational complexity.\n",
        "\"\"\"\n",
        "from peft import LoraConfig, get_peft_model\n",
        "\n",
        "config = LoraConfig(\n",
        "    r=32,\n",
        "    lora_alpha=64,\n",
        "    target_modules=[\n",
        "        \"q_proj\",\n",
        "        \"k_proj\",\n",
        "        \"v_proj\",\n",
        "        \"o_proj\",\n",
        "        \"gate_proj\",\n",
        "        \"up_proj\",\n",
        "        \"down_proj\",\n",
        "        \"lm_head\",\n",
        "    ],\n",
        "    bias=\"none\",\n",
        "    lora_dropout=0.05,  # Conventional\n",
        "    task_type=\"CAUSAL_LM\",\n",
        ")\n",
        "\n",
        "model = get_peft_model(model, config)\n",
        "print_trainable_parameters(model)"
      ],
      "metadata": {
        "colab": {
          "base_uri": "https://localhost:8080/"
        },
        "id": "SE3KmPWA1j32",
        "outputId": "b1ef0785-9615-4da7-c7e1-7bfd6ea628c8"
      },
      "execution_count": null,
      "outputs": [
        {
          "output_type": "stream",
          "name": "stdout",
          "text": [
            "trainable params: 85041152 || all params: 3837112320 || trainable%: 2.2162799758751914\n"
          ]
        }
      ]
    },
    {
      "cell_type": "code",
      "source": [
        "#Set up the Accelerator. I'm not sure if we really need this for a QLoRA but it seems it can't hurt\n",
        "#You can always comment out the accelerator if you want to try without.\n",
        "from accelerate import FullyShardedDataParallelPlugin, Accelerator\n",
        "from torch.distributed.fsdp.fully_sharded_data_parallel import FullOptimStateDictConfig, FullStateDictConfig\n",
        "\n",
        "fsdp_plugin = FullyShardedDataParallelPlugin(\n",
        "    state_dict_config=FullStateDictConfig(offload_to_cpu=True, rank0_only=False),\n",
        "    optim_state_dict_config=FullOptimStateDictConfig(offload_to_cpu=True, rank0_only=False),\n",
        ")\n",
        "\n",
        "accelerator = Accelerator(fsdp_plugin=fsdp_plugin)"
      ],
      "metadata": {
        "id": "s8Fjc0uF1oY9"
      },
      "execution_count": null,
      "outputs": []
    },
    {
      "cell_type": "code",
      "source": [
        "model = accelerator.prepare_model(model)"
      ],
      "metadata": {
        "id": "ze8Yx-eK1rif"
      },
      "execution_count": null,
      "outputs": []
    },
    {
      "cell_type": "markdown",
      "source": [
        "I used 500 training steps, and I was fine with overfitting in this case. I found that the end product worked well. It took about 3 hours on the 1x A100G 24GB.\n",
        "\n",
        "Overfitting is when the validation loss goes up (bad) while the training loss goes down significantly, meaning the model is learning the training set really well, but is unable to generalize to new datapoints. In most cases, this is not desired, but since I am just playing around with a model to generate outputs like my journal entries, I was fine with a moderate amount of overfitting.\n",
        "\n",
        "With that said, a note on training: you can set the max_steps to be high initially, and examine at what step your model's performance starts to degrade. There is where you'll find a sweet spot for how many steps to perform. For example, say you start with 1000 steps, and find that at around 500 steps the model starts overfitting, as described above. Therefore, 500 steps would be your sweet spot, so you would use the checkpoint-500 model repo in your output dir (mistral-journal-finetune) as your final model in step 6 below.\n",
        "\n",
        "\n",
        "You can interrupt the process via Kernel -> Interrupt Kernel in the top nav bar once you realize you didn't need to train anymore."
      ],
      "metadata": {
        "id": "-nDad0fDZHdN"
      }
    },
    {
      "cell_type": "code",
      "source": [
        "if torch.cuda.device_count() > 1: # If more than 1 GPU\n",
        "    model.is_parallelizable = True\n",
        "    model.model_parallel = True"
      ],
      "metadata": {
        "id": "kzWdupCd1twM"
      },
      "execution_count": null,
      "outputs": []
    },
    {
      "cell_type": "code",
      "source": [
        "import transformers\n",
        "from datetime import datetime\n",
        "\n",
        "project = \"journal-finetune\"\n",
        "base_model_name = \"mistral\"\n",
        "run_name = base_model_name + \"-\" + project\n",
        "output_dir = \"./\" + run_name\n",
        "\n",
        "trainer = transformers.Trainer(\n",
        "    model=model,\n",
        "    train_dataset=tokenized_train_dataset,\n",
        "    eval_dataset=tokenized_val_dataset,\n",
        "    args=transformers.TrainingArguments(\n",
        "        output_dir=output_dir,\n",
        "        warmup_steps=1,\n",
        "        per_device_train_batch_size=2,\n",
        "        gradient_accumulation_steps=1,\n",
        "        gradient_checkpointing=True,\n",
        "        max_steps=500,\n",
        "        learning_rate=2.5e-5, # Want a small lr for finetuning\n",
        "        bf16=False,\n",
        "        optim=\"paged_adamw_8bit\",\n",
        "        logging_steps=25,              # When to start reporting loss\n",
        "        logging_dir=\"./logs\",        # Directory for storing logs\n",
        "        save_strategy=\"steps\",       # Save the model checkpoint every logging step\n",
        "        save_steps=25,                # Save checkpoints every 50 steps\n",
        "        evaluation_strategy=\"steps\", # Evaluate the model every logging step\n",
        "        eval_steps=25,               # Evaluate and save checkpoints every 50 steps\n",
        "        do_eval=True,                # Perform evaluation at the end of training\n",
        "        run_name=f\"{run_name}-{datetime.now().strftime('%Y-%m-%d-%H-%M')}\"          # Name of the W&B run (optional)\n",
        "    ),\n",
        "    data_collator=transformers.DataCollatorForLanguageModeling(tokenizer, mlm=False),\n",
        ")\n",
        "\n",
        "model.config.use_cache = False  # silence the warnings. Please re-enable for inference!\n",
        "trainer.train()"
      ],
      "metadata": {
        "colab": {
          "base_uri": "https://localhost:8080/",
          "height": 1000
        },
        "id": "GjYvxbVm116T",
        "outputId": "bd16af3d-1cbe-4508-a1b6-0235c5d0c1f9"
      },
      "execution_count": null,
      "outputs": [
        {
          "output_type": "stream",
          "name": "stderr",
          "text": [
            "You're using a LlamaTokenizerFast tokenizer. Please note that with a fast tokenizer, using the `__call__` method is faster than using a method to encode the text followed by a call to the `pad` method to get a padded encoding.\n",
            "/usr/local/lib/python3.10/dist-packages/torch/utils/checkpoint.py:429: UserWarning: torch.utils.checkpoint: please pass in use_reentrant=True or use_reentrant=False explicitly. The default value of use_reentrant will be updated to be False in the future. To maintain current behavior, pass use_reentrant=True. It is recommended that you use use_reentrant=False. Refer to docs for more details on the differences between the two variants.\n",
            "  warnings.warn(\n"
          ]
        },
        {
          "output_type": "display_data",
          "data": {
            "text/plain": [
              "<IPython.core.display.HTML object>"
            ],
            "text/html": [
              "\n",
              "    <div>\n",
              "      \n",
              "      <progress value='184' max='500' style='width:300px; height:20px; vertical-align: middle;'></progress>\n",
              "      [184/500 1:21:14 < 2:21:04, 0.04 it/s, Epoch 0.09/1]\n",
              "    </div>\n",
              "    <table border=\"1\" class=\"dataframe\">\n",
              "  <thead>\n",
              " <tr style=\"text-align: left;\">\n",
              "      <th>Step</th>\n",
              "      <th>Training Loss</th>\n",
              "      <th>Validation Loss</th>\n",
              "    </tr>\n",
              "  </thead>\n",
              "  <tbody>\n",
              "    <tr>\n",
              "      <td>25</td>\n",
              "      <td>3.470000</td>\n",
              "      <td>2.863924</td>\n",
              "    </tr>\n",
              "    <tr>\n",
              "      <td>50</td>\n",
              "      <td>2.270500</td>\n",
              "      <td>2.647786</td>\n",
              "    </tr>\n",
              "    <tr>\n",
              "      <td>75</td>\n",
              "      <td>2.263500</td>\n",
              "      <td>2.603988</td>\n",
              "    </tr>\n",
              "    <tr>\n",
              "      <td>100</td>\n",
              "      <td>2.246900</td>\n",
              "      <td>2.594951</td>\n",
              "    </tr>\n",
              "    <tr>\n",
              "      <td>125</td>\n",
              "      <td>2.261800</td>\n",
              "      <td>2.579792</td>\n",
              "    </tr>\n",
              "    <tr>\n",
              "      <td>150</td>\n",
              "      <td>2.091400</td>\n",
              "      <td>2.600681</td>\n",
              "    </tr>\n",
              "    <tr>\n",
              "      <td>175</td>\n",
              "      <td>1.906400</td>\n",
              "      <td>2.567458</td>\n",
              "    </tr>\n",
              "  </tbody>\n",
              "</table><p>"
            ]
          },
          "metadata": {}
        },
        {
          "output_type": "stream",
          "name": "stderr",
          "text": [
            "/usr/local/lib/python3.10/dist-packages/peft/utils/save_and_load.py:131: UserWarning: Setting `save_embedding_layers` to `True` as embedding layers found in `target_modules`.\n",
            "  warnings.warn(\"Setting `save_embedding_layers` to `True` as embedding layers found in `target_modules`.\")\n",
            "/usr/local/lib/python3.10/dist-packages/torch/utils/checkpoint.py:429: UserWarning: torch.utils.checkpoint: please pass in use_reentrant=True or use_reentrant=False explicitly. The default value of use_reentrant will be updated to be False in the future. To maintain current behavior, pass use_reentrant=True. It is recommended that you use use_reentrant=False. Refer to docs for more details on the differences between the two variants.\n",
            "  warnings.warn(\n",
            "/usr/local/lib/python3.10/dist-packages/peft/utils/save_and_load.py:131: UserWarning: Setting `save_embedding_layers` to `True` as embedding layers found in `target_modules`.\n",
            "  warnings.warn(\"Setting `save_embedding_layers` to `True` as embedding layers found in `target_modules`.\")\n",
            "/usr/local/lib/python3.10/dist-packages/torch/utils/checkpoint.py:429: UserWarning: torch.utils.checkpoint: please pass in use_reentrant=True or use_reentrant=False explicitly. The default value of use_reentrant will be updated to be False in the future. To maintain current behavior, pass use_reentrant=True. It is recommended that you use use_reentrant=False. Refer to docs for more details on the differences between the two variants.\n",
            "  warnings.warn(\n",
            "/usr/local/lib/python3.10/dist-packages/peft/utils/save_and_load.py:131: UserWarning: Setting `save_embedding_layers` to `True` as embedding layers found in `target_modules`.\n",
            "  warnings.warn(\"Setting `save_embedding_layers` to `True` as embedding layers found in `target_modules`.\")\n",
            "/usr/local/lib/python3.10/dist-packages/torch/utils/checkpoint.py:429: UserWarning: torch.utils.checkpoint: please pass in use_reentrant=True or use_reentrant=False explicitly. The default value of use_reentrant will be updated to be False in the future. To maintain current behavior, pass use_reentrant=True. It is recommended that you use use_reentrant=False. Refer to docs for more details on the differences between the two variants.\n",
            "  warnings.warn(\n",
            "/usr/local/lib/python3.10/dist-packages/peft/utils/save_and_load.py:131: UserWarning: Setting `save_embedding_layers` to `True` as embedding layers found in `target_modules`.\n",
            "  warnings.warn(\"Setting `save_embedding_layers` to `True` as embedding layers found in `target_modules`.\")\n",
            "/usr/local/lib/python3.10/dist-packages/torch/utils/checkpoint.py:429: UserWarning: torch.utils.checkpoint: please pass in use_reentrant=True or use_reentrant=False explicitly. The default value of use_reentrant will be updated to be False in the future. To maintain current behavior, pass use_reentrant=True. It is recommended that you use use_reentrant=False. Refer to docs for more details on the differences between the two variants.\n",
            "  warnings.warn(\n",
            "/usr/local/lib/python3.10/dist-packages/peft/utils/save_and_load.py:131: UserWarning: Setting `save_embedding_layers` to `True` as embedding layers found in `target_modules`.\n",
            "  warnings.warn(\"Setting `save_embedding_layers` to `True` as embedding layers found in `target_modules`.\")\n",
            "/usr/local/lib/python3.10/dist-packages/torch/utils/checkpoint.py:429: UserWarning: torch.utils.checkpoint: please pass in use_reentrant=True or use_reentrant=False explicitly. The default value of use_reentrant will be updated to be False in the future. To maintain current behavior, pass use_reentrant=True. It is recommended that you use use_reentrant=False. Refer to docs for more details on the differences between the two variants.\n",
            "  warnings.warn(\n",
            "/usr/local/lib/python3.10/dist-packages/peft/utils/save_and_load.py:131: UserWarning: Setting `save_embedding_layers` to `True` as embedding layers found in `target_modules`.\n",
            "  warnings.warn(\"Setting `save_embedding_layers` to `True` as embedding layers found in `target_modules`.\")\n",
            "/usr/local/lib/python3.10/dist-packages/torch/utils/checkpoint.py:429: UserWarning: torch.utils.checkpoint: please pass in use_reentrant=True or use_reentrant=False explicitly. The default value of use_reentrant will be updated to be False in the future. To maintain current behavior, pass use_reentrant=True. It is recommended that you use use_reentrant=False. Refer to docs for more details on the differences between the two variants.\n",
            "  warnings.warn(\n",
            "/usr/local/lib/python3.10/dist-packages/peft/utils/save_and_load.py:131: UserWarning: Setting `save_embedding_layers` to `True` as embedding layers found in `target_modules`.\n",
            "  warnings.warn(\"Setting `save_embedding_layers` to `True` as embedding layers found in `target_modules`.\")\n",
            "/usr/local/lib/python3.10/dist-packages/torch/utils/checkpoint.py:429: UserWarning: torch.utils.checkpoint: please pass in use_reentrant=True or use_reentrant=False explicitly. The default value of use_reentrant will be updated to be False in the future. To maintain current behavior, pass use_reentrant=True. It is recommended that you use use_reentrant=False. Refer to docs for more details on the differences between the two variants.\n",
            "  warnings.warn(\n"
          ]
        },
        {
          "output_type": "error",
          "ename": "KeyboardInterrupt",
          "evalue": "ignored",
          "traceback": [
            "\u001b[0;31m---------------------------------------------------------------------------\u001b[0m",
            "\u001b[0;31mKeyboardInterrupt\u001b[0m                         Traceback (most recent call last)",
            "\u001b[0;32m<ipython-input-51-b7169ad0935d>\u001b[0m in \u001b[0;36m<cell line: 36>\u001b[0;34m()\u001b[0m\n\u001b[1;32m     34\u001b[0m \u001b[0;34m\u001b[0m\u001b[0m\n\u001b[1;32m     35\u001b[0m \u001b[0mmodel\u001b[0m\u001b[0;34m.\u001b[0m\u001b[0mconfig\u001b[0m\u001b[0;34m.\u001b[0m\u001b[0muse_cache\u001b[0m \u001b[0;34m=\u001b[0m \u001b[0;32mFalse\u001b[0m  \u001b[0;31m# silence the warnings. Please re-enable for inference!\u001b[0m\u001b[0;34m\u001b[0m\u001b[0;34m\u001b[0m\u001b[0m\n\u001b[0;32m---> 36\u001b[0;31m \u001b[0mtrainer\u001b[0m\u001b[0;34m.\u001b[0m\u001b[0mtrain\u001b[0m\u001b[0;34m(\u001b[0m\u001b[0;34m)\u001b[0m\u001b[0;34m\u001b[0m\u001b[0;34m\u001b[0m\u001b[0m\n\u001b[0m",
            "\u001b[0;32m/usr/local/lib/python3.10/dist-packages/transformers/trainer.py\u001b[0m in \u001b[0;36mtrain\u001b[0;34m(self, resume_from_checkpoint, trial, ignore_keys_for_eval, **kwargs)\u001b[0m\n\u001b[1;32m   1541\u001b[0m                 \u001b[0mhf_hub_utils\u001b[0m\u001b[0;34m.\u001b[0m\u001b[0menable_progress_bars\u001b[0m\u001b[0;34m(\u001b[0m\u001b[0;34m)\u001b[0m\u001b[0;34m\u001b[0m\u001b[0;34m\u001b[0m\u001b[0m\n\u001b[1;32m   1542\u001b[0m         \u001b[0;32melse\u001b[0m\u001b[0;34m:\u001b[0m\u001b[0;34m\u001b[0m\u001b[0;34m\u001b[0m\u001b[0m\n\u001b[0;32m-> 1543\u001b[0;31m             return inner_training_loop(\n\u001b[0m\u001b[1;32m   1544\u001b[0m                 \u001b[0margs\u001b[0m\u001b[0;34m=\u001b[0m\u001b[0margs\u001b[0m\u001b[0;34m,\u001b[0m\u001b[0;34m\u001b[0m\u001b[0;34m\u001b[0m\u001b[0m\n\u001b[1;32m   1545\u001b[0m                 \u001b[0mresume_from_checkpoint\u001b[0m\u001b[0;34m=\u001b[0m\u001b[0mresume_from_checkpoint\u001b[0m\u001b[0;34m,\u001b[0m\u001b[0;34m\u001b[0m\u001b[0;34m\u001b[0m\u001b[0m\n",
            "\u001b[0;32m/usr/local/lib/python3.10/dist-packages/transformers/trainer.py\u001b[0m in \u001b[0;36m_inner_training_loop\u001b[0;34m(self, batch_size, args, resume_from_checkpoint, trial, ignore_keys_for_eval)\u001b[0m\n\u001b[1;32m   1900\u001b[0m                             )\n\u001b[1;32m   1901\u001b[0m                         \u001b[0;32melse\u001b[0m\u001b[0;34m:\u001b[0m\u001b[0;34m\u001b[0m\u001b[0;34m\u001b[0m\u001b[0m\n\u001b[0;32m-> 1902\u001b[0;31m                             self.accelerator.clip_grad_norm_(\n\u001b[0m\u001b[1;32m   1903\u001b[0m                                 \u001b[0mmodel\u001b[0m\u001b[0;34m.\u001b[0m\u001b[0mparameters\u001b[0m\u001b[0;34m(\u001b[0m\u001b[0;34m)\u001b[0m\u001b[0;34m,\u001b[0m\u001b[0;34m\u001b[0m\u001b[0;34m\u001b[0m\u001b[0m\n\u001b[1;32m   1904\u001b[0m                                 \u001b[0margs\u001b[0m\u001b[0;34m.\u001b[0m\u001b[0mmax_grad_norm\u001b[0m\u001b[0;34m,\u001b[0m\u001b[0;34m\u001b[0m\u001b[0;34m\u001b[0m\u001b[0m\n",
            "\u001b[0;32m/usr/local/lib/python3.10/dist-packages/accelerate/accelerator.py\u001b[0m in \u001b[0;36mclip_grad_norm_\u001b[0;34m(self, parameters, max_norm, norm_type)\u001b[0m\n\u001b[1;32m   2074\u001b[0m             \u001b[0;32mreturn\u001b[0m \u001b[0;32mNone\u001b[0m\u001b[0;34m\u001b[0m\u001b[0;34m\u001b[0m\u001b[0m\n\u001b[1;32m   2075\u001b[0m         \u001b[0mself\u001b[0m\u001b[0;34m.\u001b[0m\u001b[0munscale_gradients\u001b[0m\u001b[0;34m(\u001b[0m\u001b[0;34m)\u001b[0m\u001b[0;34m\u001b[0m\u001b[0;34m\u001b[0m\u001b[0m\n\u001b[0;32m-> 2076\u001b[0;31m         \u001b[0;32mreturn\u001b[0m \u001b[0mtorch\u001b[0m\u001b[0;34m.\u001b[0m\u001b[0mnn\u001b[0m\u001b[0;34m.\u001b[0m\u001b[0mutils\u001b[0m\u001b[0;34m.\u001b[0m\u001b[0mclip_grad_norm_\u001b[0m\u001b[0;34m(\u001b[0m\u001b[0mparameters\u001b[0m\u001b[0;34m,\u001b[0m \u001b[0mmax_norm\u001b[0m\u001b[0;34m,\u001b[0m \u001b[0mnorm_type\u001b[0m\u001b[0;34m=\u001b[0m\u001b[0mnorm_type\u001b[0m\u001b[0;34m)\u001b[0m\u001b[0;34m\u001b[0m\u001b[0;34m\u001b[0m\u001b[0m\n\u001b[0m\u001b[1;32m   2077\u001b[0m \u001b[0;34m\u001b[0m\u001b[0m\n\u001b[1;32m   2078\u001b[0m     \u001b[0;32mdef\u001b[0m \u001b[0mclip_grad_value_\u001b[0m\u001b[0;34m(\u001b[0m\u001b[0mself\u001b[0m\u001b[0;34m,\u001b[0m \u001b[0mparameters\u001b[0m\u001b[0;34m,\u001b[0m \u001b[0mclip_value\u001b[0m\u001b[0;34m)\u001b[0m\u001b[0;34m:\u001b[0m\u001b[0;34m\u001b[0m\u001b[0;34m\u001b[0m\u001b[0m\n",
            "\u001b[0;32m/usr/local/lib/python3.10/dist-packages/torch/nn/utils/clip_grad.py\u001b[0m in \u001b[0;36mclip_grad_norm_\u001b[0;34m(parameters, max_norm, norm_type, error_if_nonfinite, foreach)\u001b[0m\n\u001b[1;32m     53\u001b[0m         \u001b[0;32mfor\u001b[0m \u001b[0;34m(\u001b[0m\u001b[0;34m(\u001b[0m\u001b[0mdevice\u001b[0m\u001b[0;34m,\u001b[0m \u001b[0m_\u001b[0m\u001b[0;34m)\u001b[0m\u001b[0;34m,\u001b[0m \u001b[0;34m(\u001b[0m\u001b[0;34m[\u001b[0m\u001b[0mgrads\u001b[0m\u001b[0;34m]\u001b[0m\u001b[0;34m,\u001b[0m \u001b[0m_\u001b[0m\u001b[0;34m)\u001b[0m\u001b[0;34m)\u001b[0m \u001b[0;32min\u001b[0m \u001b[0mgrouped_grads\u001b[0m\u001b[0;34m.\u001b[0m\u001b[0mitems\u001b[0m\u001b[0;34m(\u001b[0m\u001b[0;34m)\u001b[0m\u001b[0;34m:\u001b[0m  \u001b[0;31m# type: ignore[assignment]\u001b[0m\u001b[0;34m\u001b[0m\u001b[0;34m\u001b[0m\u001b[0m\n\u001b[1;32m     54\u001b[0m             \u001b[0;32mif\u001b[0m \u001b[0;34m(\u001b[0m\u001b[0mforeach\u001b[0m \u001b[0;32mis\u001b[0m \u001b[0;32mNone\u001b[0m \u001b[0;32mor\u001b[0m \u001b[0mforeach\u001b[0m\u001b[0;34m)\u001b[0m \u001b[0;32mand\u001b[0m \u001b[0m_has_foreach_support\u001b[0m\u001b[0;34m(\u001b[0m\u001b[0mgrads\u001b[0m\u001b[0;34m,\u001b[0m \u001b[0mdevice\u001b[0m\u001b[0;34m=\u001b[0m\u001b[0mdevice\u001b[0m\u001b[0;34m)\u001b[0m\u001b[0;34m:\u001b[0m\u001b[0;34m\u001b[0m\u001b[0;34m\u001b[0m\u001b[0m\n\u001b[0;32m---> 55\u001b[0;31m                 \u001b[0mnorms\u001b[0m\u001b[0;34m.\u001b[0m\u001b[0mextend\u001b[0m\u001b[0;34m(\u001b[0m\u001b[0mtorch\u001b[0m\u001b[0;34m.\u001b[0m\u001b[0m_foreach_norm\u001b[0m\u001b[0;34m(\u001b[0m\u001b[0mgrads\u001b[0m\u001b[0;34m,\u001b[0m \u001b[0mnorm_type\u001b[0m\u001b[0;34m)\u001b[0m\u001b[0;34m)\u001b[0m\u001b[0;34m\u001b[0m\u001b[0;34m\u001b[0m\u001b[0m\n\u001b[0m\u001b[1;32m     56\u001b[0m             \u001b[0;32melif\u001b[0m \u001b[0mforeach\u001b[0m\u001b[0;34m:\u001b[0m\u001b[0;34m\u001b[0m\u001b[0;34m\u001b[0m\u001b[0m\n\u001b[1;32m     57\u001b[0m                 \u001b[0;32mraise\u001b[0m \u001b[0mRuntimeError\u001b[0m\u001b[0;34m(\u001b[0m\u001b[0;34mf'foreach=True was passed, but can\\'t use the foreach API on {device.type} tensors'\u001b[0m\u001b[0;34m)\u001b[0m\u001b[0;34m\u001b[0m\u001b[0;34m\u001b[0m\u001b[0m\n",
            "\u001b[0;31mKeyboardInterrupt\u001b[0m: "
          ]
        }
      ]
    },
    {
      "cell_type": "markdown",
      "source": [
        "### Try the finetuned model"
      ],
      "metadata": {
        "id": "zArvWVDudWyn"
      }
    },
    {
      "cell_type": "code",
      "source": [
        "#By default, the PEFT library will only save the QLoRA adapters,\n",
        "#so we need to first load the base model from the Huggingface Hub\n",
        "import torch\n",
        "from transformers import AutoTokenizer, AutoModelForCausalLM, BitsAndBytesConfig\n",
        "\n",
        "base_model_id = \"mistralai/Mistral-7B-Instruct-v0.1\"\n",
        "bnb_config = BitsAndBytesConfig(\n",
        "    load_in_4bit=True,\n",
        "    bnb_4bit_use_double_quant=True,\n",
        "    bnb_4bit_quant_type=\"nf4\",\n",
        "    bnb_4bit_compute_dtype=torch.bfloat16\n",
        ")\n",
        "from huggingface_hub import login\n",
        "\n",
        "login(\"huggin face key\")\n",
        "base_model = AutoModelForCausalLM.from_pretrained(\n",
        "    base_model_id,  # Mistral, same as before\n",
        "    quantization_config=bnb_config,  # Same quantization config as before\n",
        "    device_map=\"auto\",\n",
        "    trust_remote_code=True,\n",
        "    use_auth_token=True\n",
        ")\n",
        "\n",
        "eval_tokenizer = AutoTokenizer.from_pretrained(base_model_id, add_bos_token=True, trust_remote_code=True)"
      ],
      "metadata": {
        "id": "k0OuL8vzIhjV"
      },
      "execution_count": null,
      "outputs": []
    },
    {
      "cell_type": "code",
      "source": [
        "#Now load the QLoRA adapter from the appropriate checkpoint directory, i.e. the best performing model checkpoint:\n",
        "from peft import PeftModel\n",
        "\n",
        "ft_model = PeftModel.from_pretrained(base_model, \"/content/sample_data/checkpoint-175\")"
      ],
      "metadata": {
        "id": "NgpXavXcKZMJ"
      },
      "execution_count": null,
      "outputs": []
    },
    {
      "cell_type": "code",
      "source": [
        "#Let's try the same eval_prompt and thus model_input as above\n",
        "eval_prompt = \"\"\"\n",
        "How are you?\n",
        "\"\"\"\n",
        "model_input = eval_tokenizer(eval_prompt, return_tensors=\"pt\").to(\"cuda\")\n",
        "outputs = ft_model.generate(**model_input, max_new_tokens=30)\n",
        "print(eval_tokenizer.decode(outputs[0], skip_special_tokens=True))\n"
      ],
      "metadata": {
        "id": "9v5nXOcsKs5f"
      },
      "execution_count": null,
      "outputs": []
    }
  ]
}